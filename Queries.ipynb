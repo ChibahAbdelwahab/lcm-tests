{
 "cells": [
  {
   "cell_type": "code",
   "execution_count": 44,
   "metadata": {},
   "outputs": [],
   "source": [
    "import pandas as pd \n",
    "import matplotlib.pyplot as plt"
   ]
  },
  {
   "cell_type": "code",
   "execution_count": 74,
   "metadata": {},
   "outputs": [],
   "source": [
    "file_name= \"3M-5-[2-5000]-[DEPARTEMENT]-lcm.out\"\n",
    "plot_name = file_name.replace('out','html')"
   ]
  },
  {
   "cell_type": "markdown",
   "metadata": {},
   "source": [
    "# Sankey : \n",
    "file:///home/abdelouahab/PFE/lcm-tests/plots/3M-5-[2-5000]-[DEPARTEMENT]-lcm.html"
   ]
  },
  {
   "cell_type": "code",
   "execution_count": 75,
   "metadata": {},
   "outputs": [],
   "source": [
    "groups = pd.read_csv(f\"plots/groups/{file_name}\",index_col=0)\n",
    "links = pd.read_csv(f\"plots/links/{file_name}\",index_col=0)"
   ]
  },
  {
   "cell_type": "code",
   "execution_count": 76,
   "metadata": {},
   "outputs": [
    {
     "data": {
      "text/html": [
       "<div>\n",
       "<style scoped>\n",
       "    .dataframe tbody tr th:only-of-type {\n",
       "        vertical-align: middle;\n",
       "    }\n",
       "\n",
       "    .dataframe tbody tr th {\n",
       "        vertical-align: top;\n",
       "    }\n",
       "\n",
       "    .dataframe thead th {\n",
       "        text-align: right;\n",
       "    }\n",
       "</style>\n",
       "<table border=\"1\" class=\"dataframe\">\n",
       "  <thead>\n",
       "    <tr style=\"text-align: right;\">\n",
       "      <th></th>\n",
       "      <th>user_ids</th>\n",
       "      <th>support</th>\n",
       "      <th>itemsets</th>\n",
       "      <th>period</th>\n",
       "      <th>property_values</th>\n",
       "      <th>depth</th>\n",
       "      <th>size</th>\n",
       "      <th>DEPARTEMENT</th>\n",
       "    </tr>\n",
       "  </thead>\n",
       "  <tbody>\n",
       "    <tr>\n",
       "      <th>0</th>\n",
       "      <td>[187833 322520 427250 518210 576233 603204]</td>\n",
       "      <td>6</td>\n",
       "      <td>4190175 19419902</td>\n",
       "      <td>2017-02-01</td>\n",
       "      <td>59</td>\n",
       "      <td>0.0</td>\n",
       "      <td>6</td>\n",
       "      <td>59</td>\n",
       "    </tr>\n",
       "    <tr>\n",
       "      <th>1</th>\n",
       "      <td>[206078 263990 365536 622027 752568]</td>\n",
       "      <td>5</td>\n",
       "      <td>5461017 7445935</td>\n",
       "      <td>2017-02-01</td>\n",
       "      <td>78</td>\n",
       "      <td>0.0</td>\n",
       "      <td>5</td>\n",
       "      <td>78</td>\n",
       "    </tr>\n",
       "    <tr>\n",
       "      <th>2</th>\n",
       "      <td>[428202 602649 622027 752568 754685 908778]</td>\n",
       "      <td>6</td>\n",
       "      <td>6027 6026</td>\n",
       "      <td>2017-02-01</td>\n",
       "      <td>78</td>\n",
       "      <td>0.0</td>\n",
       "      <td>6</td>\n",
       "      <td>78</td>\n",
       "    </tr>\n",
       "    <tr>\n",
       "      <th>3</th>\n",
       "      <td>[204029 286729 288846 525249 610249]</td>\n",
       "      <td>5</td>\n",
       "      <td>3461024 18064205</td>\n",
       "      <td>2017-02-01</td>\n",
       "      <td>78</td>\n",
       "      <td>0.0</td>\n",
       "      <td>5</td>\n",
       "      <td>78</td>\n",
       "    </tr>\n",
       "    <tr>\n",
       "      <th>4</th>\n",
       "      <td>[584447 602649 622027 752568 754685]</td>\n",
       "      <td>5</td>\n",
       "      <td>18064205 6026</td>\n",
       "      <td>2017-02-01</td>\n",
       "      <td>78</td>\n",
       "      <td>0.0</td>\n",
       "      <td>5</td>\n",
       "      <td>78</td>\n",
       "    </tr>\n",
       "  </tbody>\n",
       "</table>\n",
       "</div>"
      ],
      "text/plain": [
       "                                      user_ids  support           itemsets  \\\n",
       "0  [187833 322520 427250 518210 576233 603204]        6   4190175 19419902   \n",
       "1         [206078 263990 365536 622027 752568]        5    5461017 7445935   \n",
       "2  [428202 602649 622027 752568 754685 908778]        6          6027 6026   \n",
       "3         [204029 286729 288846 525249 610249]        5   3461024 18064205   \n",
       "4         [584447 602649 622027 752568 754685]        5      18064205 6026   \n",
       "\n",
       "       period  property_values  depth  size  DEPARTEMENT  \n",
       "0  2017-02-01               59    0.0     6           59  \n",
       "1  2017-02-01               78    0.0     5           78  \n",
       "2  2017-02-01               78    0.0     6           78  \n",
       "3  2017-02-01               78    0.0     5           78  \n",
       "4  2017-02-01               78    0.0     5           78  "
      ]
     },
     "execution_count": 76,
     "metadata": {},
     "output_type": "execute_result"
    }
   ],
   "source": [
    "groups.head()"
   ]
  },
  {
   "cell_type": "code",
   "execution_count": 77,
   "metadata": {},
   "outputs": [
    {
     "data": {
      "text/html": [
       "<div>\n",
       "<style scoped>\n",
       "    .dataframe tbody tr th:only-of-type {\n",
       "        vertical-align: middle;\n",
       "    }\n",
       "\n",
       "    .dataframe tbody tr th {\n",
       "        vertical-align: top;\n",
       "    }\n",
       "\n",
       "    .dataframe thead th {\n",
       "        text-align: right;\n",
       "    }\n",
       "</style>\n",
       "<table border=\"1\" class=\"dataframe\">\n",
       "  <thead>\n",
       "    <tr style=\"text-align: right;\">\n",
       "      <th></th>\n",
       "      <th>target</th>\n",
       "      <th>user_id</th>\n",
       "    </tr>\n",
       "    <tr>\n",
       "      <th>source</th>\n",
       "      <th></th>\n",
       "      <th></th>\n",
       "    </tr>\n",
       "  </thead>\n",
       "  <tbody>\n",
       "    <tr>\n",
       "      <th>0</th>\n",
       "      <td>48</td>\n",
       "      <td>187833</td>\n",
       "    </tr>\n",
       "    <tr>\n",
       "      <th>0</th>\n",
       "      <td>174</td>\n",
       "      <td>427250</td>\n",
       "    </tr>\n",
       "    <tr>\n",
       "      <th>1</th>\n",
       "      <td>26</td>\n",
       "      <td>622027</td>\n",
       "    </tr>\n",
       "    <tr>\n",
       "      <th>1</th>\n",
       "      <td>30</td>\n",
       "      <td>622027</td>\n",
       "    </tr>\n",
       "    <tr>\n",
       "      <th>1</th>\n",
       "      <td>31</td>\n",
       "      <td>752568</td>\n",
       "    </tr>\n",
       "  </tbody>\n",
       "</table>\n",
       "</div>"
      ],
      "text/plain": [
       "        target user_id\n",
       "source                \n",
       "0           48  187833\n",
       "0          174  427250\n",
       "1           26  622027\n",
       "1           30  622027\n",
       "1           31  752568"
      ]
     },
     "execution_count": 77,
     "metadata": {},
     "output_type": "execute_result"
    }
   ],
   "source": [
    "links.head()"
   ]
  },
  {
   "cell_type": "markdown",
   "metadata": {},
   "source": [
    "# Users apparition frequency"
   ]
  },
  {
   "cell_type": "code",
   "execution_count": 78,
   "metadata": {},
   "outputs": [],
   "source": [
    "from sklearn.preprocessing import MultiLabelBinarizer\n",
    "mlb = MultiLabelBinarizer()"
   ]
  },
  {
   "cell_type": "code",
   "execution_count": 79,
   "metadata": {},
   "outputs": [
    {
     "data": {
      "text/plain": [
       "294115    34\n",
       "349380    23\n",
       "416219    26\n",
       "428202    31\n",
       "468837    24\n",
       "471775    60\n",
       "489055    42\n",
       "505859    25\n",
       "519885    31\n",
       "555714    30\n",
       "565366    26\n",
       "578639    24\n",
       "584447    47\n",
       "619437    24\n",
       "622027    29\n",
       "715341    26\n",
       "719763    24\n",
       "754685    35\n",
       "761107    23\n",
       "849812    29\n",
       "911614    30\n",
       "963615    45\n",
       "971894    35\n",
       "dtype: int64"
      ]
     },
     "execution_count": 79,
     "metadata": {},
     "output_type": "execute_result"
    }
   ],
   "source": [
    "users = mlb.fit_transform(groups.user_ids.apply(lambda x: x[1:-1].split()))\n",
    "users = pd.DataFrame(users,columns=mlb.classes_)\n",
    "users.sum()[users.sum()>20]"
   ]
  },
  {
   "cell_type": "code",
   "execution_count": 80,
   "metadata": {},
   "outputs": [
    {
     "data": {
      "text/plain": [
       "user_ids           [110899 244827 270220 271779 296486 314647 345...\n",
       "support                                                           19\n",
       "itemsets                                                12520039 451\n",
       "period                                                    2017-05-01\n",
       "property_values                                                   59\n",
       "depth                                                      0.0909091\n",
       "size                                                              19\n",
       "DEPARTEMENT                                                       59\n",
       "Name: 44, dtype: object"
      ]
     },
     "execution_count": 80,
     "metadata": {},
     "output_type": "execute_result"
    }
   ],
   "source": [
    "groups.iloc[44]"
   ]
  },
  {
   "cell_type": "code",
   "execution_count": null,
   "metadata": {},
   "outputs": [],
   "source": []
  },
  {
   "cell_type": "code",
   "execution_count": null,
   "metadata": {},
   "outputs": [],
   "source": []
  },
  {
   "cell_type": "markdown",
   "metadata": {},
   "source": [
    "### Merge query"
   ]
  },
  {
   "cell_type": "code",
   "execution_count": 84,
   "metadata": {},
   "outputs": [
    {
     "data": {
      "text/plain": [
       "{'107030', '108938', '110899', '114666', '118478'}"
      ]
     },
     "execution_count": 84,
     "metadata": {},
     "output_type": "execute_result"
    }
   ],
   "source": [
    "target_users= set('107030 108938 110899 114666 118478'.split())\n",
    "target_users"
   ]
  },
  {
   "cell_type": "code",
   "execution_count": 85,
   "metadata": {},
   "outputs": [
    {
     "data": {
      "text/html": [
       "<div>\n",
       "<style scoped>\n",
       "    .dataframe tbody tr th:only-of-type {\n",
       "        vertical-align: middle;\n",
       "    }\n",
       "\n",
       "    .dataframe tbody tr th {\n",
       "        vertical-align: top;\n",
       "    }\n",
       "\n",
       "    .dataframe thead th {\n",
       "        text-align: right;\n",
       "    }\n",
       "</style>\n",
       "<table border=\"1\" class=\"dataframe\">\n",
       "  <thead>\n",
       "    <tr style=\"text-align: right;\">\n",
       "      <th></th>\n",
       "      <th>user_ids</th>\n",
       "      <th>support</th>\n",
       "      <th>itemsets</th>\n",
       "      <th>period</th>\n",
       "      <th>property_values</th>\n",
       "      <th>depth</th>\n",
       "      <th>size</th>\n",
       "      <th>DEPARTEMENT</th>\n",
       "    </tr>\n",
       "  </thead>\n",
       "  <tbody>\n",
       "    <tr>\n",
       "      <th>259</th>\n",
       "      <td>[ 107030  108938  110899  114666  118478  1277...</td>\n",
       "      <td>60</td>\n",
       "      <td>12520268 451</td>\n",
       "      <td>2018-11-01</td>\n",
       "      <td>59</td>\n",
       "      <td>0.636364</td>\n",
       "      <td>60</td>\n",
       "      <td>59</td>\n",
       "    </tr>\n",
       "    <tr>\n",
       "      <th>280</th>\n",
       "      <td>[ 107030  108938  110899  114666  118478  1277...</td>\n",
       "      <td>60</td>\n",
       "      <td>451 12520268</td>\n",
       "      <td>2019-02-01</td>\n",
       "      <td>59</td>\n",
       "      <td>0.727273</td>\n",
       "      <td>60</td>\n",
       "      <td>59</td>\n",
       "    </tr>\n",
       "    <tr>\n",
       "      <th>293</th>\n",
       "      <td>[ 107030  108938  110899  114666  118478  1277...</td>\n",
       "      <td>54</td>\n",
       "      <td>12520268 451</td>\n",
       "      <td>2019-05-01</td>\n",
       "      <td>59</td>\n",
       "      <td>0.818182</td>\n",
       "      <td>54</td>\n",
       "      <td>59</td>\n",
       "    </tr>\n",
       "    <tr>\n",
       "      <th>306</th>\n",
       "      <td>[ 107030  108938  110899  114666  118478  1277...</td>\n",
       "      <td>48</td>\n",
       "      <td>12520268 451</td>\n",
       "      <td>2019-08-01</td>\n",
       "      <td>59</td>\n",
       "      <td>0.909091</td>\n",
       "      <td>48</td>\n",
       "      <td>59</td>\n",
       "    </tr>\n",
       "  </tbody>\n",
       "</table>\n",
       "</div>"
      ],
      "text/plain": [
       "                                              user_ids  support  \\\n",
       "259  [ 107030  108938  110899  114666  118478  1277...       60   \n",
       "280  [ 107030  108938  110899  114666  118478  1277...       60   \n",
       "293  [ 107030  108938  110899  114666  118478  1277...       54   \n",
       "306  [ 107030  108938  110899  114666  118478  1277...       48   \n",
       "\n",
       "          itemsets      period  property_values     depth  size  DEPARTEMENT  \n",
       "259   12520268 451  2018-11-01               59  0.636364    60           59  \n",
       "280   451 12520268  2019-02-01               59  0.727273    60           59  \n",
       "293   12520268 451  2019-05-01               59  0.818182    54           59  \n",
       "306   12520268 451  2019-08-01               59  0.909091    48           59  "
      ]
     },
     "execution_count": 85,
     "metadata": {},
     "output_type": "execute_result"
    }
   ],
   "source": [
    "groups[groups.user_ids.apply(lambda x : set(target_users).issubset(x[1:-1].split()) )]"
   ]
  },
  {
   "cell_type": "markdown",
   "metadata": {},
   "source": [
    "### Split query"
   ]
  },
  {
   "cell_type": "code",
   "execution_count": 27,
   "metadata": {},
   "outputs": [
    {
     "data": {
      "text/plain": [
       "0       [187833, 322520, 427250, 518210, 576233, 603204]\n",
       "1               [206078, 263990, 365536, 622027, 752568]\n",
       "2       [428202, 602649, 622027, 752568, 754685, 908778]\n",
       "3               [204029, 286729, 288846, 525249, 610249]\n",
       "4               [584447, 602649, 622027, 752568, 754685]\n",
       "                             ...                        \n",
       "305    [127790, 483161, 602580, 915181, 1061637, 1167...\n",
       "306    [107030, 108938, 110899, 114666, 118478, 12779...\n",
       "307             [209458, 294115, 521183, 576327, 586731]\n",
       "308    [294115, 468396, 518911, 576327, 933731, 95873...\n",
       "309             [291659, 305499, 518902, 576327, 843087]\n",
       "Name: user_ids, Length: 287, dtype: object"
      ]
     },
     "execution_count": 27,
     "metadata": {},
     "output_type": "execute_result"
    }
   ],
   "source": [
    "set()"
   ]
  }
 ],
 "metadata": {
  "kernelspec": {
   "display_name": "Python 3",
   "language": "python",
   "name": "python3"
  },
  "language_info": {
   "codemirror_mode": {
    "name": "ipython",
    "version": 3
   },
   "file_extension": ".py",
   "mimetype": "text/x-python",
   "name": "python",
   "nbconvert_exporter": "python",
   "pygments_lexer": "ipython3",
   "version": "3.7.5"
  }
 },
 "nbformat": 4,
 "nbformat_minor": 4
}
