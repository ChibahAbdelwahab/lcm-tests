{
 "cells": [
  {
   "cell_type": "markdown",
   "metadata": {},
   "source": [
    "# CADP queries"
   ]
  },
  {
   "cell_type": "markdown",
   "metadata": {},
   "source": [
    "# Graph configuration"
   ]
  },
  {
   "cell_type": "code",
   "execution_count": null,
   "metadata": {},
   "outputs": [],
   "source": [
    "%env CADP=/home/abdelouahab/cadp   "
   ]
  },
  {
   "cell_type": "code",
   "execution_count": 5,
   "metadata": {},
   "outputs": [],
   "source": [
    "# Edit the graph (.aut file)\n",
    "!gedit cadp/sample.aut"
   ]
  },
  {
   "cell_type": "code",
   "execution_count": 31,
   "metadata": {},
   "outputs": [],
   "source": [
    "# Convert to .bcg\n",
    "!$CADP/bin.x64/bcg_io cadp/sample.aut cadp/sample.bcg"
   ]
  },
  {
   "cell_type": "code",
   "execution_count": 32,
   "metadata": {},
   "outputs": [],
   "source": [
    "# Draw the bcg graph\n",
    "!$CADP/com/bcg_draw -fg cadp/sample.bcg"
   ]
  },
  {
   "cell_type": "markdown",
   "metadata": {},
   "source": [
    "## Produt adoption queries"
   ]
  },
  {
   "cell_type": "code",
   "execution_count": 47,
   "metadata": {},
   "outputs": [
    {
     "name": "stdout",
     "output_type": "stream",
     "text": [
      "library natset.xtl end_library\r\n",
      "\r\n",
      "(*\r\n",
      " * Product adoption queries: customers who adopted a product in P \r\n",
      " * during time period T - those customers who exist in T-1 but \r\n",
      " * did not purchase  products in P during T-1.\r\n",
      " *)\r\n",
      "\r\n",
      "macro P () =\r\n",
      "    insert (1, insert (3, insert (15, insert (20, empty))))\r\n",
      "end_macro\r\n",
      "\r\n",
      "(* Scan all customer groups at time T0 *)\r\n",
      "<| fby on E:edge where E -> [ SELF ?C0:raw ?P0:raw !`T0` ] |> (\r\n",
      "    (* Select those that did not buy products in P *)\r\n",
      "    if inter (raw2natset (P0), P) = empty then\r\n",
      "        print (C0) fby printf (\" \") fby\r\n",
      "        print (P0) fby printf (\"\\n\")\r\n",
      "    else\r\n",
      "        nop\r\n",
      "    end_if\r\n",
      ")\r\n",
      "\r\n"
     ]
    }
   ],
   "source": [
    "!cat cadp/product_adoption/product_adoption.xtl"
   ]
  },
  {
   "cell_type": "code",
   "execution_count": 56,
   "metadata": {},
   "outputs": [
    {
     "name": "stdout",
     "output_type": "stream",
     "text": [
      "/usr/bin/sh: 1: cannot open /product_adoption/product_adoption.xtl: No such file\r\n"
     ]
    }
   ],
   "source": [
    "!/home/abdelouahab/cadp/bin.x64/xtl < product_adoption/product_adoption.xtl sample.bcg"
   ]
  },
  {
   "cell_type": "code",
   "execution_count": null,
   "metadata": {},
   "outputs": [],
   "source": []
  }
 ],
 "metadata": {
  "kernelspec": {
   "display_name": "Python 3",
   "language": "python",
   "name": "python3"
  },
  "language_info": {
   "codemirror_mode": {
    "name": "ipython",
    "version": 3
   },
   "file_extension": ".py",
   "mimetype": "text/x-python",
   "name": "python",
   "nbconvert_exporter": "python",
   "pygments_lexer": "ipython3",
   "version": "3.7.5"
  }
 },
 "nbformat": 4,
 "nbformat_minor": 4
}
