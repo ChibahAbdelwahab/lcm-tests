{
 "cells": [
  {
   "cell_type": "code",
   "execution_count": 26,
   "metadata": {},
   "outputs": [],
   "source": [
    "import pandas as pd \n",
    "import numpy as np \n",
    "from sklearn.preprocessing  import LabelEncoder"
   ]
  },
  {
   "cell_type": "code",
   "execution_count": null,
   "metadata": {},
   "outputs": [],
   "source": []
  },
  {
   "cell_type": "code",
   "execution_count": 27,
   "metadata": {},
   "outputs": [],
   "source": [
    "file_name =\"9M-5-[1-2001]-[a]-lcm.out\""
   ]
  },
  {
   "cell_type": "code",
   "execution_count": 28,
   "metadata": {},
   "outputs": [],
   "source": [
    "def reformat_groups(x):\n",
    "    users = \":\".join(x[\"user_ids\"][1:-1].split())\n",
    "    itemset = \":\".join(x[\"itemsets\"].split())\n",
    "    return f'({x[0]  }, \"SELF !:{users}: !:{itemset} !:{x[\"period\"]}\", { x[0]})'"
   ]
  },
  {
   "cell_type": "code",
   "execution_count": 36,
   "metadata": {},
   "outputs": [
    {
     "name": "stdout",
     "output_type": "stream",
     "text": [
      "Done 9M-5-[1-2001]-[a]-lcm.out\n"
     ]
    }
   ],
   "source": [
    "res = []\n",
    "\n",
    "links = pd.read_csv(f\"plots/labeled_links/{file_name}\")\n",
    "groups = pd.read_csv(f\"plots/groups/{file_name}\",)\n",
    "\n",
    "links.apply(lambda x : res.append(f'({x[\"source\"]},{x[\"label\"]},{x[\"target\"]})'),axis=1)\n",
    "\n",
    "# Adding links from initial state \n",
    "first_period_groups = groups[groups.period == groups.period.min()].apply(lambda x :x[0],axis=1).tolist()\n",
    "\n",
    "for i in first_period_groups:\n",
    "    res.append(f'(0, G, {i})')\n",
    "self_links = groups.apply(reformat_groups ,axis=1).tolist()\n",
    "output =[f'des(0, {len(res+self_links)}, {max(groups.apply(lambda x : int(x[0]),axis=1).tolist())+1})' ] +  res + self_links \n",
    "\n",
    "# Save to file\n",
    "with open(f\"cadp/graph/{file_name.replace('out','aut')}\",'w') as file :\n",
    "    for i in output:\n",
    "        file.write(i+\"\\n\")\n",
    "print(f\"Done {file_name}\")\n"
   ]
  },
  {
   "cell_type": "code",
   "execution_count": 32,
   "metadata": {},
   "outputs": [],
   "source": [
    "encoder = LabelEncoder()\n",
    "encoder.classes_ = np.load(f'plots/encoders/{file_name}.npy')\n"
   ]
  },
  {
   "cell_type": "code",
   "execution_count": 25,
   "metadata": {},
   "outputs": [
    {
     "data": {
      "text/plain": [
       "0                           [3450013]\n",
       "1                     [9002490210717]\n",
       "2                  [4159045, 2850269]\n",
       "3                  [4159045, 3450014]\n",
       "4      [6206300138427, 3425909001021]\n",
       "                    ...              \n",
       "450                     [38900719678]\n",
       "451                         [3667191]\n",
       "452                 [583279, 1073439]\n",
       "453                   [7804200142125]\n",
       "454                   [7622210723161]\n",
       "Name: itemsets, Length: 455, dtype: object"
      ]
     },
     "execution_count": 25,
     "metadata": {},
     "output_type": "execute_result"
    }
   ],
   "source": []
  },
  {
   "cell_type": "code",
   "execution_count": null,
   "metadata": {},
   "outputs": [],
   "source": []
  },
  {
   "cell_type": "code",
   "execution_count": 14,
   "metadata": {},
   "outputs": [],
   "source": []
  },
  {
   "cell_type": "code",
   "execution_count": null,
   "metadata": {},
   "outputs": [],
   "source": []
  },
  {
   "cell_type": "code",
   "execution_count": null,
   "metadata": {},
   "outputs": [],
   "source": [
    "\n"
   ]
  }
 ],
 "metadata": {
  "kernelspec": {
   "display_name": "Python 3",
   "language": "python",
   "name": "python3"
  },
  "language_info": {
   "codemirror_mode": {
    "name": "ipython",
    "version": 3
   },
   "file_extension": ".py",
   "mimetype": "text/x-python",
   "name": "python",
   "nbconvert_exporter": "python",
   "pygments_lexer": "ipython3",
   "version": "3.7.5"
  }
 },
 "nbformat": 4,
 "nbformat_minor": 4
}
