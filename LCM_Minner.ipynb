{
 "cells": [
  {
   "cell_type": "markdown",
   "metadata": {
    "colab_type": "text",
    "id": "5LsphgaVBzCv"
   },
   "source": [
    "# LCM Minner tool"
   ]
  },
  {
   "cell_type": "code",
   "execution_count": 2,
   "metadata": {
    "colab": {
     "base_uri": "https://localhost:8080/",
     "height": 34
    },
    "colab_type": "code",
    "id": "EQ_RoU1ZBzCx",
    "outputId": "25b0ce14-bc89-436b-c6a0-9529b016e369"
   },
   "outputs": [
    {
     "ename": "ModuleNotFoundError",
     "evalue": "No module named 'google.colab'",
     "output_type": "error",
     "traceback": [
      "\u001b[0;31m---------------------------------------------------------------------------\u001b[0m",
      "\u001b[0;31mModuleNotFoundError\u001b[0m                       Traceback (most recent call last)",
      "\u001b[0;32m<ipython-input-2-b70ce08ed92f>\u001b[0m in \u001b[0;36m<module>\u001b[0;34m\u001b[0m\n\u001b[1;32m      7\u001b[0m \u001b[0;32mfrom\u001b[0m \u001b[0mfunctools\u001b[0m \u001b[0;32mimport\u001b[0m \u001b[0mpartial\u001b[0m\u001b[0;34m\u001b[0m\u001b[0;34m\u001b[0m\u001b[0m\n\u001b[1;32m      8\u001b[0m \u001b[0;32mfrom\u001b[0m \u001b[0msklearn\u001b[0m \u001b[0;32mimport\u001b[0m \u001b[0mpreprocessing\u001b[0m\u001b[0;34m\u001b[0m\u001b[0;34m\u001b[0m\u001b[0m\n\u001b[0;32m----> 9\u001b[0;31m \u001b[0;32mfrom\u001b[0m \u001b[0mgoogle\u001b[0m\u001b[0;34m.\u001b[0m\u001b[0mcolab\u001b[0m \u001b[0;32mimport\u001b[0m \u001b[0mfiles\u001b[0m\u001b[0;34m\u001b[0m\u001b[0;34m\u001b[0m\u001b[0m\n\u001b[0m\u001b[1;32m     10\u001b[0m \u001b[0;34m\u001b[0m\u001b[0m\n\u001b[1;32m     11\u001b[0m \u001b[0mget_ipython\u001b[0m\u001b[0;34m(\u001b[0m\u001b[0;34m)\u001b[0m\u001b[0;34m.\u001b[0m\u001b[0msystem\u001b[0m\u001b[0;34m(\u001b[0m\u001b[0;34m'ls '\u001b[0m\u001b[0;34m)\u001b[0m\u001b[0;34m\u001b[0m\u001b[0;34m\u001b[0m\u001b[0m\n",
      "\u001b[0;31mModuleNotFoundError\u001b[0m: No module named 'google.colab'"
     ]
    }
   ],
   "source": [
    "import pandas as pd \n",
    "import numpy as np\n",
    "from datetime import date,datetime\n",
    "import csv\n",
    "import re\n",
    "from multiprocessing import Pool\n",
    "from functools import partial\n",
    "from sklearn import preprocessing\n",
    "from google.colab import files\n",
    "\n",
    "!ls "
   ]
  },
  {
   "cell_type": "markdown",
   "metadata": {
    "colab_type": "text",
    "id": "U6274hWRBzC1"
   },
   "source": [
    "### 1. Une fonction qui prend les arguments suivants:\n",
    "jeu de données (contenant timestamp)\n",
    "fréquence de temps choisie (année, mois, jour) et qui retourne le jeu de données partitionné selon la granularité temporelle sous la forme de plusieurs fichiers, un par couple (partition, période de temps)"
   ]
  },
  {
   "cell_type": "code",
   "execution_count": 7,
   "metadata": {
    "colab": {},
    "colab_type": "code",
    "id": "SxosfaoHBzC2"
   },
   "outputs": [],
   "source": [
    "def split_dataset(input_file,frequency):\n",
    "    \"\"\"Split initial dataset to multiple files according to frequency\n",
    "    \n",
    "    Yields\n",
    "    ------\n",
    "    str\n",
    "        names of partitions files\n",
    "    \"\"\"\n",
    "    df = pd.read_csv(input_file)\n",
    "    \n",
    "    df[\"timestamp\"] = pd.to_datetime(df[\"timestamp\"],unit=\"s\").dt.to_period(frequency)\n",
    "    df.set_index([\"timestamp\"],inplace=True)\n",
    "    df.movieId = df.movieId.astype(str)\n",
    "      \n",
    "    for period,period_df in df.groupby(pd.Grouper(freq = frequency)):\n",
    "        output = period_df.groupby(\"userId\").movieId.apply(lambda x: \" \".join(x)).to_frame().reset_index()\n",
    "        output.movieId = output.userId.astype(str)+\" \"+ output.movieId\n",
    "        output.drop([\"userId\"],inplace=True,axis=1)\n",
    "        output.to_csv(str(period),header=None,index=None)\n",
    "        output.movieId.apply(lambda x: x.split(\" \")[0]).to_frame().astype(str).to_csv(\"permut\"+str(period),header=None,index=False)        \n",
    "        yield period\n",
    "        "
   ]
  },
  {
   "cell_type": "markdown",
   "metadata": {
    "colab_type": "text",
    "id": "A399DBGVBzC5"
   },
   "source": [
    "### 2. Une fonction qui prend les arguments suivants:\n",
    "- un couple (partition, période de temps)\n",
    "- la valeur du support\n",
    "<br>Cette fonction fait appel à pmr.pylcm et retourne des groupes fréquents selon leur support\n",
    "Group description:[set of items] (support) Group content:[set of users]"
   ]
  },
  {
   "cell_type": "code",
   "execution_count": 8,
   "metadata": {
    "colab": {},
    "colab_type": "code",
    "id": "kP-bt7QkBzC5"
   },
   "outputs": [],
   "source": [
    "def format_output(results,period):\n",
    "    \"\"\"Format lcm output to:\n",
    "    Group description:[set of items] (support) Group content:[Sorted set of users] \n",
    "    \"\"\"\n",
    "    item_sets,supports,groups,periods = [],[],[],[]\n",
    "    for i,j in zip(results[3::2],results[4::2]):\n",
    "        if '(' not in i:\n",
    "            break\n",
    "        *items,support = re.findall(\"([0-9]+)+\",i)\n",
    "        items = ','.join(e for e in items)\n",
    "        group = j[1:]\n",
    "        item_sets.append(items)\n",
    "        supports.append(support)\n",
    "        periods.append(period)\n",
    "        groups.append(group)\n",
    "    return item_sets,supports,groups,periods\n",
    "\n",
    "def run_lcm(input_file=None,support=None,output=\"\"):\n",
    "    \"\"\" Runs LCM  and return the  result formated with format_output\"\"\"\n",
    "    result = !./lcm CfI {input_file} {support} {str(input_file)+output}\n",
    "    if \"there is no frequent item\" in str(result):\n",
    "        return ''\n",
    "    return str(input_file)+output"
   ]
  },
  {
   "cell_type": "code",
   "execution_count": null,
   "metadata": {
    "colab": {},
    "colab_type": "code",
    "id": "gfni191HBzC8"
   },
   "outputs": [],
   "source": []
  },
  {
   "cell_type": "markdown",
   "metadata": {
    "colab_type": "text",
    "id": "KecjnU7pBzC_"
   },
   "source": [
    "### 3. Une fonction qui prend en argument:\n",
    "Group description:[set of items] (support) Group content:[set of users]\n",
    "et qui retourne pour chaque user, l’ensemble des groupes auxquels il appartient sous la forme:\n",
    "(user_id, group_id, période de temps)\n"
   ]
  },
  {
   "cell_type": "code",
   "execution_count": 9,
   "metadata": {
    "colab": {},
    "colab_type": "code",
    "id": "JSKntwaKBzC_"
   },
   "outputs": [],
   "source": [
    "def users_groups(df,output=\"result.csv\"):\n",
    "    # split each user from the group to a new line : [[user_id,group,period],]\n",
    "    res = pd.DataFrame(df.users_ids.str.split(\",\").tolist(),index=[df.period,df.groups]).stack()\n",
    "    res = res.reset_index([0,\"groups\",\"period\"])\n",
    "    res.columns = [\"period\",\"group_id\",\"user_id\"]\n",
    "    res = res[['user_id','group_id','period']]\n",
    "    res.to_csv(output,index=None)\n",
    "    return res"
   ]
  },
  {
   "cell_type": "markdown",
   "metadata": {
    "colab_type": "text",
    "id": "wmQlmUtnBzDC"
   },
   "source": [
    "### Mining function "
   ]
  },
  {
   "cell_type": "code",
   "execution_count": 10,
   "metadata": {
    "colab": {},
    "colab_type": "code",
    "id": "kCC3vU43BzDD"
   },
   "outputs": [],
   "source": [
    "# def multithread_lcm(input_file='data/ml-latest-small/ratings.csv',frequency=\"Y\"):\n",
    "\n",
    "def singlethread_lcm(input_file='data/ml-latest-small/ratings.csv',frequency=\"Y\",support=20 ):\n",
    "    \"\"\" Run LCM with a single thread and output the result to output file\n",
    "    Output structure :\n",
    "        user_id,group_id,period\n",
    "    \"\"\"\n",
    "    output = []\n",
    "    for partition in split_dataset(input_file,frequency):\n",
    "        # run LCM and get the items, supports and groups of each frequent itemset found \n",
    "        item_sets,supports,groups = run_lcm(partition,frequency,support)\n",
    "        # get the affectation of each user from the frequence itemsets groups \n",
    "        users_affectation = users_groups(groups=groups,period=str(partition))\n",
    "        output+=users_affectation\n",
    "    return output\n",
    "\n",
    "def multithread_lcm(input_file,frequency,support):\n",
    "    f = partial(run_lcm,support=support)\n",
    "    p = Pool(8)\n",
    "    res  = p.map(f,split_dataset(input_file,frequency))\n",
    "    p.close()\n",
    "    p.join()\n",
    "    return res\n",
    "\n",
    "def permut(x,data):\n",
    "    output= \"\"\n",
    "    for i in x.split(' '):\n",
    "        if i is \"\":\n",
    "            continue\n",
    "        output+= str(data[0][int(i)])+' '\n",
    "    return output\n"
   ]
  },
  {
   "cell_type": "markdown",
   "metadata": {
    "colab_type": "text",
    "id": "cGCw1dVCBzDF"
   },
   "source": [
    "# Run the code "
   ]
  },
  {
   "cell_type": "markdown",
   "metadata": {
    "colab_type": "text",
    "id": "ghmcjZZdBzDG"
   },
   "source": [
    "### LCM minning in multithread \n",
    "#### Output : file name  of each period having results"
   ]
  },
  {
   "cell_type": "code",
   "execution_count": 11,
   "metadata": {
    "colab": {},
    "colab_type": "code",
    "id": "ubk_gZFeBzDH"
   },
   "outputs": [],
   "source": [
    "input_file = \"ratings.csv\"\n",
    "frequency = \"Y\"\n",
    "support = 30"
   ]
  },
  {
   "cell_type": "code",
   "execution_count": 12,
   "metadata": {
    "colab": {},
    "colab_type": "code",
    "id": "Ejk7pku9BzDL"
   },
   "outputs": [
    {
     "data": {
      "text/plain": [
       "['1996', '2000', '2015', '2017']"
      ]
     },
     "execution_count": 12,
     "metadata": {},
     "output_type": "execute_result"
    }
   ],
   "source": [
    "output = multithread_lcm(input_file,frequency,support)\n",
    "output = [i for i in  output if i is not \"\"]\n",
    "output "
   ]
  },
  {
   "cell_type": "markdown",
   "metadata": {
    "colab_type": "text",
    "id": "PBfiNINOBzDS"
   },
   "source": [
    "### combine all files in one dataframe"
   ]
  },
  {
   "cell_type": "code",
   "execution_count": 15,
   "metadata": {
    "colab": {},
    "colab_type": "code",
    "id": "2KOshqwFBzDT"
   },
   "outputs": [],
   "source": [
    "outputs = []\n",
    "combined_csv = pd.DataFrame()\n",
    "permutations = pd.DataFrame()\n",
    "\n",
    "for i in output:\n",
    "    \n",
    "    df = pd.read_csv(i,header=None)\n",
    "    df[\"period\"] = i \n",
    "    combined_csv= pd.concat([combined_csv,df])\n",
    "\n",
    "    df = pd.read_csv(\"permut\"+i,header=None)\n",
    "    df[\"period\"] = i \n",
    "    permutations= pd.concat([permutations,df])\n",
    "    \n",
    "def form_group(x,permutations):\n",
    "    output = ''\n",
    "    for i in x.split(\" \"):\n",
    "        if i is not \"\":\n",
    "            output+=str(permutations[0][int(i)])+\",\"\n",
    "    return output"
   ]
  },
  {
   "cell_type": "markdown",
   "metadata": {
    "colab_type": "text",
    "id": "T6_RWuocBzDW"
   },
   "source": [
    "### replace transactions ids with users_ids"
   ]
  },
  {
   "cell_type": "code",
   "execution_count": 16,
   "metadata": {
    "colab": {},
    "colab_type": "code",
    "id": "DOukTBCeBzDY"
   },
   "outputs": [
    {
     "data": {
      "text/html": [
       "<div>\n",
       "<style scoped>\n",
       "    .dataframe tbody tr th:only-of-type {\n",
       "        vertical-align: middle;\n",
       "    }\n",
       "\n",
       "    .dataframe tbody tr th {\n",
       "        vertical-align: top;\n",
       "    }\n",
       "\n",
       "    .dataframe thead th {\n",
       "        text-align: right;\n",
       "    }\n",
       "</style>\n",
       "<table border=\"1\" class=\"dataframe\">\n",
       "  <thead>\n",
       "    <tr style=\"text-align: right;\">\n",
       "      <th></th>\n",
       "      <th>itemset</th>\n",
       "      <th>support</th>\n",
       "      <th>users_ids</th>\n",
       "      <th>period</th>\n",
       "      <th>groups</th>\n",
       "    </tr>\n",
       "  </thead>\n",
       "  <tbody>\n",
       "    <tr>\n",
       "      <th>0</th>\n",
       "      <td></td>\n",
       "      <td>97</td>\n",
       "      <td>5,6,8,14,26,31,35,37,38,40,43,46,54,56,58,81,9...</td>\n",
       "      <td>1996</td>\n",
       "      <td>5,6,8,14,26,31,35,37,38,40,43,46,54,56,58,81,9...</td>\n",
       "    </tr>\n",
       "    <tr>\n",
       "      <th>1</th>\n",
       "      <td>592</td>\n",
       "      <td>83</td>\n",
       "      <td>5,6,8,14,26,35,37,38,40,43,46,54,56,58,81,94,9...</td>\n",
       "      <td>1996</td>\n",
       "      <td>5,6,8,14,26,35,37,38,40,43,46,54,56,58,81,94,9...</td>\n",
       "    </tr>\n",
       "    <tr>\n",
       "      <th>2</th>\n",
       "      <td>380</td>\n",
       "      <td>79</td>\n",
       "      <td>5,6,8,26,37,38,40,43,46,56,58,81,94,99,102,107...</td>\n",
       "      <td>1996</td>\n",
       "      <td>5,6,8,26,37,38,40,43,46,56,58,81,94,99,102,107...</td>\n",
       "    </tr>\n",
       "    <tr>\n",
       "      <th>3</th>\n",
       "      <td>380 592</td>\n",
       "      <td>72</td>\n",
       "      <td>5,6,8,26,37,38,40,43,46,56,58,81,94,99,102,109...</td>\n",
       "      <td>1996</td>\n",
       "      <td>5,6,8,26,37,38,40,43,46,56,58,81,94,99,102,109...</td>\n",
       "    </tr>\n",
       "    <tr>\n",
       "      <th>4</th>\n",
       "      <td>296</td>\n",
       "      <td>77</td>\n",
       "      <td>5,6,8,14,26,37,38,40,43,54,56,58,81,94,99,102,...</td>\n",
       "      <td>1996</td>\n",
       "      <td>5,6,8,14,26,37,38,40,43,54,56,58,81,94,99,102,...</td>\n",
       "    </tr>\n",
       "  </tbody>\n",
       "</table>\n",
       "</div>"
      ],
      "text/plain": [
       "    itemset support                                          users_ids period  \\\n",
       "0                97  5,6,8,14,26,31,35,37,38,40,43,46,54,56,58,81,9...   1996   \n",
       "1      592       83  5,6,8,14,26,35,37,38,40,43,46,54,56,58,81,94,9...   1996   \n",
       "2      380       79  5,6,8,26,37,38,40,43,46,56,58,81,94,99,102,107...   1996   \n",
       "3  380 592       72  5,6,8,26,37,38,40,43,46,56,58,81,94,99,102,109...   1996   \n",
       "4      296       77  5,6,8,14,26,37,38,40,43,54,56,58,81,94,99,102,...   1996   \n",
       "\n",
       "                                              groups  \n",
       "0  5,6,8,14,26,31,35,37,38,40,43,46,54,56,58,81,9...  \n",
       "1  5,6,8,14,26,35,37,38,40,43,46,54,56,58,81,94,9...  \n",
       "2  5,6,8,26,37,38,40,43,46,56,58,81,94,99,102,107...  \n",
       "3  5,6,8,26,37,38,40,43,46,56,58,81,94,99,102,109...  \n",
       "4  5,6,8,14,26,37,38,40,43,54,56,58,81,94,99,102,...  "
      ]
     },
     "execution_count": 16,
     "metadata": {},
     "output_type": "execute_result"
    }
   ],
   "source": [
    "df1,df2= combined_csv[0::2].reset_index(drop=True),combined_csv[1::2].reset_index(drop=True)\n",
    "df1 = df1[0].str.split(r'\\((.*)\\)',expand=True)\n",
    "df1.drop([2],axis=1,inplace = True)\n",
    "df1.columns= [\"itemset\",\"support\"]\n",
    "df2.columns = [\"users_ids\",\"period\"]\n",
    "df = pd.concat([df1,df2],axis=1)\n",
    "df[\"groups\"] = df[\"users_ids\"]\n",
    "for (period,i) in df.groupby(\"period\"):\n",
    "    df[\"groups\"][i.index]= i[\"groups\"].apply(lambda x:form_group(x,permutations[permutations.period==period]))\n",
    "df[\"users_ids\"] = df[\"groups\"]\n",
    "df.head()"
   ]
  },
  {
   "cell_type": "markdown",
   "metadata": {
    "colab_type": "text",
    "id": "g4V-LblLBzDa"
   },
   "source": [
    "### Label encoder to encode groups "
   ]
  },
  {
   "cell_type": "code",
   "execution_count": 17,
   "metadata": {
    "colab": {},
    "colab_type": "code",
    "id": "0Ym9kFTMBzDb"
   },
   "outputs": [
    {
     "data": {
      "text/html": [
       "<div>\n",
       "<style scoped>\n",
       "    .dataframe tbody tr th:only-of-type {\n",
       "        vertical-align: middle;\n",
       "    }\n",
       "\n",
       "    .dataframe tbody tr th {\n",
       "        vertical-align: top;\n",
       "    }\n",
       "\n",
       "    .dataframe thead th {\n",
       "        text-align: right;\n",
       "    }\n",
       "</style>\n",
       "<table border=\"1\" class=\"dataframe\">\n",
       "  <thead>\n",
       "    <tr style=\"text-align: right;\">\n",
       "      <th></th>\n",
       "      <th>itemset</th>\n",
       "      <th>support</th>\n",
       "      <th>users_ids</th>\n",
       "      <th>period</th>\n",
       "      <th>groups</th>\n",
       "    </tr>\n",
       "  </thead>\n",
       "  <tbody>\n",
       "    <tr>\n",
       "      <th>0</th>\n",
       "      <td></td>\n",
       "      <td>97</td>\n",
       "      <td>5,6,8,14,26,31,35,37,38,40,43,46,54,56,58,81,9...</td>\n",
       "      <td>1996</td>\n",
       "      <td>5079</td>\n",
       "    </tr>\n",
       "    <tr>\n",
       "      <th>1</th>\n",
       "      <td>592</td>\n",
       "      <td>83</td>\n",
       "      <td>5,6,8,14,26,35,37,38,40,43,46,54,56,58,81,94,9...</td>\n",
       "      <td>1996</td>\n",
       "      <td>5080</td>\n",
       "    </tr>\n",
       "    <tr>\n",
       "      <th>2</th>\n",
       "      <td>380</td>\n",
       "      <td>79</td>\n",
       "      <td>5,6,8,26,37,38,40,43,46,56,58,81,94,99,102,107...</td>\n",
       "      <td>1996</td>\n",
       "      <td>5314</td>\n",
       "    </tr>\n",
       "    <tr>\n",
       "      <th>3</th>\n",
       "      <td>380 592</td>\n",
       "      <td>72</td>\n",
       "      <td>5,6,8,26,37,38,40,43,46,56,58,81,94,99,102,109...</td>\n",
       "      <td>1996</td>\n",
       "      <td>5316</td>\n",
       "    </tr>\n",
       "    <tr>\n",
       "      <th>4</th>\n",
       "      <td>296</td>\n",
       "      <td>77</td>\n",
       "      <td>5,6,8,14,26,37,38,40,43,54,56,58,81,94,99,102,...</td>\n",
       "      <td>1996</td>\n",
       "      <td>5085</td>\n",
       "    </tr>\n",
       "  </tbody>\n",
       "</table>\n",
       "</div>"
      ],
      "text/plain": [
       "    itemset support                                          users_ids period  \\\n",
       "0                97  5,6,8,14,26,31,35,37,38,40,43,46,54,56,58,81,9...   1996   \n",
       "1      592       83  5,6,8,14,26,35,37,38,40,43,46,54,56,58,81,94,9...   1996   \n",
       "2      380       79  5,6,8,26,37,38,40,43,46,56,58,81,94,99,102,107...   1996   \n",
       "3  380 592       72  5,6,8,26,37,38,40,43,46,56,58,81,94,99,102,109...   1996   \n",
       "4      296       77  5,6,8,14,26,37,38,40,43,54,56,58,81,94,99,102,...   1996   \n",
       "\n",
       "   groups  \n",
       "0    5079  \n",
       "1    5080  \n",
       "2    5314  \n",
       "3    5316  \n",
       "4    5085  "
      ]
     },
     "execution_count": 17,
     "metadata": {},
     "output_type": "execute_result"
    }
   ],
   "source": [
    "le = preprocessing.LabelEncoder()\n",
    "df[\"groups\"]= le.fit_transform(df[\"groups\"])\n",
    "df.head()"
   ]
  },
  {
   "cell_type": "code",
   "execution_count": 18,
   "metadata": {
    "colab": {},
    "colab_type": "code",
    "id": "72GHF2PqBzDd"
   },
   "outputs": [
    {
     "data": {
      "text/plain": [
       "(40112, 40112)"
      ]
     },
     "execution_count": 18,
     "metadata": {},
     "output_type": "execute_result"
    }
   ],
   "source": [
    "df.groups.nunique(),df.groups.size\n"
   ]
  },
  {
   "cell_type": "code",
   "execution_count": 19,
   "metadata": {
    "colab": {},
    "colab_type": "code",
    "id": "kCr4PhiFBzDf"
   },
   "outputs": [
    {
     "name": "stdout",
     "output_type": "stream",
     "text": [
      "1996  2004  2012  LCM_Minner.ipynb  permut2003\tpermut2011  ratings.csv\r\n",
      "1997  2005  2013  permut1996\t    permut2004\tpermut2012  Y-30-all.dat\r\n",
      "1998  2006  2014  permut1997\t    permut2005\tpermut2013\r\n",
      "1999  2007  2015  permut1998\t    permut2006\tpermut2014\r\n",
      "2000  2008  2016  permut1999\t    permut2007\tpermut2015\r\n",
      "2001  2009  2017  permut2000\t    permut2008\tpermut2016\r\n",
      "2002  2010  2018  permut2001\t    permut2009\tpermut2017\r\n",
      "2003  2011  lcm   permut2002\t    permut2010\tpermut2018\r\n"
     ]
    }
   ],
   "source": [
    "output_file ='{}-{}-all.dat'.format(frequency,support)\n",
    "df.to_csv(output_file)\n",
    "!ls"
   ]
  },
  {
   "cell_type": "markdown",
   "metadata": {
    "colab_type": "text",
    "id": "wQg7yGcpBzDh"
   },
   "source": [
    "### Split users_ids "
   ]
  },
  {
   "cell_type": "code",
   "execution_count": 21,
   "metadata": {
    "colab": {},
    "colab_type": "code",
    "id": "cjR8LuQGBzDi"
   },
   "outputs": [],
   "source": [
    "output_file ='{}-{}-users.dat'.format(frequency,support)"
   ]
  },
  {
   "cell_type": "code",
   "execution_count": 22,
   "metadata": {
    "colab": {},
    "colab_type": "code",
    "id": "QtZHXj3fBzDk"
   },
   "outputs": [
    {
     "data": {
      "text/html": [
       "<div>\n",
       "<style scoped>\n",
       "    .dataframe tbody tr th:only-of-type {\n",
       "        vertical-align: middle;\n",
       "    }\n",
       "\n",
       "    .dataframe tbody tr th {\n",
       "        vertical-align: top;\n",
       "    }\n",
       "\n",
       "    .dataframe thead th {\n",
       "        text-align: right;\n",
       "    }\n",
       "</style>\n",
       "<table border=\"1\" class=\"dataframe\">\n",
       "  <thead>\n",
       "    <tr style=\"text-align: right;\">\n",
       "      <th></th>\n",
       "      <th>user_id</th>\n",
       "      <th>group_id</th>\n",
       "      <th>period</th>\n",
       "    </tr>\n",
       "  </thead>\n",
       "  <tbody>\n",
       "    <tr>\n",
       "      <th>0</th>\n",
       "      <td>5</td>\n",
       "      <td>5079</td>\n",
       "      <td>1996</td>\n",
       "    </tr>\n",
       "    <tr>\n",
       "      <th>1</th>\n",
       "      <td>6</td>\n",
       "      <td>5079</td>\n",
       "      <td>1996</td>\n",
       "    </tr>\n",
       "    <tr>\n",
       "      <th>2</th>\n",
       "      <td>8</td>\n",
       "      <td>5079</td>\n",
       "      <td>1996</td>\n",
       "    </tr>\n",
       "    <tr>\n",
       "      <th>3</th>\n",
       "      <td>14</td>\n",
       "      <td>5079</td>\n",
       "      <td>1996</td>\n",
       "    </tr>\n",
       "    <tr>\n",
       "      <th>4</th>\n",
       "      <td>26</td>\n",
       "      <td>5079</td>\n",
       "      <td>1996</td>\n",
       "    </tr>\n",
       "  </tbody>\n",
       "</table>\n",
       "</div>"
      ],
      "text/plain": [
       "  user_id  group_id period\n",
       "0       5      5079   1996\n",
       "1       6      5079   1996\n",
       "2       8      5079   1996\n",
       "3      14      5079   1996\n",
       "4      26      5079   1996"
      ]
     },
     "execution_count": 22,
     "metadata": {},
     "output_type": "execute_result"
    }
   ],
   "source": [
    "users_groups(df,output=output_file).head()"
   ]
  },
  {
   "cell_type": "code",
   "execution_count": 23,
   "metadata": {
    "colab": {},
    "colab_type": "code",
    "id": "ZxrT63R5BzDo",
    "outputId": "fc2f9fbf-6552-44a1-c8d6-a57288779e8f"
   },
   "outputs": [
    {
     "name": "stdout",
     "output_type": "stream",
     "text": [
      "lcm  LCM_Minner.ipynb  ratings.csv  Y-30-all.dat  Y-30-users.dat\r\n"
     ]
    }
   ],
   "source": [
    "!rm permut*\n",
    "!rm 1*\n",
    "!rm 2*\n",
    "!ls\n"
   ]
  },
  {
   "cell_type": "code",
   "execution_count": 0,
   "metadata": {
    "colab": {},
    "colab_type": "code",
    "id": "LG1gsD1IBzDs"
   },
   "outputs": [],
   "source": []
  }
 ],
 "metadata": {
  "colab": {
   "name": "LCM Minner.ipynb",
   "provenance": []
  },
  "kernelspec": {
   "display_name": "Python 3",
   "language": "python",
   "name": "python3"
  },
  "language_info": {
   "codemirror_mode": {
    "name": "ipython",
    "version": 3
   },
   "file_extension": ".py",
   "mimetype": "text/x-python",
   "name": "python",
   "nbconvert_exporter": "python",
   "pygments_lexer": "ipython3",
   "version": "3.7.3"
  }
 },
 "nbformat": 4,
 "nbformat_minor": 1
}
