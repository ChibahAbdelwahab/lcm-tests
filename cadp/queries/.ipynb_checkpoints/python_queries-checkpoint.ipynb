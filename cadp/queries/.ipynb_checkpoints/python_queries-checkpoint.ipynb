{
 "cells": [
  {
   "cell_type": "code",
   "execution_count": 117,
   "metadata": {},
   "outputs": [],
   "source": [
    "from collections import Counter\n",
    "import pandas as pd\n",
    "import numpy as np\n",
    "from sklearn.preprocessing import LabelEncoder\n",
    "from ast import literal_eval\n",
    "import json"
   ]
  },
  {
   "cell_type": "code",
   "execution_count": 118,
   "metadata": {},
   "outputs": [],
   "source": [
    "file_name = \"9M-5-[1-2001]-[a]-lcm.out\"\n",
    "output_file = f\"queries_results/python_{file_name.replace('out','csv')}\""
   ]
  },
  {
   "cell_type": "code",
   "execution_count": 381,
   "metadata": {},
   "outputs": [],
   "source": [
    "encoder = LabelEncoder()\n",
    "encoder.classes_ = np.load(f'../../plots/encoders/{file_name}.npy')\n",
    "\n",
    "def splited_links():\n",
    "    links = pd.read_csv(f\"../../plots/links/{file_name}\")\n",
    "    res = []\n",
    "    links.apply(lambda x : [res.append((x[\"source\"],x[\"target\"], int(i) )) for i in x[\"user_id\"].split(\",\")] ,axis=1)\n",
    "    return  pd.DataFrame(res,columns=[\"source\",\"target\",\"user_id\"])\n",
    "def partial_df():\n",
    "    # Groupes over two periods only\n",
    "    links = splited_links()\n",
    "    groups = pd.read_csv(f\"../../plots/groups/{file_name}\",index_col=0)\n",
    "    groups.drop([\"itemset_name\",\"property_values\"],axis=1,inplace=True)\n",
    "    groups = groups.drop(['depth',\"a\",\"size\",\"support\",],axis=1)\n",
    "    groups[\"itemsets\"] = groups[\"itemsets\"].apply(lambda x :set(encoder.inverse_transform([int(i) for i in x.split()])))\n",
    "    groups[\"user_ids\"] =  groups[\"user_ids\"].apply(literal_eval)\n",
    "    links = links.merge(groups.reset_index(),left_on=\"source\",right_on='index').merge(groups.reset_index(),left_on=\"target\",right_on='index')\n",
    "    links.drop([\"source\",\"target\",\"index_x\",\"index_y\",\"user_ids_x\",\"user_ids_y\"],axis=1,inplace=True)\n",
    "    return links\n",
    "def full_df():\n",
    "    # Groups over three periods only\n",
    "    links = splited_links()\n",
    "    links = links.merge(links,left_on=[\"target\",\"user_id\"],right_on=[\"source\",\"user_id\"]).drop([\"source_y\"],axis=1)\n",
    "    \n",
    "    groups = pd.read_csv(f\"../../plots/groups/{file_name}\",index_col=0)\n",
    "    groups.drop([\"itemset_name\",\"property_values\",\"user_ids\"],axis=1,inplace=True)\n",
    "    groups = groups.drop(['depth',\"a\",\"size\",\"support\",],axis=1)\n",
    "    groups[\"itemsets\"] = groups[\"itemsets\"].apply(lambda x :set(encoder.inverse_transform([int(i) for i in x.split()])))\n",
    "    \n",
    "    links = links.merge(groups,left_on=\"source_x\",right_index=True).merge(groups,left_on=\"target_x\",right_index=True).merge(groups,left_on=\"target_y\",right_index=True)\n",
    "    links = links.rename(columns={\"itemsets\":\"itemsets_z\",\"period\":\"period_z\"})\n",
    "    links.drop([\"source_x\",\"target_x\",\"target_y\"],axis=1,inplace=True)\n",
    "    return links\n",
    "\n",
    "with open(\"../../datasets/Total/ids_mapping.json\",\"r\") as file:\n",
    "    mapping = json.load(file)\n",
    "def extract_user_stats(x,columns):\n",
    "    user = x[\"user_id\"]\n",
    "    for col in columns:\n",
    "        for val in x[col]:\n",
    "            res.append((user,col,val))"
   ]
  },
  {
   "cell_type": "markdown",
   "metadata": {},
   "source": [
    "## Queries"
   ]
  },
  {
   "cell_type": "code",
   "execution_count": 359,
   "metadata": {},
   "outputs": [
    {
     "data": {
      "text/html": [
       "<div>\n",
       "<style scoped>\n",
       "    .dataframe tbody tr th:only-of-type {\n",
       "        vertical-align: middle;\n",
       "    }\n",
       "\n",
       "    .dataframe tbody tr th {\n",
       "        vertical-align: top;\n",
       "    }\n",
       "\n",
       "    .dataframe thead th {\n",
       "        text-align: right;\n",
       "    }\n",
       "</style>\n",
       "<table border=\"1\" class=\"dataframe\">\n",
       "  <thead>\n",
       "    <tr style=\"text-align: right;\">\n",
       "      <th></th>\n",
       "      <th>user_id</th>\n",
       "      <th>itemsets_x</th>\n",
       "      <th>period_x</th>\n",
       "      <th>itemsets_y</th>\n",
       "      <th>period_y</th>\n",
       "      <th>itemsets_z</th>\n",
       "      <th>period_z</th>\n",
       "    </tr>\n",
       "  </thead>\n",
       "  <tbody>\n",
       "    <tr>\n",
       "      <th>0</th>\n",
       "      <td>129151</td>\n",
       "      <td>{3425909000482}</td>\n",
       "      <td>2018-09-01</td>\n",
       "      <td>{3425909002011}</td>\n",
       "      <td>2018-12-01</td>\n",
       "      <td>{3425909000482, 3217770310919}</td>\n",
       "      <td>2019-02-01</td>\n",
       "    </tr>\n",
       "    <tr>\n",
       "      <th>1</th>\n",
       "      <td>129151</td>\n",
       "      <td>{3425909000482}</td>\n",
       "      <td>2018-09-01</td>\n",
       "      <td>{3425909002011}</td>\n",
       "      <td>2018-12-01</td>\n",
       "      <td>{3217770310919}</td>\n",
       "      <td>2019-02-01</td>\n",
       "    </tr>\n",
       "    <tr>\n",
       "      <th>2174</th>\n",
       "      <td>549038</td>\n",
       "      <td>{3425909001007}</td>\n",
       "      <td>2018-09-01</td>\n",
       "      <td>{3425909001007}</td>\n",
       "      <td>2018-12-01</td>\n",
       "      <td>{3217770310919}</td>\n",
       "      <td>2019-02-01</td>\n",
       "    </tr>\n",
       "    <tr>\n",
       "      <th>3987</th>\n",
       "      <td>267956</td>\n",
       "      <td>{3425909001007}</td>\n",
       "      <td>2018-09-01</td>\n",
       "      <td>{3425909001007}</td>\n",
       "      <td>2018-12-01</td>\n",
       "      <td>{3217770310919}</td>\n",
       "      <td>2019-02-01</td>\n",
       "    </tr>\n",
       "    <tr>\n",
       "      <th>2146</th>\n",
       "      <td>549038</td>\n",
       "      <td>{6206300219508, 3425909001007}</td>\n",
       "      <td>2018-09-01</td>\n",
       "      <td>{3425909001007}</td>\n",
       "      <td>2018-12-01</td>\n",
       "      <td>{3217770310919}</td>\n",
       "      <td>2019-02-01</td>\n",
       "    </tr>\n",
       "  </tbody>\n",
       "</table>\n",
       "</div>"
      ],
      "text/plain": [
       "      user_id                      itemsets_x    period_x       itemsets_y  \\\n",
       "0      129151                 {3425909000482}  2018-09-01  {3425909002011}   \n",
       "1      129151                 {3425909000482}  2018-09-01  {3425909002011}   \n",
       "2174   549038                 {3425909001007}  2018-09-01  {3425909001007}   \n",
       "3987   267956                 {3425909001007}  2018-09-01  {3425909001007}   \n",
       "2146   549038  {6206300219508, 3425909001007}  2018-09-01  {3425909001007}   \n",
       "\n",
       "        period_y                      itemsets_z    period_z  \n",
       "0     2018-12-01  {3425909000482, 3217770310919}  2019-02-01  \n",
       "1     2018-12-01                 {3217770310919}  2019-02-01  \n",
       "2174  2018-12-01                 {3217770310919}  2019-02-01  \n",
       "3987  2018-12-01                 {3217770310919}  2019-02-01  \n",
       "2146  2018-12-01                 {3217770310919}  2019-02-01  "
      ]
     },
     "execution_count": 359,
     "metadata": {},
     "output_type": "execute_result"
    }
   ],
   "source": [
    "df=full_df()\n",
    "df.head()"
   ]
  },
  {
   "cell_type": "code",
   "execution_count": 360,
   "metadata": {},
   "outputs": [],
   "source": [
    "df[\"adoption\"] = df.apply(lambda x: x[\"itemsets_y\"].difference(x[\"itemsets_x\"]),axis=1)\n",
    "df[\"loyalty1\"] = df.apply(lambda x: x[\"itemsets_y\"].intersection(x[\"itemsets_x\"]),axis=1)\n",
    "df[\"loyalty2\"] = df.apply(lambda x: x[\"itemsets_y\"].intersection(x[\"itemsets_z\"]),axis=1)\n",
    "\n",
    "df[\"promo_exclusive_products\"] = df.apply(lambda x : x[\"itemsets_y\"].difference(x[\"itemsets_x\"]).difference(x[\"itemsets_z\"]),axis=1)\n",
    "df[\"replacement\"] = df.apply(lambda x : x[\"itemsets_x\"].intersection(x[\"itemsets_y\"]).difference(x[\"itemsets_z\"]),axis=1)\n",
    "df[\"loyalty\"] = df.apply(lambda x :x[\"itemsets_x\"].intersection(x[\"itemsets_y\"].intersection(x[\"itemsets_z\"])),axis=1)"
   ]
  },
  {
   "cell_type": "markdown",
   "metadata": {},
   "source": [
    "# Stats"
   ]
  },
  {
   "cell_type": "code",
   "execution_count": 384,
   "metadata": {},
   "outputs": [
    {
     "data": {
      "text/html": [
       "<div>\n",
       "<style scoped>\n",
       "    .dataframe tbody tr th:only-of-type {\n",
       "        vertical-align: middle;\n",
       "    }\n",
       "\n",
       "    .dataframe tbody tr th {\n",
       "        vertical-align: top;\n",
       "    }\n",
       "\n",
       "    .dataframe thead th {\n",
       "        text-align: right;\n",
       "    }\n",
       "</style>\n",
       "<table border=\"1\" class=\"dataframe\">\n",
       "  <thead>\n",
       "    <tr style=\"text-align: right;\">\n",
       "      <th></th>\n",
       "      <th>CUST_ID</th>\n",
       "      <th>query_type</th>\n",
       "      <th>ARTICLE_ID</th>\n",
       "      <th>SEX</th>\n",
       "      <th>AGE</th>\n",
       "      <th>DEPARTEMENT</th>\n",
       "      <th>DESCRIPTION</th>\n",
       "    </tr>\n",
       "  </thead>\n",
       "  <tbody>\n",
       "    <tr>\n",
       "      <th>0</th>\n",
       "      <td>129151</td>\n",
       "      <td>adoption</td>\n",
       "      <td>3425909002011</td>\n",
       "      <td>M</td>\n",
       "      <td>35-49</td>\n",
       "      <td>62</td>\n",
       "      <td>RECHARGE LAVAGE TW - D</td>\n",
       "    </tr>\n",
       "    <tr>\n",
       "      <th>1</th>\n",
       "      <td>129151</td>\n",
       "      <td>promo_exclusive_products</td>\n",
       "      <td>3425909002011</td>\n",
       "      <td>M</td>\n",
       "      <td>35-49</td>\n",
       "      <td>62</td>\n",
       "      <td>RECHARGE LAVAGE TW - D</td>\n",
       "    </tr>\n",
       "    <tr>\n",
       "      <th>2</th>\n",
       "      <td>129151</td>\n",
       "      <td>adoption</td>\n",
       "      <td>3425909002011</td>\n",
       "      <td>M</td>\n",
       "      <td>35-49</td>\n",
       "      <td>62</td>\n",
       "      <td>RECHARGE LAVAGE TW - D</td>\n",
       "    </tr>\n",
       "    <tr>\n",
       "      <th>3</th>\n",
       "      <td>129151</td>\n",
       "      <td>promo_exclusive_products</td>\n",
       "      <td>3425909002011</td>\n",
       "      <td>M</td>\n",
       "      <td>35-49</td>\n",
       "      <td>62</td>\n",
       "      <td>RECHARGE LAVAGE TW - D</td>\n",
       "    </tr>\n",
       "    <tr>\n",
       "      <th>4</th>\n",
       "      <td>129151</td>\n",
       "      <td>adoption</td>\n",
       "      <td>3425909002011</td>\n",
       "      <td>M</td>\n",
       "      <td>35-49</td>\n",
       "      <td>62</td>\n",
       "      <td>RECHARGE LAVAGE TW - D</td>\n",
       "    </tr>\n",
       "  </tbody>\n",
       "</table>\n",
       "</div>"
      ],
      "text/plain": [
       "   CUST_ID                query_type     ARTICLE_ID SEX    AGE DEPARTEMENT  \\\n",
       "0   129151                  adoption  3425909002011   M  35-49          62   \n",
       "1   129151  promo_exclusive_products  3425909002011   M  35-49          62   \n",
       "2   129151                  adoption  3425909002011   M  35-49          62   \n",
       "3   129151  promo_exclusive_products  3425909002011   M  35-49          62   \n",
       "4   129151                  adoption  3425909002011   M  35-49          62   \n",
       "\n",
       "              DESCRIPTION  \n",
       "0  RECHARGE LAVAGE TW - D  \n",
       "1  RECHARGE LAVAGE TW - D  \n",
       "2  RECHARGE LAVAGE TW - D  \n",
       "3  RECHARGE LAVAGE TW - D  \n",
       "4  RECHARGE LAVAGE TW - D  "
      ]
     },
     "execution_count": 384,
     "metadata": {},
     "output_type": "execute_result"
    }
   ],
   "source": [
    "users= pd.read_csv(\"../../datasets/Total/users.csv\",sep=\";\")\n",
    "items = pd.read_csv(\"../../datasets/Total/items.csv\",index_col=0).drop(\"IDS_LIST\",axis=1)\n",
    "res = []\n",
    "queries_columns = df.columns.tolist()[7:]\n",
    "df.apply(lambda x : extract_user_stats(x,queries_columns),axis=1)\n",
    "stats_df = pd.DataFrame(res,columns=[\"CUST_ID\",\"query_type\",\"ARTICLE_ID\"])\n",
    "stats_df = stats_df.merge(users).merge(items)\n",
    "stats_df.head()"
   ]
  },
  {
   "cell_type": "markdown",
   "metadata": {},
   "source": [
    "### By users"
   ]
  },
  {
   "cell_type": "code",
   "execution_count": 385,
   "metadata": {
    "scrolled": false
   },
   "outputs": [
    {
     "data": {
      "image/png": "[encoded data removed]",
      "text/plain": [
       "<Figure size 1080x576 with 1 Axes>"
      ]
     },
     "metadata": {
      "needs_background": "light"
     },
     "output_type": "display_data"
    }
   ],
   "source": [
    "ax = stats_df.groupby([\"SEX\"])[\"query_type\"].value_counts().unstack().plot(kind=\"barh\",figsize=(15,8))\n",
    "_= ax.set_ylabel(\"Counts\")"
   ]
  },
  {
   "cell_type": "code",
   "execution_count": 369,
   "metadata": {},
   "outputs": [
    {
     "data": {
      "image/png": "[encoded data removed]",
      "text/plain": [
       "<Figure size 1080x576 with 1 Axes>"
      ]
     },
     "metadata": {
      "needs_background": "light"
     },
     "output_type": "display_data"
    }
   ],
   "source": [
    "ax = stats_df.groupby([\"SEX\",\"AGE\"])[\"query_type\"].value_counts().unstack().plot(kind=\"barh\",figsize=(15,8))\n",
    "_= ax.set_ylabel(\"Counts\")"
   ]
  },
  {
   "cell_type": "code",
   "execution_count": 370,
   "metadata": {},
   "outputs": [
    {
     "data": {
      "image/png": "[encoded data removed]",
      "text/plain": [
       "<Figure size 1080x576 with 1 Axes>"
      ]
     },
     "metadata": {
      "needs_background": "light"
     },
     "output_type": "display_data"
    }
   ],
   "source": [
    "ax = stats_df.groupby([\"AGE\"])[\"query_type\"].value_counts().unstack().plot(kind=\"barh\",figsize=(15,8))\n",
    "_= ax.set_ylabel(\"Counts\")"
   ]
  },
  {
   "cell_type": "code",
   "execution_count": 371,
   "metadata": {},
   "outputs": [
    {
     "data": {
      "image/png": "[encoded data removed]",
      "text/plain": [
       "<Figure size 1080x576 with 1 Axes>"
      ]
     },
     "metadata": {
      "needs_background": "light"
     },
     "output_type": "display_data"
    }
   ],
   "source": [
    "ax = stats_df.groupby([\"DEPARTEMENT\"])[\"query_type\"].value_counts().unstack().plot(kind=\"barh\",figsize=(15,8))\n",
    "_= ax.set_ylabel(\"Counts\")"
   ]
  },
  {
   "cell_type": "markdown",
   "metadata": {},
   "source": [
    "### By items"
   ]
  },
  {
   "cell_type": "code",
   "execution_count": 386,
   "metadata": {},
   "outputs": [
    {
     "data": {
      "image/png": "[encoded data removed]",
      "text/plain": [
       "<Figure size 1080x576 with 1 Axes>"
      ]
     },
     "metadata": {
      "needs_background": "light"
     },
     "output_type": "display_data"
    }
   ],
   "source": [
    "ax = stats_df.groupby([\"DESCRIPTION\"])[\"query_type\"].value_counts().unstack().plot(kind=\"barh\",figsize=(15,8))\n",
    "_= ax.set_ylabel(\"Counts\")"
   ]
  },
  {
   "cell_type": "code",
   "execution_count": null,
   "metadata": {},
   "outputs": [],
   "source": []
  },
  {
   "cell_type": "code",
   "execution_count": null,
   "metadata": {},
   "outputs": [],
   "source": []
  },
  {
   "cell_type": "code",
   "execution_count": null,
   "metadata": {},
   "outputs": [],
   "source": []
  },
  {
   "cell_type": "code",
   "execution_count": null,
   "metadata": {},
   "outputs": [],
   "source": []
  },
  {
   "cell_type": "code",
   "execution_count": null,
   "metadata": {},
   "outputs": [],
   "source": []
  },
  {
   "cell_type": "code",
   "execution_count": 285,
   "metadata": {},
   "outputs": [
    {
     "data": {
      "text/html": [
       "<div>\n",
       "<style scoped>\n",
       "    .dataframe tbody tr th:only-of-type {\n",
       "        vertical-align: middle;\n",
       "    }\n",
       "\n",
       "    .dataframe tbody tr th {\n",
       "        vertical-align: top;\n",
       "    }\n",
       "\n",
       "    .dataframe thead th {\n",
       "        text-align: right;\n",
       "    }\n",
       "</style>\n",
       "<table border=\"1\" class=\"dataframe\">\n",
       "  <thead>\n",
       "    <tr style=\"text-align: right;\">\n",
       "      <th></th>\n",
       "      <th>DESCRIPTION</th>\n",
       "      <th>adoption_counts</th>\n",
       "      <th>loyalty1_counts</th>\n",
       "      <th>loyalty2_counts</th>\n",
       "    </tr>\n",
       "    <tr>\n",
       "      <th>ARTICLE_ID</th>\n",
       "      <th></th>\n",
       "      <th></th>\n",
       "      <th></th>\n",
       "      <th></th>\n",
       "    </tr>\n",
       "  </thead>\n",
       "  <tbody>\n",
       "    <tr>\n",
       "      <th>3425909001007</th>\n",
       "      <td>RECHARGE LAVAGE TW - A</td>\n",
       "      <td>96</td>\n",
       "      <td>21</td>\n",
       "      <td>29</td>\n",
       "    </tr>\n",
       "    <tr>\n",
       "      <th>3425909002011</th>\n",
       "      <td>RECHARGE LAVAGE TW - D</td>\n",
       "      <td>91</td>\n",
       "      <td>7</td>\n",
       "      <td>11</td>\n",
       "    </tr>\n",
       "    <tr>\n",
       "      <th>3425901018140</th>\n",
       "      <td>BIDON AD BLUE 10L</td>\n",
       "      <td>28</td>\n",
       "      <td>2</td>\n",
       "      <td>2</td>\n",
       "    </tr>\n",
       "    <tr>\n",
       "      <th>3425901028170</th>\n",
       "      <td>QUARTZ IN LG LIFE 5W30</td>\n",
       "      <td>15</td>\n",
       "      <td>0</td>\n",
       "      <td>1</td>\n",
       "    </tr>\n",
       "    <tr>\n",
       "      <th>3019081236250</th>\n",
       "      <td>1 6 RILLETTES THON 125G</td>\n",
       "      <td>0</td>\n",
       "      <td>0</td>\n",
       "      <td>0</td>\n",
       "    </tr>\n",
       "    <tr>\n",
       "      <th>...</th>\n",
       "      <td>...</td>\n",
       "      <td>...</td>\n",
       "      <td>...</td>\n",
       "      <td>...</td>\n",
       "    </tr>\n",
       "    <tr>\n",
       "      <th>3700619604725</th>\n",
       "      <td>ZIGOH DESO FLEUR FUSHIA</td>\n",
       "      <td>0</td>\n",
       "      <td>0</td>\n",
       "      <td>0</td>\n",
       "    </tr>\n",
       "    <tr>\n",
       "      <th>3103220009055</th>\n",
       "      <td>ZIGOTO REGLISSE</td>\n",
       "      <td>0</td>\n",
       "      <td>0</td>\n",
       "      <td>0</td>\n",
       "    </tr>\n",
       "    <tr>\n",
       "      <th>3700300542008</th>\n",
       "      <td>ZIP AMIS LUDENDO</td>\n",
       "      <td>0</td>\n",
       "      <td>0</td>\n",
       "      <td>0</td>\n",
       "    </tr>\n",
       "    <tr>\n",
       "      <th>3453131039413</th>\n",
       "      <td>ZIP POUPEE LAVANDE</td>\n",
       "      <td>0</td>\n",
       "      <td>0</td>\n",
       "      <td>0</td>\n",
       "    </tr>\n",
       "    <tr>\n",
       "      <th>5900343003148</th>\n",
       "      <td>ZUBROWKA VODKA</td>\n",
       "      <td>0</td>\n",
       "      <td>0</td>\n",
       "      <td>0</td>\n",
       "    </tr>\n",
       "  </tbody>\n",
       "</table>\n",
       "<p>11023 rows × 4 columns</p>\n",
       "</div>"
      ],
      "text/plain": [
       "                           DESCRIPTION  adoption_counts  loyalty1_counts  \\\n",
       "ARTICLE_ID                                                                 \n",
       "3425909001007   RECHARGE LAVAGE TW - A               96               21   \n",
       "3425909002011   RECHARGE LAVAGE TW - D               91                7   \n",
       "3425901018140        BIDON AD BLUE 10L               28                2   \n",
       "3425901028170   QUARTZ IN LG LIFE 5W30               15                0   \n",
       "3019081236250  1 6 RILLETTES THON 125G                0                0   \n",
       "...                                ...              ...              ...   \n",
       "3700619604725  ZIGOH DESO FLEUR FUSHIA                0                0   \n",
       "3103220009055          ZIGOTO REGLISSE                0                0   \n",
       "3700300542008         ZIP AMIS LUDENDO                0                0   \n",
       "3453131039413       ZIP POUPEE LAVANDE                0                0   \n",
       "5900343003148           ZUBROWKA VODKA                0                0   \n",
       "\n",
       "               loyalty2_counts  \n",
       "ARTICLE_ID                      \n",
       "3425909001007               29  \n",
       "3425909002011               11  \n",
       "3425901018140                2  \n",
       "3425901028170                1  \n",
       "3019081236250                0  \n",
       "...                        ...  \n",
       "3700619604725                0  \n",
       "3103220009055                0  \n",
       "3700300542008                0  \n",
       "3453131039413                0  \n",
       "5900343003148                0  \n",
       "\n",
       "[11023 rows x 4 columns]"
      ]
     },
     "execution_count": 285,
     "metadata": {},
     "output_type": "execute_result"
    }
   ],
   "source": []
  },
  {
   "cell_type": "markdown",
   "metadata": {},
   "source": [
    "## Queries over three periods"
   ]
  },
  {
   "cell_type": "code",
   "execution_count": 322,
   "metadata": {},
   "outputs": [
    {
     "data": {
      "text/html": [
       "<div>\n",
       "<style scoped>\n",
       "    .dataframe tbody tr th:only-of-type {\n",
       "        vertical-align: middle;\n",
       "    }\n",
       "\n",
       "    .dataframe tbody tr th {\n",
       "        vertical-align: top;\n",
       "    }\n",
       "\n",
       "    .dataframe thead th {\n",
       "        text-align: right;\n",
       "    }\n",
       "</style>\n",
       "<table border=\"1\" class=\"dataframe\">\n",
       "  <thead>\n",
       "    <tr style=\"text-align: right;\">\n",
       "      <th></th>\n",
       "      <th>user_id</th>\n",
       "      <th>itemsets_x</th>\n",
       "      <th>itemsets_y</th>\n",
       "      <th>itemsets_z</th>\n",
       "    </tr>\n",
       "  </thead>\n",
       "  <tbody>\n",
       "    <tr>\n",
       "      <th>0</th>\n",
       "      <td>129151</td>\n",
       "      <td>{3425909000482}</td>\n",
       "      <td>{3425909002011}</td>\n",
       "      <td>{3425909000482, 3217770310919}</td>\n",
       "    </tr>\n",
       "    <tr>\n",
       "      <th>1</th>\n",
       "      <td>129151</td>\n",
       "      <td>{3425909000482}</td>\n",
       "      <td>{3425909002011}</td>\n",
       "      <td>{3217770310919}</td>\n",
       "    </tr>\n",
       "    <tr>\n",
       "      <th>2174</th>\n",
       "      <td>549038</td>\n",
       "      <td>{3425909001007}</td>\n",
       "      <td>{3425909001007}</td>\n",
       "      <td>{3217770310919}</td>\n",
       "    </tr>\n",
       "    <tr>\n",
       "      <th>3987</th>\n",
       "      <td>267956</td>\n",
       "      <td>{3425909001007}</td>\n",
       "      <td>{3425909001007}</td>\n",
       "      <td>{3217770310919}</td>\n",
       "    </tr>\n",
       "    <tr>\n",
       "      <th>2146</th>\n",
       "      <td>549038</td>\n",
       "      <td>{6206300219508, 3425909001007}</td>\n",
       "      <td>{3425909001007}</td>\n",
       "      <td>{3217770310919}</td>\n",
       "    </tr>\n",
       "  </tbody>\n",
       "</table>\n",
       "</div>"
      ],
      "text/plain": [
       "      user_id                      itemsets_x       itemsets_y  \\\n",
       "0      129151                 {3425909000482}  {3425909002011}   \n",
       "1      129151                 {3425909000482}  {3425909002011}   \n",
       "2174   549038                 {3425909001007}  {3425909001007}   \n",
       "3987   267956                 {3425909001007}  {3425909001007}   \n",
       "2146   549038  {6206300219508, 3425909001007}  {3425909001007}   \n",
       "\n",
       "                          itemsets_z  \n",
       "0     {3425909000482, 3217770310919}  \n",
       "1                    {3217770310919}  \n",
       "2174                 {3217770310919}  \n",
       "3987                 {3217770310919}  \n",
       "2146                 {3217770310919}  "
      ]
     },
     "execution_count": 322,
     "metadata": {},
     "output_type": "execute_result"
    }
   ],
   "source": [
    "df = full_df()\n",
    "df.head()"
   ]
  },
  {
   "cell_type": "code",
   "execution_count": 296,
   "metadata": {},
   "outputs": [],
   "source": []
  },
  {
   "cell_type": "code",
   "execution_count": null,
   "metadata": {},
   "outputs": [],
   "source": []
  },
  {
   "cell_type": "markdown",
   "metadata": {},
   "source": [
    "### Stats by items "
   ]
  },
  {
   "cell_type": "code",
   "execution_count": 298,
   "metadata": {},
   "outputs": [],
   "source": [
    "# Initiate score to 0\n",
    "columns = df.columns[4:].tolist()\n",
    "for i in columns:\n",
    "    items[i] = 0 \n",
    "def extract_stats(x,items,columns):\n",
    "    for i in columns:\n",
    "        for j in x[i]:\n",
    "            items.loc[j,i] += 1\n",
    "e = df.apply(lambda x : extract_stats(x,items,columns),axis=1)"
   ]
  },
  {
   "cell_type": "code",
   "execution_count": 299,
   "metadata": {},
   "outputs": [
    {
     "data": {
      "text/html": [
       "<div>\n",
       "<style scoped>\n",
       "    .dataframe tbody tr th:only-of-type {\n",
       "        vertical-align: middle;\n",
       "    }\n",
       "\n",
       "    .dataframe tbody tr th {\n",
       "        vertical-align: top;\n",
       "    }\n",
       "\n",
       "    .dataframe thead th {\n",
       "        text-align: right;\n",
       "    }\n",
       "</style>\n",
       "<table border=\"1\" class=\"dataframe\">\n",
       "  <thead>\n",
       "    <tr style=\"text-align: right;\">\n",
       "      <th></th>\n",
       "      <th>DESCRIPTION</th>\n",
       "      <th>adoption_counts</th>\n",
       "      <th>loyalty1_counts</th>\n",
       "      <th>loyalty2_counts</th>\n",
       "      <th>promo_exclusive_products</th>\n",
       "      <th>replacement</th>\n",
       "      <th>loyalty</th>\n",
       "    </tr>\n",
       "    <tr>\n",
       "      <th>ARTICLE_ID</th>\n",
       "      <th></th>\n",
       "      <th></th>\n",
       "      <th></th>\n",
       "      <th></th>\n",
       "      <th></th>\n",
       "      <th></th>\n",
       "      <th></th>\n",
       "    </tr>\n",
       "  </thead>\n",
       "  <tbody>\n",
       "    <tr>\n",
       "      <th>3425909002011</th>\n",
       "      <td>RECHARGE LAVAGE TW - D</td>\n",
       "      <td>91</td>\n",
       "      <td>7</td>\n",
       "      <td>11</td>\n",
       "      <td>1173</td>\n",
       "      <td>220</td>\n",
       "      <td>92</td>\n",
       "    </tr>\n",
       "    <tr>\n",
       "      <th>3425909001007</th>\n",
       "      <td>RECHARGE LAVAGE TW - A</td>\n",
       "      <td>96</td>\n",
       "      <td>21</td>\n",
       "      <td>29</td>\n",
       "      <td>669</td>\n",
       "      <td>484</td>\n",
       "      <td>617</td>\n",
       "    </tr>\n",
       "    <tr>\n",
       "      <th>3425901018720</th>\n",
       "      <td>TOTAL ACTIVA 9000 5W40 2L</td>\n",
       "      <td>15</td>\n",
       "      <td>0</td>\n",
       "      <td>0</td>\n",
       "      <td>120</td>\n",
       "      <td>0</td>\n",
       "      <td>0</td>\n",
       "    </tr>\n",
       "    <tr>\n",
       "      <th>3425901018140</th>\n",
       "      <td>BIDON AD BLUE 10L</td>\n",
       "      <td>28</td>\n",
       "      <td>2</td>\n",
       "      <td>2</td>\n",
       "      <td>80</td>\n",
       "      <td>21</td>\n",
       "      <td>7</td>\n",
       "    </tr>\n",
       "    <tr>\n",
       "      <th>3425901028170</th>\n",
       "      <td>QUARTZ IN LG LIFE 5W30</td>\n",
       "      <td>15</td>\n",
       "      <td>0</td>\n",
       "      <td>1</td>\n",
       "      <td>77</td>\n",
       "      <td>0</td>\n",
       "      <td>0</td>\n",
       "    </tr>\n",
       "    <tr>\n",
       "      <th>3425901014890</th>\n",
       "      <td>ACTIVA 5000 ESS 15W40</td>\n",
       "      <td>0</td>\n",
       "      <td>0</td>\n",
       "      <td>0</td>\n",
       "      <td>0</td>\n",
       "      <td>0</td>\n",
       "      <td>0</td>\n",
       "    </tr>\n",
       "    <tr>\n",
       "      <th>3425901019178</th>\n",
       "      <td>ACTIVA 7000E 5L</td>\n",
       "      <td>0</td>\n",
       "      <td>0</td>\n",
       "      <td>0</td>\n",
       "      <td>0</td>\n",
       "      <td>0</td>\n",
       "      <td>0</td>\n",
       "    </tr>\n",
       "    <tr>\n",
       "      <th>3425900000962</th>\n",
       "      <td>ACTIVA 9000  1L   5W40</td>\n",
       "      <td>0</td>\n",
       "      <td>0</td>\n",
       "      <td>0</td>\n",
       "      <td>0</td>\n",
       "      <td>0</td>\n",
       "      <td>0</td>\n",
       "    </tr>\n",
       "    <tr>\n",
       "      <th>3011449262970</th>\n",
       "      <td>ACTIVA 9000 5W4</td>\n",
       "      <td>0</td>\n",
       "      <td>0</td>\n",
       "      <td>0</td>\n",
       "      <td>0</td>\n",
       "      <td>0</td>\n",
       "      <td>0</td>\n",
       "    </tr>\n",
       "    <tr>\n",
       "      <th>3425901029788</th>\n",
       "      <td>ACTIVA 9000 FUT</td>\n",
       "      <td>0</td>\n",
       "      <td>0</td>\n",
       "      <td>0</td>\n",
       "      <td>0</td>\n",
       "      <td>0</td>\n",
       "      <td>0</td>\n",
       "    </tr>\n",
       "  </tbody>\n",
       "</table>\n",
       "</div>"
      ],
      "text/plain": [
       "                             DESCRIPTION  adoption_counts  loyalty1_counts  \\\n",
       "ARTICLE_ID                                                                   \n",
       "3425909002011     RECHARGE LAVAGE TW - D               91                7   \n",
       "3425909001007     RECHARGE LAVAGE TW - A               96               21   \n",
       "3425901018720  TOTAL ACTIVA 9000 5W40 2L               15                0   \n",
       "3425901018140          BIDON AD BLUE 10L               28                2   \n",
       "3425901028170     QUARTZ IN LG LIFE 5W30               15                0   \n",
       "3425901014890      ACTIVA 5000 ESS 15W40                0                0   \n",
       "3425901019178            ACTIVA 7000E 5L                0                0   \n",
       "3425900000962     ACTIVA 9000  1L   5W40                0                0   \n",
       "3011449262970            ACTIVA 9000 5W4                0                0   \n",
       "3425901029788            ACTIVA 9000 FUT                0                0   \n",
       "\n",
       "               loyalty2_counts  promo_exclusive_products  replacement  loyalty  \n",
       "ARTICLE_ID                                                                      \n",
       "3425909002011               11                      1173          220       92  \n",
       "3425909001007               29                       669          484      617  \n",
       "3425901018720                0                       120            0        0  \n",
       "3425901018140                2                        80           21        7  \n",
       "3425901028170                1                        77            0        0  \n",
       "3425901014890                0                         0            0        0  \n",
       "3425901019178                0                         0            0        0  \n",
       "3425900000962                0                         0            0        0  \n",
       "3011449262970                0                         0            0        0  \n",
       "3425901029788                0                         0            0        0  "
      ]
     },
     "execution_count": 299,
     "metadata": {},
     "output_type": "execute_result"
    }
   ],
   "source": [
    "promo_products = pd.read_csv(\"../../datasets/Total/promo_products.csv\").ARTICLE_ID.unique()\n",
    "items.loc[promo_products].sort_values(by=columns,ascending=False).head(10)"
   ]
  },
  {
   "cell_type": "markdown",
   "metadata": {},
   "source": [
    "### Stats by users"
   ]
  },
  {
   "cell_type": "code",
   "execution_count": 220,
   "metadata": {},
   "outputs": [],
   "source": [
    "res = []         \n",
    "df.apply(lambda x : extract_user_stats(x,columns),axis=1)\n",
    "stats_df = pd.DataFrame(res,columns=[\"user_id\",\"query_type\",\"product_id\"])\n",
    "stats_df = stats_df.merge(users,left_on=\"user_id\",right_on=\"CUST_ID\").drop(\"user_id\",axis=1).set_index(\"CUST_ID\")"
   ]
  },
  {
   "cell_type": "code",
   "execution_count": 246,
   "metadata": {
    "scrolled": false
   },
   "outputs": [
    {
     "data": {
      "image/png": "[encoded data removed]",
      "text/plain": [
       "<Figure size 1080x576 with 1 Axes>"
      ]
     },
     "metadata": {
      "needs_background": "light"
     },
     "output_type": "display_data"
    }
   ],
   "source": [
    "ax = stats_df.groupby([\"SEX\"])[\"query_type\"].value_counts().unstack().plot(kind=\"bar\",figsize=(15,8))\n",
    "_= ax.set_ylabel(\"Counts\")"
   ]
  },
  {
   "cell_type": "code",
   "execution_count": 247,
   "metadata": {},
   "outputs": [
    {
     "data": {
      "image/png": "[encoded data removed]",
      "text/plain": [
       "<Figure size 1080x576 with 1 Axes>"
      ]
     },
     "metadata": {
      "needs_background": "light"
     },
     "output_type": "display_data"
    }
   ],
   "source": [
    "ax = stats_df.groupby([\"AGE\"])[\"query_type\"].value_counts().unstack().plot(kind=\"bar\",figsize=(15,8))\n",
    "_= ax.set_ylabel(\"Counts\")"
   ]
  },
  {
   "cell_type": "code",
   "execution_count": 253,
   "metadata": {},
   "outputs": [
    {
     "data": {
      "image/png": "[encoded data removed]",
      "text/plain": [
       "<Figure size 1080x576 with 1 Axes>"
      ]
     },
     "metadata": {
      "needs_background": "light"
     },
     "output_type": "display_data"
    }
   ],
   "source": [
    "ax = stats_df.groupby([\"AGE\",\"SEX\"])[\"query_type\"].value_counts().unstack().plot(kind=\"bar\",figsize=(15,8))\n",
    "_= ax.set_ylabel(\"Counts\")"
   ]
  },
  {
   "cell_type": "code",
   "execution_count": 254,
   "metadata": {},
   "outputs": [
    {
     "data": {
      "image/png": "[encoded data removed]",
      "text/plain": [
       "<Figure size 1080x576 with 1 Axes>"
      ]
     },
     "metadata": {
      "needs_background": "light"
     },
     "output_type": "display_data"
    }
   ],
   "source": [
    "ax = stats_df.groupby([\"DEPARTEMENT\"])[\"query_type\"].value_counts().unstack().plot(kind=\"bar\",figsize=(15,8))\n",
    "_= ax.set_ylabel(\"Counts\")"
   ]
  }
 ],
 "metadata": {
  "kernelspec": {
   "display_name": "Python 3",
   "language": "python",
   "name": "python3"
  },
  "language_info": {
   "codemirror_mode": {
    "name": "ipython",
    "version": 3
   },
   "file_extension": ".py",
   "mimetype": "text/x-python",
   "name": "python",
   "nbconvert_exporter": "python",
   "pygments_lexer": "ipython3",
   "version": "3.7.5"
  }
 },
 "nbformat": 4,
 "nbformat_minor": 4
}
