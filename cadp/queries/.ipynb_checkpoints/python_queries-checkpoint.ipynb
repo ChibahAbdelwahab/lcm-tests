{
 "cells": [
  {
   "cell_type": "code",
   "execution_count": 148,
   "metadata": {},
   "outputs": [],
   "source": [
    "from collections import Counter\n",
    "import pandas as pd\n",
    "import numpy as np\n",
    "from sklearn.preprocessing import LabelEncoder\n",
    "from ast import literal_eval\n",
    "import json"
   ]
  },
  {
   "cell_type": "code",
   "execution_count": 149,
   "metadata": {},
   "outputs": [],
   "source": [
    "file_name = \"9M-5-[1-2001]-[a]-lcm.out\"\n",
    "output_file = f\"queries_results/python_{file_name.replace('out','csv')}\""
   ]
  },
  {
   "cell_type": "code",
   "execution_count": 150,
   "metadata": {},
   "outputs": [],
   "source": [
    "encoder = LabelEncoder()\n",
    "encoder.classes_ = np.load(f'../../plots/encoders/{file_name}.npy')\n",
    "\n",
    "def partial_df():\n",
    "    # Groupes over two periods only\n",
    "    links = pd.read_csv(f\"../../plots/links/{file_name}\")\n",
    "    links[\"user_id\"] = links[\"user_id\"].apply(lambda x : x.split()).apply(set)\n",
    "    groups = pd.read_csv(f\"../../plots/groups/{file_name}\",index_col=0)\n",
    "    groups.drop([\"itemset_name\",\"property_values\"],axis=1,inplace=True)\n",
    "    groups = groups.drop(['depth',\"a\",\"size\",\"support\",],axis=1)\n",
    "    groups[\"itemsets\"] = groups[\"itemsets\"].apply(lambda x :set(encoder.inverse_transform([int(i) for i in x.split()])))\n",
    "    groups[\"user_ids\"] =  groups[\"user_ids\"].apply(literal_eval)\n",
    "    return links.merge(groups.reset_index(),left_on=\"source\",right_on='index').merge(groups.reset_index(),left_on=\"target\",right_on='index')\n",
    "\n",
    "def full_df():\n",
    "    # Groups over three periods only\n",
    "    links = pd.read_csv(f\"../../plots/links/{file_name}\")\n",
    "    links[\"user_id\"] = links[\"user_id\"].apply(lambda x : x.split()).apply(set)\n",
    "    groups = pd.read_csv(f\"../../plots/groups/{file_name}\",index_col=0)\n",
    "    groups.drop([\"itemset_name\",\"property_values\"],axis=1,inplace=True)\n",
    "    groups = groups.drop(['depth',\"a\",\"size\",\"support\",],axis=1)\n",
    "    groups[\"itemsets\"] = groups[\"itemsets\"].apply(lambda x :set(encoder.inverse_transform([int(i) for i in x.split()])))\n",
    "    groups[\"user_ids\"] =  groups[\"user_ids\"].apply(literal_eval).apply(set)\n",
    "    \n",
    "    groups = groups.reset_index() \n",
    "    links = links.merge(links,left_on=\"target\",right_on=\"source\")\n",
    "    links = links.merge(groups[[\"itemsets\",\"index\"]],left_on=\"source_x\",right_on=\"index\")\n",
    "    links = links.merge(groups[[\"itemsets\",\"index\"]],left_on=\"target_x\",right_on=\"index\")\n",
    "    links = links.merge(groups[[\"itemsets\",\"index\"]],left_on=\"target_y\",right_on=\"index\")\n",
    "    links.drop([\"source_y\",\"index\",\"index_x\",\"index_y\"],axis=1,inplace=True)\n",
    "    links = links.rename(columns={\"itemsets\":\"itemsets_z\",\"target_y\":\"target_z\"})\n",
    "    links[\"user_id_z\"] = links.apply(lambda x : x[\"user_id_x\"].intersection(x[\"user_id_y\"]),axis=1)\n",
    "    return links\n",
    "\n",
    "def promotion_query(x,query_name):\n",
    "    if x[\"period_x\"] == before_promo_period and x[\"period_y\"]== promo_period: # _x => T-1 , _y => T \n",
    "        if query_name ==\"adoption\":\n",
    "            return x[\"itemsets_y\"].difference(x[\"itemsets_x\"])\n",
    "        if query_name ==\"loyalty1\":\n",
    "            return x[\"itemsets_y\"].intersection(x[\"itemsets_x\"])\n",
    "    if x[\"period_x\"]== promo_period and x[\"period_y\"]== after_promo_period: # _x => T , _y => T+1 \n",
    "        if query_name ==\"loyalty2\":\n",
    "            return x[\"itemsets_y\"].intersection(x[\"itemsets_x\"])\n",
    "    return set()\n",
    "\n",
    "with open(\"../../datasets/Total/ids_mapping.json\",\"r\") as file:\n",
    "    mapping = json.load(file)\n",
    "\n"
   ]
  },
  {
   "cell_type": "markdown",
   "metadata": {},
   "source": [
    "# Product adoption & Loyalty"
   ]
  },
  {
   "cell_type": "code",
   "execution_count": 158,
   "metadata": {},
   "outputs": [
    {
     "name": "stdout",
     "output_type": "stream",
     "text": [
      "101 ms ± 2.28 ms per loop (mean ± std. dev. of 7 runs, 10 loops each)\n"
     ]
    }
   ],
   "source": [
    "%timeit df = partial_df()"
   ]
  },
  {
   "cell_type": "code",
   "execution_count": 165,
   "metadata": {},
   "outputs": [
    {
     "data": {
      "text/plain": [
       "(569, 11)"
      ]
     },
     "execution_count": 165,
     "metadata": {},
     "output_type": "execute_result"
    }
   ],
   "source": [
    "df.shape"
   ]
  },
  {
   "cell_type": "markdown",
   "metadata": {},
   "source": [
    "T-1, T and T+1"
   ]
  },
  {
   "cell_type": "code",
   "execution_count": 166,
   "metadata": {},
   "outputs": [
    {
     "name": "stdout",
     "output_type": "stream",
     "text": [
      "T-1 : 2018-09-01\n",
      "T : 2018-12-01\n",
      "T+1 : 2019-02-01\n"
     ]
    }
   ],
   "source": [
    "before_promo_period = df.period_x.min()\n",
    "after_promo_period = df.period_y.max()\n",
    "promo_period = list(set(df.period_x.unique()).difference((before_promo_period,after_promo_period)))[0]\n",
    "print(f\"T-1 : {before_promo_period}\")\n",
    "print(f\"T : {promo_period}\")\n",
    "print(f\"T+1 : {after_promo_period}\")"
   ]
  },
  {
   "cell_type": "markdown",
   "metadata": {},
   "source": [
    "# Queries execution"
   ]
  },
  {
   "cell_type": "code",
   "execution_count": 167,
   "metadata": {},
   "outputs": [],
   "source": [
    "df = full_df()"
   ]
  },
  {
   "cell_type": "code",
   "execution_count": 76,
   "metadata": {},
   "outputs": [],
   "source": [
    "df[\"loyalty\"] = df.apply(lambda x :x[\"itemsets_x\"].intersection(x[\"itemsets_y\"].intersection(x[\"itemsets_z\"])),axis=1)"
   ]
  },
  {
   "cell_type": "code",
   "execution_count": 77,
   "metadata": {},
   "outputs": [],
   "source": [
    "df[\"promo_exclusive_products\"] = df.apply(lambda x : x[\"itemsets_y\"].difference(x[\"itemsets_x\"]).difference(x[\"itemsets_z\"]),axis=1)"
   ]
  },
  {
   "cell_type": "code",
   "execution_count": 78,
   "metadata": {},
   "outputs": [],
   "source": [
    "df[\"replacement\"] = df.apply(lambda x : x[\"itemsets_x\"].intersection(x[\"itemsets_y\"]).difference(x[\"itemsets_z\"]),axis=1)"
   ]
  },
  {
   "cell_type": "code",
   "execution_count": 79,
   "metadata": {},
   "outputs": [],
   "source": [
    "def extract_stats(x,items,columns):\n",
    "    for i in columns:\n",
    "        for j in x[i]:\n",
    "            items.loc[j,i] += 1\n",
    "columns = [\"loyalty\",\"promo_exclusive_products\",\"replacement\"]\n",
    "for i in columns:\n",
    "    items[i] = 0 \n",
    "e = df.apply(lambda x : extract_stats(x,items,columns),axis=1)"
   ]
  },
  {
   "cell_type": "code",
   "execution_count": 83,
   "metadata": {},
   "outputs": [
    {
     "name": "stdout",
     "output_type": "stream",
     "text": [
      "19.2 ms ± 977 µs per loop (mean ± std. dev. of 7 runs, 10 loops each)\n"
     ]
    }
   ],
   "source": [
    "%timeit df[\"adopted_products\"] = df.apply(lambda x: promotion_query(x,\"adoption\"),axis=1)"
   ]
  },
  {
   "cell_type": "code",
   "execution_count": 168,
   "metadata": {},
   "outputs": [
    {
     "name": "stdout",
     "output_type": "stream",
     "text": [
      "21.9 ms ± 3.42 ms per loop (mean ± std. dev. of 7 runs, 10 loops each)\n"
     ]
    }
   ],
   "source": [
    "%timeit df[\"loyalty1\"] = df.apply(lambda x: promotion_query(x,\"loyalty1\"),axis=1)"
   ]
  },
  {
   "cell_type": "code",
   "execution_count": 169,
   "metadata": {},
   "outputs": [
    {
     "name": "stdout",
     "output_type": "stream",
     "text": [
      "23.3 ms ± 1.81 ms per loop (mean ± std. dev. of 7 runs, 10 loops each)\n"
     ]
    }
   ],
   "source": [
    "%timeit df[\"loyalty2\"] = df.apply(lambda x: promotion_query(x,\"loyalty2\"),axis=1)"
   ]
  },
  {
   "cell_type": "code",
   "execution_count": 170,
   "metadata": {},
   "outputs": [],
   "source": [
    "df.to_csv(output_file)"
   ]
  },
  {
   "cell_type": "code",
   "execution_count": 171,
   "metadata": {},
   "outputs": [
    {
     "data": {
      "text/html": [
       "<div>\n",
       "<style scoped>\n",
       "    .dataframe tbody tr th:only-of-type {\n",
       "        vertical-align: middle;\n",
       "    }\n",
       "\n",
       "    .dataframe tbody tr th {\n",
       "        vertical-align: top;\n",
       "    }\n",
       "\n",
       "    .dataframe thead th {\n",
       "        text-align: right;\n",
       "    }\n",
       "</style>\n",
       "<table border=\"1\" class=\"dataframe\">\n",
       "  <thead>\n",
       "    <tr style=\"text-align: right;\">\n",
       "      <th></th>\n",
       "      <th>DESCRIPTION</th>\n",
       "      <th>adoption_counts</th>\n",
       "      <th>loyalty1_counts</th>\n",
       "      <th>loyalty2_counts</th>\n",
       "    </tr>\n",
       "    <tr>\n",
       "      <th>ARTICLE_ID</th>\n",
       "      <th></th>\n",
       "      <th></th>\n",
       "      <th></th>\n",
       "      <th></th>\n",
       "    </tr>\n",
       "  </thead>\n",
       "  <tbody>\n",
       "    <tr>\n",
       "      <th>3425909001007</th>\n",
       "      <td>RECHARGE LAVAGE TW - A</td>\n",
       "      <td>96</td>\n",
       "      <td>21</td>\n",
       "      <td>29</td>\n",
       "    </tr>\n",
       "    <tr>\n",
       "      <th>3425909002011</th>\n",
       "      <td>RECHARGE LAVAGE TW - D</td>\n",
       "      <td>91</td>\n",
       "      <td>7</td>\n",
       "      <td>11</td>\n",
       "    </tr>\n",
       "    <tr>\n",
       "      <th>3425901018140</th>\n",
       "      <td>BIDON AD BLUE 10L</td>\n",
       "      <td>28</td>\n",
       "      <td>2</td>\n",
       "      <td>2</td>\n",
       "    </tr>\n",
       "    <tr>\n",
       "      <th>3425901028170</th>\n",
       "      <td>QUARTZ IN LG LIFE 5W30</td>\n",
       "      <td>15</td>\n",
       "      <td>0</td>\n",
       "      <td>1</td>\n",
       "    </tr>\n",
       "    <tr>\n",
       "      <th>3019081236250</th>\n",
       "      <td>1 6 RILLETTES THON 125G</td>\n",
       "      <td>0</td>\n",
       "      <td>0</td>\n",
       "      <td>0</td>\n",
       "    </tr>\n",
       "    <tr>\n",
       "      <th>...</th>\n",
       "      <td>...</td>\n",
       "      <td>...</td>\n",
       "      <td>...</td>\n",
       "      <td>...</td>\n",
       "    </tr>\n",
       "    <tr>\n",
       "      <th>3700619604725</th>\n",
       "      <td>ZIGOH DESO FLEUR FUSHIA</td>\n",
       "      <td>0</td>\n",
       "      <td>0</td>\n",
       "      <td>0</td>\n",
       "    </tr>\n",
       "    <tr>\n",
       "      <th>3103220009055</th>\n",
       "      <td>ZIGOTO REGLISSE</td>\n",
       "      <td>0</td>\n",
       "      <td>0</td>\n",
       "      <td>0</td>\n",
       "    </tr>\n",
       "    <tr>\n",
       "      <th>3700300542008</th>\n",
       "      <td>ZIP AMIS LUDENDO</td>\n",
       "      <td>0</td>\n",
       "      <td>0</td>\n",
       "      <td>0</td>\n",
       "    </tr>\n",
       "    <tr>\n",
       "      <th>3453131039413</th>\n",
       "      <td>ZIP POUPEE LAVANDE</td>\n",
       "      <td>0</td>\n",
       "      <td>0</td>\n",
       "      <td>0</td>\n",
       "    </tr>\n",
       "    <tr>\n",
       "      <th>5900343003148</th>\n",
       "      <td>ZUBROWKA VODKA</td>\n",
       "      <td>0</td>\n",
       "      <td>0</td>\n",
       "      <td>0</td>\n",
       "    </tr>\n",
       "    <tr>\n",
       "      <th>252901</th>\n",
       "    </tr>\n",
       "    <tr>\n",
       "      <th>516711</th>\n",
       "    </tr>\n",
       "    <tr>\n",
       "      <th>717621</th>\n",
       "    </tr>\n",
       "    <tr>\n",
       "      <th>470752</th>\n",
       "    </tr>\n",
       "    <tr>\n",
       "      <th>480899</th>\n",
       "    </tr>\n",
       "    <tr>\n",
       "      <th>1030310</th>\n",
       "    </tr>\n",
       "    <tr>\n",
       "      <th>955102</th>\n",
       "    </tr>\n",
       "    <tr>\n",
       "      <th>622174</th>\n",
       "    </tr>\n",
       "    <tr>\n",
       "      <th>1163690</th>\n",
       "    </tr>\n",
       "    <tr>\n",
       "      <th>277935</th>\n",
       "    </tr>\n",
       "    <tr>\n",
       "      <th>480255</th>\n",
       "    </tr>\n",
       "    <tr>\n",
       "      <th>350965</th>\n",
       "    </tr>\n",
       "    <tr>\n",
       "      <th>869865</th>\n",
       "    </tr>\n",
       "    <tr>\n",
       "      <th>447321</th>\n",
       "    </tr>\n",
       "    <tr>\n",
       "      <th>163869</th>\n",
       "    </tr>\n",
       "    <tr>\n",
       "      <th>150303</th>\n",
       "    </tr>\n",
       "    <tr>\n",
       "      <th>302709</th>\n",
       "    </tr>\n",
       "    <tr>\n",
       "      <th>1032078</th>\n",
       "    </tr>\n",
       "    <tr>\n",
       "      <th>348948</th>\n",
       "    </tr>\n",
       "    <tr>\n",
       "      <th>484507</th>\n",
       "    </tr>\n",
       "    <tr>\n",
       "      <th>404347</th>\n",
       "    </tr>\n",
       "    <tr>\n",
       "      <th>794248</th>\n",
       "    </tr>\n",
       "    <tr>\n",
       "      <th>477520</th>\n",
       "    </tr>\n",
       "    <tr>\n",
       "      <th>407466</th>\n",
       "    </tr>\n",
       "    <tr>\n",
       "      <th>163934</th>\n",
       "    </tr>\n",
       "    <tr>\n",
       "      <th>579353</th>\n",
       "    </tr>\n",
       "    <tr>\n",
       "      <th>365174</th>\n",
       "    </tr>\n",
       "    <tr>\n",
       "      <th>441047</th>\n",
       "    </tr>\n",
       "    <tr>\n",
       "      <th>230856</th>\n",
       "    </tr>\n",
       "    <tr>\n",
       "      <th>1157557</th>\n",
       "    </tr>\n",
       "  </tbody>\n",
       "</table>\n",
       "<p>11023 rows × 4 columns</p>\n",
       "</div>"
      ],
      "text/plain": [
       "                           DESCRIPTION  adoption_counts  loyalty1_counts  \\\n",
       "ARTICLE_ID                                                                 \n",
       "3425909001007   RECHARGE LAVAGE TW - A               96               21   \n",
       "3425909002011   RECHARGE LAVAGE TW - D               91                7   \n",
       "3425901018140        BIDON AD BLUE 10L               28                2   \n",
       "3425901028170   QUARTZ IN LG LIFE 5W30               15                0   \n",
       "3019081236250  1 6 RILLETTES THON 125G                0                0   \n",
       "...                                ...              ...              ...   \n",
       "3700619604725  ZIGOH DESO FLEUR FUSHIA                0                0   \n",
       "3103220009055          ZIGOTO REGLISSE                0                0   \n",
       "3700300542008         ZIP AMIS LUDENDO                0                0   \n",
       "3453131039413       ZIP POUPEE LAVANDE                0                0   \n",
       "5900343003148           ZUBROWKA VODKA                0                0   \n",
       "\n",
       "               loyalty2_counts  \n",
       "ARTICLE_ID                      \n",
       "3425909001007               29  \n",
       "3425909002011               11  \n",
       "3425901018140                2  \n",
       "3425901028170                1  \n",
       "3019081236250                0  \n",
       "...                        ...  \n",
       "3700619604725                0  \n",
       "3103220009055                0  \n",
       "3700300542008                0  \n",
       "3453131039413                0  \n",
       "5900343003148                0  \n",
       "\n",
       "[11023 rows x 4 columns]"
      ]
     },
     "execution_count": 171,
     "metadata": {},
     "output_type": "execute_result"
    }
   ],
   "source": [
    "items = pd.read_csv(\"../../datasets/Total/items.csv\",index_col=0)\n",
    "items.ARTICLE_ID.astype(str).replace(mapping,inplace=True)\n",
    "items.drop([\"IDS_LIST\"],axis=1,inplace=True)\n",
    "items.set_index(\"ARTICLE_ID\",inplace=True)\n",
    "\n",
    "items[\"adoption_counts\"]=0\n",
    "items[\"loyalty1_counts\"]=0\n",
    "items[\"loyalty2_counts\"]=0\n",
    "\n",
    "\n",
    "adoption_counts,loyalty1_counts,loyalty2_counts= [],[],[]\n",
    "for i,j,k in zip(df.adopted_products.values.tolist(),df.loyalty1.values.tolist(),df.loyalty2.values.tolist()):\n",
    "    if i!=set():\n",
    "        adoption_counts+= list(i) \n",
    "    if j!=set():\n",
    "        loyalty1_counts += list(j)\n",
    "    if k!=set():\n",
    "        loyalty2_counts += list(k)\n",
    "adoption_counts, loyalty1_counts,loyalty2_counts = Counter(adoption_counts),Counter(loyalty1_counts),Counter(loyalty2_counts)\n",
    "\n",
    "\n",
    "for i in adoption_counts:\n",
    "    items.loc[int(i),\"adoption_counts\"] = adoption_counts[i]\n",
    "for j in loyalty1_counts:\n",
    "    items.loc[int(j),'loyalty1_counts'] = loyalty1_counts[j]\n",
    "for j in loyalty2_counts:\n",
    "    items.loc[int(j),'loyalty2_counts'] = loyalty2_counts[j]\n",
    "    \n",
    "items = items.sort_values(by=items.columns[-2:].tolist(),ascending=False)\n",
    "items"
   ]
  },
  {
   "cell_type": "code",
   "execution_count": 181,
   "metadata": {},
   "outputs": [],
   "source": [
    "for i in columns:\n",
    "    users[i]= users[i].apply(lambda x : set())"
   ]
  },
  {
   "cell_type": "code",
   "execution_count": 148,
   "metadata": {},
   "outputs": [],
   "source": [
    "def extract_stat_by_user(x,items,columns):\n",
    "    if x[\"user_id_z\"]== [None]:\n",
    "        return \n",
    "    for i in columns:\n",
    "        for j in x[\"user_id_z\"]:\n",
    "            description = [items.loc[z,\"DESCRIPTION\"] for z in x[i] if z in items.index ]\n",
    "            [items.loc[j,i].add(z) for z in description] \n",
    "e = df.apply(lambda x : extract_stat_by_user(x,users,columns),axis=1)"
   ]
  },
  {
   "cell_type": "code",
   "execution_count": 149,
   "metadata": {},
   "outputs": [
    {
     "name": "stdout",
     "output_type": "stream",
     "text": [
      "853 ms ± 36 ms per loop (mean ± std. dev. of 7 runs, 1 loop each)\n"
     ]
    }
   ],
   "source": [
    "%timeit df = full_df()"
   ]
  },
  {
   "cell_type": "code",
   "execution_count": 184,
   "metadata": {},
   "outputs": [
    {
     "data": {
      "text/plain": [
       "(28339, 12)"
      ]
     },
     "execution_count": 184,
     "metadata": {},
     "output_type": "execute_result"
    }
   ],
   "source": [
    "df.shape"
   ]
  },
  {
   "cell_type": "code",
   "execution_count": 185,
   "metadata": {},
   "outputs": [
    {
     "name": "stdout",
     "output_type": "stream",
     "text": [
      "1.08 s ± 40.4 ms per loop (mean ± std. dev. of 7 runs, 1 loop each)\n"
     ]
    }
   ],
   "source": [
    "%timeit df[\"loyalty\"] = df.apply(lambda x :x[\"itemsets_x\"].intersection(x[\"itemsets_y\"].intersection(x[\"itemsets_z\"])),axis=1)"
   ]
  },
  {
   "cell_type": "code",
   "execution_count": 186,
   "metadata": {},
   "outputs": [
    {
     "name": "stdout",
     "output_type": "stream",
     "text": [
      "1.08 s ± 40.7 ms per loop (mean ± std. dev. of 7 runs, 1 loop each)\n"
     ]
    }
   ],
   "source": [
    "%timeit df[\"promo_exclusive_products\"] = df.apply(lambda x : x[\"itemsets_y\"].difference(x[\"itemsets_x\"]).difference(x[\"itemsets_z\"]),axis=1)"
   ]
  },
  {
   "cell_type": "code",
   "execution_count": 187,
   "metadata": {},
   "outputs": [
    {
     "name": "stdout",
     "output_type": "stream",
     "text": [
      "1.03 s ± 39.5 ms per loop (mean ± std. dev. of 7 runs, 1 loop each)\n"
     ]
    }
   ],
   "source": [
    "%timeit df[\"replacement\"] = df.apply(lambda x : x[\"itemsets_x\"].intersection(x[\"itemsets_y\"]).difference(x[\"itemsets_z\"]),axis=1)"
   ]
  },
  {
   "cell_type": "code",
   "execution_count": null,
   "metadata": {},
   "outputs": [],
   "source": [
    "querys_names = [\"loyalty\",\"promo_exclusive_products\",\"replacement\"]\n",
    "for i in querys_names:\n",
    "    items[i]=0\n",
    "def get_stats(x,columns = querys_names,items=items):\n",
    "    for i in columns:\n",
    "        if len(x[i])>0:\n",
    "            items.loc[x[i],i]+=1\n",
    "df.apply(get_stats,axis=1)\n",
    "promo_ids = pd.read_csv(\"../../datasets/Total/promo_products.csv\").ARTICLE_ID.unique()\n",
    "items.loc[promo_ids].plot(x=\"DESCRIPTION\", y=items.columns[1:], kind=\"bar\",figsize=(20,10))"
   ]
  },
  {
   "cell_type": "code",
   "execution_count": null,
   "metadata": {},
   "outputs": [],
   "source": [
    "items.loc[promo_ids].sort_values(by=[\"adoption_counts\"],ascending=False)"
   ]
  },
  {
   "cell_type": "code",
   "execution_count": null,
   "metadata": {},
   "outputs": [],
   "source": []
  },
  {
   "cell_type": "code",
   "execution_count": null,
   "metadata": {},
   "outputs": [],
   "source": []
  }
 ],
 "metadata": {
  "kernelspec": {
   "display_name": "Python 3",
   "language": "python",
   "name": "python3"
  },
  "language_info": {
   "codemirror_mode": {
    "name": "ipython",
    "version": 3
   },
   "file_extension": ".py",
   "mimetype": "text/x-python",
   "name": "python",
   "nbconvert_exporter": "python",
   "pygments_lexer": "ipython3",
   "version": "3.7.5"
  }
 },
 "nbformat": 4,
 "nbformat_minor": 4
}
