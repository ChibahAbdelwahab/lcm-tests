{
 "cells": [
  {
   "cell_type": "code",
   "execution_count": 37,
   "metadata": {},
   "outputs": [],
   "source": [
    "from collections import Counter\n",
    "import pandas as pd\n",
    "import numpy as np"
   ]
  },
  {
   "cell_type": "code",
   "execution_count": 2,
   "metadata": {},
   "outputs": [],
   "source": [
    "file_name = \"9M-5-[1-2001]-[a]-lcm.out\""
   ]
  },
  {
   "cell_type": "markdown",
   "metadata": {},
   "source": [
    "# Product adoption & Loyalty"
   ]
  },
  {
   "cell_type": "code",
   "execution_count": 3,
   "metadata": {},
   "outputs": [],
   "source": [
    "links = pd.read_csv(f\"../../plots/links/{file_name}\")\n",
    "links = links.drop([\"user_id\"],axis=1)\n",
    "groups = pd.read_csv(f\"../../plots/groups/{file_name}\",index_col=0)\n",
    "groups = groups.drop(['depth',\"a\",\"size\",\"support\",],axis=1)\n",
    "df = links.merge(groups.reset_index(),left_on=\"source\",right_on='index').merge(groups.reset_index(),left_on=\"target\",right_on='index')"
   ]
  },
  {
   "cell_type": "code",
   "execution_count": 11,
   "metadata": {},
   "outputs": [],
   "source": [
    "output_file = f\"queries_results/python_{file_name.replace('out','csv')}\""
   ]
  },
  {
   "cell_type": "code",
   "execution_count": 12,
   "metadata": {},
   "outputs": [],
   "source": [
    "before_promo_period = groups.period.min()\n",
    "after_promo_period = groups.period.max()\n",
    "promo_period = list(set(groups.period.unique()).difference((before_promo_period,after_promo_period)))[0]\n",
    "\n",
    "promo_items = pd.read_csv(\"../../datasets/Total/items.csv\")\n",
    "promo_list_items = promo_items.ARTICLE_ID.tolist()\n",
    "\n",
    "def promotion_query(x,query_name):\n",
    "    if x[\"period_x\"]!= before_promo_period or x[\"period_y\"]!= promo_period:\n",
    "        return set()\n",
    "    p1 = x[\"itemsets_x\"].split()\n",
    "    p2 = set(x[\"itemsets_y\"].split())\n",
    "    if query_name ==\"adoption\":\n",
    "        return p2.difference(p1)\n",
    "    if query_name ==\"loyalty\":\n",
    "        return p2.intersection(p1)\n",
    "df[\"adopted_products\"] = df.apply(lambda x: promotion_query(x,\"adoption\"),axis=1)\n",
    "df[\"loyalty_products\"] = df.apply(lambda x: promotion_query(x,\"loyalty\"),axis=1)\n",
    "df.to_csv(output_file)"
   ]
  },
  {
   "cell_type": "code",
   "execution_count": 47,
   "metadata": {},
   "outputs": [],
   "source": [
    "adoption_counts,loyalty_counts= [],[]\n",
    "for i,j in zip(df.adopted_products.values.tolist(),df.loyalty_products.values.tolist()):\n",
    "    if i!=set():\n",
    "        adoption_counts+= list(i) \n",
    "    if j!=set():\n",
    "        loyalty_counts += list(j)\n",
    "adoption_counts, loyalty_counts = Counter(adoption_counts),Counter(loyalty_counts)"
   ]
  },
  {
   "cell_type": "code",
   "execution_count": 58,
   "metadata": {},
   "outputs": [],
   "source": [
    "encoder = LabelEncoder()\n",
    "encoder.classes_ = np.load(f'../../plots/encoders/{file_name}.npy')\n",
    "items = pd.read_csv(\"../../datasets/Total/promo_product_maping.csv\",index_col=0)\n",
    "items.set_index(\"product_id\",inplace=True)"
   ]
  },
  {
   "cell_type": "code",
   "execution_count": 59,
   "metadata": {},
   "outputs": [
    {
     "name": "stderr",
     "output_type": "stream",
     "text": [
      "/home/abdelouahab/3env/local/lib/python3.7/site-packages/pandas/core/indexing.py:670: SettingWithCopyWarning: \n",
      "A value is trying to be set on a copy of a slice from a DataFrame\n",
      "\n",
      "See the caveats in the documentation: https://pandas.pydata.org/pandas-docs/stable/user_guide/indexing.html#returning-a-view-versus-a-copy\n",
      "  self._setitem_with_indexer(indexer, value)\n"
     ]
    }
   ],
   "source": [
    "items[\"adoption_counts\"]=0\n",
    "items[\"loyalty_counts\"]=0\n",
    "for i in adoption_counts:\n",
    "    items[\"adoption_counts\"].loc[int(i)] = adoption_counts[i]\n",
    "for j in loyalty_counts:\n",
    "    items[\"loyalty_counts\"].loc[int(j)] =loyalty_counts[j]"
   ]
  },
  {
   "cell_type": "code",
   "execution_count": 60,
   "metadata": {},
   "outputs": [
    {
     "data": {
      "text/html": [
       "<div>\n",
       "<style scoped>\n",
       "    .dataframe tbody tr th:only-of-type {\n",
       "        vertical-align: middle;\n",
       "    }\n",
       "\n",
       "    .dataframe tbody tr th {\n",
       "        vertical-align: top;\n",
       "    }\n",
       "\n",
       "    .dataframe thead th {\n",
       "        text-align: right;\n",
       "    }\n",
       "</style>\n",
       "<table border=\"1\" class=\"dataframe\">\n",
       "  <thead>\n",
       "    <tr style=\"text-align: right;\">\n",
       "      <th></th>\n",
       "      <th>name</th>\n",
       "      <th>adoption_counts</th>\n",
       "      <th>loyalty_counts</th>\n",
       "    </tr>\n",
       "    <tr>\n",
       "      <th>product_id</th>\n",
       "      <th></th>\n",
       "      <th></th>\n",
       "      <th></th>\n",
       "    </tr>\n",
       "  </thead>\n",
       "  <tbody>\n",
       "    <tr>\n",
       "      <th>2432</th>\n",
       "      <td>EVIAN 50CL</td>\n",
       "      <td>90</td>\n",
       "      <td>1</td>\n",
       "    </tr>\n",
       "    <tr>\n",
       "      <th>3066</th>\n",
       "      <td>TOTAL ADBLUE 10L</td>\n",
       "      <td>88</td>\n",
       "      <td>9</td>\n",
       "    </tr>\n",
       "    <tr>\n",
       "      <th>4219</th>\n",
       "      <td>TOTAL QUARTZ INEO LONG LIFE 5W30 1L</td>\n",
       "      <td>15</td>\n",
       "      <td>0</td>\n",
       "    </tr>\n",
       "    <tr>\n",
       "      <th>5333</th>\n",
       "      <td>ADBLUE 10L</td>\n",
       "      <td>36</td>\n",
       "      <td>1</td>\n",
       "    </tr>\n",
       "    <tr>\n",
       "      <th>704</th>\n",
       "      <td>CR EVIAN PET 50CL</td>\n",
       "      <td>48</td>\n",
       "      <td>3</td>\n",
       "    </tr>\n",
       "    <tr>\n",
       "      <th>4206</th>\n",
       "      <td>TOTAL ADBLUE BIDON 10L</td>\n",
       "      <td>29</td>\n",
       "      <td>2</td>\n",
       "    </tr>\n",
       "    <tr>\n",
       "      <th>3039</th>\n",
       "      <td>TOTAL ANTI CREV</td>\n",
       "      <td>1</td>\n",
       "      <td>0</td>\n",
       "    </tr>\n",
       "    <tr>\n",
       "      <th>4213</th>\n",
       "      <td>TOTAL ACTIVA 9000 5W40 2L</td>\n",
       "      <td>14</td>\n",
       "      <td>0</td>\n",
       "    </tr>\n",
       "    <tr>\n",
       "      <th>2428</th>\n",
       "      <td>EVIAN 50CL PET</td>\n",
       "      <td>0</td>\n",
       "      <td>0</td>\n",
       "    </tr>\n",
       "    <tr>\n",
       "      <th>4210</th>\n",
       "      <td>TOTAL QUARTZ IN</td>\n",
       "      <td>0</td>\n",
       "      <td>0</td>\n",
       "    </tr>\n",
       "    <tr>\n",
       "      <th>4427</th>\n",
       "      <td>TOTAL ADBLUE 10L</td>\n",
       "      <td>1</td>\n",
       "      <td>1</td>\n",
       "    </tr>\n",
       "    <tr>\n",
       "      <th>1386</th>\n",
       "      <td>Lun Evian Pet 50Cl</td>\n",
       "      <td>0</td>\n",
       "      <td>0</td>\n",
       "    </tr>\n",
       "    <tr>\n",
       "      <th>3611</th>\n",
       "      <td>ELF MOTO 4 TECH</td>\n",
       "      <td>0</td>\n",
       "      <td>0</td>\n",
       "    </tr>\n",
       "    <tr>\n",
       "      <th>4216</th>\n",
       "      <td>TOTAL QUARTZ 90</td>\n",
       "      <td>0</td>\n",
       "      <td>0</td>\n",
       "    </tr>\n",
       "    <tr>\n",
       "      <th>4222</th>\n",
       "      <td>TOTAL QUARTZ IN</td>\n",
       "      <td>0</td>\n",
       "      <td>0</td>\n",
       "    </tr>\n",
       "    <tr>\n",
       "      <th>6436</th>\n",
       "      <td>TOTAL ADBLUE 10L</td>\n",
       "      <td>1</td>\n",
       "      <td>0</td>\n",
       "    </tr>\n",
       "    <tr>\n",
       "      <th>5742</th>\n",
       "      <td>ADBLUE 10L</td>\n",
       "      <td>3</td>\n",
       "      <td>1</td>\n",
       "    </tr>\n",
       "    <tr>\n",
       "      <th>2173</th>\n",
       "      <td>TOTAL ADBLUE BIDON 10L</td>\n",
       "      <td>0</td>\n",
       "      <td>0</td>\n",
       "    </tr>\n",
       "  </tbody>\n",
       "</table>\n",
       "</div>"
      ],
      "text/plain": [
       "                                           name  adoption_counts  \\\n",
       "product_id                                                         \n",
       "2432                                 EVIAN 50CL               90   \n",
       "3066                           TOTAL ADBLUE 10L               88   \n",
       "4219        TOTAL QUARTZ INEO LONG LIFE 5W30 1L               15   \n",
       "5333                                 ADBLUE 10L               36   \n",
       "704                           CR EVIAN PET 50CL               48   \n",
       "4206                     TOTAL ADBLUE BIDON 10L               29   \n",
       "3039                            TOTAL ANTI CREV                1   \n",
       "4213                  TOTAL ACTIVA 9000 5W40 2L               14   \n",
       "2428                             EVIAN 50CL PET                0   \n",
       "4210                            TOTAL QUARTZ IN                0   \n",
       "4427                           TOTAL ADBLUE 10L                1   \n",
       "1386                         Lun Evian Pet 50Cl                0   \n",
       "3611                            ELF MOTO 4 TECH                0   \n",
       "4216                            TOTAL QUARTZ 90                0   \n",
       "4222                            TOTAL QUARTZ IN                0   \n",
       "6436                           TOTAL ADBLUE 10L                1   \n",
       "5742                                 ADBLUE 10L                3   \n",
       "2173                     TOTAL ADBLUE BIDON 10L                0   \n",
       "\n",
       "            loyalty_counts  \n",
       "product_id                  \n",
       "2432                     1  \n",
       "3066                     9  \n",
       "4219                     0  \n",
       "5333                     1  \n",
       "704                      3  \n",
       "4206                     2  \n",
       "3039                     0  \n",
       "4213                     0  \n",
       "2428                     0  \n",
       "4210                     0  \n",
       "4427                     1  \n",
       "1386                     0  \n",
       "3611                     0  \n",
       "4216                     0  \n",
       "4222                     0  \n",
       "6436                     0  \n",
       "5742                     1  \n",
       "2173                     0  "
      ]
     },
     "execution_count": 60,
     "metadata": {},
     "output_type": "execute_result"
    }
   ],
   "source": [
    "items"
   ]
  },
  {
   "cell_type": "code",
   "execution_count": 51,
   "metadata": {},
   "outputs": [
    {
     "data": {
      "text/plain": [
       "Counter({'4206': 29,\n",
       "         '5333': 36,\n",
       "         '3066': 88,\n",
       "         '2432': 90,\n",
       "         '704': 48,\n",
       "         '4219': 15,\n",
       "         '5742': 3,\n",
       "         '4427': 1,\n",
       "         '4213': 14,\n",
       "         '3039': 1,\n",
       "         '6436': 1})"
      ]
     },
     "execution_count": 51,
     "metadata": {},
     "output_type": "execute_result"
    }
   ],
   "source": [
    "adoption_counts"
   ]
  }
 ],
 "metadata": {
  "kernelspec": {
   "display_name": "Python 3",
   "language": "python",
   "name": "python3"
  },
  "language_info": {
   "codemirror_mode": {
    "name": "ipython",
    "version": 3
   },
   "file_extension": ".py",
   "mimetype": "text/x-python",
   "name": "python",
   "nbconvert_exporter": "python",
   "pygments_lexer": "ipython3",
   "version": "3.7.5"
  }
 },
 "nbformat": 4,
 "nbformat_minor": 4
}
