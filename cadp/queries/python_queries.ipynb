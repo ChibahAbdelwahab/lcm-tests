{
 "cells": [
  {
   "cell_type": "code",
   "execution_count": 1,
   "metadata": {},
   "outputs": [],
   "source": [
    "from collections import Counter\n",
    "import pandas as pd\n",
    "import numpy as np\n",
    "from sklearn.preprocessing import LabelEncoder\n",
    "from ast import literal_eval\n",
    "import json"
   ]
  },
  {
   "cell_type": "code",
   "execution_count": 13,
   "metadata": {},
   "outputs": [],
   "source": [
    "file_name = \"9M-5-[1-2001]-[firstpromo]-lcm.out\"\n",
    "output_file = f\"queries_results/python_{file_name.replace('out','csv')}\""
   ]
  },
  {
   "cell_type": "code",
   "execution_count": 15,
   "metadata": {},
   "outputs": [],
   "source": [
    "encoder = LabelEncoder()\n",
    "encoder.classes_ = np.load(f'../../plots/encoders/{file_name}.npy')\n",
    "\n",
    "def splited_links():\n",
    "    links = pd.read_csv(f\"../../plots/links/{file_name}\")\n",
    "    res = []\n",
    "    links.apply(lambda x : [res.append((x[\"source\"],x[\"target\"], int(i) )) for i in x[\"user_id\"].split(\",\")] ,axis=1)\n",
    "    return  pd.DataFrame(res,columns=[\"source\",\"target\",\"user_id\"])\n",
    "def partial_df():\n",
    "    # Groupes over two periods only\n",
    "    links = splited_links()\n",
    "    groups = pd.read_csv(f\"../../plots/groups/{file_name}\",index_col=0)\n",
    "    groups.drop([\"itemset_name\",\"property_values\"],axis=1,inplace=True)\n",
    "    groups = groups.drop(['depth',\"a\",\"size\",\"support\",],axis=1)\n",
    "    groups[\"itemsets\"] = groups[\"itemsets\"].apply(lambda x :set(encoder.inverse_transform([int(i) for i in x.split()])))\n",
    "    groups[\"user_ids\"] =  groups[\"user_ids\"].apply(literal_eval)\n",
    "    links = links.merge(groups.reset_index(),left_on=\"source\",right_on='index').merge(groups.reset_index(),left_on=\"target\",right_on='index')\n",
    "    links.drop([\"source\",\"target\",\"index_x\",\"index_y\",\"user_ids_x\",\"user_ids_y\"],axis=1,inplace=True)\n",
    "    return links\n",
    "def full_df():\n",
    "    # Groups over three periods only\n",
    "    links = splited_links()\n",
    "    links = links.merge(links,left_on=[\"target\",\"user_id\"],right_on=[\"source\",\"user_id\"]).drop([\"source_y\"],axis=1)\n",
    "    \n",
    "    groups = pd.read_csv(f\"../../plots/groups/{file_name}\",index_col=0)\n",
    "    groups.drop([\"itemset_name\",\"property_values\",\"user_ids\"],axis=1,inplace=True)\n",
    "    groups = groups.drop(['depth',\"firstpromo\",\"size\",\"support\",],axis=1)\n",
    "    groups[\"itemsets\"] = groups[\"itemsets\"].apply(lambda x :set(encoder.inverse_transform([int(i) for i in x.split()])))\n",
    "    \n",
    "    links = links.merge(groups,left_on=\"source_x\",right_index=True).merge(groups,left_on=\"target_x\",right_index=True).merge(groups,left_on=\"target_y\",right_index=True)\n",
    "    links = links.rename(columns={\"itemsets\":\"itemsets_z\",\"period\":\"period_z\"})\n",
    "    links.drop([\"source_x\",\"target_x\",\"target_y\"],axis=1,inplace=True)\n",
    "    return links\n",
    "\n",
    "with open(\"../../datasets/Total/ids_mapping.json\",\"r\") as file:\n",
    "    mapping = json.load(file)\n",
    "def extract_user_stats(x,columns):\n",
    "    user = x[\"user_id\"]\n",
    "    for col in columns:\n",
    "        for val in x[col]:\n",
    "            res.append((user,col,val))"
   ]
  },
  {
   "cell_type": "markdown",
   "metadata": {},
   "source": [
    "## Queries"
   ]
  },
  {
   "cell_type": "code",
   "execution_count": 27,
   "metadata": {},
   "outputs": [
    {
     "data": {
      "text/html": [
       "<div>\n",
       "<style scoped>\n",
       "    .dataframe tbody tr th:only-of-type {\n",
       "        vertical-align: middle;\n",
       "    }\n",
       "\n",
       "    .dataframe tbody tr th {\n",
       "        vertical-align: top;\n",
       "    }\n",
       "\n",
       "    .dataframe thead th {\n",
       "        text-align: right;\n",
       "    }\n",
       "</style>\n",
       "<table border=\"1\" class=\"dataframe\">\n",
       "  <thead>\n",
       "    <tr style=\"text-align: right;\">\n",
       "      <th></th>\n",
       "      <th>user_id</th>\n",
       "      <th>itemsets_x</th>\n",
       "      <th>period_x</th>\n",
       "      <th>itemsets_y</th>\n",
       "      <th>period_y</th>\n",
       "      <th>itemsets_z</th>\n",
       "      <th>period_z</th>\n",
       "    </tr>\n",
       "  </thead>\n",
       "  <tbody>\n",
       "    <tr>\n",
       "      <th>0</th>\n",
       "      <td>157573</td>\n",
       "      <td>{3425909000482}</td>\n",
       "      <td>2018-09-01</td>\n",
       "      <td>{3068320110783}</td>\n",
       "      <td>2018-12-01</td>\n",
       "      <td>{3425909001007}</td>\n",
       "      <td>2019-02-01</td>\n",
       "    </tr>\n",
       "    <tr>\n",
       "      <th>28</th>\n",
       "      <td>252901</td>\n",
       "      <td>{3425909000482}</td>\n",
       "      <td>2018-09-01</td>\n",
       "      <td>{3068320110783}</td>\n",
       "      <td>2018-12-01</td>\n",
       "      <td>{3425909001007}</td>\n",
       "      <td>2019-02-01</td>\n",
       "    </tr>\n",
       "    <tr>\n",
       "      <th>1854</th>\n",
       "      <td>1068315</td>\n",
       "      <td>{3425909000482}</td>\n",
       "      <td>2018-09-01</td>\n",
       "      <td>{3068320110783}</td>\n",
       "      <td>2018-12-01</td>\n",
       "      <td>{3425909001007}</td>\n",
       "      <td>2019-02-01</td>\n",
       "    </tr>\n",
       "    <tr>\n",
       "      <th>3</th>\n",
       "      <td>157573</td>\n",
       "      <td>{3425909000482}</td>\n",
       "      <td>2018-09-01</td>\n",
       "      <td>{3068320110783}</td>\n",
       "      <td>2018-12-01</td>\n",
       "      <td>{3425909001007}</td>\n",
       "      <td>2019-02-01</td>\n",
       "    </tr>\n",
       "    <tr>\n",
       "      <th>34</th>\n",
       "      <td>252901</td>\n",
       "      <td>{3425909000482}</td>\n",
       "      <td>2018-09-01</td>\n",
       "      <td>{3068320110783}</td>\n",
       "      <td>2018-12-01</td>\n",
       "      <td>{3425909001007}</td>\n",
       "      <td>2019-02-01</td>\n",
       "    </tr>\n",
       "  </tbody>\n",
       "</table>\n",
       "</div>"
      ],
      "text/plain": [
       "      user_id       itemsets_x    period_x       itemsets_y    period_y  \\\n",
       "0      157573  {3425909000482}  2018-09-01  {3068320110783}  2018-12-01   \n",
       "28     252901  {3425909000482}  2018-09-01  {3068320110783}  2018-12-01   \n",
       "1854  1068315  {3425909000482}  2018-09-01  {3068320110783}  2018-12-01   \n",
       "3      157573  {3425909000482}  2018-09-01  {3068320110783}  2018-12-01   \n",
       "34     252901  {3425909000482}  2018-09-01  {3068320110783}  2018-12-01   \n",
       "\n",
       "           itemsets_z    period_z  \n",
       "0     {3425909001007}  2019-02-01  \n",
       "28    {3425909001007}  2019-02-01  \n",
       "1854  {3425909001007}  2019-02-01  \n",
       "3     {3425909001007}  2019-02-01  \n",
       "34    {3425909001007}  2019-02-01  "
      ]
     },
     "execution_count": 27,
     "metadata": {},
     "output_type": "execute_result"
    }
   ],
   "source": [
    "df=full_df()\n",
    "df.head()"
   ]
  },
  {
   "cell_type": "code",
   "execution_count": 37,
   "metadata": {},
   "outputs": [],
   "source": [
    "df[\"loyalty1\"] = df.apply(lambda x: x[\"itemsets_y\"].intersection(x[\"itemsets_x\"]),axis=1)\n",
    "df[\"loyalty2\"] = df.apply(lambda x: x[\"itemsets_y\"].intersection(x[\"itemsets_z\"]),axis=1)\n",
    "\n",
    "df[\"promo_exclusive_products\"] = df.apply(lambda x : x[\"itemsets_y\"].difference(x[\"itemsets_x\"]).difference(x[\"itemsets_z\"]),axis=1)\n",
    "df[\"replacement\"] = df.apply(lambda x : x[\"itemsets_x\"].intersection(x[\"itemsets_y\"]).difference(x[\"itemsets_z\"]),axis=1)\n",
    "df[\"loyalty\"] = df.apply(lambda x :x[\"itemsets_x\"].intersection(x[\"itemsets_y\"].intersection(x[\"itemsets_z\"])),axis=1)"
   ]
  },
  {
   "cell_type": "code",
   "execution_count": 36,
   "metadata": {},
   "outputs": [
    {
     "data": {
      "text/plain": [
       "0         {}\n",
       "28        {}\n",
       "1854      {}\n",
       "3        NaN\n",
       "34       NaN\n",
       "        ... \n",
       "57148    NaN\n",
       "57157    NaN\n",
       "57166    NaN\n",
       "57175    NaN\n",
       "57193    NaN\n",
       "Name: loyalty1, Length: 57546, dtype: object"
      ]
     },
     "execution_count": 36,
     "metadata": {},
     "output_type": "execute_result"
    }
   ],
   "source": [
    "df.loyalty1"
   ]
  },
  {
   "cell_type": "markdown",
   "metadata": {},
   "source": [
    "# Stats"
   ]
  },
  {
   "cell_type": "code",
   "execution_count": 38,
   "metadata": {},
   "outputs": [
    {
     "data": {
      "text/html": [
       "<div>\n",
       "<style scoped>\n",
       "    .dataframe tbody tr th:only-of-type {\n",
       "        vertical-align: middle;\n",
       "    }\n",
       "\n",
       "    .dataframe tbody tr th {\n",
       "        vertical-align: top;\n",
       "    }\n",
       "\n",
       "    .dataframe thead th {\n",
       "        text-align: right;\n",
       "    }\n",
       "</style>\n",
       "<table border=\"1\" class=\"dataframe\">\n",
       "  <thead>\n",
       "    <tr style=\"text-align: right;\">\n",
       "      <th></th>\n",
       "      <th>CUST_ID</th>\n",
       "      <th>query_type</th>\n",
       "      <th>ARTICLE_ID</th>\n",
       "      <th>SEX</th>\n",
       "      <th>AGE</th>\n",
       "      <th>DEPARTEMENT</th>\n",
       "      <th>DESCRIPTION</th>\n",
       "    </tr>\n",
       "  </thead>\n",
       "  <tbody>\n",
       "    <tr>\n",
       "      <th>0</th>\n",
       "      <td>157573</td>\n",
       "      <td>promo_exclusive_products</td>\n",
       "      <td>3068320110783</td>\n",
       "      <td>F</td>\n",
       "      <td>50-65</td>\n",
       "      <td>06</td>\n",
       "      <td>EVIAN 50CL</td>\n",
       "    </tr>\n",
       "    <tr>\n",
       "      <th>1</th>\n",
       "      <td>157573</td>\n",
       "      <td>promo_exclusive_products</td>\n",
       "      <td>3068320110783</td>\n",
       "      <td>F</td>\n",
       "      <td>50-65</td>\n",
       "      <td>06</td>\n",
       "      <td>EVIAN 50CL</td>\n",
       "    </tr>\n",
       "    <tr>\n",
       "      <th>2</th>\n",
       "      <td>157573</td>\n",
       "      <td>promo_exclusive_products</td>\n",
       "      <td>3068320110783</td>\n",
       "      <td>F</td>\n",
       "      <td>50-65</td>\n",
       "      <td>06</td>\n",
       "      <td>EVIAN 50CL</td>\n",
       "    </tr>\n",
       "    <tr>\n",
       "      <th>3</th>\n",
       "      <td>157573</td>\n",
       "      <td>promo_exclusive_products</td>\n",
       "      <td>3068320110783</td>\n",
       "      <td>F</td>\n",
       "      <td>50-65</td>\n",
       "      <td>06</td>\n",
       "      <td>EVIAN 50CL</td>\n",
       "    </tr>\n",
       "    <tr>\n",
       "      <th>4</th>\n",
       "      <td>157573</td>\n",
       "      <td>promo_exclusive_products</td>\n",
       "      <td>3068320110783</td>\n",
       "      <td>F</td>\n",
       "      <td>50-65</td>\n",
       "      <td>06</td>\n",
       "      <td>EVIAN 50CL</td>\n",
       "    </tr>\n",
       "    <tr>\n",
       "      <th>5</th>\n",
       "      <td>157573</td>\n",
       "      <td>promo_exclusive_products</td>\n",
       "      <td>3068320110783</td>\n",
       "      <td>F</td>\n",
       "      <td>50-65</td>\n",
       "      <td>06</td>\n",
       "      <td>EVIAN 50CL</td>\n",
       "    </tr>\n",
       "    <tr>\n",
       "      <th>6</th>\n",
       "      <td>157573</td>\n",
       "      <td>promo_exclusive_products</td>\n",
       "      <td>3068320110783</td>\n",
       "      <td>F</td>\n",
       "      <td>50-65</td>\n",
       "      <td>06</td>\n",
       "      <td>EVIAN 50CL</td>\n",
       "    </tr>\n",
       "    <tr>\n",
       "      <th>7</th>\n",
       "      <td>157573</td>\n",
       "      <td>promo_exclusive_products</td>\n",
       "      <td>3068320110783</td>\n",
       "      <td>F</td>\n",
       "      <td>50-65</td>\n",
       "      <td>06</td>\n",
       "      <td>EVIAN 50CL</td>\n",
       "    </tr>\n",
       "    <tr>\n",
       "      <th>8</th>\n",
       "      <td>157573</td>\n",
       "      <td>promo_exclusive_products</td>\n",
       "      <td>3068320110783</td>\n",
       "      <td>F</td>\n",
       "      <td>50-65</td>\n",
       "      <td>06</td>\n",
       "      <td>EVIAN 50CL</td>\n",
       "    </tr>\n",
       "    <tr>\n",
       "      <th>9</th>\n",
       "      <td>157573</td>\n",
       "      <td>promo_exclusive_products</td>\n",
       "      <td>3068320110783</td>\n",
       "      <td>F</td>\n",
       "      <td>50-65</td>\n",
       "      <td>06</td>\n",
       "      <td>EVIAN 50CL</td>\n",
       "    </tr>\n",
       "  </tbody>\n",
       "</table>\n",
       "</div>"
      ],
      "text/plain": [
       "   CUST_ID                query_type     ARTICLE_ID SEX    AGE DEPARTEMENT  \\\n",
       "0   157573  promo_exclusive_products  3068320110783   F  50-65          06   \n",
       "1   157573  promo_exclusive_products  3068320110783   F  50-65          06   \n",
       "2   157573  promo_exclusive_products  3068320110783   F  50-65          06   \n",
       "3   157573  promo_exclusive_products  3068320110783   F  50-65          06   \n",
       "4   157573  promo_exclusive_products  3068320110783   F  50-65          06   \n",
       "5   157573  promo_exclusive_products  3068320110783   F  50-65          06   \n",
       "6   157573  promo_exclusive_products  3068320110783   F  50-65          06   \n",
       "7   157573  promo_exclusive_products  3068320110783   F  50-65          06   \n",
       "8   157573  promo_exclusive_products  3068320110783   F  50-65          06   \n",
       "9   157573  promo_exclusive_products  3068320110783   F  50-65          06   \n",
       "\n",
       "  DESCRIPTION  \n",
       "0  EVIAN 50CL  \n",
       "1  EVIAN 50CL  \n",
       "2  EVIAN 50CL  \n",
       "3  EVIAN 50CL  \n",
       "4  EVIAN 50CL  \n",
       "5  EVIAN 50CL  \n",
       "6  EVIAN 50CL  \n",
       "7  EVIAN 50CL  \n",
       "8  EVIAN 50CL  \n",
       "9  EVIAN 50CL  "
      ]
     },
     "execution_count": 38,
     "metadata": {},
     "output_type": "execute_result"
    }
   ],
   "source": [
    "users= pd.read_csv(\"../../datasets/Total/users.csv\",sep=\";\")\n",
    "items = pd.read_csv(\"../../datasets/Total/items.csv\",index_col=0).drop(\"IDS_LIST\",axis=1)\n",
    "res = []\n",
    "queries_columns = df.columns.tolist()[7:]\n",
    "df.apply(lambda x : extract_user_stats(x,queries_columns),axis=1)\n",
    "stats_df = pd.DataFrame(res,columns=[\"CUST_ID\",\"query_type\",\"ARTICLE_ID\"])\n",
    "stats_df = stats_df.merge(users).merge(items)\n",
    "stats_df.head(10)\n",
    "# stats_df.to_csv(\"stats.csv\")"
   ]
  },
  {
   "cell_type": "code",
   "execution_count": 39,
   "metadata": {},
   "outputs": [
    {
     "data": {
      "text/plain": [
       "Series([], Name: query_type, dtype: int64)"
      ]
     },
     "execution_count": 39,
     "metadata": {},
     "output_type": "execute_result"
    }
   ],
   "source": [
    "stats_df[stats_df.ARTICLE_ID==3439495300031].query_type.value_counts()"
   ]
  },
  {
   "cell_type": "markdown",
   "metadata": {},
   "source": [
    "### By users"
   ]
  },
  {
   "cell_type": "code",
   "execution_count": 40,
   "metadata": {
    "scrolled": false
   },
   "outputs": [
    {
     "data": {
      "image/png": "[encoded data removed]",
      "text/plain": [
       "<Figure size 1080x576 with 1 Axes>"
      ]
     },
     "metadata": {
      "needs_background": "light"
     },
     "output_type": "display_data"
    }
   ],
   "source": [
    "ax = stats_df.groupby([\"SEX\"])[\"query_type\"].value_counts().unstack().plot(kind=\"barh\",figsize=(15,8))\n",
    "_= ax.set_ylabel(\"Counts\")"
   ]
  },
  {
   "cell_type": "code",
   "execution_count": 41,
   "metadata": {},
   "outputs": [
    {
     "data": {
      "image/png": "[encoded data removed]",
      "text/plain": [
       "<Figure size 1080x576 with 1 Axes>"
      ]
     },
     "metadata": {
      "needs_background": "light"
     },
     "output_type": "display_data"
    }
   ],
   "source": [
    "ax = stats_df.groupby([\"SEX\",\"AGE\"])[\"query_type\"].value_counts().unstack().plot(kind=\"barh\",figsize=(15,8))\n",
    "_= ax.set_ylabel(\"Counts\")"
   ]
  },
  {
   "cell_type": "code",
   "execution_count": 42,
   "metadata": {},
   "outputs": [
    {
     "data": {
      "image/png": "[encoded data removed]",
      "text/plain": [
       "<Figure size 1080x576 with 1 Axes>"
      ]
     },
     "metadata": {
      "needs_background": "light"
     },
     "output_type": "display_data"
    }
   ],
   "source": [
    "ax = stats_df.groupby([\"AGE\"])[\"query_type\"].value_counts().unstack().plot(kind=\"barh\",figsize=(15,8))\n",
    "_= ax.set_ylabel(\"Counts\")"
   ]
  },
  {
   "cell_type": "code",
   "execution_count": 43,
   "metadata": {},
   "outputs": [
    {
     "data": {
      "image/png": "[encoded data removed]",
      "text/plain": [
       "<Figure size 1080x576 with 1 Axes>"
      ]
     },
     "metadata": {
      "needs_background": "light"
     },
     "output_type": "display_data"
    }
   ],
   "source": [
    "ax = stats_df.groupby([\"DEPARTEMENT\"])[\"query_type\"].value_counts().unstack().plot(kind=\"barh\",figsize=(15,8))\n",
    "_= ax.set_ylabel(\"Counts\")"
   ]
  },
  {
   "cell_type": "markdown",
   "metadata": {},
   "source": [
    "### By items"
   ]
  },
  {
   "cell_type": "code",
   "execution_count": 44,
   "metadata": {},
   "outputs": [
    {
     "data": {
      "image/png": "[encoded data removed]",
      "text/plain": [
       "<Figure size 1080x576 with 1 Axes>"
      ]
     },
     "metadata": {
      "needs_background": "light"
     },
     "output_type": "display_data"
    }
   ],
   "source": [
    "ax = stats_df.groupby([\"DESCRIPTION\"])[\"query_type\"].value_counts().unstack().plot(kind=\"barh\",figsize=(15,8))\n",
    "_= ax.set_ylabel(\"Counts\")"
   ]
  },
  {
   "cell_type": "markdown",
   "metadata": {},
   "source": [
    "### DRAFT"
   ]
  },
  {
   "cell_type": "code",
   "execution_count": 25,
   "metadata": {},
   "outputs": [
    {
     "data": {
      "text/html": [
       "<div>\n",
       "<style scoped>\n",
       "    .dataframe tbody tr th:only-of-type {\n",
       "        vertical-align: middle;\n",
       "    }\n",
       "\n",
       "    .dataframe tbody tr th {\n",
       "        vertical-align: top;\n",
       "    }\n",
       "\n",
       "    .dataframe thead th {\n",
       "        text-align: right;\n",
       "    }\n",
       "</style>\n",
       "<table border=\"1\" class=\"dataframe\">\n",
       "  <thead>\n",
       "    <tr style=\"text-align: right;\">\n",
       "      <th></th>\n",
       "      <th>user_ids</th>\n",
       "      <th>support</th>\n",
       "      <th>itemsets</th>\n",
       "      <th>period</th>\n",
       "      <th>depth</th>\n",
       "      <th>size</th>\n",
       "      <th>a</th>\n",
       "    </tr>\n",
       "  </thead>\n",
       "  <tbody>\n",
       "    <tr>\n",
       "      <th>543</th>\n",
       "      <td>[135477, 156490, 164382, 179013, 185798, 19841...</td>\n",
       "      <td>58</td>\n",
       "      <td>4120</td>\n",
       "      <td>2018-09-01</td>\n",
       "      <td>0.000000</td>\n",
       "      <td>58</td>\n",
       "      <td>1</td>\n",
       "    </tr>\n",
       "    <tr>\n",
       "      <th>544</th>\n",
       "      <td>[156490, 540071, 548581, 888898, 984812]</td>\n",
       "      <td>5</td>\n",
       "      <td>4120 4160</td>\n",
       "      <td>2018-09-01</td>\n",
       "      <td>0.000000</td>\n",
       "      <td>5</td>\n",
       "      <td>1</td>\n",
       "    </tr>\n",
       "    <tr>\n",
       "      <th>545</th>\n",
       "      <td>[209038, 240151, 350965, 480899, 548581, 84523...</td>\n",
       "      <td>7</td>\n",
       "      <td>4120 3007</td>\n",
       "      <td>2018-09-01</td>\n",
       "      <td>0.000000</td>\n",
       "      <td>7</td>\n",
       "      <td>1</td>\n",
       "    </tr>\n",
       "    <tr>\n",
       "      <th>784</th>\n",
       "      <td>[101105, 124784, 171396, 189197, 199984, 20903...</td>\n",
       "      <td>40</td>\n",
       "      <td>4120</td>\n",
       "      <td>2018-12-01</td>\n",
       "      <td>0.333333</td>\n",
       "      <td>40</td>\n",
       "      <td>1</td>\n",
       "    </tr>\n",
       "    <tr>\n",
       "      <th>1222</th>\n",
       "      <td>[101205, 144221, 157796, 198410, 199984, 20903...</td>\n",
       "      <td>55</td>\n",
       "      <td>4120</td>\n",
       "      <td>2019-02-01</td>\n",
       "      <td>0.666667</td>\n",
       "      <td>55</td>\n",
       "      <td>1</td>\n",
       "    </tr>\n",
       "    <tr>\n",
       "      <th>1526</th>\n",
       "      <td>[144221, 521161, 778698, 1189972, 1233005]</td>\n",
       "      <td>5</td>\n",
       "      <td>1857 4120</td>\n",
       "      <td>2019-02-01</td>\n",
       "      <td>0.666667</td>\n",
       "      <td>5</td>\n",
       "      <td>1</td>\n",
       "    </tr>\n",
       "  </tbody>\n",
       "</table>\n",
       "</div>"
      ],
      "text/plain": [
       "                                               user_ids  support    itemsets  \\\n",
       "543   [135477, 156490, 164382, 179013, 185798, 19841...       58        4120   \n",
       "544            [156490, 540071, 548581, 888898, 984812]        5   4120 4160   \n",
       "545   [209038, 240151, 350965, 480899, 548581, 84523...        7   4120 3007   \n",
       "784   [101105, 124784, 171396, 189197, 199984, 20903...       40        4120   \n",
       "1222  [101205, 144221, 157796, 198410, 199984, 20903...       55        4120   \n",
       "1526         [144221, 521161, 778698, 1189972, 1233005]        5   1857 4120   \n",
       "\n",
       "          period     depth  size  a  \n",
       "543   2018-09-01  0.000000    58  1  \n",
       "544   2018-09-01  0.000000     5  1  \n",
       "545   2018-09-01  0.000000     7  1  \n",
       "784   2018-12-01  0.333333    40  1  \n",
       "1222  2019-02-01  0.666667    55  1  \n",
       "1526  2019-02-01  0.666667     5  1  "
      ]
     },
     "execution_count": 25,
     "metadata": {},
     "output_type": "execute_result"
    }
   ],
   "source": [
    "groups = pd.read_csv(f\"../../plots/groups/{file_name}\",index_col=0)\n",
    "groups.drop([\"itemset_name\",\"property_values\"],axis=1,inplace=True)\n",
    "groups[groups.itemsets.apply(lambda x : \"4120\" in x )]"
   ]
  },
  {
   "cell_type": "code",
   "execution_count": 39,
   "metadata": {},
   "outputs": [
    {
     "data": {
      "text/html": [
       "<div>\n",
       "<style scoped>\n",
       "    .dataframe tbody tr th:only-of-type {\n",
       "        vertical-align: middle;\n",
       "    }\n",
       "\n",
       "    .dataframe tbody tr th {\n",
       "        vertical-align: top;\n",
       "    }\n",
       "\n",
       "    .dataframe thead th {\n",
       "        text-align: right;\n",
       "    }\n",
       "</style>\n",
       "<table border=\"1\" class=\"dataframe\">\n",
       "  <thead>\n",
       "    <tr style=\"text-align: right;\">\n",
       "      <th></th>\n",
       "      <th>CUST_ID</th>\n",
       "      <th>query_type</th>\n",
       "      <th>ARTICLE_ID</th>\n",
       "      <th>SEX</th>\n",
       "      <th>AGE</th>\n",
       "      <th>DEPARTEMENT</th>\n",
       "      <th>DESCRIPTION</th>\n",
       "    </tr>\n",
       "  </thead>\n",
       "  <tbody>\n",
       "    <tr>\n",
       "      <th>8835</th>\n",
       "      <td>209038</td>\n",
       "      <td>loyalty</td>\n",
       "      <td>3425909000796</td>\n",
       "      <td>F</td>\n",
       "      <td>50-65</td>\n",
       "      <td>39</td>\n",
       "      <td>PROPANE 35KG FINAGAZ</td>\n",
       "    </tr>\n",
       "    <tr>\n",
       "      <th>8838</th>\n",
       "      <td>209038</td>\n",
       "      <td>loyalty</td>\n",
       "      <td>3425909000796</td>\n",
       "      <td>F</td>\n",
       "      <td>50-65</td>\n",
       "      <td>39</td>\n",
       "      <td>PROPANE 35KG FINAGAZ</td>\n",
       "    </tr>\n",
       "    <tr>\n",
       "      <th>8859</th>\n",
       "      <td>199984</td>\n",
       "      <td>loyalty</td>\n",
       "      <td>3425909000796</td>\n",
       "      <td>M</td>\n",
       "      <td>50-65</td>\n",
       "      <td>59</td>\n",
       "      <td>PROPANE 35KG FINAGAZ</td>\n",
       "    </tr>\n",
       "    <tr>\n",
       "      <th>9042</th>\n",
       "      <td>478604</td>\n",
       "      <td>loyalty</td>\n",
       "      <td>3425909000796</td>\n",
       "      <td>M</td>\n",
       "      <td>35-49</td>\n",
       "      <td>78</td>\n",
       "      <td>PROPANE 35KG FINAGAZ</td>\n",
       "    </tr>\n",
       "    <tr>\n",
       "      <th>9045</th>\n",
       "      <td>778698</td>\n",
       "      <td>loyalty</td>\n",
       "      <td>3425909000796</td>\n",
       "      <td>M</td>\n",
       "      <td>35-49</td>\n",
       "      <td>62</td>\n",
       "      <td>PROPANE 35KG FINAGAZ</td>\n",
       "    </tr>\n",
       "    <tr>\n",
       "      <th>9050</th>\n",
       "      <td>778698</td>\n",
       "      <td>loyalty</td>\n",
       "      <td>3425909000796</td>\n",
       "      <td>M</td>\n",
       "      <td>35-49</td>\n",
       "      <td>62</td>\n",
       "      <td>PROPANE 35KG FINAGAZ</td>\n",
       "    </tr>\n",
       "    <tr>\n",
       "      <th>9053</th>\n",
       "      <td>1236845</td>\n",
       "      <td>loyalty</td>\n",
       "      <td>3425909000796</td>\n",
       "      <td>M</td>\n",
       "      <td>50-65</td>\n",
       "      <td>62</td>\n",
       "      <td>PROPANE 35KG FINAGAZ</td>\n",
       "    </tr>\n",
       "  </tbody>\n",
       "</table>\n",
       "</div>"
      ],
      "text/plain": [
       "      CUST_ID query_type     ARTICLE_ID SEX    AGE DEPARTEMENT  \\\n",
       "8835   209038    loyalty  3425909000796   F  50-65          39   \n",
       "8838   209038    loyalty  3425909000796   F  50-65          39   \n",
       "8859   199984    loyalty  3425909000796   M  50-65          59   \n",
       "9042   478604    loyalty  3425909000796   M  35-49          78   \n",
       "9045   778698    loyalty  3425909000796   M  35-49          62   \n",
       "9050   778698    loyalty  3425909000796   M  35-49          62   \n",
       "9053  1236845    loyalty  3425909000796   M  50-65          62   \n",
       "\n",
       "               DESCRIPTION  \n",
       "8835  PROPANE 35KG FINAGAZ  \n",
       "8838  PROPANE 35KG FINAGAZ  \n",
       "8859  PROPANE 35KG FINAGAZ  \n",
       "9042  PROPANE 35KG FINAGAZ  \n",
       "9045  PROPANE 35KG FINAGAZ  \n",
       "9050  PROPANE 35KG FINAGAZ  \n",
       "9053  PROPANE 35KG FINAGAZ  "
      ]
     },
     "execution_count": 39,
     "metadata": {},
     "output_type": "execute_result"
    }
   ],
   "source": [
    "stats_df[(stats_df.ARTICLE_ID==3425909000796)&(stats_df.query_type==\"loyalty\")]"
   ]
  },
  {
   "cell_type": "code",
   "execution_count": 32,
   "metadata": {},
   "outputs": [
    {
     "data": {
      "text/plain": [
       "[{209038, 480899}, {778698}, set(), set(), {209038, 480899}, set()]"
      ]
     },
     "execution_count": 32,
     "metadata": {},
     "output_type": "execute_result"
    }
   ],
   "source": [
    "a = []\n",
    "a.append(set.intersection(*[groups.loc[i].user_ids for i in [543,784,545]]))\n",
    "a.append(set.intersection(*[groups.loc[i].user_ids for i in [543,784,1526]]))\n",
    "        \n",
    "a.append(set.intersection(*[groups.loc[i].user_ids for i in [544,784,545]]))\n",
    "a.append(set.intersection(*[groups.loc[i].user_ids for i in [544,784,1526]]))\n",
    "\n",
    "a.append(set.intersection(*[groups.loc[i].user_ids for i in [545,784,545]]))\n",
    "a.append(set.intersection(*[groups.loc[i].user_ids for i in [545,784,1526]]))\n",
    "a"
   ]
  },
  {
   "cell_type": "code",
   "execution_count": 26,
   "metadata": {},
   "outputs": [],
   "source": [
    "from ast import literal_eval\n",
    "groups.user_ids = groups.user_ids.apply(lambda x : set(literal_eval(x)))"
   ]
  },
  {
   "cell_type": "code",
   "execution_count": 41,
   "metadata": {},
   "outputs": [
    {
     "data": {
      "text/plain": [
       "adoption                    88\n",
       "promo_exclusive_products    80\n",
       "loyalty1                    28\n",
       "replacement                 21\n",
       "loyalty2                    15\n",
       "loyalty                      7\n",
       "Name: query_type, dtype: int64"
      ]
     },
     "execution_count": 41,
     "metadata": {},
     "output_type": "execute_result"
    }
   ],
   "source": [
    "stats_df[stats_df.ARTICLE_ID==3425909000796].query_type.value_counts()"
   ]
  },
  {
   "cell_type": "code",
   "execution_count": 32,
   "metadata": {},
   "outputs": [
    {
     "data": {
      "text/html": [
       "<div>\n",
       "<style scoped>\n",
       "    .dataframe tbody tr th:only-of-type {\n",
       "        vertical-align: middle;\n",
       "    }\n",
       "\n",
       "    .dataframe tbody tr th {\n",
       "        vertical-align: top;\n",
       "    }\n",
       "\n",
       "    .dataframe thead th {\n",
       "        text-align: right;\n",
       "    }\n",
       "</style>\n",
       "<table border=\"1\" class=\"dataframe\">\n",
       "  <thead>\n",
       "    <tr style=\"text-align: right;\">\n",
       "      <th></th>\n",
       "      <th>user_id</th>\n",
       "      <th>itemsets_x</th>\n",
       "      <th>period_x</th>\n",
       "      <th>itemsets_y</th>\n",
       "      <th>period_y</th>\n",
       "      <th>itemsets_z</th>\n",
       "      <th>period_z</th>\n",
       "      <th>loyalty1</th>\n",
       "      <th>loyalty2</th>\n",
       "      <th>promo_exclusive_products</th>\n",
       "      <th>replacement</th>\n",
       "      <th>loyalty</th>\n",
       "    </tr>\n",
       "  </thead>\n",
       "  <tbody>\n",
       "    <tr>\n",
       "      <th>0</th>\n",
       "      <td>157573</td>\n",
       "      <td>{3425909000482}</td>\n",
       "      <td>2018-09-01</td>\n",
       "      <td>{3068320110783}</td>\n",
       "      <td>2018-12-01</td>\n",
       "      <td>{3425909001007}</td>\n",
       "      <td>2019-02-01</td>\n",
       "      <td>{}</td>\n",
       "      <td>{}</td>\n",
       "      <td>{3068320110783}</td>\n",
       "      <td>{}</td>\n",
       "      <td>{}</td>\n",
       "    </tr>\n",
       "    <tr>\n",
       "      <th>28</th>\n",
       "      <td>252901</td>\n",
       "      <td>{3425909000482}</td>\n",
       "      <td>2018-09-01</td>\n",
       "      <td>{3068320110783}</td>\n",
       "      <td>2018-12-01</td>\n",
       "      <td>{3425909001007}</td>\n",
       "      <td>2019-02-01</td>\n",
       "      <td>{}</td>\n",
       "      <td>{}</td>\n",
       "      <td>{3068320110783}</td>\n",
       "      <td>{}</td>\n",
       "      <td>{}</td>\n",
       "    </tr>\n",
       "    <tr>\n",
       "      <th>1854</th>\n",
       "      <td>1068315</td>\n",
       "      <td>{3425909000482}</td>\n",
       "      <td>2018-09-01</td>\n",
       "      <td>{3068320110783}</td>\n",
       "      <td>2018-12-01</td>\n",
       "      <td>{3425909001007}</td>\n",
       "      <td>2019-02-01</td>\n",
       "      <td>{}</td>\n",
       "      <td>{}</td>\n",
       "      <td>{3068320110783}</td>\n",
       "      <td>{}</td>\n",
       "      <td>{}</td>\n",
       "    </tr>\n",
       "    <tr>\n",
       "      <th>3</th>\n",
       "      <td>157573</td>\n",
       "      <td>{3425909000482}</td>\n",
       "      <td>2018-09-01</td>\n",
       "      <td>{3068320110783}</td>\n",
       "      <td>2018-12-01</td>\n",
       "      <td>{3425909001007}</td>\n",
       "      <td>2019-02-01</td>\n",
       "      <td>NaN</td>\n",
       "      <td>NaN</td>\n",
       "      <td>{3068320110783}</td>\n",
       "      <td>{}</td>\n",
       "      <td>{}</td>\n",
       "    </tr>\n",
       "    <tr>\n",
       "      <th>34</th>\n",
       "      <td>252901</td>\n",
       "      <td>{3425909000482}</td>\n",
       "      <td>2018-09-01</td>\n",
       "      <td>{3068320110783}</td>\n",
       "      <td>2018-12-01</td>\n",
       "      <td>{3425909001007}</td>\n",
       "      <td>2019-02-01</td>\n",
       "      <td>NaN</td>\n",
       "      <td>NaN</td>\n",
       "      <td>{3068320110783}</td>\n",
       "      <td>{}</td>\n",
       "      <td>{}</td>\n",
       "    </tr>\n",
       "    <tr>\n",
       "      <th>...</th>\n",
       "      <td>...</td>\n",
       "      <td>...</td>\n",
       "      <td>...</td>\n",
       "      <td>...</td>\n",
       "      <td>...</td>\n",
       "      <td>...</td>\n",
       "      <td>...</td>\n",
       "      <td>...</td>\n",
       "      <td>...</td>\n",
       "      <td>...</td>\n",
       "      <td>...</td>\n",
       "      <td>...</td>\n",
       "    </tr>\n",
       "    <tr>\n",
       "      <th>57148</th>\n",
       "      <td>230856</td>\n",
       "      <td>{3161716090116}</td>\n",
       "      <td>2018-09-01</td>\n",
       "      <td>{3425901028170}</td>\n",
       "      <td>2018-12-01</td>\n",
       "      <td>{22131296}</td>\n",
       "      <td>2019-02-01</td>\n",
       "      <td>NaN</td>\n",
       "      <td>NaN</td>\n",
       "      <td>{3425901028170}</td>\n",
       "      <td>{}</td>\n",
       "      <td>{}</td>\n",
       "    </tr>\n",
       "    <tr>\n",
       "      <th>57157</th>\n",
       "      <td>230856</td>\n",
       "      <td>{3367651001884}</td>\n",
       "      <td>2018-09-01</td>\n",
       "      <td>{3425901028170}</td>\n",
       "      <td>2018-12-01</td>\n",
       "      <td>{22131296}</td>\n",
       "      <td>2019-02-01</td>\n",
       "      <td>NaN</td>\n",
       "      <td>NaN</td>\n",
       "      <td>{3425901028170}</td>\n",
       "      <td>{}</td>\n",
       "      <td>{}</td>\n",
       "    </tr>\n",
       "    <tr>\n",
       "      <th>57166</th>\n",
       "      <td>230856</td>\n",
       "      <td>{3367651001884}</td>\n",
       "      <td>2018-09-01</td>\n",
       "      <td>{3425901028170}</td>\n",
       "      <td>2018-12-01</td>\n",
       "      <td>{22131296}</td>\n",
       "      <td>2019-02-01</td>\n",
       "      <td>NaN</td>\n",
       "      <td>NaN</td>\n",
       "      <td>{3425901028170}</td>\n",
       "      <td>{}</td>\n",
       "      <td>{}</td>\n",
       "    </tr>\n",
       "    <tr>\n",
       "      <th>57175</th>\n",
       "      <td>230856</td>\n",
       "      <td>{3161716090116}</td>\n",
       "      <td>2018-09-01</td>\n",
       "      <td>{3425901028170}</td>\n",
       "      <td>2018-12-01</td>\n",
       "      <td>{22131296}</td>\n",
       "      <td>2019-02-01</td>\n",
       "      <td>NaN</td>\n",
       "      <td>NaN</td>\n",
       "      <td>{3425901028170}</td>\n",
       "      <td>{}</td>\n",
       "      <td>{}</td>\n",
       "    </tr>\n",
       "    <tr>\n",
       "      <th>57193</th>\n",
       "      <td>230856</td>\n",
       "      <td>{3017760038409}</td>\n",
       "      <td>2018-09-01</td>\n",
       "      <td>{3425901028170}</td>\n",
       "      <td>2018-12-01</td>\n",
       "      <td>{22131296}</td>\n",
       "      <td>2019-02-01</td>\n",
       "      <td>NaN</td>\n",
       "      <td>NaN</td>\n",
       "      <td>{3425901028170}</td>\n",
       "      <td>{}</td>\n",
       "      <td>{}</td>\n",
       "    </tr>\n",
       "  </tbody>\n",
       "</table>\n",
       "<p>57546 rows × 12 columns</p>\n",
       "</div>"
      ],
      "text/plain": [
       "       user_id       itemsets_x    period_x       itemsets_y    period_y  \\\n",
       "0       157573  {3425909000482}  2018-09-01  {3068320110783}  2018-12-01   \n",
       "28      252901  {3425909000482}  2018-09-01  {3068320110783}  2018-12-01   \n",
       "1854   1068315  {3425909000482}  2018-09-01  {3068320110783}  2018-12-01   \n",
       "3       157573  {3425909000482}  2018-09-01  {3068320110783}  2018-12-01   \n",
       "34      252901  {3425909000482}  2018-09-01  {3068320110783}  2018-12-01   \n",
       "...        ...              ...         ...              ...         ...   \n",
       "57148   230856  {3161716090116}  2018-09-01  {3425901028170}  2018-12-01   \n",
       "57157   230856  {3367651001884}  2018-09-01  {3425901028170}  2018-12-01   \n",
       "57166   230856  {3367651001884}  2018-09-01  {3425901028170}  2018-12-01   \n",
       "57175   230856  {3161716090116}  2018-09-01  {3425901028170}  2018-12-01   \n",
       "57193   230856  {3017760038409}  2018-09-01  {3425901028170}  2018-12-01   \n",
       "\n",
       "            itemsets_z    period_z loyalty1 loyalty2 promo_exclusive_products  \\\n",
       "0      {3425909001007}  2019-02-01       {}       {}          {3068320110783}   \n",
       "28     {3425909001007}  2019-02-01       {}       {}          {3068320110783}   \n",
       "1854   {3425909001007}  2019-02-01       {}       {}          {3068320110783}   \n",
       "3      {3425909001007}  2019-02-01      NaN      NaN          {3068320110783}   \n",
       "34     {3425909001007}  2019-02-01      NaN      NaN          {3068320110783}   \n",
       "...                ...         ...      ...      ...                      ...   \n",
       "57148       {22131296}  2019-02-01      NaN      NaN          {3425901028170}   \n",
       "57157       {22131296}  2019-02-01      NaN      NaN          {3425901028170}   \n",
       "57166       {22131296}  2019-02-01      NaN      NaN          {3425901028170}   \n",
       "57175       {22131296}  2019-02-01      NaN      NaN          {3425901028170}   \n",
       "57193       {22131296}  2019-02-01      NaN      NaN          {3425901028170}   \n",
       "\n",
       "      replacement loyalty  \n",
       "0              {}      {}  \n",
       "28             {}      {}  \n",
       "1854           {}      {}  \n",
       "3              {}      {}  \n",
       "34             {}      {}  \n",
       "...           ...     ...  \n",
       "57148          {}      {}  \n",
       "57157          {}      {}  \n",
       "57166          {}      {}  \n",
       "57175          {}      {}  \n",
       "57193          {}      {}  \n",
       "\n",
       "[57546 rows x 12 columns]"
      ]
     },
     "execution_count": 32,
     "metadata": {},
     "output_type": "execute_result"
    }
   ],
   "source": [
    "df"
   ]
  }
 ],
 "metadata": {
  "kernelspec": {
   "display_name": "Python 3",
   "language": "python",
   "name": "python3"
  },
  "language_info": {
   "codemirror_mode": {
    "name": "ipython",
    "version": 3
   },
   "file_extension": ".py",
   "mimetype": "text/x-python",
   "name": "python",
   "nbconvert_exporter": "python",
   "pygments_lexer": "ipython3",
   "version": "3.7.5"
  }
 },
 "nbformat": 4,
 "nbformat_minor": 4
}
