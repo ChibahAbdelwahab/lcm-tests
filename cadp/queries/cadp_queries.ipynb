{
 "cells": [
  {
   "cell_type": "markdown",
   "metadata": {},
   "source": [
    "# CADP tools queries "
   ]
  },
  {
   "cell_type": "markdown",
   "metadata": {},
   "source": [
    "## 1. MCL Queries"
   ]
  },
  {
   "cell_type": "code",
   "execution_count": 5,
   "metadata": {},
   "outputs": [
    {
     "name": "stdout",
     "output_type": "stream",
     "text": [
      "/home/abdelouahab/PFE/lcm-tests/cadp/graph/bcg/9M-5-[1-2001]-[a]-lcm.bcg\n",
      "/home/abdelouahab/PFE/lcm-tests/cadp/graph/bcg/sample.bcg\n"
     ]
    }
   ],
   "source": [
    "a = !ls /home/abdelouahab/PFE/lcm-tests/cadp/graph/bcg/*.bcg\n",
    "e = [print(i) for i in a]"
   ]
  },
  {
   "cell_type": "code",
   "execution_count": 12,
   "metadata": {},
   "outputs": [],
   "source": [
    "# Choose target graph \n",
    "file_name = \"sample.bcg\"\n",
    "file_path = f\"../graph/bcg/{file_name}\""
   ]
  },
  {
   "cell_type": "code",
   "execution_count": 13,
   "metadata": {},
   "outputs": [],
   "source": [
    "%%bash \n",
    "export PATH=$PATH:$CADP/bin.x64:$CADP/com"
   ]
  },
  {
   "cell_type": "code",
   "execution_count": 7,
   "metadata": {},
   "outputs": [],
   "source": [
    "def print_query_content(query_path):\n",
    "    !cat {query_path}"
   ]
  },
  {
   "cell_type": "markdown",
   "metadata": {},
   "source": [
    "### 1.1  Product adoption query"
   ]
  },
  {
   "cell_type": "code",
   "execution_count": 8,
   "metadata": {},
   "outputs": [
    {
     "name": "stdout",
     "output_type": "stream",
     "text": [
      "(* Product Adoption :*)\r\n",
      "\r\n",
      "macro QUERY () =\r\n",
      "     {!\"G\"}.\r\n",
      "     {SELF ?C0:String ?P0:String !\"T0\"}.\r\n",
      "     {?any}*.\r\n",
      "     {SELF ?C1:String ?P1:String !\"T1\" where\r\n",
      "        (diff (string2natset (P1), string2natset (P0)) <> empty)\r\n",
      "     }\r\n",
      "end_macro\r\n",
      "\r\n",
      "macro FINAL_STATE () =\r\n",
      "    [ not { SELF ... } ] false\r\n",
      "end_macro\r\n",
      "\r\n",
      "<\r\n",
      "    (true* . QUERY . true*)+\r\n",
      "> FINAL_STATE\r\n"
     ]
    }
   ],
   "source": [
    "# Query content \n",
    "query_name = \"product_adoption.mcl\"\n",
    "query_path = f\"../queries/mcl/{query_name}\"\n",
    "print_query_content(query_path)"
   ]
  },
  {
   "cell_type": "code",
   "execution_count": 10,
   "metadata": {},
   "outputs": [
    {
     "name": "stdout",
     "output_type": "stream",
     "text": [
      "bcg_open: using ``/home/abdelouahab/cadp//bin.x64/evaluator4.a''\n",
      "bcg_open: running ``evaluator4 -diag ../queries/mcl/product_adoption.mcl'' for ``../graph/bcg/sample.bcg''\n",
      "\n",
      "TRUE\n",
      "*** diagnostic sequence found at depth 5\n",
      "\n",
      "\u0001<initial state>\u0002\n",
      "\"G\"\n",
      "\"SELF !:1:2:3:4:5:6: !:1:3:4: !T0\"\n",
      "\"G\"\n",
      "\"SELF !:1:2:3:4:5:6:9: !:1:3:15 !T1\"\n",
      "\"ST\"\n",
      "\u0001<goal state>\u0002\n"
     ]
    },
    {
     "name": "stderr",
     "output_type": "stream",
     "text": [
      "/tmp/caesar_19855_1.c: In function 'caesar_iterate_boolean_variable_0':\n",
      "/tmp/caesar_19855_1.c:368:12: warning: variable 'caesar_x_variable_0' set but not used [-Wunused-but-set-variable]\n",
      "  368 | ADT_STRING caesar_x_variable_0 = NULL;\n",
      "      |            ^~~~~~~~~~~~~~~~~~~\n",
      "/tmp/caesar_19855_1.c:465:12: warning: variable 'caesar_x_variable_2' set but not used [-Wunused-but-set-variable]\n",
      "  465 | ADT_STRING caesar_x_variable_2 = NULL;\n",
      "      |            ^~~~~~~~~~~~~~~~~~~\n"
     ]
    }
   ],
   "source": [
    "%%bash -s $file_path $query_path\n",
    "\n",
    "$CADP/com/bcg_open $1 evaluator4 -diag $2"
   ]
  },
  {
   "cell_type": "markdown",
   "metadata": {},
   "source": [
    "###  1.2 Product Loyalty query "
   ]
  },
  {
   "cell_type": "code",
   "execution_count": 104,
   "metadata": {},
   "outputs": [
    {
     "name": "stdout",
     "output_type": "stream",
     "text": [
      "(* Product Loyalty :*)\r\n",
      "\r\n",
      "macro QUERY () =\r\n",
      "     {!\"G\"}.\r\n",
      "     {SELF ?C0:String ?P0:String !\"T0\"}.\r\n",
      "     {?any}*.\r\n",
      "     {SELF ?C1:String ?P1:String !\"T1\" where\r\n",
      "        (inter (string2natset (P1), string2natset (P0)) <> empty)\r\n",
      "     }\r\n",
      "end_macro\r\n",
      "\r\n",
      "macro FINAL_STATE () =\r\n",
      "    [ not { SELF ... } ] false\r\n",
      "end_macro\r\n",
      "\r\n",
      "<\r\n",
      "    (true* . QUERY . true*)+\r\n",
      "> FINAL_STATE\r\n"
     ]
    }
   ],
   "source": [
    "query_path = \"../queries/mcl/product_loyalty.mcl\"\n",
    "print_query_content(query_path)"
   ]
  },
  {
   "cell_type": "code",
   "execution_count": 105,
   "metadata": {},
   "outputs": [
    {
     "name": "stdout",
     "output_type": "stream",
     "text": [
      "bcg_open: using ``/home/abdelouahab/cadp//bin.x64/evaluator4.a''\n",
      "bcg_open: running ``evaluator4 -diag ../queries/mcl/product_loyalty.mcl'' for ``../graph/bcg/sample.bcg''\n",
      "\n",
      "TRUE\n",
      "*** diagnostic sequence found at depth 5\n",
      "\n",
      "\u0001<initial state>\u0002\n",
      "\"G\"\n",
      "\"SELF !:1:2:3:4:5:6: !:1:3:4: !T0\"\n",
      "\"G\"\n",
      "\"SELF !:1:2:3:4:5:6:9: !:1:3:15 !T1\"\n",
      "\"ST\"\n",
      "\u0001<goal state>\u0002\n"
     ]
    },
    {
     "name": "stderr",
     "output_type": "stream",
     "text": [
      "/tmp/caesar_21249_1.c: In function 'caesar_iterate_boolean_variable_0':\n",
      "/tmp/caesar_21249_1.c:368:12: warning: variable 'caesar_x_variable_0' set but not used [-Wunused-but-set-variable]\n",
      "  368 | ADT_STRING caesar_x_variable_0 = NULL;\n",
      "      |            ^~~~~~~~~~~~~~~~~~~\n",
      "/tmp/caesar_21249_1.c:465:12: warning: variable 'caesar_x_variable_2' set but not used [-Wunused-but-set-variable]\n",
      "  465 | ADT_STRING caesar_x_variable_2 = NULL;\n",
      "      |            ^~~~~~~~~~~~~~~~~~~\n"
     ]
    }
   ],
   "source": [
    "%%bash -s $file_path $query_path\n",
    "$CADP/com/bcg_open $1 evaluator4 -diag $2"
   ]
  },
  {
   "cell_type": "markdown",
   "metadata": {},
   "source": [
    "### 1.3 Promotion only"
   ]
  },
  {
   "cell_type": "code",
   "execution_count": 113,
   "metadata": {},
   "outputs": [
    {
     "name": "stdout",
     "output_type": "stream",
     "text": [
      "(* Promotion only  :*)\r\n",
      "\r\n",
      "macro QUERY () =\r\n",
      "     {!\"G\"}.\r\n",
      "     {SELF ?C0:String ?P0:String !\"T0\"}.\r\n",
      "     {?any}*.\r\n",
      "     {SELF ?C1:String ?P1:String !\"T1\"}.\r\n",
      "     {?any}*.\r\n",
      "     {SELF ?C2:String ?P2:String !\"T2\" where\r\n",
      "             (diff (string2natset (P2), union(string2natset (P0),string2natset (P1))) <> empty)\r\n",
      "     }\r\n",
      "end_macro\r\n",
      "\r\n",
      "macro FINAL_STATE () =\r\n",
      "    [ not { SELF ... } ] false\r\n",
      "end_macro\r\n",
      "\r\n",
      "<\r\n",
      "    (true* . QUERY . true*)+\r\n",
      "> FINAL_STATE\r\n"
     ]
    }
   ],
   "source": [
    "query_path = \"../queries/mcl/promotion_only.mcl\"\n",
    "print_query_content(query_path)"
   ]
  },
  {
   "cell_type": "code",
   "execution_count": 14,
   "metadata": {},
   "outputs": [
    {
     "name": "stdout",
     "output_type": "stream",
     "text": [
      "bcg_open: using ``/home/abdelouahab/cadp//bin.x64/evaluator4.a''\n",
      "bcg_open: running ``evaluator4 -diag ../queries/mcl/product_adoption.mcl'' for ``../graph/bcg/sample.bcg''\n",
      "\n",
      "TRUE\n",
      "*** diagnostic sequence found at depth 5\n",
      "\n",
      "\u0001<initial state>\u0002\n",
      "\"G\"\n",
      "\"SELF !:1:2:3:4:5:6: !:1:3:4: !T0\"\n",
      "\"G\"\n",
      "\"SELF !:1:2:3:4:5:6:9: !:1:3:15 !T1\"\n",
      "\"ST\"\n",
      "\u0001<goal state>\u0002\n"
     ]
    },
    {
     "name": "stderr",
     "output_type": "stream",
     "text": [
      "/tmp/caesar_21852_1.c: In function 'caesar_iterate_boolean_variable_0':\n",
      "/tmp/caesar_21852_1.c:368:12: warning: variable 'caesar_x_variable_0' set but not used [-Wunused-but-set-variable]\n",
      "  368 | ADT_STRING caesar_x_variable_0 = NULL;\n",
      "      |            ^~~~~~~~~~~~~~~~~~~\n",
      "/tmp/caesar_21852_1.c:465:12: warning: variable 'caesar_x_variable_2' set but not used [-Wunused-but-set-variable]\n",
      "  465 | ADT_STRING caesar_x_variable_2 = NULL;\n",
      "      |            ^~~~~~~~~~~~~~~~~~~\n"
     ]
    }
   ],
   "source": [
    "%%bash -s $file_path $query_path\n",
    "$CADP/com/bcg_open $1 evaluator4 -diag $2"
   ]
  },
  {
   "cell_type": "markdown",
   "metadata": {},
   "source": [
    "## 2. SVL queries"
   ]
  },
  {
   "cell_type": "code",
   "execution_count": null,
   "metadata": {},
   "outputs": [],
   "source": [
    "# Choose target graph \n",
    "file_name = \"sample.bcg\"\n",
    "file_path = f\"../graph/bcg/{file_name}\""
   ]
  },
  {
   "cell_type": "code",
   "execution_count": 16,
   "metadata": {},
   "outputs": [],
   "source": [
    "before_promo_period = \"2018-09-01\"\n",
    "promo_period =\"2018-12-01\"\n",
    "after_promo_period = \":2019-02-01\""
   ]
  },
  {
   "cell_type": "markdown",
   "metadata": {},
   "source": [
    "### 2.1 Adoption query"
   ]
  },
  {
   "cell_type": "code",
   "execution_count": 66,
   "metadata": {},
   "outputs": [],
   "source": [
    "query_name = \"product_adoption.svl\"\n",
    "query_path = f\"../queries/svl/{query_name}\"\n",
    "file_path = f'../graph/bcg/9M-5-[1-2001]-[a]-lcm'"
   ]
  },
  {
   "cell_type": "code",
   "execution_count": 67,
   "metadata": {},
   "outputs": [
    {
     "name": "stdout",
     "output_type": "stream",
     "text": [
      "\n",
      "property PRODUCT_ADOPTION\n",
      " | Product adoption\n",
      "\n",
      "TRUE\n",
      "\n",
      "[Customers] [Promotional products] Period\n",
      "\n",
      "[211249] [7461024] :2018-12-01\n",
      "[264552] [3461025] :2018-12-01\n",
      "[277744] [3461025] :2018-12-01\n",
      "[322520, 526900] [3461025] :2018-12-01\n",
      "[322520, 575459] [3461025] :2018-12-01\n",
      "[336921, 575459] [3461025] :2018-12-01\n",
      "[400827, 526900, 575459] [3461025] :2018-12-01\n",
      "[400827, 575459, 1044697] [3461025] :2018-12-01\n",
      "[400827, 575459] [3461025] :2018-12-01\n",
      "[526900, 575459] [3461025] :2018-12-01\n",
      "[526900] [3461025] :2018-12-01\n",
      "[575459, 1044697] [3461025] :2018-12-01\n",
      "[575459, 819320] [3461025] :2018-12-01\n",
      "[575459] [3461025] :2018-12-01\n",
      "[575459] [7461024] :2018-12-01\n",
      "[819320] [3461025] :2018-12-01\n",
      "\n"
     ]
    }
   ],
   "source": [
    "%%bash -s $file_path\n",
    "export PATH=$PATH:$CADP/bin.x64:$CADP/com\n",
    "$CADP/com/svl product_adoption.svl $1 \":3461025:7461024:\" \":2018-09-01\" \":2018-12-01\" \":2019-02-01\""
   ]
  },
  {
   "cell_type": "markdown",
   "metadata": {},
   "source": [
    "###  2.2 Loyalty query "
   ]
  },
  {
   "cell_type": "code",
   "execution_count": 88,
   "metadata": {},
   "outputs": [
    {
     "name": "stdout",
     "output_type": "stream",
     "text": [
      "\n",
      "property product_loyalty\n",
      "\n",
      "TRUE\n",
      "\n",
      "[Customers] [Promotional products] Period\n",
      "\n",
      "[1044697] [3461025] :2018-12-01\n",
      "[211249] [7461024] :2018-12-01\n",
      "[575459, 1044697, 1163180] [3461025] :2018-12-01\n",
      "[575459] [3461025] :2018-12-01\n",
      "\n"
     ]
    }
   ],
   "source": [
    "%%bash -s $file_path\n",
    "export PATH=$PATH:$CADP/bin.x64:$CADP/com\n",
    "$CADP/com/svl product_loyalty.svl $1 \":3461025:7461024:\" \":2018-12-01\" \":2019-02-01\""
   ]
  },
  {
   "cell_type": "markdown",
   "metadata": {},
   "source": [
    "### 2.3 Pomotion only query"
   ]
  },
  {
   "cell_type": "code",
   "execution_count": 108,
   "metadata": {},
   "outputs": [
    {
     "name": "stdout",
     "output_type": "stream",
     "text": [
      "\n",
      "property promotion_only\n",
      "\n",
      "TRUE\n",
      "\n",
      "[Customers] [Promotional products] Period\n",
      "\n",
      "\n"
     ]
    }
   ],
   "source": [
    "%%bash -s $file_path\n",
    "export PATH=$PATH:$CADP/bin.x64:$CADP/com\n",
    "$CADP/com/svl promotion_only.svl $1 \":2018-09-01\" \":2018-12-01\" \":2019-02-01\""
   ]
  },
  {
   "cell_type": "code",
   "execution_count": 109,
   "metadata": {},
   "outputs": [],
   "source": [
    "!gedit promotion_only.svl\n"
   ]
  },
  {
   "cell_type": "code",
   "execution_count": null,
   "metadata": {},
   "outputs": [],
   "source": []
  }
 ],
 "metadata": {
  "kernelspec": {
   "display_name": "Python 3",
   "language": "python",
   "name": "python3"
  },
  "language_info": {
   "codemirror_mode": {
    "name": "ipython",
    "version": 3
   },
   "file_extension": ".py",
   "mimetype": "text/x-python",
   "name": "python",
   "nbconvert_exporter": "python",
   "pygments_lexer": "ipython3",
   "version": "3.7.5"
  }
 },
 "nbformat": 4,
 "nbformat_minor": 4
}
