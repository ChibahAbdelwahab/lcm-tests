{
 "cells": [
  {
   "cell_type": "markdown",
   "metadata": {},
   "source": [
    "# CADP tools queries "
   ]
  },
  {
   "cell_type": "markdown",
   "metadata": {},
   "source": [
    "## 2. SVL queries"
   ]
  },
  {
   "cell_type": "code",
   "execution_count": 31,
   "metadata": {},
   "outputs": [],
   "source": [
    "import pandas as pd\n",
    "import numpy as np \n"
   ]
  },
  {
   "cell_type": "code",
   "execution_count": 22,
   "metadata": {},
   "outputs": [],
   "source": [
    "file_name = \"9M-5-[1-2001]-[a]-lcm.bcg\"\n",
    "file_path = f\"../graph/bcg/{file_name}\""
   ]
  },
  {
   "cell_type": "code",
   "execution_count": 23,
   "metadata": {},
   "outputs": [],
   "source": [
    "before_promo_period = \"2018-09-01\"\n",
    "promo_period =\"2018-12-01\"\n",
    "after_promo_period = \":2019-02-01\""
   ]
  },
  {
   "cell_type": "code",
   "execution_count": 48,
   "metadata": {},
   "outputs": [],
   "source": [
    "from sklearn.preprocessing import LabelEncoder\n",
    "encoder = LabelEncoder()\n",
    "encoder.classes_ = np.load(f'../../plots/encoders/{file_name.replace(\"bcg\",\"out\")}.npy')\n",
    "promo_products = pd.read_csv(\"../../datasets/Total/promo_products.csv\")\n",
    "promo_products = promo_products[promo_products.ARTICLE_ID.isin(encoder.classes_)]\n",
    "promo_products.ARTICLE_ID.apply(lambda x : encoder.transform([x]))\n",
    "promo_products = f':{\":\".join(promo_products.ARTICLE_ID.astype(str).unique())}:'"
   ]
  },
  {
   "cell_type": "markdown",
   "metadata": {},
   "source": [
    "### 2.1 Adoption query"
   ]
  },
  {
   "cell_type": "code",
   "execution_count": 27,
   "metadata": {},
   "outputs": [],
   "source": [
    "query_name = \"product_adoption.svl\"\n",
    "query_path = f\"../queries/svl/{query_name}\"\n",
    "file_path = f'../graph/bcg/9M-5-[1-2001]-[a]-lcm'"
   ]
  },
  {
   "cell_type": "code",
   "execution_count": 49,
   "metadata": {},
   "outputs": [
    {
     "name": "stdout",
     "output_type": "stream",
     "text": [
      "\n",
      "property PRODUCT_ADOPTION\n",
      " | Product adoption\n",
      "\n",
      "\n",
      "[Customers] [Promotional products] Period\n",
      "\n",
      "[124784, 521161, 1236845] [2812083228] :2018-12-01\n",
      "[191426] [2812093258] :2018-12-01\n",
      "[199984, 450658] [2812083228] :2018-12-01\n",
      "[199984] [2812083228] :2018-12-01\n",
      "[230856] [2812093258] :2018-12-01\n",
      "[324441] [2812083228] :2018-12-01\n",
      "[450658] [2812083228] :2018-12-01\n",
      "[592510, 1160772] [2812083228] :2018-12-01\n",
      "[592510] [2812083228] :2018-12-01\n",
      "[596052, 1072489] [2812083808] :2018-12-01\n",
      "[596052] [2812083808] :2018-12-01\n",
      "\n"
     ]
    }
   ],
   "source": [
    "%%bash -s $file_path $promo_products\n",
    "export PATH=$PATH:$CADP/bin.x64:$CADP/com\n",
    "$CADP/com/svl product_adoption.svl $1 $2 \":2018-09-01\" \":2018-12-01\" \":2019-02-01\""
   ]
  },
  {
   "cell_type": "markdown",
   "metadata": {},
   "source": [
    "###  2.2 Loyalty query "
   ]
  },
  {
   "cell_type": "code",
   "execution_count": 88,
   "metadata": {},
   "outputs": [
    {
     "name": "stdout",
     "output_type": "stream",
     "text": [
      "\n",
      "property product_loyalty\n",
      "\n",
      "TRUE\n",
      "\n",
      "[Customers] [Promotional products] Period\n",
      "\n",
      "[1044697] [3461025] :2018-12-01\n",
      "[211249] [7461024] :2018-12-01\n",
      "[575459, 1044697, 1163180] [3461025] :2018-12-01\n",
      "[575459] [3461025] :2018-12-01\n",
      "\n"
     ]
    }
   ],
   "source": [
    "%%bash -s $file_path\n",
    "export PATH=$PATH:$CADP/bin.x64:$CADP/com\n",
    "$CADP/com/svl product_loyalty.svl $1 \":3461025:7461024:\" \":2018-12-01\" \":2019-02-01\""
   ]
  },
  {
   "cell_type": "markdown",
   "metadata": {},
   "source": [
    "### 2.3 Pomotion only query"
   ]
  },
  {
   "cell_type": "code",
   "execution_count": 108,
   "metadata": {},
   "outputs": [
    {
     "name": "stdout",
     "output_type": "stream",
     "text": [
      "\n",
      "property promotion_only\n",
      "\n",
      "TRUE\n",
      "\n",
      "[Customers] [Promotional products] Period\n",
      "\n",
      "\n"
     ]
    }
   ],
   "source": [
    "%%bash -s $file_path\n",
    "export PATH=$PATH:$CADP/bin.x64:$CADP/com\n",
    "$CADP/com/svl promotion_only.svl $1 \":2018-09-01\" \":2018-12-01\" \":2019-02-01\""
   ]
  },
  {
   "cell_type": "code",
   "execution_count": 109,
   "metadata": {},
   "outputs": [],
   "source": [
    "!gedit promotion_only.svl\n"
   ]
  },
  {
   "cell_type": "code",
   "execution_count": null,
   "metadata": {},
   "outputs": [],
   "source": []
  }
 ],
 "metadata": {
  "kernelspec": {
   "display_name": "Python 3",
   "language": "python",
   "name": "python3"
  },
  "language_info": {
   "codemirror_mode": {
    "name": "ipython",
    "version": 3
   },
   "file_extension": ".py",
   "mimetype": "text/x-python",
   "name": "python",
   "nbconvert_exporter": "python",
   "pygments_lexer": "ipython3",
   "version": "3.7.5"
  }
 },
 "nbformat": 4,
 "nbformat_minor": 4
}
