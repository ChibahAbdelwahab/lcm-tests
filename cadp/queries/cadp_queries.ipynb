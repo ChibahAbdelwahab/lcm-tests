{
 "cells": [
  {
   "cell_type": "markdown",
   "metadata": {},
   "source": [
    "# CADP tools queries "
   ]
  },
  {
   "cell_type": "markdown",
   "metadata": {},
   "source": [
    "## 2. SVL queries"
   ]
  },
  {
   "cell_type": "code",
   "execution_count": 1,
   "metadata": {},
   "outputs": [],
   "source": [
    "# Choose target graph \n",
    "file_name = \"sample.bcg\"\n",
    "file_path = f\"../graph/bcg/{file_name}\""
   ]
  },
  {
   "cell_type": "code",
   "execution_count": 16,
   "metadata": {},
   "outputs": [],
   "source": [
    "before_promo_period = \"2018-09-01\"\n",
    "promo_period =\"2018-12-01\"\n",
    "after_promo_period = \":2019-02-01\""
   ]
  },
  {
   "cell_type": "markdown",
   "metadata": {},
   "source": [
    "### 2.1 Adoption query"
   ]
  },
  {
   "cell_type": "code",
   "execution_count": 66,
   "metadata": {},
   "outputs": [],
   "source": [
    "query_name = \"product_adoption.svl\"\n",
    "query_path = f\"../queries/svl/{query_name}\"\n",
    "file_path = f'../graph/bcg/9M-5-[1-2001]-[a]-lcm'"
   ]
  },
  {
   "cell_type": "code",
   "execution_count": 67,
   "metadata": {},
   "outputs": [
    {
     "name": "stdout",
     "output_type": "stream",
     "text": [
      "\n",
      "property PRODUCT_ADOPTION\n",
      " | Product adoption\n",
      "\n",
      "TRUE\n",
      "\n",
      "[Customers] [Promotional products] Period\n",
      "\n",
      "[211249] [7461024] :2018-12-01\n",
      "[264552] [3461025] :2018-12-01\n",
      "[277744] [3461025] :2018-12-01\n",
      "[322520, 526900] [3461025] :2018-12-01\n",
      "[322520, 575459] [3461025] :2018-12-01\n",
      "[336921, 575459] [3461025] :2018-12-01\n",
      "[400827, 526900, 575459] [3461025] :2018-12-01\n",
      "[400827, 575459, 1044697] [3461025] :2018-12-01\n",
      "[400827, 575459] [3461025] :2018-12-01\n",
      "[526900, 575459] [3461025] :2018-12-01\n",
      "[526900] [3461025] :2018-12-01\n",
      "[575459, 1044697] [3461025] :2018-12-01\n",
      "[575459, 819320] [3461025] :2018-12-01\n",
      "[575459] [3461025] :2018-12-01\n",
      "[575459] [7461024] :2018-12-01\n",
      "[819320] [3461025] :2018-12-01\n",
      "\n"
     ]
    }
   ],
   "source": [
    "%%bash -s $file_path\n",
    "export PATH=$PATH:$CADP/bin.x64:$CADP/com\n",
    "$CADP/com/svl product_adoption.svl $1 \":3461025:7461024:\" \":2018-09-01\" \":2018-12-01\" \":2019-02-01\""
   ]
  },
  {
   "cell_type": "markdown",
   "metadata": {},
   "source": [
    "###  2.2 Loyalty query "
   ]
  },
  {
   "cell_type": "code",
   "execution_count": 88,
   "metadata": {},
   "outputs": [
    {
     "name": "stdout",
     "output_type": "stream",
     "text": [
      "\n",
      "property product_loyalty\n",
      "\n",
      "TRUE\n",
      "\n",
      "[Customers] [Promotional products] Period\n",
      "\n",
      "[1044697] [3461025] :2018-12-01\n",
      "[211249] [7461024] :2018-12-01\n",
      "[575459, 1044697, 1163180] [3461025] :2018-12-01\n",
      "[575459] [3461025] :2018-12-01\n",
      "\n"
     ]
    }
   ],
   "source": [
    "%%bash -s $file_path\n",
    "export PATH=$PATH:$CADP/bin.x64:$CADP/com\n",
    "$CADP/com/svl product_loyalty.svl $1 \":3461025:7461024:\" \":2018-12-01\" \":2019-02-01\""
   ]
  },
  {
   "cell_type": "markdown",
   "metadata": {},
   "source": [
    "### 2.3 Pomotion only query"
   ]
  },
  {
   "cell_type": "code",
   "execution_count": 108,
   "metadata": {},
   "outputs": [
    {
     "name": "stdout",
     "output_type": "stream",
     "text": [
      "\n",
      "property promotion_only\n",
      "\n",
      "TRUE\n",
      "\n",
      "[Customers] [Promotional products] Period\n",
      "\n",
      "\n"
     ]
    }
   ],
   "source": [
    "%%bash -s $file_path\n",
    "export PATH=$PATH:$CADP/bin.x64:$CADP/com\n",
    "$CADP/com/svl promotion_only.svl $1 \":2018-09-01\" \":2018-12-01\" \":2019-02-01\""
   ]
  },
  {
   "cell_type": "code",
   "execution_count": 109,
   "metadata": {},
   "outputs": [],
   "source": [
    "!gedit promotion_only.svl\n"
   ]
  },
  {
   "cell_type": "code",
   "execution_count": null,
   "metadata": {},
   "outputs": [],
   "source": []
  }
 ],
 "metadata": {
  "kernelspec": {
   "display_name": "Python 3",
   "language": "python",
   "name": "python3"
  },
  "language_info": {
   "codemirror_mode": {
    "name": "ipython",
    "version": 3
   },
   "file_extension": ".py",
   "mimetype": "text/x-python",
   "name": "python",
   "nbconvert_exporter": "python",
   "pygments_lexer": "ipython3",
   "version": "3.8.0"
  }
 },
 "nbformat": 4,
 "nbformat_minor": 4
}
