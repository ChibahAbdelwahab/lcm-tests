{
 "cells": [
  {
   "cell_type": "markdown",
   "metadata": {},
   "source": [
    "# CADP tools queries "
   ]
  },
  {
   "cell_type": "code",
   "execution_count": 109,
   "metadata": {},
   "outputs": [
    {
     "name": "stdout",
     "output_type": "stream",
     "text": [
      "/home/abdelouahab/PFE/lcm-tests/cadp/graph/bcg/9M-5-[1-2001]-[a]-lcm.bcg\n",
      "/home/abdelouahab/PFE/lcm-tests/cadp/graph/bcg/sample.bcg\n"
     ]
    }
   ],
   "source": [
    "# Choose file \n",
    "a = !ls /home/abdelouahab/PFE/lcm-tests/cadp/graph/bcg/*.bcg\n",
    "e = [print(i) for i in a]"
   ]
  },
  {
   "cell_type": "code",
   "execution_count": 77,
   "metadata": {},
   "outputs": [],
   "source": [
    "file_name = \"sample.bcg\"\n",
    "file_path = f\"../graph/bcg/{file_name}\""
   ]
  },
  {
   "cell_type": "code",
   "execution_count": 106,
   "metadata": {},
   "outputs": [],
   "source": [
    "def print_query_content(query_path):\n",
    "    !cat {query_path}"
   ]
  },
  {
   "cell_type": "markdown",
   "metadata": {},
   "source": [
    "##   Product adoption query"
   ]
  },
  {
   "cell_type": "code",
   "execution_count": 102,
   "metadata": {},
   "outputs": [
    {
     "name": "stdout",
     "output_type": "stream",
     "text": [
      "(* Product Adoption :*)\r\n",
      "\r\n",
      "macro QUERY () =\r\n",
      "     {!\"G\"}.\r\n",
      "     {SELF ?C0:String ?P0:String !\"T0\"}.\r\n",
      "     {?any}*.\r\n",
      "     {SELF ?C1:String ?P1:String !\"T1\" where\r\n",
      "        (diff (string2natset (P1), string2natset (P0)) <> empty)\r\n",
      "     }\r\n",
      "end_macro\r\n",
      "\r\n",
      "macro FINAL_STATE () =\r\n",
      "    [ not { SELF ... } ] false\r\n",
      "end_macro\r\n",
      "\r\n",
      "<\r\n",
      "    (true* . QUERY . true*)+\r\n",
      "> FINAL_STATE\r\n"
     ]
    }
   ],
   "source": [
    "# Query content \n",
    "query_name = \"product_adoption.mcl\"\n",
    "query_path = f\"../queries/mcl/{query_name}\"\n",
    "print_query_content(query_path)"
   ]
  },
  {
   "cell_type": "code",
   "execution_count": 103,
   "metadata": {},
   "outputs": [
    {
     "name": "stdout",
     "output_type": "stream",
     "text": [
      "bcg_open: using ``/home/abdelouahab/cadp//bin.x64/evaluator4.a''\n",
      "bcg_open: running ``evaluator4 -diag ../queries/mcl/product_adoption.mcl'' for ``../graph/bcg/sample.bcg''\n",
      "\n",
      "TRUE\n",
      "*** diagnostic sequence found at depth 5\n",
      "\n",
      "\u0001<initial state>\u0002\n",
      "\"G\"\n",
      "\"SELF !:1:2:3:4:5:6: !:1:3:4: !T0\"\n",
      "\"G\"\n",
      "\"SELF !:1:2:3:4:5:6:9: !:1:3:15 !T1\"\n",
      "\"ST\"\n",
      "\u0001<goal state>\u0002\n"
     ]
    },
    {
     "name": "stderr",
     "output_type": "stream",
     "text": [
      "/tmp/caesar_20891_1.c: In function 'caesar_iterate_boolean_variable_0':\n",
      "/tmp/caesar_20891_1.c:368:12: warning: variable 'caesar_x_variable_0' set but not used [-Wunused-but-set-variable]\n",
      "  368 | ADT_STRING caesar_x_variable_0 = NULL;\n",
      "      |            ^~~~~~~~~~~~~~~~~~~\n",
      "/tmp/caesar_20891_1.c:465:12: warning: variable 'caesar_x_variable_2' set but not used [-Wunused-but-set-variable]\n",
      "  465 | ADT_STRING caesar_x_variable_2 = NULL;\n",
      "      |            ^~~~~~~~~~~~~~~~~~~\n"
     ]
    }
   ],
   "source": [
    "%%bash -s $file_path $query_path\n",
    "export PATH=$PATH:$CADP/bin.x64\n",
    "$CADP/com/bcg_open $1 evaluator4 -diag $2"
   ]
  },
  {
   "cell_type": "markdown",
   "metadata": {},
   "source": [
    "## Product Loyalty query "
   ]
  },
  {
   "cell_type": "code",
   "execution_count": 104,
   "metadata": {},
   "outputs": [
    {
     "name": "stdout",
     "output_type": "stream",
     "text": [
      "(* Product Loyalty :*)\r\n",
      "\r\n",
      "macro QUERY () =\r\n",
      "     {!\"G\"}.\r\n",
      "     {SELF ?C0:String ?P0:String !\"T0\"}.\r\n",
      "     {?any}*.\r\n",
      "     {SELF ?C1:String ?P1:String !\"T1\" where\r\n",
      "        (inter (string2natset (P1), string2natset (P0)) <> empty)\r\n",
      "     }\r\n",
      "end_macro\r\n",
      "\r\n",
      "macro FINAL_STATE () =\r\n",
      "    [ not { SELF ... } ] false\r\n",
      "end_macro\r\n",
      "\r\n",
      "<\r\n",
      "    (true* . QUERY . true*)+\r\n",
      "> FINAL_STATE\r\n"
     ]
    }
   ],
   "source": [
    "query_path = \"../queries/mcl/product_loyalty.mcl\"\n",
    "print_query_content(query_path)"
   ]
  },
  {
   "cell_type": "code",
   "execution_count": 105,
   "metadata": {},
   "outputs": [
    {
     "name": "stdout",
     "output_type": "stream",
     "text": [
      "bcg_open: using ``/home/abdelouahab/cadp//bin.x64/evaluator4.a''\n",
      "bcg_open: running ``evaluator4 -diag ../queries/mcl/product_loyalty.mcl'' for ``../graph/bcg/sample.bcg''\n",
      "\n",
      "TRUE\n",
      "*** diagnostic sequence found at depth 5\n",
      "\n",
      "\u0001<initial state>\u0002\n",
      "\"G\"\n",
      "\"SELF !:1:2:3:4:5:6: !:1:3:4: !T0\"\n",
      "\"G\"\n",
      "\"SELF !:1:2:3:4:5:6:9: !:1:3:15 !T1\"\n",
      "\"ST\"\n",
      "\u0001<goal state>\u0002\n"
     ]
    },
    {
     "name": "stderr",
     "output_type": "stream",
     "text": [
      "/tmp/caesar_21249_1.c: In function 'caesar_iterate_boolean_variable_0':\n",
      "/tmp/caesar_21249_1.c:368:12: warning: variable 'caesar_x_variable_0' set but not used [-Wunused-but-set-variable]\n",
      "  368 | ADT_STRING caesar_x_variable_0 = NULL;\n",
      "      |            ^~~~~~~~~~~~~~~~~~~\n",
      "/tmp/caesar_21249_1.c:465:12: warning: variable 'caesar_x_variable_2' set but not used [-Wunused-but-set-variable]\n",
      "  465 | ADT_STRING caesar_x_variable_2 = NULL;\n",
      "      |            ^~~~~~~~~~~~~~~~~~~\n"
     ]
    }
   ],
   "source": [
    "%%bash -s $file_path $query_path\n",
    "export PATH=$PATH:$CADP/bin.x64\n",
    "$CADP/com/bcg_open $1 evaluator4 -diag $2"
   ]
  },
  {
   "cell_type": "markdown",
   "metadata": {},
   "source": [
    "## Promotion only"
   ]
  },
  {
   "cell_type": "code",
   "execution_count": 113,
   "metadata": {},
   "outputs": [
    {
     "name": "stdout",
     "output_type": "stream",
     "text": [
      "(* Promotion only  :*)\r\n",
      "\r\n",
      "macro QUERY () =\r\n",
      "     {!\"G\"}.\r\n",
      "     {SELF ?C0:String ?P0:String !\"T0\"}.\r\n",
      "     {?any}*.\r\n",
      "     {SELF ?C1:String ?P1:String !\"T1\"}.\r\n",
      "     {?any}*.\r\n",
      "     {SELF ?C2:String ?P2:String !\"T2\" where\r\n",
      "             (diff (string2natset (P2), union(string2natset (P0),string2natset (P1))) <> empty)\r\n",
      "     }\r\n",
      "end_macro\r\n",
      "\r\n",
      "macro FINAL_STATE () =\r\n",
      "    [ not { SELF ... } ] false\r\n",
      "end_macro\r\n",
      "\r\n",
      "<\r\n",
      "    (true* . QUERY . true*)+\r\n",
      "> FINAL_STATE\r\n"
     ]
    }
   ],
   "source": [
    "query_path = \"../queries/mcl/promotion_only.mcl\"\n",
    "print_query_content(query_path)"
   ]
  },
  {
   "cell_type": "code",
   "execution_count": 114,
   "metadata": {},
   "outputs": [
    {
     "name": "stdout",
     "output_type": "stream",
     "text": [
      "bcg_open: using ``/home/abdelouahab/cadp//bin.x64/evaluator4.a''\n",
      "bcg_open: running ``evaluator4 -diag ../queries/mcl/promotion_only.mcl'' for ``../graph/bcg/sample.bcg''\n",
      "\n",
      "TRUE\n",
      "*** diagnostic sequence found at depth 6\n",
      "\n",
      "\u0001<initial state>\u0002\n",
      "\"G\"\n",
      "\"SELF !:1:2:3:4:5:6: !:1:3:4: !T0\"\n",
      "\"G\"\n",
      "\"SELF !:1:2:3:4:5:6:9: !:1:3:15 !T1\"\n",
      "\"SG\"\n",
      "\"SELF !:7:8:9: !:1:2:15:19: !T2\"\n",
      "\u0001<goal state>\u0002\n"
     ]
    },
    {
     "name": "stderr",
     "output_type": "stream",
     "text": [
      "/tmp/caesar_22443_1.c: In function 'caesar_iterate_boolean_variable_0':\n",
      "/tmp/caesar_22443_1.c:373:12: warning: variable 'caesar_x_variable_0' set but not used [-Wunused-but-set-variable]\n",
      "  373 | ADT_STRING caesar_x_variable_0 = NULL;\n",
      "      |            ^~~~~~~~~~~~~~~~~~~\n",
      "/tmp/caesar_22443_1.c:470:12: warning: variable 'caesar_x_variable_2' set but not used [-Wunused-but-set-variable]\n",
      "  470 | ADT_STRING caesar_x_variable_2 = NULL;\n",
      "      |            ^~~~~~~~~~~~~~~~~~~\n",
      "/tmp/caesar_22443_1.c:616:12: warning: variable 'caesar_x_variable_4' set but not used [-Wunused-but-set-variable]\n",
      "  616 | ADT_STRING caesar_x_variable_4 = NULL;\n",
      "      |            ^~~~~~~~~~~~~~~~~~~\n"
     ]
    }
   ],
   "source": [
    "%%bash -s $file_path $query_path\n",
    "export PATH=$PATH:$CADP/bin.x64\n",
    "$CADP/com/bcg_open $1 evaluator4 -diag $2"
   ]
  },
  {
   "cell_type": "code",
   "execution_count": null,
   "metadata": {},
   "outputs": [],
   "source": []
  }
 ],
 "metadata": {
  "kernelspec": {
   "display_name": "Python 3",
   "language": "python",
   "name": "python3"
  },
  "language_info": {
   "codemirror_mode": {
    "name": "ipython",
    "version": 3
   },
   "file_extension": ".py",
   "mimetype": "text/x-python",
   "name": "python",
   "nbconvert_exporter": "python",
   "pygments_lexer": "ipython3",
   "version": "3.7.5"
  }
 },
 "nbformat": 4,
 "nbformat_minor": 4
}
