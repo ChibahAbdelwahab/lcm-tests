{
 "cells": [
  {
   "cell_type": "markdown",
   "metadata": {},
   "source": [
    "# Total Dataset mining"
   ]
  },
  {
   "cell_type": "code",
   "execution_count": 1,
   "metadata": {},
   "outputs": [],
   "source": [
    "import pandas as pd \n",
    "import numpy as np\n",
    "from datetime import date,datetime\n",
    "import csv\n",
    "import re\n",
    "from multiprocessing import Pool\n",
    "from functools import partial\n",
    "from sklearn import preprocessing\n",
    "from IPython.core import display as ICD\n",
    "import matplotlib.pyplot as plt\n",
    "import itertools\n",
    "import os\n",
    "import json\n",
    "from dateutil.relativedelta import relativedelta\n",
    "from sklearn import preprocessing"
   ]
  },
  {
   "cell_type": "code",
   "execution_count": 5,
   "metadata": {},
   "outputs": [],
   "source": [
    "# TODO add doc \n",
    "def dataset_property_split(df,frequency,properties,min_support,groupby_property=\"CUST_ID\",itemset_property=\"ARTICLE_ID\",temp_folder=\"../lcm_temp\",indexation_folder=\"../index\"):\n",
    "    \"\"\"Split dataset \"\"\"\n",
    "    for period,i in df.groupby(pd.Grouper(freq = frequency)):\n",
    "        for values,ii in i.groupby(properties):\n",
    "            if len(properties)>1:\n",
    "                values = '_'.join(str(z) for z in values)\n",
    "            \n",
    "            split_name = f\"{temp_folder}/{period}_{values}#{min_support}\"\n",
    "            index_file_name = f\"{indexation_folder}/{period}_{values}#{min_support}\"\n",
    "\n",
    "            ii = ii.groupby(groupby_property)[itemset_property].apply(lambda x: \" \".join(str(z) for z in x))\n",
    "            \n",
    "            ii.to_csv(split_name,index=None,header=False)\n",
    "            pd.DataFrame(ii.index).to_csv(index_file_name,header=False,index=None)\n",
    "            yield str(split_name)\n",
    "        \n",
    "\n",
    "def preprocessing_similar_ids(df,mapping_file_path=\"../datasets/Total/ids_mapping.json\",attribute_name=\"ARTICLE_ID\"):\n",
    "    with open(mapping_file_path,\"r\") as f:\n",
    "        mapping = json.load(f)\n",
    "        ids = df[attribute_name].astype(str).replace(mapping)\n",
    "    return ids\n",
    "def reformat_output(unformated_result,split_name,index_folder=\"../index\"):\n",
    "    \"\"\"\n",
    "    Reformat default output of lcm  to a dataframe with structure : min_support,itemsets,users\n",
    "    \"\"\"\n",
    "    output = pd.DataFrame([unformated_result[0::2],unformated_result[1::2]]).T\n",
    "    output = pd.concat([output.drop(0,axis=1),output[0].str.split('\\(([0-9]+)\\)',expand=True).drop(0,axis=1)],axis=1)\n",
    "    split_name= split_name.split(\"/\")[2] #remove temp folder from name\n",
    "    output[\"period\"] = split_name.split(\"_\")[0]\n",
    "    output[\"property_values\"] = \"_\".join(split_name.split(\"_\")[1:]).split(\"#\")[0]\n",
    "    output.columns = [\"CUST_ID\",\"support\",\"itemset\",\"period\",\"property_values\"]\n",
    "    indexes = pd.read_csv(f'{index_folder}/{split_name}',header=None)[0].to_dict()\n",
    "    output[\"CUST_ID\"]= output[\"CUST_ID\"].map(lambda x : [indexes[int(i)] for i in x.split()])\n",
    "    return output\n",
    "\n",
    "\n",
    "# TODO doc for support\n",
    "def run_lcm(split_name,itemsets_size,support,output_file):\n",
    "    \"\"\"Runs LCM (Single Thread)  and return the  result formated with format_output\n",
    "    \n",
    "    Example for parameters : input_file='1999',support=6, itemsets_size=[5,100]\n",
    "    Executed command :  $ ./lcm C_QI -l 5 -u 100 1999 6 -\n",
    "    \n",
    "    Preconfigured parameters:  \n",
    "     C: enumerate closed frequent itemsets\n",
    "     M: enumerate maximal frequent itemsets \n",
    "     Q: output the frequency on the head of each itemset found,\n",
    "     I: output ID's of transactions including each itemset; ID of a transaction is given by the number of line in which the transaction is written. The ID starts from 0.\n",
    "     _: no output to standard output (including messages w.r.t. input data)\n",
    "     -l,-u [num]: enumerate itemsets with size at least/most [num]  \n",
    "   \n",
    "    Output:\n",
    "        Replace file having name input_file with the result : support,itemset,users\n",
    "        if no itemset found the input_file is deleted and output is empty string \"\"\n",
    "    \"\"\"\n",
    "    support = int(support)\n",
    "    result = !./lcm C_QI -l {itemsets_size[0]} -u {itemsets_size[1]}  {split_name} {support} -\n",
    "    os.remove(split_name)\n",
    "    if \"there is no frequent item\" in str(result) or result == []:\n",
    "        print(\"No itemset\",split_name)\n",
    "        return \n",
    "    print(\"Found \",len(result)/2,\" in\",split_name )\n",
    "    # TODO Optimize this bottleneck \n",
    "    with open(output_file,\"a\") as file:\n",
    "        reformat_output(result,split_name).to_csv(file,header=False,index=None,mode=\"a\")\n",
    "    return split_name\n",
    "\n",
    "\n",
    "def multithread_lcm(input_file,frequency,support,itemsets_size,properties,output_file):\n",
    "    f = partial(run_lcm,itemsets_size=itemsets_size,support=support, output_file=output_file)\n",
    "    p = Pool(8)\n",
    "    res  = p.imap_unordered(f,dataset_property_split(input_file,frequency,properties,support))\n",
    "    p.close()\n",
    "    p.join()\n",
    "    return res\n",
    "                                              \n",
    "def linear_closed_itemset_miner(df,frequency,min_support,itemsets_size,properties):\n",
    "    output_file = f'lcm_results/{frequency}-{min_support}-[{itemsets_size[0]}-{itemsets_size[1]}]-[{\",\".join(str(i) for i in properties)}]-lcm.out'\n",
    "    os.remove(output_file) # In case already existing\n",
    "    a = multithread_lcm(df,frequency,min_support,itemsets_size,properties,output_file)\n",
    "    total  = len(a._items)\n",
    "    print(a,total)\n",
    "    a = [i for i in a if i is not None]\n",
    "    print(f\"---| {output_file} Done\")\n",
    "    print(f'---| #split total: {total}')\n",
    "    print(f'---| #split having groups: {len(a)}')\n",
    "    print(f'---| Average: {len(a)/total}')\n",
    "    print(\" \")\n",
    "    \n",
    "    \n",
    "def age_class(age):\n",
    "    \"\"\"User age to range classes \"\"\"\n",
    "    age = np.int(age)\n",
    "    if age<=25:\n",
    "        return 0\n",
    "    if age<=45:\n",
    "        return 1\n",
    "    return 2\n",
    "def prepare_data(file_name,folder_name=\"datasets/Total/data/\"):\n",
    "    df = pd.read_csv(f\"datasets/Total/data/{file_name}\",sep=\";\")\n",
    "    df_users = pd.read_csv(\"datasets/Total/users.csv\",sep=\";\")\n",
    "    df = df.merge(df_users,on=\"CUST_ID\")\n",
    "    df.index = pd.to_datetime(df.TRANSACTION_DATE).dt.to_period(\"D\")\n",
    "    return df"
   ]
  },
  {
   "cell_type": "markdown",
   "metadata": {},
   "source": [
    "### Run LCM"
   ]
  },
  {
   "cell_type": "code",
   "execution_count": null,
   "metadata": {},
   "outputs": [],
   "source": [
    "frequencies =[\"M\",\"2M\",\"3M\"]\n",
    "properties = [[\"STATION_MGT_TYPE\"],[\"STATION_MGT_TYPE\",\"DEPARTEMENT\"]]\n",
    "from itertools import product\n",
    "for frequency,prop in product(frequencies,properties):\n",
    "    linear_closed_itemset_miner(df,frequency,5,[2,\"5000\"],prop)"
   ]
  },
  {
   "cell_type": "code",
   "execution_count": null,
   "metadata": {},
   "outputs": [],
   "source": []
  },
  {
   "cell_type": "code",
   "execution_count": null,
   "metadata": {},
   "outputs": [],
   "source": []
  },
  {
   "cell_type": "code",
   "execution_count": 53,
   "metadata": {},
   "outputs": [],
   "source": []
  },
  {
   "cell_type": "markdown",
   "metadata": {},
   "source": [
    "# LCM on promotion periods"
   ]
  },
  {
   "cell_type": "code",
   "execution_count": 70,
   "metadata": {},
   "outputs": [],
   "source": [
    "import datetime\n",
    "def concat_total_dataset(files_path='../datasets/Total/data'):\n",
    "    df = pd.DataFrame()\n",
    "    a = !ls {files_path}\n",
    "    for i in a:\n",
    "        df = pd.concat([pd.read_csv(f\"../datasets/Total/data/{i}\",sep=\";\"),df])\n",
    "    df_users = pd.read_csv(\"../datasets/Total/users.csv\",sep=\";\")\n",
    "    df = df.merge(df_users,on=\"CUST_ID\")\n",
    "    df.index = pd.to_datetime(df.TRANSACTION_DATE).dt.to_period(\"D\")\n",
    "    df[\"STATION_DEPARTEMENT_ID\"] = df.STATION_ID.apply(lambda x : x[3:5])\n",
    "    df = df[df.STATION_DEPARTEMENT_ID==df.DEPARTEMENT]\n",
    "    stations = pd.read_csv(\"../datasets/Total/STATION_TYPE.csv\",sep=\";\")\n",
    "    df = df.merge(stations,on=\"STATION_ID\").dropna()\n",
    "    df.index = pd.to_datetime(df.TRANSACTION_DATE).dt.to_period(\"D\")\n",
    "    df['date'] = pd.to_datetime(df.TRANSACTION_DATE)\n",
    "    return df"
   ]
  },
  {
   "cell_type": "code",
   "execution_count": 71,
   "metadata": {},
   "outputs": [],
   "source": [
    "df = concat_total_dataset()\n",
    "df.ARTICLE_ID = preprocessing_similar_ids(df)\n"
   ]
  },
  {
   "cell_type": "code",
   "execution_count": null,
   "metadata": {},
   "outputs": [],
   "source": []
  },
  {
   "cell_type": "code",
   "execution_count": 72,
   "metadata": {},
   "outputs": [],
   "source": [
    "# Global parameters\n",
    "frequency =\"9M\"\n",
    "min_support= 5\n",
    "itemsets_size = [1,\"2001\"]\n",
    "properties = [\"a\"]\n",
    "file_name =f'{frequency}-{min_support}-[{itemsets_size[0]}-{itemsets_size[1]}]-[{\",\".join(str(i) for i in properties)}]-lcm.out'\n",
    "output_file = f'../lcm_results/{file_name}'"
   ]
  },
  {
   "cell_type": "code",
   "execution_count": 73,
   "metadata": {},
   "outputs": [],
   "source": [
    "# Encoding for ARTICLE_ID as their size is not supported by current lcm implementation \n",
    "le = preprocessing.LabelEncoder()\n",
    "le.fit(df[\"ARTICLE_ID\"])\n",
    "# # Encoder is saved \n",
    "np.save(f'../plots/encoders/{file_name}.npy', le.classes_)"
   ]
  },
  {
   "cell_type": "code",
   "execution_count": null,
   "metadata": {},
   "outputs": [],
   "source": []
  },
  {
   "cell_type": "code",
   "execution_count": 74,
   "metadata": {},
   "outputs": [],
   "source": [
    "# Promotion product list \n",
    "promo_products = pd.read_csv(\"../datasets/Total/promo_products.csv\")\n",
    "promo_products= promo_products[promo_products[\"ARTICLE_ID\"].isin(df.ARTICLE_ID)]\n",
    "promo_list = le.transform([i for i in promo_products.ARTICLE_ID.tolist()])"
   ]
  },
  {
   "cell_type": "code",
   "execution_count": 75,
   "metadata": {},
   "outputs": [],
   "source": [
    "df[\"ARTICLE_ID\"] = le.transform(df[\"ARTICLE_ID\"])"
   ]
  },
  {
   "cell_type": "code",
   "execution_count": 76,
   "metadata": {
    "scrolled": true
   },
   "outputs": [],
   "source": [
    "# promo dates \n",
    "promo_date_begin = pd.to_datetime(datetime.date(2018,12,17))\n",
    "promo_date_end = pd.to_datetime(datetime.date(2019,2,28))\n",
    "\n",
    "\n",
    "# Transactions data for T-1, T and T+1\n",
    "# T-1 = [promo_date_begin - 3 months , promo_date_begin] \n",
    "df_promo_before = df[(df['date']< promo_date_begin)& (df['date']>promo_date_begin + relativedelta(months=-3))]\n",
    "\n",
    "# T = [promo_date_begin , promo_date_end] \n",
    "# Only promotion products are considered in T\n",
    "df_promo = df[(df.date>= promo_date_begin)& (df.date<=promo_date_end)]\n",
    "df_promo = df_promo[df_promo.ARTICLE_ID.isin(promo_list)]\n",
    "\n",
    "# T+1 = [promo_date_end , promo_date_end + 3 months] \n",
    "df_promo_after = df[(df.date> promo_date_end)& (df.date<=promo_date_end + relativedelta(months=3))]"
   ]
  },
  {
   "cell_type": "code",
   "execution_count": 77,
   "metadata": {},
   "outputs": [
    {
     "name": "stdout",
     "output_type": "stream",
     "text": [
      "#trsansaction : \n",
      " Before promo 19463 \n",
      " During promo 1887 \n",
      " After promo 19980 \n"
     ]
    }
   ],
   "source": [
    "print(f\"#trsansaction : \\n Before promo {df_promo_before.shape[0]} \\n During promo {df_promo.shape[0]} \\n After promo {df_promo_after.shape[0]} \" )"
   ]
  },
  {
   "cell_type": "markdown",
   "metadata": {},
   "source": [
    "# Run LCM "
   ]
  },
  {
   "cell_type": "code",
   "execution_count": 78,
   "metadata": {},
   "outputs": [
    {
     "name": "stderr",
     "output_type": "stream",
     "text": [
      "/home/abdelouahab/3env/local/lib/python3.7/site-packages/ipykernel_launcher.py:4: SettingWithCopyWarning: \n",
      "A value is trying to be set on a copy of a slice from a DataFrame.\n",
      "Try using .loc[row_indexer,col_indexer] = value instead\n",
      "\n",
      "See the caveats in the documentation: https://pandas.pydata.org/pandas-docs/stable/user_guide/indexing.html#returning-a-view-versus-a-copy\n",
      "  after removing the cwd from sys.path.\n"
     ]
    },
    {
     "name": "stdout",
     "output_type": "stream",
     "text": [
      "Found  771.0  in ../lcm_temp/2018-09_1#5\n",
      "Found  11.0  in ../lcm_temp/2018-12_1#5\n",
      "Found  785.0  in ../lcm_temp/2019-02_1#5\n"
     ]
    }
   ],
   "source": [
    "os.remove(output_file)\n",
    "f = partial(run_lcm,itemsets_size=itemsets_size,support=min_support, output_file=output_file)\n",
    "for input_file in [df_promo_before,df_promo,df_promo_after]:\n",
    "    input_file[\"a\"]=1\n",
    "    p = Pool(8)\n",
    "    res  = p.imap_unordered(f,dataset_property_split(input_file,frequency,properties,min_support))\n",
    "    p.close()\n",
    "    p.join()"
   ]
  },
  {
   "cell_type": "markdown",
   "metadata": {},
   "source": [
    "# Promo period stats"
   ]
  },
  {
   "cell_type": "code",
   "execution_count": 54,
   "metadata": {},
   "outputs": [
    {
     "data": {
      "text/html": [
       "<div>\n",
       "<style scoped>\n",
       "    .dataframe tbody tr th:only-of-type {\n",
       "        vertical-align: middle;\n",
       "    }\n",
       "\n",
       "    .dataframe tbody tr th {\n",
       "        vertical-align: top;\n",
       "    }\n",
       "\n",
       "    .dataframe thead th {\n",
       "        text-align: right;\n",
       "    }\n",
       "</style>\n",
       "<table border=\"1\" class=\"dataframe\">\n",
       "  <thead>\n",
       "    <tr style=\"text-align: right;\">\n",
       "      <th></th>\n",
       "      <th>ARTICLE_ID</th>\n",
       "    </tr>\n",
       "  </thead>\n",
       "  <tbody>\n",
       "    <tr>\n",
       "      <th>1</th>\n",
       "      <td>569</td>\n",
       "    </tr>\n",
       "    <tr>\n",
       "      <th>2</th>\n",
       "      <td>9</td>\n",
       "    </tr>\n",
       "    <tr>\n",
       "      <th>3</th>\n",
       "      <td>1</td>\n",
       "    </tr>\n",
       "  </tbody>\n",
       "</table>\n",
       "</div>"
      ],
      "text/plain": [
       "   ARTICLE_ID\n",
       "1         569\n",
       "2           9\n",
       "3           1"
      ]
     },
     "metadata": {},
     "output_type": "display_data"
    },
    {
     "data": {
      "text/plain": [
       "Text(0, 0.5, '# of users ')"
      ]
     },
     "execution_count": 54,
     "metadata": {},
     "output_type": "execute_result"
    },
    {
     "data": {
      "image/png": "[encoded data removed]",
      "text/plain": [
       "<Figure size 1080x360 with 1 Axes>"
      ]
     },
     "metadata": {
      "needs_background": "light"
     },
     "output_type": "display_data"
    }
   ],
   "source": [
    "stats_df = df_promo.groupby(\"CUST_ID\")[\"ARTICLE_ID\"].apply(set).apply(len).to_frame().sort_values(\"ARTICLE_ID\",ascending=False)[\"ARTICLE_ID\"].value_counts()\n",
    "ICD.display(stats_df.to_frame())\n",
    "\n",
    "ax = stats_df.plot.bar(figsize=(15,5))\n",
    "ax.set_xlabel(\"# distinct promo-produtcs bought during promo period\")\n",
    "ax.set_ylabel(\"# of users \")"
   ]
  },
  {
   "cell_type": "code",
   "execution_count": 60,
   "metadata": {},
   "outputs": [
    {
     "data": {
      "text/plain": [
       "ARTICLE_ID\n",
       "4074    373\n",
       "2368    251\n",
       "2930     24\n",
       "688      22\n",
       "4087     14\n",
       "4081     10\n",
       "4084      3\n",
       "4078      3\n",
       "4090      2\n",
       "1363      2\n",
       "3489      1\n",
       "Name: CUST_ID, dtype: int64"
      ]
     },
     "execution_count": 60,
     "metadata": {},
     "output_type": "execute_result"
    }
   ],
   "source": [
    "df_promo.groupby(\"ARTICLE_ID\")[\"CUST_ID\"].apply(list).apply(len).sort_values(0,ascending=False)"
   ]
  },
  {
   "cell_type": "code",
   "execution_count": 62,
   "metadata": {},
   "outputs": [
    {
     "data": {
      "text/html": [
       "<div>\n",
       "<style scoped>\n",
       "    .dataframe tbody tr th:only-of-type {\n",
       "        vertical-align: middle;\n",
       "    }\n",
       "\n",
       "    .dataframe tbody tr th {\n",
       "        vertical-align: top;\n",
       "    }\n",
       "\n",
       "    .dataframe thead th {\n",
       "        text-align: right;\n",
       "    }\n",
       "</style>\n",
       "<table border=\"1\" class=\"dataframe\">\n",
       "  <thead>\n",
       "    <tr style=\"text-align: right;\">\n",
       "      <th></th>\n",
       "      <th>id</th>\n",
       "      <th>name</th>\n",
       "    </tr>\n",
       "  </thead>\n",
       "  <tbody>\n",
       "    <tr>\n",
       "      <th>3</th>\n",
       "      <td>3425901018140</td>\n",
       "      <td>TOTAL ADBLUE 10L</td>\n",
       "    </tr>\n",
       "    <tr>\n",
       "      <th>13</th>\n",
       "      <td>3660963045141</td>\n",
       "      <td>TOTAL ADBLUE BIDON 10L</td>\n",
       "    </tr>\n",
       "    <tr>\n",
       "      <th>37</th>\n",
       "      <td>3267025010606</td>\n",
       "      <td>ELF EVOLUTION 5W30 2 L</td>\n",
       "    </tr>\n",
       "    <tr>\n",
       "      <th>46</th>\n",
       "      <td>3267025007262</td>\n",
       "      <td>ELF MOTO 2 OFF ROAD 1L 10W40 SAE 30</td>\n",
       "    </tr>\n",
       "    <tr>\n",
       "      <th>49</th>\n",
       "      <td>3011449257075</td>\n",
       "      <td>ELF POLISH MOTO 400ML</td>\n",
       "    </tr>\n",
       "    <tr>\n",
       "      <th>51</th>\n",
       "      <td>3267025007460</td>\n",
       "      <td>ELF MOTO 4 TECH</td>\n",
       "    </tr>\n",
       "    <tr>\n",
       "      <th>53</th>\n",
       "      <td>3267021030837</td>\n",
       "      <td>ELF MOTO 2 SELF MIX 1L</td>\n",
       "    </tr>\n",
       "    <tr>\n",
       "      <th>59</th>\n",
       "      <td>3011449257051</td>\n",
       "      <td>ELF NET.JANTES MOTO 400ML</td>\n",
       "    </tr>\n",
       "    <tr>\n",
       "      <th>62</th>\n",
       "      <td>3267025007361</td>\n",
       "      <td>ELF MOTO 4 ROAD 1L 10W40</td>\n",
       "    </tr>\n",
       "    <tr>\n",
       "      <th>66</th>\n",
       "      <td>3267025007293</td>\n",
       "      <td>ELF MOTO 2 TECH 1L SAE 30</td>\n",
       "    </tr>\n",
       "    <tr>\n",
       "      <th>73</th>\n",
       "      <td>3267025000027</td>\n",
       "      <td>ELF MOTO CHAINLUB 400ML</td>\n",
       "    </tr>\n",
       "    <tr>\n",
       "      <th>75</th>\n",
       "      <td>3425901018195</td>\n",
       "      <td>TOTAL ACTIVA INEO ECS 5W30 5L</td>\n",
       "    </tr>\n",
       "    <tr>\n",
       "      <th>76</th>\n",
       "      <td>3425901018720</td>\n",
       "      <td>TOTAL ACTIVA 9000 5W40 2L</td>\n",
       "    </tr>\n",
       "    <tr>\n",
       "      <th>87</th>\n",
       "      <td>3425901025872</td>\n",
       "      <td>TOTAL QUARTZ 90</td>\n",
       "    </tr>\n",
       "    <tr>\n",
       "      <th>89</th>\n",
       "      <td>3425901029290</td>\n",
       "      <td>TOTAL QUARTZ IN</td>\n",
       "    </tr>\n",
       "    <tr>\n",
       "      <th>90</th>\n",
       "      <td>3425901019505</td>\n",
       "      <td>TOTAL QUARTZ INEO MC3 5W30</td>\n",
       "    </tr>\n",
       "    <tr>\n",
       "      <th>94</th>\n",
       "      <td>3425901028170</td>\n",
       "      <td>TOTAL QUARTZ INEO LONG LIFE 5W30 1L</td>\n",
       "    </tr>\n",
       "    <tr>\n",
       "      <th>99</th>\n",
       "      <td>3425901018232</td>\n",
       "      <td>TOTAL QUARTZ IN</td>\n",
       "    </tr>\n",
       "    <tr>\n",
       "      <th>101</th>\n",
       "      <td>3461025</td>\n",
       "      <td>CR EVIAN PET 50CL</td>\n",
       "    </tr>\n",
       "    <tr>\n",
       "      <th>103</th>\n",
       "      <td>3068320110783</td>\n",
       "      <td>EVIAN 50CL PET</td>\n",
       "    </tr>\n",
       "    <tr>\n",
       "      <th>108</th>\n",
       "      <td>3068320112312</td>\n",
       "      <td>EVIAN 50CL</td>\n",
       "    </tr>\n",
       "    <tr>\n",
       "      <th>110</th>\n",
       "      <td>7461024</td>\n",
       "      <td>Lun Evian Pet 50Cl</td>\n",
       "    </tr>\n",
       "    <tr>\n",
       "      <th>120</th>\n",
       "      <td>3217770310513</td>\n",
       "      <td>TOTAL ANTI CREV</td>\n",
       "    </tr>\n",
       "  </tbody>\n",
       "</table>\n",
       "</div>"
      ],
      "text/plain": [
       "                id                                 name\n",
       "3    3425901018140                     TOTAL ADBLUE 10L\n",
       "13   3660963045141               TOTAL ADBLUE BIDON 10L\n",
       "37   3267025010606               ELF EVOLUTION 5W30 2 L\n",
       "46   3267025007262  ELF MOTO 2 OFF ROAD 1L 10W40 SAE 30\n",
       "49   3011449257075                ELF POLISH MOTO 400ML\n",
       "51   3267025007460                      ELF MOTO 4 TECH\n",
       "53   3267021030837               ELF MOTO 2 SELF MIX 1L\n",
       "59   3011449257051            ELF NET.JANTES MOTO 400ML\n",
       "62   3267025007361             ELF MOTO 4 ROAD 1L 10W40\n",
       "66   3267025007293            ELF MOTO 2 TECH 1L SAE 30\n",
       "73   3267025000027              ELF MOTO CHAINLUB 400ML\n",
       "75   3425901018195        TOTAL ACTIVA INEO ECS 5W30 5L\n",
       "76   3425901018720            TOTAL ACTIVA 9000 5W40 2L\n",
       "87   3425901025872                      TOTAL QUARTZ 90\n",
       "89   3425901029290                      TOTAL QUARTZ IN\n",
       "90   3425901019505           TOTAL QUARTZ INEO MC3 5W30\n",
       "94   3425901028170  TOTAL QUARTZ INEO LONG LIFE 5W30 1L\n",
       "99   3425901018232                      TOTAL QUARTZ IN\n",
       "101        3461025                    CR EVIAN PET 50CL\n",
       "103  3068320110783                       EVIAN 50CL PET\n",
       "108  3068320112312                           EVIAN 50CL\n",
       "110        7461024                   Lun Evian Pet 50Cl\n",
       "120  3217770310513                      TOTAL ANTI CREV"
      ]
     },
     "execution_count": 62,
     "metadata": {},
     "output_type": "execute_result"
    }
   ],
   "source": [
    "promo_products"
   ]
  }
 ],
 "metadata": {
  "kernelspec": {
   "display_name": "Python 3",
   "language": "python",
   "name": "python3"
  },
  "language_info": {
   "codemirror_mode": {
    "name": "ipython",
    "version": 3
   },
   "file_extension": ".py",
   "mimetype": "text/x-python",
   "name": "python",
   "nbconvert_exporter": "python",
   "pygments_lexer": "ipython3",
   "version": "3.7.5"
  }
 },
 "nbformat": 4,
 "nbformat_minor": 2
}
