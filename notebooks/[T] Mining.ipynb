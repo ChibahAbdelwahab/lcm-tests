{
 "cells": [
  {
   "cell_type": "markdown",
   "metadata": {},
   "source": [
    "# Total Dataset mining"
   ]
  },
  {
   "cell_type": "code",
   "execution_count": 1,
   "metadata": {},
   "outputs": [],
   "source": [
    "import pandas as pd \n",
    "import numpy as np\n",
    "from datetime import date,datetime\n",
    "import csv\n",
    "import re\n",
    "from multiprocessing import Pool\n",
    "from functools import partial\n",
    "from sklearn import preprocessing\n",
    "from IPython.core import display as ICD\n",
    "import matplotlib.pyplot as plt\n",
    "import itertools\n",
    "import os\n",
    "import json\n",
    "from dateutil.relativedelta import relativedelta\n",
    "from sklearn import preprocessing"
   ]
  },
  {
   "cell_type": "code",
   "execution_count": 43,
   "metadata": {},
   "outputs": [],
   "source": [
    "# TODO add doc \n",
    "def dataset_property_split(df,frequency,properties,min_support,groupby_property=\"CUST_ID\",itemset_property=\"ARTICLE_ID\",temp_folder=\"../lcm_temp\",indexation_folder=\"../index\"):\n",
    "    \"\"\"Split dataset \"\"\"\n",
    "    for period,i in df.groupby(pd.Grouper(freq = frequency)):\n",
    "        for values,ii in i.groupby(properties):\n",
    "            if len(properties)>1:\n",
    "                values = '_'.join(str(z) for z in values)\n",
    "            \n",
    "            split_name = f\"{temp_folder}/{period}_{values}#{min_support}\"\n",
    "            index_file_name = f\"{indexation_folder}/{period}_{values}#{min_support}\"\n",
    "\n",
    "            ii = ii.groupby(groupby_property)[itemset_property].apply(lambda x: \" \".join(str(z) for z in x))\n",
    "            \n",
    "            ii.to_csv(split_name,index=None,header=False)\n",
    "            pd.DataFrame(ii.index).to_csv(index_file_name,header=False,index=None)\n",
    "            yield str(split_name)\n",
    "        \n",
    "\n",
    "def preprocessing_similar_ids(df,mapping_file_path=\"../datasets/Total/ids_mapping.json\",attribute_name=\"ARTICLE_ID\"):\n",
    "    with open(mapping_file_path,\"r\") as f:\n",
    "        mapping = json.load(f)\n",
    "        ids = df[attribute_name].astype(str).replace(mapping)\n",
    "    return ids\n",
    "def reformat_output(unformated_result,split_name,index_folder=\"../index\"):\n",
    "    \"\"\"\n",
    "    Reformat default output of lcm  to a dataframe with structure : min_support,itemsets,users\n",
    "    \"\"\"\n",
    "    output = pd.DataFrame([unformated_result[0::2],unformated_result[1::2]]).T\n",
    "    output = pd.concat([output.drop(0,axis=1),output[0].str.split('\\(([0-9]+)\\)',expand=True).drop(0,axis=1)],axis=1)\n",
    "    split_name= split_name.split(\"/\")[2] #remove temp folder from name\n",
    "    output[\"period\"] = split_name.split(\"_\")[0]\n",
    "    output[\"property_values\"] = \"_\".join(split_name.split(\"_\")[1:]).split(\"#\")[0]\n",
    "    output.columns = [\"CUST_ID\",\"support\",\"itemset\",\"period\",\"property_values\"]\n",
    "    indexes = pd.read_csv(f'{index_folder}/{split_name}',header=None)[0].to_dict()\n",
    "    output[\"CUST_ID\"]= output[\"CUST_ID\"].map(lambda x : [indexes[int(i)] for i in x.split()])\n",
    "    return output\n",
    "\n",
    "\n",
    "# TODO doc for support\n",
    "def run_lcm(split_name,itemsets_size,support,output_file):\n",
    "    \"\"\"Runs LCM (Single Thread)  and return the  result formated with format_output\n",
    "    \n",
    "    Example for parameters : input_file='1999',support=6, itemsets_size=[5,100]\n",
    "    Executed command :  $ ./lcm C_QI -l 5 -u 100 1999 6 -\n",
    "    \n",
    "    Preconfigured parameters:  \n",
    "     C: enumerate closed frequent itemsets\n",
    "     M: enumerate maximal frequent itemsets \n",
    "     Q: output the frequency on the head of each itemset found,\n",
    "     I: output ID's of transactions including each itemset; ID of a transaction is given by the number of line in which the transaction is written. The ID starts from 0.\n",
    "     _: no output to standard output (including messages w.r.t. input data)\n",
    "     -l,-u [num]: enumerate itemsets with size at least/most [num]  \n",
    "   \n",
    "    Output:\n",
    "        Replace file having name input_file with the result : support,itemset,users\n",
    "        if no itemset found the input_file is deleted and output is empty string \"\"\n",
    "    \"\"\"\n",
    "    support = int(support)\n",
    "    result = !./lcm C_QI -l {itemsets_size[0]} -u {itemsets_size[1]}  {split_name} {support} -\n",
    "    os.remove(split_name)\n",
    "    if \"there is no frequent item\" in str(result) or result == []:\n",
    "        print(\"No itemset\",split_name)\n",
    "        return \n",
    "    print(\"Found \",len(result)/2,\" in\",split_name )\n",
    "    # TODO Optimize this bottleneck \n",
    "    with open(output_file,\"a+\") as file:\n",
    "        reformat_output(result,split_name).to_csv(file,header=False,index=None,mode=\"a\")\n",
    "    return split_name\n",
    "\n",
    "\n",
    "def multithread_lcm(input_file,frequency,support,itemsets_size,properties,output_file):\n",
    "    f = partial(run_lcm,itemsets_size=itemsets_size,support=support, output_file=output_file)\n",
    "    p = Pool(1)\n",
    "    res  = p.imap_unordered(f,dataset_property_split(input_file,frequency,properties,support))\n",
    "    p.close()\n",
    "    p.join()\n",
    "    return res\n",
    "                                              \n",
    "def linear_closed_itemset_miner(df,frequency,min_support,itemsets_size,properties):\n",
    "    output_file = f'../lcm_results/{frequency}-{min_support}-[{itemsets_size[0]}-{itemsets_size[1]}]-[{\",\".join(str(i) for i in properties)}]-lcm.out'\n",
    "    try:\n",
    "        os.remove(output_file) # In case already existing\n",
    "        print(f\"Removed old {output_file}\")\n",
    "    except:\n",
    "        print(f\"No old file to remove for {output_file} \")\n",
    "        pass\n",
    "    a = multithread_lcm(df,frequency,min_support,itemsets_size,properties,output_file)\n",
    "    total  = len(a._items)\n",
    "    print(a,total)\n",
    "    a = [i for i in a if i is not None]\n",
    "    print(f\"---| {output_file} Done\")\n",
    "    print(f'---| #split total: {total}')\n",
    "    print(f'---| #split having groups: {len(a)}')\n",
    "    print(f'---| Average: {len(a)/total}')\n",
    "    print(\" \")\n",
    "    \n",
    "    \n",
    "def age_class(age):\n",
    "    \"\"\"User age to range classes \"\"\"\n",
    "    age = np.int(age)\n",
    "    if age<=25:\n",
    "        return 0\n",
    "    if age<=45:\n",
    "        return 1\n",
    "    return 2\n",
    "def prepare_data(file_name,folder_name=\"datasets/Total/data/\"):\n",
    "    df = pd.read_csv(f\"datasets/Total/data/{file_name}\",sep=\";\")\n",
    "    df_users = pd.read_csv(\"datasets/Total/users.csv\",sep=\";\")\n",
    "    df = df.merge(df_users,on=\"CUST_ID\")\n",
    "    df.index = pd.to_datetime(df.TRANSACTION_DATE).dt.to_period(\"D\")\n",
    "    return df\n",
    "\n",
    "def read_lcm_output_total(input_name,folder=\"../lcm_results\"):\n",
    "    \"\"\"Read and restructure LCM output file,rename columns output a df \"\"\"\n",
    "    file = f'{folder}/{input_name}'\n",
    "    df = pd.read_csv(file,header=None)\n",
    "    df.columns = [\"user_ids\",\"support\",\"itemsets\",\"period\",\"property_values\"]\n",
    "    df[\"period\"] = pd.to_datetime(df[\"period\"])\n",
    "    df[\"user_ids\"] = df.user_ids.apply(lambda x : [int(z.replace('\"',\"\")) for z in x[1:-1].split(\",\") if z != \"\"])\n",
    "    return df"
   ]
  },
  {
   "cell_type": "markdown",
   "metadata": {},
   "source": [
    "### Run LCM"
   ]
  },
  {
   "cell_type": "code",
   "execution_count": 4,
   "metadata": {},
   "outputs": [],
   "source": [
    "frequencies =[\"M\",\"2M\",\"3M\"]\n",
    "properties = [[\"STATION_MGT_TYPE\"],[\"STATION_MGT_TYPE\",\"DEPARTEMENT\"]]\n",
    "from itertools import product\n",
    "for frequency,prop in product(frequencies,properties):\n",
    "    linear_closed_itemset_miner(df,frequency,5,[2,\"5000\"],prop)"
   ]
  },
  {
   "cell_type": "markdown",
   "metadata": {},
   "source": [
    "## LCM for total dataset with no demographics"
   ]
  },
  {
   "cell_type": "code",
   "execution_count": 7,
   "metadata": {},
   "outputs": [],
   "source": [
    "import datetime\n",
    "def concat_total_dataset(files_path='../datasets/Total/data'):\n",
    "    df = pd.DataFrame()\n",
    "    a = !ls {files_path}\n",
    "    for i in a:\n",
    "        df = pd.concat([pd.read_csv(f\"../datasets/Total/data/{i}\",sep=\";\"),df])\n",
    "    df_users = pd.read_csv(\"../datasets/Total/users.csv\",sep=\";\")\n",
    "    df = df.merge(df_users,on=\"CUST_ID\")\n",
    "    df.index = pd.to_datetime(df.TRANSACTION_DATE).dt.to_period(\"D\")\n",
    "    df[\"STATION_DEPARTEMENT_ID\"] = df.STATION_ID.apply(lambda x : x[3:5])\n",
    "    df = df[df.STATION_DEPARTEMENT_ID==df.DEPARTEMENT]\n",
    "    stations = pd.read_csv(\"../datasets/Total/STATION_TYPE.csv\",sep=\";\")\n",
    "    df = df.merge(stations,on=\"STATION_ID\").dropna()\n",
    "    df.index = pd.to_datetime(df.TRANSACTION_DATE).dt.to_period(\"D\")\n",
    "    df['date'] = pd.to_datetime(df.TRANSACTION_DATE)\n",
    "    return df"
   ]
  },
  {
   "cell_type": "code",
   "execution_count": 16,
   "metadata": {},
   "outputs": [],
   "source": [
    "df = concat_total_dataset()\n",
    "df.ARTICLE_ID = preprocessing_similar_ids(df)\n",
    "df[\"a\"] = 1 # Must set a \"grouping\" attribute while we don't consider demographics"
   ]
  },
  {
   "cell_type": "code",
   "execution_count": 48,
   "metadata": {},
   "outputs": [],
   "source": [
    "# Here we fix a small issue with LCM, on total dataset products ids are too large, so we use a label encoder\n",
    "# Once done, the encoder is saved and could be restored for post processing\n",
    "\n",
    "le = preprocessing.LabelEncoder()\n",
    "df[\"ARTICLE_ID\"] = le.fit_transform(df[\"ARTICLE_ID\"]) \n",
    "\n",
    "np.save(f'{file_name}.npy', le.classes_)"
   ]
  },
  {
   "cell_type": "code",
   "execution_count": 49,
   "metadata": {},
   "outputs": [],
   "source": [
    "min_support = 5\n",
    "frequency = 'Y' # Time granularity could be D,3D,7D, M, 2M, Y, ...\n",
    "min_description_size = 2 # the minimal number of products per group\n",
    "itemsets_size = [min_description_size,\"5000\"]\n",
    "properties =[\"a\"] # Set this to a groupping attribute, like [\"sex\",\"age\"] or [\"a\"] to ignore this behaviour\n"
   ]
  },
  {
   "cell_type": "code",
   "execution_count": 50,
   "metadata": {},
   "outputs": [],
   "source": [
    "output_file = f'../lcm_results/{frequency}-{min_support}-[{itemsets_size[0]}-{itemsets_size[1]}]-[{\",\".join(str(i) for i in properties)}]-lcm.out'"
   ]
  },
  {
   "cell_type": "code",
   "execution_count": 51,
   "metadata": {},
   "outputs": [
    {
     "name": "stdout",
     "output_type": "stream",
     "text": [
      "Removed old ../lcm_results/Y-5-[2-5000]-[a]-lcm.out\n",
      "Found  4959.0  in ../lcm_temp/2017_1#5\n",
      "Found  10375.0  in ../lcm_temp/2018_1#5\n",
      "Found  6308.0  in ../lcm_temp/2019_1#5\n",
      "<multiprocessing.pool.IMapUnorderedIterator object at 0x7f57b3c2e310> 3\n",
      "---| ../lcm_results/Y-5-[2-5000]-[a]-lcm.out Done\n",
      "---| #split total: 3\n",
      "---| #split having groups: 3\n",
      "---| Average: 1.0\n",
      " \n"
     ]
    }
   ],
   "source": [
    "linear_closed_itemset_miner(df,frequency,min_support,itemsets_size,properties)"
   ]
  },
  {
   "cell_type": "code",
   "execution_count": 52,
   "metadata": {},
   "outputs": [
    {
     "data": {
      "text/html": [
       "<div>\n",
       "<style scoped>\n",
       "    .dataframe tbody tr th:only-of-type {\n",
       "        vertical-align: middle;\n",
       "    }\n",
       "\n",
       "    .dataframe tbody tr th {\n",
       "        vertical-align: top;\n",
       "    }\n",
       "\n",
       "    .dataframe thead th {\n",
       "        text-align: right;\n",
       "    }\n",
       "</style>\n",
       "<table border=\"1\" class=\"dataframe\">\n",
       "  <thead>\n",
       "    <tr style=\"text-align: right;\">\n",
       "      <th></th>\n",
       "      <th>user_ids</th>\n",
       "      <th>support</th>\n",
       "      <th>itemsets</th>\n",
       "      <th>period</th>\n",
       "      <th>property_values</th>\n",
       "    </tr>\n",
       "  </thead>\n",
       "  <tbody>\n",
       "    <tr>\n",
       "      <th>0</th>\n",
       "      <td>[107233, 112041, 112511, 113661, 120927, 13046...</td>\n",
       "      <td>153</td>\n",
       "      <td>4125 4126</td>\n",
       "      <td>1970-01-01 00:00:00.000002017</td>\n",
       "      <td>1</td>\n",
       "    </tr>\n",
       "    <tr>\n",
       "      <th>1</th>\n",
       "      <td>[103286, 106500, 111896, 112041, 112511, 11555...</td>\n",
       "      <td>255</td>\n",
       "      <td>4112 4126</td>\n",
       "      <td>1970-01-01 00:00:00.000002017</td>\n",
       "      <td>1</td>\n",
       "    </tr>\n",
       "    <tr>\n",
       "      <th>2</th>\n",
       "      <td>[101392, 103371, 112041, 112384, 112511, 12219...</td>\n",
       "      <td>133</td>\n",
       "      <td>4112 4125</td>\n",
       "      <td>1970-01-01 00:00:00.000002017</td>\n",
       "      <td>1</td>\n",
       "    </tr>\n",
       "    <tr>\n",
       "      <th>3</th>\n",
       "      <td>[112041, 112511, 141648, 156003, 171799, 18397...</td>\n",
       "      <td>28</td>\n",
       "      <td>4112 4125 4126</td>\n",
       "      <td>1970-01-01 00:00:00.000002017</td>\n",
       "      <td>1</td>\n",
       "    </tr>\n",
       "    <tr>\n",
       "      <th>4</th>\n",
       "      <td>[126059, 206396, 287610, 299418, 341716, 50352...</td>\n",
       "      <td>10</td>\n",
       "      <td>163 4126</td>\n",
       "      <td>1970-01-01 00:00:00.000002017</td>\n",
       "      <td>1</td>\n",
       "    </tr>\n",
       "  </tbody>\n",
       "</table>\n",
       "</div>"
      ],
      "text/plain": [
       "                                            user_ids  support  \\\n",
       "0  [107233, 112041, 112511, 113661, 120927, 13046...      153   \n",
       "1  [103286, 106500, 111896, 112041, 112511, 11555...      255   \n",
       "2  [101392, 103371, 112041, 112384, 112511, 12219...      133   \n",
       "3  [112041, 112511, 141648, 156003, 171799, 18397...       28   \n",
       "4  [126059, 206396, 287610, 299418, 341716, 50352...       10   \n",
       "\n",
       "          itemsets                        period  property_values  \n",
       "0        4125 4126 1970-01-01 00:00:00.000002017                1  \n",
       "1        4112 4126 1970-01-01 00:00:00.000002017                1  \n",
       "2        4112 4125 1970-01-01 00:00:00.000002017                1  \n",
       "3   4112 4125 4126 1970-01-01 00:00:00.000002017                1  \n",
       "4         163 4126 1970-01-01 00:00:00.000002017                1  "
      ]
     },
     "execution_count": 52,
     "metadata": {},
     "output_type": "execute_result"
    }
   ],
   "source": [
    "result_df = read_lcm_output_total(output_file)\n",
    "result_df.head()"
   ]
  },
  {
   "cell_type": "code",
   "execution_count": 58,
   "metadata": {},
   "outputs": [],
   "source": [
    "# Extra step, inverse items encoding\n",
    "result_df.itemsets= result_df.itemsets.apply(lambda x : le.inverse_transform([int(i) for i in x.split()]))"
   ]
  },
  {
   "cell_type": "code",
   "execution_count": 60,
   "metadata": {},
   "outputs": [],
   "source": [
    "# Done :) \n",
    "result_df.to_csv(output_file)"
   ]
  },
  {
   "cell_type": "markdown",
   "metadata": {},
   "source": [
    "# LCM on promotion periods"
   ]
  },
  {
   "cell_type": "code",
   "execution_count": 6,
   "metadata": {},
   "outputs": [],
   "source": [
    "import datetime\n",
    "def concat_total_dataset(files_path='../datasets/Total/data'):\n",
    "    df = pd.DataFrame()\n",
    "    a = !ls {files_path}\n",
    "    for i in a:\n",
    "        df = pd.concat([pd.read_csv(f\"../datasets/Total/data/{i}\",sep=\";\"),df])\n",
    "    df_users = pd.read_csv(\"../datasets/Total/users.csv\",sep=\";\")\n",
    "    df.index = pd.to_datetime(df.TRANSACTION_DATE).dt.to_period(\"D\")\n",
    "    df[\"STATION_DEPARTEMENT_ID\"] = df.STATION_ID.apply(lambda x : x[3:5])\n",
    "    df = df[df.STATION_DEPARTEMENT_ID==df.DEPARTEMENT]\n",
    "    stations = pd.read_csv(\"../datasets/Total/STATION_TYPE.csv\",sep=\";\")\n",
    "    df = df.merge(stations,on=\"STATION_ID\").dropna()\n",
    "    df.index = pd.to_datetime(df.TRANSACTION_DATE).dt.to_period(\"D\")\n",
    "    df['date'] = pd.to_datetime(df.TRANSACTION_DATE)\n",
    "    return df"
   ]
  },
  {
   "cell_type": "code",
   "execution_count": 4,
   "metadata": {},
   "outputs": [],
   "source": [
    "df = concat_total_dataset()\n",
    "df.ARTICLE_ID = preprocessing_similar_ids(df)\n"
   ]
  },
  {
   "cell_type": "code",
   "execution_count": 13,
   "metadata": {},
   "outputs": [
    {
     "data": {
      "text/plain": [
       "('2017-02-28 07:23:20', '2019-12-30 22:12:56')"
      ]
     },
     "execution_count": 13,
     "metadata": {},
     "output_type": "execute_result"
    }
   ],
   "source": [
    "df.TRANSACTION_DATE.min(),df.TRANSACTION_DATE.max(),"
   ]
  },
  {
   "cell_type": "code",
   "execution_count": 38,
   "metadata": {},
   "outputs": [],
   "source": [
    "# Global parameters\n",
    "frequency =\"9M\"\n",
    "min_support= 5\n",
    "itemsets_size = [1,\"2001\"]\n",
    "properties = [\"a\"]\n",
    "file_name =f'{frequency}-{min_support}-[{itemsets_size[0]}-{itemsets_size[1]}]-[{\",\".join(str(i) for i in properties)}]-lcm.out'\n",
    "output_file = f'../lcm_results/{file_name}'"
   ]
  },
  {
   "cell_type": "code",
   "execution_count": 43,
   "metadata": {},
   "outputs": [],
   "source": [
    "# Encoding for ARTICLE_ID as their size is not supported by current lcm implementation \n",
    "le = preprocessing.LabelEncoder()\n",
    "le.fit(df[\"ARTICLE_ID\"])\n",
    "# # Encoder is saved \n",
    "np.save(f'../plots/encoders/{file_name}.npy', le.classes_)"
   ]
  },
  {
   "cell_type": "code",
   "execution_count": 44,
   "metadata": {},
   "outputs": [
    {
     "data": {
      "text/html": [
       "<div>\n",
       "<style scoped>\n",
       "    .dataframe tbody tr th:only-of-type {\n",
       "        vertical-align: middle;\n",
       "    }\n",
       "\n",
       "    .dataframe tbody tr th {\n",
       "        vertical-align: top;\n",
       "    }\n",
       "\n",
       "    .dataframe thead th {\n",
       "        text-align: right;\n",
       "    }\n",
       "</style>\n",
       "<table border=\"1\" class=\"dataframe\">\n",
       "  <thead>\n",
       "    <tr style=\"text-align: right;\">\n",
       "      <th></th>\n",
       "      <th>Unnamed: 0</th>\n",
       "      <th>DESCRIPTION</th>\n",
       "      <th>IDS_LIST</th>\n",
       "      <th>ARTICLE_ID</th>\n",
       "    </tr>\n",
       "  </thead>\n",
       "  <tbody>\n",
       "    <tr>\n",
       "      <th>0</th>\n",
       "      <td>121</td>\n",
       "      <td>ACTIVA 5000 ESS 15W40</td>\n",
       "      <td>[3425901014890]</td>\n",
       "      <td>3425901014890</td>\n",
       "    </tr>\n",
       "    <tr>\n",
       "      <th>5</th>\n",
       "      <td>126</td>\n",
       "      <td>ACTIVA 9000E 1L</td>\n",
       "      <td>[3425901015859]</td>\n",
       "      <td>3425901015859</td>\n",
       "    </tr>\n",
       "    <tr>\n",
       "      <th>6</th>\n",
       "      <td>127</td>\n",
       "      <td>ACTIVA D5000 1L 15W40</td>\n",
       "      <td>[3425901015835]</td>\n",
       "      <td>3425901015835</td>\n",
       "    </tr>\n",
       "    <tr>\n",
       "      <th>7</th>\n",
       "      <td>128</td>\n",
       "      <td>ACTIVA D9000 5L   5W40</td>\n",
       "      <td>[3425901014944]</td>\n",
       "      <td>3425901014944</td>\n",
       "    </tr>\n",
       "    <tr>\n",
       "      <th>8</th>\n",
       "      <td>129</td>\n",
       "      <td>ACTIVA INEO ECS 5W30 2L</td>\n",
       "      <td>[3425901018188]</td>\n",
       "      <td>3425901018188</td>\n",
       "    </tr>\n",
       "    <tr>\n",
       "      <th>11</th>\n",
       "      <td>132</td>\n",
       "      <td>ACTIVA INEO LONG LIFE 5W30 5L</td>\n",
       "      <td>[3425901027449]</td>\n",
       "      <td>3425901027449</td>\n",
       "    </tr>\n",
       "    <tr>\n",
       "      <th>12</th>\n",
       "      <td>160</td>\n",
       "      <td>ADBLUE BIDON 5L</td>\n",
       "      <td>[3011449300559, 3011449300331, 3701239300004, ...</td>\n",
       "      <td>3011449300559</td>\n",
       "    </tr>\n",
       "    <tr>\n",
       "      <th>13</th>\n",
       "      <td>1093</td>\n",
       "      <td>BIDON AD BLUE 10L</td>\n",
       "      <td>[3425901018140, 7070091000701, 3460537800028, ...</td>\n",
       "      <td>3425901018140</td>\n",
       "    </tr>\n",
       "    <tr>\n",
       "      <th>16</th>\n",
       "      <td>3944</td>\n",
       "      <td>ELF EVOLUTION 5W30 2 L</td>\n",
       "      <td>[3267025010606]</td>\n",
       "      <td>3267025010606</td>\n",
       "    </tr>\n",
       "    <tr>\n",
       "      <th>22</th>\n",
       "      <td>3963</td>\n",
       "      <td>ELF MOTO 2 OFF ROAD 1L 10W40 SAE 30</td>\n",
       "      <td>[3267025007262]</td>\n",
       "      <td>3267025007262</td>\n",
       "    </tr>\n",
       "    <tr>\n",
       "      <th>23</th>\n",
       "      <td>3964</td>\n",
       "      <td>ELF MOTO 2 SELF MIX 1L</td>\n",
       "      <td>[3267021030837, 3267025007231]</td>\n",
       "      <td>3267021030837</td>\n",
       "    </tr>\n",
       "    <tr>\n",
       "      <th>24</th>\n",
       "      <td>3965</td>\n",
       "      <td>ELF MOTO 2 TECH 1L SAE 30</td>\n",
       "      <td>[3267025007293]</td>\n",
       "      <td>3267025007293</td>\n",
       "    </tr>\n",
       "    <tr>\n",
       "      <th>27</th>\n",
       "      <td>3968</td>\n",
       "      <td>ELF MOTO 4 ROAD 10W40 1L</td>\n",
       "      <td>[3267025007361]</td>\n",
       "      <td>3267025007361</td>\n",
       "    </tr>\n",
       "    <tr>\n",
       "      <th>28</th>\n",
       "      <td>3969</td>\n",
       "      <td>ELF MOTO 4 TECH</td>\n",
       "      <td>[3267025007460]</td>\n",
       "      <td>3267025007460</td>\n",
       "    </tr>\n",
       "    <tr>\n",
       "      <th>34</th>\n",
       "      <td>4134</td>\n",
       "      <td>EVIAN 50CL</td>\n",
       "      <td>[3068320110783, 3068320115214, 3068320055008, ...</td>\n",
       "      <td>3068320110783</td>\n",
       "    </tr>\n",
       "    <tr>\n",
       "      <th>36</th>\n",
       "      <td>8527</td>\n",
       "      <td>QUARTZ 9000 F 5W2</td>\n",
       "      <td>[3425901037172]</td>\n",
       "      <td>3425901037172</td>\n",
       "    </tr>\n",
       "    <tr>\n",
       "      <th>37</th>\n",
       "      <td>8528</td>\n",
       "      <td>QUARTZ 9000 NFC 5W30 1L</td>\n",
       "      <td>[3425901025872]</td>\n",
       "      <td>3425901025872</td>\n",
       "    </tr>\n",
       "    <tr>\n",
       "      <th>39</th>\n",
       "      <td>8530</td>\n",
       "      <td>QUARTZ ENERGY 9000  0W30 1L</td>\n",
       "      <td>[3425901017969]</td>\n",
       "      <td>3425901017969</td>\n",
       "    </tr>\n",
       "    <tr>\n",
       "      <th>40</th>\n",
       "      <td>8531</td>\n",
       "      <td>QUARTZ IN LG LIFE 5W30</td>\n",
       "      <td>[3425901028170]</td>\n",
       "      <td>3425901028170</td>\n",
       "    </tr>\n",
       "    <tr>\n",
       "      <th>44</th>\n",
       "      <td>8535</td>\n",
       "      <td>QUARTZ INEO LONG 5 L</td>\n",
       "      <td>[3425901028187]</td>\n",
       "      <td>3425901028187</td>\n",
       "    </tr>\n",
       "    <tr>\n",
       "      <th>45</th>\n",
       "      <td>8536</td>\n",
       "      <td>QUARTZ INEO MC3</td>\n",
       "      <td>[3425901026251]</td>\n",
       "      <td>3425901026251</td>\n",
       "    </tr>\n",
       "    <tr>\n",
       "      <th>46</th>\n",
       "      <td>8537</td>\n",
       "      <td>QUARTZ INEO MC3 5W30</td>\n",
       "      <td>[3425901019505]</td>\n",
       "      <td>3425901019505</td>\n",
       "    </tr>\n",
       "    <tr>\n",
       "      <th>47</th>\n",
       "      <td>8538</td>\n",
       "      <td>QUARTZ INEO MC3 5W30 1L</td>\n",
       "      <td>[3425901018232]</td>\n",
       "      <td>3425901018232</td>\n",
       "    </tr>\n",
       "    <tr>\n",
       "      <th>48</th>\n",
       "      <td>8760</td>\n",
       "      <td>RECHARGE LAVAGE TW - A</td>\n",
       "      <td>[3425909001007]</td>\n",
       "      <td>3425909001007</td>\n",
       "    </tr>\n",
       "    <tr>\n",
       "      <th>49</th>\n",
       "      <td>8761</td>\n",
       "      <td>RECHARGE LAVAGE TW - D</td>\n",
       "      <td>[3425909002011]</td>\n",
       "      <td>3425909002011</td>\n",
       "    </tr>\n",
       "    <tr>\n",
       "      <th>52</th>\n",
       "      <td>10297</td>\n",
       "      <td>TOTAL ACTIVA 9000 5W40 2L</td>\n",
       "      <td>[3425901018720, 3425901015729]</td>\n",
       "      <td>3425901018720</td>\n",
       "    </tr>\n",
       "    <tr>\n",
       "      <th>54</th>\n",
       "      <td>10299</td>\n",
       "      <td>TOTAL ACTIVA INEO ECS 5W30 5L</td>\n",
       "      <td>[3425901018195]</td>\n",
       "      <td>3425901018195</td>\n",
       "    </tr>\n",
       "    <tr>\n",
       "      <th>55</th>\n",
       "      <td>10303</td>\n",
       "      <td>TOTAL ANTI CREVAISON 500ML</td>\n",
       "      <td>[3011449014005]</td>\n",
       "      <td>3011449014005</td>\n",
       "    </tr>\n",
       "    <tr>\n",
       "      <th>60</th>\n",
       "      <td>10366</td>\n",
       "      <td>TOTAL QUARTZ IN</td>\n",
       "      <td>[3425901029290]</td>\n",
       "      <td>3425901029290</td>\n",
       "    </tr>\n",
       "  </tbody>\n",
       "</table>\n",
       "</div>"
      ],
      "text/plain": [
       "    Unnamed: 0                          DESCRIPTION  \\\n",
       "0          121                ACTIVA 5000 ESS 15W40   \n",
       "5          126                      ACTIVA 9000E 1L   \n",
       "6          127                ACTIVA D5000 1L 15W40   \n",
       "7          128               ACTIVA D9000 5L   5W40   \n",
       "8          129              ACTIVA INEO ECS 5W30 2L   \n",
       "11         132        ACTIVA INEO LONG LIFE 5W30 5L   \n",
       "12         160                      ADBLUE BIDON 5L   \n",
       "13        1093                    BIDON AD BLUE 10L   \n",
       "16        3944               ELF EVOLUTION 5W30 2 L   \n",
       "22        3963  ELF MOTO 2 OFF ROAD 1L 10W40 SAE 30   \n",
       "23        3964               ELF MOTO 2 SELF MIX 1L   \n",
       "24        3965            ELF MOTO 2 TECH 1L SAE 30   \n",
       "27        3968             ELF MOTO 4 ROAD 10W40 1L   \n",
       "28        3969                      ELF MOTO 4 TECH   \n",
       "34        4134                           EVIAN 50CL   \n",
       "36        8527                    QUARTZ 9000 F 5W2   \n",
       "37        8528              QUARTZ 9000 NFC 5W30 1L   \n",
       "39        8530          QUARTZ ENERGY 9000  0W30 1L   \n",
       "40        8531               QUARTZ IN LG LIFE 5W30   \n",
       "44        8535                 QUARTZ INEO LONG 5 L   \n",
       "45        8536                      QUARTZ INEO MC3   \n",
       "46        8537                 QUARTZ INEO MC3 5W30   \n",
       "47        8538              QUARTZ INEO MC3 5W30 1L   \n",
       "48        8760               RECHARGE LAVAGE TW - A   \n",
       "49        8761               RECHARGE LAVAGE TW - D   \n",
       "52       10297            TOTAL ACTIVA 9000 5W40 2L   \n",
       "54       10299        TOTAL ACTIVA INEO ECS 5W30 5L   \n",
       "55       10303           TOTAL ANTI CREVAISON 500ML   \n",
       "60       10366                      TOTAL QUARTZ IN   \n",
       "\n",
       "                                             IDS_LIST     ARTICLE_ID  \n",
       "0                                     [3425901014890]  3425901014890  \n",
       "5                                     [3425901015859]  3425901015859  \n",
       "6                                     [3425901015835]  3425901015835  \n",
       "7                                     [3425901014944]  3425901014944  \n",
       "8                                     [3425901018188]  3425901018188  \n",
       "11                                    [3425901027449]  3425901027449  \n",
       "12  [3011449300559, 3011449300331, 3701239300004, ...  3011449300559  \n",
       "13  [3425901018140, 7070091000701, 3460537800028, ...  3425901018140  \n",
       "16                                    [3267025010606]  3267025010606  \n",
       "22                                    [3267025007262]  3267025007262  \n",
       "23                     [3267021030837, 3267025007231]  3267021030837  \n",
       "24                                    [3267025007293]  3267025007293  \n",
       "27                                    [3267025007361]  3267025007361  \n",
       "28                                    [3267025007460]  3267025007460  \n",
       "34  [3068320110783, 3068320115214, 3068320055008, ...  3068320110783  \n",
       "36                                    [3425901037172]  3425901037172  \n",
       "37                                    [3425901025872]  3425901025872  \n",
       "39                                    [3425901017969]  3425901017969  \n",
       "40                                    [3425901028170]  3425901028170  \n",
       "44                                    [3425901028187]  3425901028187  \n",
       "45                                    [3425901026251]  3425901026251  \n",
       "46                                    [3425901019505]  3425901019505  \n",
       "47                                    [3425901018232]  3425901018232  \n",
       "48                                    [3425909001007]  3425909001007  \n",
       "49                                    [3425909002011]  3425909002011  \n",
       "52                     [3425901018720, 3425901015729]  3425901018720  \n",
       "54                                    [3425901018195]  3425901018195  \n",
       "55                                    [3011449014005]  3011449014005  \n",
       "60                                    [3425901029290]  3425901029290  "
      ]
     },
     "execution_count": 44,
     "metadata": {},
     "output_type": "execute_result"
    }
   ],
   "source": [
    "promo_products"
   ]
  },
  {
   "cell_type": "code",
   "execution_count": 45,
   "metadata": {},
   "outputs": [
    {
     "data": {
      "text/plain": [
       "TRANSACTION_DATE\n",
       "2018-07-30    3700205840780\n",
       "2019-08-13     712392777322\n",
       "2019-08-13    3017625073309\n",
       "2018-03-26    3425909001076\n",
       "2017-05-12    3425909001076\n",
       "                  ...      \n",
       "2017-09-01    8593893720442\n",
       "2019-06-14    3217770310841\n",
       "2019-06-03    3701239300011\n",
       "2019-06-03    3701239300011\n",
       "2019-06-03    3701239300011\n",
       "Freq: D, Name: ARTICLE_ID, Length: 250208, dtype: int64"
      ]
     },
     "execution_count": 45,
     "metadata": {},
     "output_type": "execute_result"
    }
   ],
   "source": [
    "df.ARTICLE_ID"
   ]
  },
  {
   "cell_type": "code",
   "execution_count": 46,
   "metadata": {},
   "outputs": [],
   "source": [
    "# Promotion product list \n",
    "promo_products = pd.read_csv(\"../datasets/Total/promo_products.csv\")\n",
    "promo_products= promo_products[promo_products[\"ARTICLE_ID\"].isin(df.ARTICLE_ID)]\n",
    "promo_list = le.transform([i for i in promo_products.ARTICLE_ID.tolist()])"
   ]
  },
  {
   "cell_type": "code",
   "execution_count": 47,
   "metadata": {},
   "outputs": [],
   "source": [
    "df[\"ARTICLE_ID\"] = le.transform(df[\"ARTICLE_ID\"])"
   ]
  },
  {
   "cell_type": "code",
   "execution_count": 86,
   "metadata": {
    "scrolled": true
   },
   "outputs": [],
   "source": [
    "# promo dates \n",
    "promo_date_begin = pd.to_datetime(datetime.date(2018,12,17))\n",
    "promo_date_end = pd.to_datetime(datetime.date(2019,2,28))\n",
    "print(promo_date_begin,promo_date_end)\n",
    "\n",
    "# Transactions data for T-1, T and T+1\n",
    "# T-1 = [promo_date_begin - 3 months , promo_date_begin] \n",
    "df_promo_before = df[(df['date']< promo_date_begin)& (df['date']>promo_date_begin + relativedelta(months=-3))]\n",
    "\n",
    "# T = [promo_date_begin , promo_date_end] \n",
    "# Only promotion products are considered in T\n",
    "df_promo = df[(df.date>= promo_date_begin)& (df.date<=promo_date_end)]\n",
    "df_promo = df_promo[df_promo.ARTICLE_ID.isin(promo_list)]\n",
    "\n",
    "# T+1 = [promo_date_end , promo_date_end + 3 months] \n",
    "df_promo_after = df[(df.date> promo_date_end)& (df.date<=promo_date_end + relativedelta(months=3))]"
   ]
  },
  {
   "cell_type": "code",
   "execution_count": 49,
   "metadata": {},
   "outputs": [
    {
     "name": "stdout",
     "output_type": "stream",
     "text": [
      "#trsansaction : \n",
      " Before promo 19463 \n",
      " During promo 1268 \n",
      " After promo 19980 \n"
     ]
    }
   ],
   "source": [
    "print(f\"#trsansaction : \\n Before promo {df_promo_before.shape[0]} \\n During promo {df_promo.shape[0]} \\n After promo {df_promo_after.shape[0]} \" )"
   ]
  },
  {
   "cell_type": "markdown",
   "metadata": {},
   "source": [
    "# Run LCM "
   ]
  },
  {
   "cell_type": "code",
   "execution_count": 50,
   "metadata": {},
   "outputs": [
    {
     "name": "stderr",
     "output_type": "stream",
     "text": [
      "/home/abdelouahab/3env/local/lib/python3.7/site-packages/ipykernel_launcher.py:4: SettingWithCopyWarning: \n",
      "A value is trying to be set on a copy of a slice from a DataFrame.\n",
      "Try using .loc[row_indexer,col_indexer] = value instead\n",
      "\n",
      "See the caveats in the documentation: https://pandas.pydata.org/pandas-docs/stable/user_guide/indexing.html#returning-a-view-versus-a-copy\n",
      "  after removing the cwd from sys.path.\n"
     ]
    },
    {
     "name": "stdout",
     "output_type": "stream",
     "text": [
      "Found  780.0  in ../lcm_temp/2018-09_1#5\n",
      "Found  6.0  in ../lcm_temp/2018-12_1#5\n",
      "Found  793.0  in ../lcm_temp/2019-02_1#5\n"
     ]
    }
   ],
   "source": [
    "os.remove(output_file)\n",
    "f = partial(run_lcm,itemsets_size=itemsets_size,support=min_support, output_file=output_file)\n",
    "for input_file in [df_promo_before,df_promo,df_promo_after]:\n",
    "    input_file[\"a\"]=1\n",
    "    p = Pool(8)\n",
    "    res  = p.imap_unordered(f,dataset_property_split(input_file,frequency,properties,min_support))\n",
    "    p.close()\n",
    "    p.join()"
   ]
  },
  {
   "cell_type": "markdown",
   "metadata": {},
   "source": [
    "# Promo period stats"
   ]
  },
  {
   "cell_type": "code",
   "execution_count": 51,
   "metadata": {},
   "outputs": [
    {
     "data": {
      "text/html": [
       "<div>\n",
       "<style scoped>\n",
       "    .dataframe tbody tr th:only-of-type {\n",
       "        vertical-align: middle;\n",
       "    }\n",
       "\n",
       "    .dataframe tbody tr th {\n",
       "        vertical-align: top;\n",
       "    }\n",
       "\n",
       "    .dataframe thead th {\n",
       "        text-align: right;\n",
       "    }\n",
       "</style>\n",
       "<table border=\"1\" class=\"dataframe\">\n",
       "  <thead>\n",
       "    <tr style=\"text-align: right;\">\n",
       "      <th></th>\n",
       "      <th>ARTICLE_ID</th>\n",
       "    </tr>\n",
       "  </thead>\n",
       "  <tbody>\n",
       "    <tr>\n",
       "      <th>1</th>\n",
       "      <td>993</td>\n",
       "    </tr>\n",
       "    <tr>\n",
       "      <th>2</th>\n",
       "      <td>6</td>\n",
       "    </tr>\n",
       "    <tr>\n",
       "      <th>3</th>\n",
       "      <td>1</td>\n",
       "    </tr>\n",
       "  </tbody>\n",
       "</table>\n",
       "</div>"
      ],
      "text/plain": [
       "   ARTICLE_ID\n",
       "1         993\n",
       "2           6\n",
       "3           1"
      ]
     },
     "metadata": {},
     "output_type": "display_data"
    },
    {
     "data": {
      "text/plain": [
       "Text(0, 0.5, '# of users ')"
      ]
     },
     "execution_count": 51,
     "metadata": {},
     "output_type": "execute_result"
    },
    {
     "data": {
      "image/png": "[encoded data removed]",
      "text/plain": [
       "<Figure size 1080x360 with 1 Axes>"
      ]
     },
     "metadata": {
      "needs_background": "light"
     },
     "output_type": "display_data"
    }
   ],
   "source": [
    "stats_df = df_promo.groupby(\"CUST_ID\")[\"ARTICLE_ID\"].apply(set).apply(len).to_frame().sort_values(\"ARTICLE_ID\",ascending=False)[\"ARTICLE_ID\"].value_counts()\n",
    "ICD.display(stats_df.to_frame())\n",
    "\n",
    "ax = stats_df.plot.bar(figsize=(15,5))\n",
    "ax.set_xlabel(\"# distinct promo-produtcs bought during promo period\")\n",
    "ax.set_ylabel(\"# of users \")"
   ]
  },
  {
   "cell_type": "code",
   "execution_count": 55,
   "metadata": {},
   "outputs": [],
   "source": [
    "stats_df = df_promo.groupby(\"ARTICLE_ID\")[\"CUST_ID\"].apply(list).apply(len).sort_values(0,ascending=False).to_frame().reset_index()"
   ]
  },
  {
   "cell_type": "code",
   "execution_count": 88,
   "metadata": {},
   "outputs": [],
   "source": [
    "df_promo[\"ARTICLE_ID\"]  = df_promo.apply(lambda x : le.inverse_transform([x.ARTICLE_ID])[0],axis=1)"
   ]
  },
  {
   "cell_type": "code",
   "execution_count": 135,
   "metadata": {},
   "outputs": [
    {
     "data": {
      "text/plain": [
       "Text(0, 0.5, '#Users')"
      ]
     },
     "execution_count": 135,
     "metadata": {},
     "output_type": "execute_result"
    },
    {
     "data": {
      "image/png": "[encoded data removed]",
      "text/plain": [
       "<Figure size 1440x576 with 1 Axes>"
      ]
     },
     "metadata": {
      "needs_background": "light"
     },
     "output_type": "display_data"
    }
   ],
   "source": [
    "df_promo= df_promo.merge(items,on='ARTICLE_ID')\n",
    "stats_df =  df_promo.groupby(\"DESCRIPTION\").apply(len)\n",
    "ax  = stats_df.plot.bar(figsize=(20,8),)\n",
    "ax.set_xlabel(\"DESCRIPTION\")\n",
    "ax.set_ylabel(\"#Users\")"
   ]
  },
  {
   "cell_type": "code",
   "execution_count": 141,
   "metadata": {},
   "outputs": [
    {
     "data": {
      "text/html": [
       "<div>\n",
       "<style scoped>\n",
       "    .dataframe tbody tr th:only-of-type {\n",
       "        vertical-align: middle;\n",
       "    }\n",
       "\n",
       "    .dataframe tbody tr th {\n",
       "        vertical-align: top;\n",
       "    }\n",
       "\n",
       "    .dataframe thead th {\n",
       "        text-align: right;\n",
       "    }\n",
       "</style>\n",
       "<table border=\"1\" class=\"dataframe\">\n",
       "  <thead>\n",
       "    <tr style=\"text-align: right;\">\n",
       "      <th></th>\n",
       "      <th>DESCRIPTION</th>\n",
       "      <th>Users_Count</th>\n",
       "    </tr>\n",
       "  </thead>\n",
       "  <tbody>\n",
       "    <tr>\n",
       "      <th>0</th>\n",
       "      <td>RECHARGE LAVAGE TW - A</td>\n",
       "      <td>946</td>\n",
       "    </tr>\n",
       "    <tr>\n",
       "      <th>1</th>\n",
       "      <td>RECHARGE LAVAGE TW - D</td>\n",
       "      <td>208</td>\n",
       "    </tr>\n",
       "    <tr>\n",
       "      <th>2</th>\n",
       "      <td>BIDON AD BLUE 10L</td>\n",
       "      <td>64</td>\n",
       "    </tr>\n",
       "    <tr>\n",
       "      <th>3</th>\n",
       "      <td>QUARTZ IN LG LIFE 5W30</td>\n",
       "      <td>14</td>\n",
       "    </tr>\n",
       "    <tr>\n",
       "      <th>4</th>\n",
       "      <td>TOTAL ACTIVA 9000 5W40 2L</td>\n",
       "      <td>10</td>\n",
       "    </tr>\n",
       "    <tr>\n",
       "      <th>5</th>\n",
       "      <td>ADBLUE BIDON 5L</td>\n",
       "      <td>6</td>\n",
       "    </tr>\n",
       "    <tr>\n",
       "      <th>6</th>\n",
       "      <td>QUARTZ ENERGY 9000  0W30 1L</td>\n",
       "      <td>4</td>\n",
       "    </tr>\n",
       "    <tr>\n",
       "      <th>7</th>\n",
       "      <td>ACTIVA INEO ECS 5W30 2L</td>\n",
       "      <td>4</td>\n",
       "    </tr>\n",
       "    <tr>\n",
       "      <th>8</th>\n",
       "      <td>QUARTZ INEO MC3 5W30 1L</td>\n",
       "      <td>3</td>\n",
       "    </tr>\n",
       "    <tr>\n",
       "      <th>9</th>\n",
       "      <td>QUARTZ 9000 NFC 5W30 1L</td>\n",
       "      <td>3</td>\n",
       "    </tr>\n",
       "    <tr>\n",
       "      <th>10</th>\n",
       "      <td>ACTIVA 9000E 1L</td>\n",
       "      <td>3</td>\n",
       "    </tr>\n",
       "    <tr>\n",
       "      <th>11</th>\n",
       "      <td>TOTAL QUARTZ IN</td>\n",
       "      <td>2</td>\n",
       "    </tr>\n",
       "    <tr>\n",
       "      <th>12</th>\n",
       "      <td>ELF MOTO 4 TECH</td>\n",
       "      <td>1</td>\n",
       "    </tr>\n",
       "  </tbody>\n",
       "</table>\n",
       "</div>"
      ],
      "text/plain": [
       "                    DESCRIPTION  Users_Count\n",
       "0        RECHARGE LAVAGE TW - A          946\n",
       "1        RECHARGE LAVAGE TW - D          208\n",
       "2             BIDON AD BLUE 10L           64\n",
       "3        QUARTZ IN LG LIFE 5W30           14\n",
       "4     TOTAL ACTIVA 9000 5W40 2L           10\n",
       "5               ADBLUE BIDON 5L            6\n",
       "6   QUARTZ ENERGY 9000  0W30 1L            4\n",
       "7       ACTIVA INEO ECS 5W30 2L            4\n",
       "8       QUARTZ INEO MC3 5W30 1L            3\n",
       "9       QUARTZ 9000 NFC 5W30 1L            3\n",
       "10              ACTIVA 9000E 1L            3\n",
       "11              TOTAL QUARTZ IN            2\n",
       "12              ELF MOTO 4 TECH            1"
      ]
     },
     "execution_count": 141,
     "metadata": {},
     "output_type": "execute_result"
    }
   ],
   "source": [
    "stats_df= stats_df.sort_values(\"Users_Count\",ascending=False)\n",
    "stats_df.columns = [\"DESCRIPTION\", \"Users_Count\"]\n",
    "stats_df"
   ]
  },
  {
   "cell_type": "code",
   "execution_count": 17,
   "metadata": {},
   "outputs": [
    {
     "data": {
      "text/plain": [
       "32160"
      ]
     },
     "execution_count": 17,
     "metadata": {},
     "output_type": "execute_result"
    }
   ],
   "source": [
    "df.CUST_ID.nunique()"
   ]
  },
  {
   "cell_type": "code",
   "execution_count": null,
   "metadata": {},
   "outputs": [],
   "source": []
  }
 ],
 "metadata": {
  "kernelspec": {
   "display_name": "Python 3",
   "language": "python",
   "name": "python3"
  },
  "language_info": {
   "codemirror_mode": {
    "name": "ipython",
    "version": 3
   },
   "file_extension": ".py",
   "mimetype": "text/x-python",
   "name": "python",
   "nbconvert_exporter": "python",
   "pygments_lexer": "ipython3",
   "version": "3.7.5"
  }
 },
 "nbformat": 4,
 "nbformat_minor": 2
}
