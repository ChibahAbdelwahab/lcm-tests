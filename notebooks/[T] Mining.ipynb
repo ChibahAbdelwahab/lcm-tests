{
 "cells": [
  {
   "cell_type": "markdown",
   "metadata": {},
   "source": [
    "# Total Dataset mining"
   ]
  },
  {
   "cell_type": "code",
   "execution_count": 4,
   "metadata": {},
   "outputs": [],
   "source": [
    "import pandas as pd \n",
    "import numpy as np\n",
    "from datetime import date,datetime\n",
    "import csv\n",
    "import re\n",
    "from multiprocessing import Pool\n",
    "from functools import partial\n",
    "from sklearn import preprocessing\n",
    "from IPython.core import display as ICD\n",
    "import matplotlib.pyplot as plt\n",
    "import itertools\n",
    "import os\n",
    "import json\n",
    "from dateutil.relativedelta import relativedelta\n",
    "from sklearn import preprocessing"
   ]
  },
  {
   "cell_type": "code",
   "execution_count": 5,
   "metadata": {},
   "outputs": [],
   "source": [
    "# TODO add doc \n",
    "def dataset_property_split(df,frequency,properties,min_support,groupby_property=\"CUST_ID\",itemset_property=\"ARTICLE_ID\",temp_folder=\"../lcm_temp\",indexation_folder=\"../index\"):\n",
    "    \"\"\"Split dataset \"\"\"\n",
    "    for period,i in df.groupby(pd.Grouper(freq = frequency)):\n",
    "        for values,ii in i.groupby(properties):\n",
    "            if len(properties)>1:\n",
    "                values = '_'.join(str(z) for z in values)\n",
    "            \n",
    "            split_name = f\"{temp_folder}/{period}_{values}#{min_support}\"\n",
    "            index_file_name = f\"{indexation_folder}/{period}_{values}#{min_support}\"\n",
    "\n",
    "            ii = ii.groupby(groupby_property)[itemset_property].apply(lambda x: \" \".join(str(z) for z in x))\n",
    "            \n",
    "            ii.to_csv(split_name,index=None,header=False)\n",
    "            pd.DataFrame(ii.index).to_csv(index_file_name,header=False,index=None)\n",
    "            yield str(split_name)\n",
    "        \n",
    "\n",
    "def preprocessing_similar_ids(df,mapping_file_path=\"../datasets/Total/ids_mapping.json\",attribute_name=\"ARTICLE_ID\"):\n",
    "    with open(mapping_file_path,\"r\") as f:\n",
    "        mapping = json.load(f)\n",
    "        ids = df[attribute_name].astype(str).replace(mapping)\n",
    "    return ids\n",
    "def reformat_output(unformated_result,split_name,index_folder=\"../index\"):\n",
    "    \"\"\"\n",
    "    Reformat default output of lcm  to a dataframe with structure : min_support,itemsets,users\n",
    "    \"\"\"\n",
    "    output = pd.DataFrame([unformated_result[0::2],unformated_result[1::2]]).T\n",
    "    output = pd.concat([output.drop(0,axis=1),output[0].str.split('\\(([0-9]+)\\)',expand=True).drop(0,axis=1)],axis=1)\n",
    "    split_name= split_name.split(\"/\")[2] #remove temp folder from name\n",
    "    output[\"period\"] = split_name.split(\"_\")[0]\n",
    "    output[\"property_values\"] = \"_\".join(split_name.split(\"_\")[1:]).split(\"#\")[0]\n",
    "    output.columns = [\"CUST_ID\",\"support\",\"itemset\",\"period\",\"property_values\"]\n",
    "    indexes = pd.read_csv(f'{index_folder}/{split_name}',header=None)[0].to_dict()\n",
    "    output[\"CUST_ID\"]= output[\"CUST_ID\"].map(lambda x : [indexes[int(i)] for i in x.split()])\n",
    "    return output\n",
    "\n",
    "\n",
    "# TODO doc for support\n",
    "def run_lcm(split_name,itemsets_size,support,output_file):\n",
    "    \"\"\"Runs LCM (Single Thread)  and return the  result formated with format_output\n",
    "    \n",
    "    Example for parameters : input_file='1999',support=6, itemsets_size=[5,100]\n",
    "    Executed command :  $ ./lcm C_QI -l 5 -u 100 1999 6 -\n",
    "    \n",
    "    Preconfigured parameters:  \n",
    "     C: enumerate closed frequent itemsets\n",
    "     M: enumerate maximal frequent itemsets \n",
    "     Q: output the frequency on the head of each itemset found,\n",
    "     I: output ID's of transactions including each itemset; ID of a transaction is given by the number of line in which the transaction is written. The ID starts from 0.\n",
    "     _: no output to standard output (including messages w.r.t. input data)\n",
    "     -l,-u [num]: enumerate itemsets with size at least/most [num]  \n",
    "   \n",
    "    Output:\n",
    "        Replace file having name input_file with the result : support,itemset,users\n",
    "        if no itemset found the input_file is deleted and output is empty string \"\"\n",
    "    \"\"\"\n",
    "    support = int(support)\n",
    "    if None in itemsets_size:\n",
    "        result = !./lcm C_QI -l {itemsets_size[0]} \"{split_name}\" {support} -\n",
    "    else :\n",
    "        result = !./lcm C_QI -l {itemsets_size[0]} -u {itemsets_size[1]}  \"{split_name}\" {support} -\n",
    "    \n",
    "    os.remove(split_name)\n",
    "    if \"there is no frequent item\" in str(result) or result == []:\n",
    "        print(\"No itemset\",split_name)\n",
    "        return \n",
    "    print(\"# LCM Found \",len(result)/2,\" in\",split_name )\n",
    "    # TODO Optimize this bottleneck \n",
    "    with open(output_file,\"a+\") as file:\n",
    "        reformat_output(result,split_name).to_csv(file,header=False,index=None,mode=\"a\")\n",
    "    return split_name\n",
    "\n",
    "\n",
    "def multithread_lcm(input_file,frequency,support,itemsets_size,properties,output_file):\n",
    "    f = partial(run_lcm,itemsets_size=itemsets_size,support=support, output_file=output_file)\n",
    "    p = Pool(1)\n",
    "    res  = p.imap_unordered(f,dataset_property_split(input_file,frequency,properties,support))\n",
    "    p.close()\n",
    "    p.join()\n",
    "    return res\n",
    "                                              \n",
    "def linear_closed_itemset_miner(df,frequency,min_support,itemsets_size,properties):\n",
    "    output_file = f'../lcm_results/{frequency}-{min_support}-[{itemsets_size[0]}-{itemsets_size[1]}]-[{\",\".join(str(i) for i in properties)}]-lcm.out'\n",
    "    try:\n",
    "        os.remove(output_file) # In case already existing\n",
    "        print(f\"Removed old {output_file}\")\n",
    "    except:\n",
    "        print(f\"No old file to remove for {output_file} \")\n",
    "        pass\n",
    "    a = multithread_lcm(df,frequency,min_support,itemsets_size,properties,output_file)\n",
    "    total  = len(a._items)\n",
    "    print(a,total)\n",
    "    a = [i for i in a if i is not None]\n",
    "    print(f\"---| {output_file} Done\")\n",
    "    print(f'---| #split total: {total}')\n",
    "    print(f'---| #split having groups: {len(a)}')\n",
    "    print(f'---| Average: {len(a)/total}')\n",
    "    print(\" \")\n",
    "    \n",
    "    \n",
    "def age_class(age):\n",
    "    \"\"\"User age to range classes \"\"\"\n",
    "    age = np.int(age)\n",
    "    if age<=25:\n",
    "        return 0\n",
    "    if age<=45:\n",
    "        return 1\n",
    "    return 2\n",
    "def prepare_data(file_name,folder_name=\"datasets/Total/data/\"):\n",
    "    df = pd.read_csv(f\"datasets/Total/data/{file_name}\",sep=\";\")\n",
    "    df_users = pd.read_csv(\"datasets/Total/users.csv\",sep=\";\")\n",
    "    df = df.merge(df_users,on=\"CUST_ID\")\n",
    "    df.index = pd.to_datetime(df.TRANSACTION_DATE).dt.to_period(\"D\")\n",
    "    return df\n",
    "\n",
    "def read_lcm_output_total(input_name,folder=\"../lcm_results\"):\n",
    "    \"\"\"Read and restructure LCM output file,rename columns output a df \"\"\"\n",
    "    file = f'{folder}/{input_name}'\n",
    "    df = pd.read_csv(file,header=None)\n",
    "    df.columns = [\"user_ids\",\"support\",\"itemsets\",\"period\",\"property_values\"]\n",
    "    df[\"period\"] = pd.to_datetime(df[\"period\"])\n",
    "    df[\"user_ids\"] = df.user_ids.apply(lambda x : [int(z.replace('\"',\"\")) for z in x[1:-1].split(\",\") if z != \"\"])\n",
    "    return df"
   ]
  },
  {
   "cell_type": "markdown",
   "metadata": {},
   "source": [
    "### Run LCM"
   ]
  },
  {
   "cell_type": "code",
   "execution_count": 6,
   "metadata": {},
   "outputs": [],
   "source": [
    "# frequencies =[\"M\",\"2M\",\"3M\"]\n",
    "# properties = [[\"STATION_MGT_TYPE\"],[\"STATION_MGT_TYPE\",\"DEPARTEMENT\"]]\n",
    "# from itertools import product\n",
    "# for frequency,prop in product(frequencies,properties):\n",
    "#     linear_closed_itemset_miner(df,frequency,5,[2,\"5000\"],prop)"
   ]
  },
  {
   "cell_type": "markdown",
   "metadata": {},
   "source": [
    "## Dataset preprocessing "
   ]
  },
  {
   "cell_type": "code",
   "execution_count": 7,
   "metadata": {},
   "outputs": [],
   "source": [
    "import datetime\n",
    "def concat_total_dataset(files_path='../datasets/Total/data'):\n",
    "    df = pd.DataFrame()\n",
    "    a = !ls {files_path}\n",
    "    for i in a:\n",
    "        df = pd.concat([pd.read_csv(f\"../datasets/Total/data/{i}\",sep=\";\"),df])\n",
    "        break\n",
    "    df_users = pd.read_csv(\"../datasets/Total/users.csv\",sep=\";\")\n",
    "    df = df.merge(df_users,on=\"CUST_ID\")\n",
    "    df.index = pd.to_datetime(df.TRANSACTION_DATE).dt.to_period(\"D\")\n",
    "    df[\"STATION_DEPARTEMENT_ID\"] = df.STATION_ID.apply(lambda x : x[3:5])\n",
    "    df = df[df.STATION_DEPARTEMENT_ID==df.DEPARTEMENT]\n",
    "    stations = pd.read_csv(\"../datasets/Total/STATION_TYPE.csv\",sep=\";\")\n",
    "    df = df.merge(stations,on=\"STATION_ID\").dropna()\n",
    "    df.index = pd.to_datetime(df.TRANSACTION_DATE).dt.to_period(\"D\")\n",
    "    df['date'] = pd.to_datetime(df.TRANSACTION_DATE)\n",
    "    return df"
   ]
  },
  {
   "cell_type": "markdown",
   "metadata": {},
   "source": [
    "### Parameters for no demographics "
   ]
  },
  {
   "cell_type": "code",
   "execution_count": 6,
   "metadata": {},
   "outputs": [],
   "source": [
    "# Concat all total dataset \n",
    "df = concat_total_dataset()\n",
    "df.ARTICLE_ID = preprocessing_similar_ids(df)\n",
    "\n",
    "le = preprocessing.LabelEncoder()\n",
    "df[\"ARTICLE_ID\"] = le.fit_transform(df[\"ARTICLE_ID\"]) \n",
    "df[\"a\"] = 1 # Must set a \"grouping\" attribute while we don't consider demographics"
   ]
  },
  {
   "cell_type": "code",
   "execution_count": 6,
   "metadata": {},
   "outputs": [
    {
     "data": {
      "text/plain": [
       "('2018-04-01 01:38:56', '2018-06-30 22:40:01')"
      ]
     },
     "execution_count": 6,
     "metadata": {},
     "output_type": "execute_result"
    }
   ],
   "source": [
    "df.TRANSACTION_DATE.min(),df.TRANSACTION_DATE.max()"
   ]
  },
  {
   "cell_type": "code",
   "execution_count": 46,
   "metadata": {},
   "outputs": [],
   "source": [
    "min_support = 2\n",
    "frequency = 'M' # Time granularity could be D,3D,7D, M, 2M, Y, ...\n",
    "min_description_size = 1 # the minimal number of products per group\n",
    "itemsets_size = [1,None]\n",
    "properties =[\"AGE\"] # Set this to a groupping attribute, like [\"sex\",\"age\"] or [\"a\"] to ignore this behaviour"
   ]
  },
  {
   "cell_type": "code",
   "execution_count": 47,
   "metadata": {},
   "outputs": [
    {
     "name": "stdout",
     "output_type": "stream",
     "text": [
      "No old file to remove for ../lcm_results/M-2-[1-None]-[AGE]-lcm.out \n",
      "Found  1.0  in ../lcm_temp/2017-02_35-49#2\n",
      "No itemset ../lcm_temp/2017-02_50-65#2\n",
      "No itemset ../lcm_temp/2017-02_<35#2\n",
      "Found  281.0  in ../lcm_temp/2017-03_35-49#2\n",
      "Found  212.0  in ../lcm_temp/2017-03_50-65#2\n",
      "Found  73.0  in ../lcm_temp/2017-03_<35#2\n",
      "Found  17.0  in ../lcm_temp/2017-03_>65#2\n",
      "Found  352.0  in ../lcm_temp/2017-04_35-49#2\n",
      "Found  287.0  in ../lcm_temp/2017-04_50-65#2\n",
      "Found  93.0  in ../lcm_temp/2017-04_<35#2\n",
      "Found  23.0  in ../lcm_temp/2017-04_>65#2\n",
      "Found  449.0  in ../lcm_temp/2017-05_35-49#2\n",
      "Found  311.0  in ../lcm_temp/2017-05_50-65#2\n",
      "Found  109.0  in ../lcm_temp/2017-05_<35#2\n",
      "Found  35.0  in ../lcm_temp/2017-05_>65#2\n",
      "Found  439.0  in ../lcm_temp/2017-06_35-49#2\n",
      "Found  268.0  in ../lcm_temp/2017-06_50-65#2\n",
      "Found  115.0  in ../lcm_temp/2017-06_<35#2\n",
      "Found  29.0  in ../lcm_temp/2017-06_>65#2\n",
      "Found  582.0  in ../lcm_temp/2017-07_35-49#2\n",
      "Found  442.0  in ../lcm_temp/2017-07_50-65#2\n",
      "Found  172.0  in ../lcm_temp/2017-07_<35#2\n",
      "Found  39.0  in ../lcm_temp/2017-07_>65#2\n",
      "Found  478.0  in ../lcm_temp/2017-08_35-49#2\n",
      "Found  286.0  in ../lcm_temp/2017-08_50-65#2\n",
      "Found  127.0  in ../lcm_temp/2017-08_<35#2\n",
      "Found  35.0  in ../lcm_temp/2017-08_>65#2\n",
      "Found  348.0  in ../lcm_temp/2017-09_35-49#2\n",
      "Found  311.0  in ../lcm_temp/2017-09_50-65#2\n",
      "Found  90.0  in ../lcm_temp/2017-09_<35#2\n",
      "Found  18.0  in ../lcm_temp/2017-09_>65#2\n",
      "Found  429.0  in ../lcm_temp/2017-10_35-49#2\n",
      "Found  294.0  in ../lcm_temp/2017-10_50-65#2\n",
      "Found  141.0  in ../lcm_temp/2017-10_<35#2\n",
      "Found  27.0  in ../lcm_temp/2017-10_>65#2\n",
      "Found  488.0  in ../lcm_temp/2017-11_35-49#2\n",
      "Found  400.0  in ../lcm_temp/2017-11_50-65#2\n",
      "Found  123.0  in ../lcm_temp/2017-11_<35#2\n",
      "Found  28.0  in ../lcm_temp/2017-11_>65#2\n",
      "Found  396.0  in ../lcm_temp/2017-12_35-49#2\n",
      "Found  288.0  in ../lcm_temp/2017-12_50-65#2\n",
      "Found  82.0  in ../lcm_temp/2017-12_<35#2\n",
      "Found  22.0  in ../lcm_temp/2017-12_>65#2\n",
      "Found  351.0  in ../lcm_temp/2018-01_35-49#2\n",
      "Found  242.0  in ../lcm_temp/2018-01_50-65#2\n",
      "Found  91.0  in ../lcm_temp/2018-01_<35#2\n",
      "Found  16.0  in ../lcm_temp/2018-01_>65#2\n",
      "Found  398.0  in ../lcm_temp/2018-02_35-49#2\n",
      "Found  237.0  in ../lcm_temp/2018-02_50-65#2\n",
      "Found  136.0  in ../lcm_temp/2018-02_<35#2\n",
      "Found  17.0  in ../lcm_temp/2018-02_>65#2\n",
      "Found  483.0  in ../lcm_temp/2018-03_35-49#2\n",
      "Found  356.0  in ../lcm_temp/2018-03_50-65#2\n",
      "Found  148.0  in ../lcm_temp/2018-03_<35#2\n",
      "Found  11.0  in ../lcm_temp/2018-03_>65#2\n",
      "Found  586.0  in ../lcm_temp/2018-04_35-49#2\n",
      "Found  504.0  in ../lcm_temp/2018-04_50-65#2\n",
      "Found  175.0  in ../lcm_temp/2018-04_<35#2\n",
      "Found  31.0  in ../lcm_temp/2018-04_>65#2\n",
      "Found  780.0  in ../lcm_temp/2018-05_35-49#2\n",
      "Found  558.0  in ../lcm_temp/2018-05_50-65#2\n",
      "Found  236.0  in ../lcm_temp/2018-05_<35#2\n",
      "Found  35.0  in ../lcm_temp/2018-05_>65#2\n",
      "Found  500.0  in ../lcm_temp/2018-06_35-49#2\n",
      "Found  343.0  in ../lcm_temp/2018-06_50-65#2\n",
      "Found  164.0  in ../lcm_temp/2018-06_<35#2\n",
      "Found  28.0  in ../lcm_temp/2018-06_>65#2\n",
      "Found  834.0  in ../lcm_temp/2018-07_35-49#2\n",
      "Found  506.0  in ../lcm_temp/2018-07_50-65#2\n",
      "Found  273.0  in ../lcm_temp/2018-07_<35#2\n",
      "Found  46.0  in ../lcm_temp/2018-07_>65#2\n",
      "Found  683.0  in ../lcm_temp/2018-08_35-49#2\n",
      "Found  346.0  in ../lcm_temp/2018-08_50-65#2\n",
      "Found  191.0  in ../lcm_temp/2018-08_<35#2\n",
      "Found  27.0  in ../lcm_temp/2018-08_>65#2\n",
      "Found  483.0  in ../lcm_temp/2018-09_35-49#2\n",
      "Found  366.0  in ../lcm_temp/2018-09_50-65#2\n",
      "Found  172.0  in ../lcm_temp/2018-09_<35#2\n",
      "Found  24.0  in ../lcm_temp/2018-09_>65#2\n",
      "Found  410.0  in ../lcm_temp/2018-10_35-49#2\n",
      "Found  341.0  in ../lcm_temp/2018-10_50-65#2\n",
      "Found  145.0  in ../lcm_temp/2018-10_<35#2\n",
      "Found  20.0  in ../lcm_temp/2018-10_>65#2\n",
      "Found  279.0  in ../lcm_temp/2018-11_35-49#2\n",
      "Found  200.0  in ../lcm_temp/2018-11_50-65#2\n",
      "Found  88.0  in ../lcm_temp/2018-11_<35#2\n",
      "Found  18.0  in ../lcm_temp/2018-11_>65#2\n",
      "Found  399.0  in ../lcm_temp/2018-12_35-49#2\n",
      "Found  302.0  in ../lcm_temp/2018-12_50-65#2\n",
      "Found  129.0  in ../lcm_temp/2018-12_<35#2\n",
      "Found  29.0  in ../lcm_temp/2018-12_>65#2\n",
      "Found  430.0  in ../lcm_temp/2019-01_35-49#2\n",
      "Found  356.0  in ../lcm_temp/2019-01_50-65#2\n",
      "Found  146.0  in ../lcm_temp/2019-01_<35#2\n",
      "Found  29.0  in ../lcm_temp/2019-01_>65#2\n",
      "Found  517.0  in ../lcm_temp/2019-02_35-49#2\n",
      "Found  357.0  in ../lcm_temp/2019-02_50-65#2\n",
      "Found  148.0  in ../lcm_temp/2019-02_<35#2\n",
      "Found  18.0  in ../lcm_temp/2019-02_>65#2\n",
      "Found  461.0  in ../lcm_temp/2019-03_35-49#2\n",
      "Found  328.0  in ../lcm_temp/2019-03_50-65#2\n",
      "Found  141.0  in ../lcm_temp/2019-03_<35#2\n",
      "Found  29.0  in ../lcm_temp/2019-03_>65#2\n",
      "Found  457.0  in ../lcm_temp/2019-04_35-49#2\n",
      "Found  291.0  in ../lcm_temp/2019-04_50-65#2\n",
      "Found  123.0  in ../lcm_temp/2019-04_<35#2\n",
      "Found  21.0  in ../lcm_temp/2019-04_>65#2\n",
      "Found  328.0  in ../lcm_temp/2019-05_35-49#2\n",
      "Found  224.0  in ../lcm_temp/2019-05_50-65#2\n",
      "Found  94.0  in ../lcm_temp/2019-05_<35#2\n",
      "Found  18.0  in ../lcm_temp/2019-05_>65#2\n",
      "Found  396.0  in ../lcm_temp/2019-06_35-49#2\n",
      "Found  312.0  in ../lcm_temp/2019-06_50-65#2\n",
      "Found  140.0  in ../lcm_temp/2019-06_<35#2\n",
      "Found  15.0  in ../lcm_temp/2019-06_>65#2\n",
      "Found  784.0  in ../lcm_temp/2019-07_35-49#2\n",
      "Found  593.0  in ../lcm_temp/2019-07_50-65#2\n",
      "Found  290.0  in ../lcm_temp/2019-07_<35#2\n",
      "Found  53.0  in ../lcm_temp/2019-07_>65#2\n",
      "Found  486.0  in ../lcm_temp/2019-08_35-49#2\n",
      "Found  336.0  in ../lcm_temp/2019-08_50-65#2\n",
      "Found  152.0  in ../lcm_temp/2019-08_<35#2\n",
      "Found  47.0  in ../lcm_temp/2019-08_>65#2\n",
      "Found  333.0  in ../lcm_temp/2019-09_35-49#2\n",
      "Found  257.0  in ../lcm_temp/2019-09_50-65#2\n",
      "Found  98.0  in ../lcm_temp/2019-09_<35#2\n",
      "Found  20.0  in ../lcm_temp/2019-09_>65#2\n",
      "Found  313.0  in ../lcm_temp/2019-10_35-49#2\n",
      "Found  240.0  in ../lcm_temp/2019-10_50-65#2\n",
      "Found  108.0  in ../lcm_temp/2019-10_<35#2\n",
      "Found  8.0  in ../lcm_temp/2019-10_>65#2\n",
      "Found  332.0  in ../lcm_temp/2019-11_35-49#2\n",
      "Found  259.0  in ../lcm_temp/2019-11_50-65#2\n",
      "Found  111.0  in ../lcm_temp/2019-11_<35#2\n",
      "Found  9.0  in ../lcm_temp/2019-11_>65#2\n",
      "Found  363.0  in ../lcm_temp/2019-12_35-49#2\n",
      "Found  266.0  in ../lcm_temp/2019-12_50-65#2\n",
      "Found  97.0  in ../lcm_temp/2019-12_<35#2\n",
      "Found  14.0  in ../lcm_temp/2019-12_>65#2\n",
      "<multiprocessing.pool.IMapUnorderedIterator object at 0x7f762092ffd0> 139\n",
      "---| ../lcm_results/M-2-[1-None]-[AGE]-lcm.out Done\n",
      "---| #split total: 139\n",
      "---| #split having groups: 137\n",
      "---| Average: 0.9856115107913669\n",
      " \n"
     ]
    }
   ],
   "source": [
    "linear_closed_itemset_miner(df,frequency,min_support,itemsets_size,properties)\n",
    "output_file = f'../lcm_results/{frequency}-{min_support}-[{itemsets_size[0]}-{itemsets_size[1]}]-[{\",\".join(str(i) for i in properties)}]-lcm.out'\n",
    "np.save(f'{output_file.replace(\"lcm_results/\",\"plots/encoders/\")}.npy', le.classes_)"
   ]
  },
  {
   "cell_type": "code",
   "execution_count": 13,
   "metadata": {
    "scrolled": true
   },
   "outputs": [
    {
     "data": {
      "text/plain": [
       "'../plots/encoders/2M-3-[1-None]-[a]-lcm.out.npy'"
      ]
     },
     "execution_count": 13,
     "metadata": {},
     "output_type": "execute_result"
    }
   ],
   "source": [
    "output_file = f'../lcm_results/{frequency}-{min_support}-[{itemsets_size[0]}-{itemsets_size[1]}]-[{\",\".join(str(i) for i in properties)}]-lcm.out'\n",
    "# Here we fix a small issue with LCM, on total dataset products ids are too large, so we use a label encoder\n",
    "# Once done, the encoder is saved and could be restored for post processing\n",
    "\n",
    "np.save(f'{output_file.replace(\"lcm_results/\",\"plots/encoders/\")}.npy', le.classes_)\n",
    "f'{output_file.replace(\"lcm_results/\",\"plots/encoders/\")}.npy'"
   ]
  },
  {
   "cell_type": "code",
   "execution_count": 58,
   "metadata": {},
   "outputs": [],
   "source": [
    "# Extra step, inverse items encoding\n",
    "result_df.itemsets= result_df.itemsets.apply(lambda x : le.inverse_transform([int(i) for i in x.split()]))"
   ]
  },
  {
   "cell_type": "code",
   "execution_count": 60,
   "metadata": {},
   "outputs": [],
   "source": [
    "# Done :) \n",
    "result_df.to_csv(output_file)"
   ]
  },
  {
   "cell_type": "markdown",
   "metadata": {},
   "source": [
    "# LCM on promotion periods"
   ]
  },
  {
   "cell_type": "code",
   "execution_count": 86,
   "metadata": {},
   "outputs": [
    {
     "data": {
      "text/plain": [
       "('2017-02-28 07:23:20', '2019-12-30 22:12:56')"
      ]
     },
     "execution_count": 86,
     "metadata": {},
     "output_type": "execute_result"
    }
   ],
   "source": [
    "df.TRANSACTION_DATE.min(),df.TRANSACTION_DATE.max()"
   ]
  },
  {
   "cell_type": "code",
   "execution_count": 87,
   "metadata": {},
   "outputs": [],
   "source": [
    "# Global parameters\n",
    "frequency =\"9M\"\n",
    "min_support= 5\n",
    "itemsets_size = [1,\"2001\"]\n",
    "properties = [\"firstpromo\"]\n",
    "file_name =f'{frequency}-{min_support}-[{itemsets_size[0]}-{itemsets_size[1]}]-[{\",\".join(str(i) for i in properties)}]-lcm.out'\n",
    "output_file = f'../lcm_results/{file_name}'"
   ]
  },
  {
   "cell_type": "code",
   "execution_count": 88,
   "metadata": {},
   "outputs": [],
   "source": [
    "# Encoding for ARTICLE_ID as their size is not supported by current lcm implementation \n",
    "le = preprocessing.LabelEncoder()\n",
    "le.fit(df[\"ARTICLE_ID\"])\n",
    "# # Encoder is saved \n",
    "np.save(f'../plots/encoders/{file_name}.npy', le.classes_)"
   ]
  },
  {
   "cell_type": "code",
   "execution_count": null,
   "metadata": {},
   "outputs": [],
   "source": []
  },
  {
   "cell_type": "code",
   "execution_count": null,
   "metadata": {},
   "outputs": [],
   "source": []
  },
  {
   "cell_type": "code",
   "execution_count": 89,
   "metadata": {},
   "outputs": [],
   "source": [
    "# Promotion product list \n",
    "promo_products = pd.read_csv(\"../datasets/Total/promo_products.csv\")\n",
    "promo_products= promo_products[promo_products[\"ARTICLE_ID\"].isin(df.ARTICLE_ID)]\n",
    "promo_list = le.transform([i for i in promo_products.ARTICLE_ID.tolist()])"
   ]
  },
  {
   "cell_type": "code",
   "execution_count": 90,
   "metadata": {},
   "outputs": [],
   "source": [
    "df[\"ARTICLE_ID\"] = le.transform(df[\"ARTICLE_ID\"])"
   ]
  },
  {
   "cell_type": "code",
   "execution_count": 91,
   "metadata": {
    "scrolled": true
   },
   "outputs": [
    {
     "name": "stdout",
     "output_type": "stream",
     "text": [
      "2018-12-17 00:00:00 2019-02-28 00:00:00\n"
     ]
    }
   ],
   "source": [
    "# promo dates \n",
    "promo_date_begin = pd.to_datetime(datetime.date(2018,12,17))\n",
    "promo_date_end = pd.to_datetime(datetime.date(2019,2,28))\n",
    "print(promo_date_begin,promo_date_end)\n",
    "\n",
    "# Transactions data for T-1, T and T+1\n",
    "# T-1 = [promo_date_begin - 3 months , promo_date_begin] \n",
    "df_promo_before = df[(df['date']< promo_date_begin)& (df['date']>promo_date_begin + relativedelta(months=-3))]\n",
    "\n",
    "# T = [promo_date_begin , promo_date_end] \n",
    "# Only promotion products are considered in T\n",
    "df_promo = df[(df.date>= promo_date_begin)& (df.date<=promo_date_end)]\n",
    "df_promo = df_promo[df_promo.ARTICLE_ID.isin(promo_list)]\n",
    "\n",
    "# T+1 = [promo_date_end , promo_date_end + 3 months] \n",
    "df_promo_after = df[(df.date> promo_date_end)& (df.date<=promo_date_end + relativedelta(months=3))]"
   ]
  },
  {
   "cell_type": "code",
   "execution_count": 92,
   "metadata": {},
   "outputs": [
    {
     "name": "stdout",
     "output_type": "stream",
     "text": [
      "#trsansaction : \n",
      " Before promo 19463 \n",
      " During promo 1887 \n",
      " After promo 19980 \n"
     ]
    }
   ],
   "source": [
    "print(f\"#trsansaction : \\n Before promo {df_promo_before.shape[0]} \\n During promo {df_promo.shape[0]} \\n After promo {df_promo_after.shape[0]} \" )"
   ]
  },
  {
   "cell_type": "code",
   "execution_count": null,
   "metadata": {},
   "outputs": [],
   "source": []
  },
  {
   "cell_type": "markdown",
   "metadata": {},
   "source": [
    "# Only first product is the one in promotion "
   ]
  },
  {
   "cell_type": "code",
   "execution_count": 93,
   "metadata": {},
   "outputs": [],
   "source": [
    "df_promo.drop_duplicates(\"CUST_ID\",inplace=True)"
   ]
  },
  {
   "cell_type": "code",
   "execution_count": null,
   "metadata": {},
   "outputs": [],
   "source": []
  },
  {
   "cell_type": "markdown",
   "metadata": {},
   "source": [
    "# Run LCM "
   ]
  },
  {
   "cell_type": "code",
   "execution_count": 94,
   "metadata": {},
   "outputs": [
    {
     "name": "stderr",
     "output_type": "stream",
     "text": [
      "/home/abdelouahab/3env/local/lib/python3.7/site-packages/ipykernel_launcher.py:4: SettingWithCopyWarning: \n",
      "A value is trying to be set on a copy of a slice from a DataFrame.\n",
      "Try using .loc[row_indexer,col_indexer] = value instead\n",
      "\n",
      "See the caveats in the documentation: https://pandas.pydata.org/pandas-docs/stable/user_guide/indexing.html#returning-a-view-versus-a-copy\n",
      "  after removing the cwd from sys.path.\n"
     ]
    },
    {
     "name": "stdout",
     "output_type": "stream",
     "text": [
      "Found  771.0  in ../lcm_temp/2018-09_1#5\n",
      "Found  7.0  in ../lcm_temp/2018-12_1#5\n",
      "Found  785.0  in ../lcm_temp/2019-02_1#5\n"
     ]
    }
   ],
   "source": [
    "# os.remove(output_file)\n",
    "f = partial(run_lcm,itemsets_size=itemsets_size,support=min_support, output_file=output_file)\n",
    "for input_file in [df_promo_before,df_promo,df_promo_after]:\n",
    "    input_file[\"firstpromo\"]=1\n",
    "    p = Pool(8)\n",
    "    res  = p.imap_unordered(f,dataset_property_split(input_file,frequency,properties,min_support))\n",
    "    p.close()\n",
    "    p.join()"
   ]
  },
  {
   "cell_type": "markdown",
   "metadata": {},
   "source": [
    "# Promo period stats"
   ]
  },
  {
   "cell_type": "code",
   "execution_count": 51,
   "metadata": {},
   "outputs": [
    {
     "data": {
      "text/html": [
       "<div>\n",
       "<style scoped>\n",
       "    .dataframe tbody tr th:only-of-type {\n",
       "        vertical-align: middle;\n",
       "    }\n",
       "\n",
       "    .dataframe tbody tr th {\n",
       "        vertical-align: top;\n",
       "    }\n",
       "\n",
       "    .dataframe thead th {\n",
       "        text-align: right;\n",
       "    }\n",
       "</style>\n",
       "<table border=\"1\" class=\"dataframe\">\n",
       "  <thead>\n",
       "    <tr style=\"text-align: right;\">\n",
       "      <th></th>\n",
       "      <th>ARTICLE_ID</th>\n",
       "    </tr>\n",
       "  </thead>\n",
       "  <tbody>\n",
       "    <tr>\n",
       "      <th>1</th>\n",
       "      <td>993</td>\n",
       "    </tr>\n",
       "    <tr>\n",
       "      <th>2</th>\n",
       "      <td>6</td>\n",
       "    </tr>\n",
       "    <tr>\n",
       "      <th>3</th>\n",
       "      <td>1</td>\n",
       "    </tr>\n",
       "  </tbody>\n",
       "</table>\n",
       "</div>"
      ],
      "text/plain": [
       "   ARTICLE_ID\n",
       "1         993\n",
       "2           6\n",
       "3           1"
      ]
     },
     "metadata": {},
     "output_type": "display_data"
    },
    {
     "data": {
      "text/plain": [
       "Text(0, 0.5, '# of users ')"
      ]
     },
     "execution_count": 51,
     "metadata": {},
     "output_type": "execute_result"
    },
    {
     "data": {
      "image/png": "[encoded data removed]",
      "text/plain": [
       "<Figure size 1080x360 with 1 Axes>"
      ]
     },
     "metadata": {
      "needs_background": "light"
     },
     "output_type": "display_data"
    }
   ],
   "source": [
    "stats_df = df_promo.groupby(\"CUST_ID\")[\"ARTICLE_ID\"].apply(set).apply(len).to_frame().sort_values(\"ARTICLE_ID\",ascending=False)[\"ARTICLE_ID\"].value_counts()\n",
    "ICD.display(stats_df.to_frame())\n",
    "\n",
    "ax = stats_df.plot.bar(figsize=(15,5))\n",
    "ax.set_xlabel(\"# distinct promo-produtcs bought during promo period\")\n",
    "ax.set_ylabel(\"# of users \")"
   ]
  },
  {
   "cell_type": "code",
   "execution_count": 55,
   "metadata": {},
   "outputs": [],
   "source": [
    "stats_df = df_promo.groupby(\"ARTICLE_ID\")[\"CUST_ID\"].apply(list).apply(len).sort_values(0,ascending=False).to_frame().reset_index()"
   ]
  },
  {
   "cell_type": "code",
   "execution_count": 88,
   "metadata": {},
   "outputs": [],
   "source": [
    "df_promo[\"ARTICLE_ID\"]  = df_promo.apply(lambda x : le.inverse_transform([x.ARTICLE_ID])[0],axis=1)"
   ]
  },
  {
   "cell_type": "code",
   "execution_count": 135,
   "metadata": {},
   "outputs": [
    {
     "data": {
      "text/plain": [
       "Text(0, 0.5, '#Users')"
      ]
     },
     "execution_count": 135,
     "metadata": {},
     "output_type": "execute_result"
    },
    {
     "data": {
      "image/png": "[encoded data removed]",
      "text/plain": [
       "<Figure size 1440x576 with 1 Axes>"
      ]
     },
     "metadata": {
      "needs_background": "light"
     },
     "output_type": "display_data"
    }
   ],
   "source": [
    "df_promo= df_promo.merge(items,on='ARTICLE_ID')\n",
    "stats_df =  df_promo.groupby(\"DESCRIPTION\").apply(len)\n",
    "ax  = stats_df.plot.bar(figsize=(20,8),)\n",
    "ax.set_xlabel(\"DESCRIPTION\")\n",
    "ax.set_ylabel(\"#Users\")"
   ]
  },
  {
   "cell_type": "code",
   "execution_count": 141,
   "metadata": {},
   "outputs": [
    {
     "data": {
      "text/html": [
       "<div>\n",
       "<style scoped>\n",
       "    .dataframe tbody tr th:only-of-type {\n",
       "        vertical-align: middle;\n",
       "    }\n",
       "\n",
       "    .dataframe tbody tr th {\n",
       "        vertical-align: top;\n",
       "    }\n",
       "\n",
       "    .dataframe thead th {\n",
       "        text-align: right;\n",
       "    }\n",
       "</style>\n",
       "<table border=\"1\" class=\"dataframe\">\n",
       "  <thead>\n",
       "    <tr style=\"text-align: right;\">\n",
       "      <th></th>\n",
       "      <th>DESCRIPTION</th>\n",
       "      <th>Users_Count</th>\n",
       "    </tr>\n",
       "  </thead>\n",
       "  <tbody>\n",
       "    <tr>\n",
       "      <th>0</th>\n",
       "      <td>RECHARGE LAVAGE TW - A</td>\n",
       "      <td>946</td>\n",
       "    </tr>\n",
       "    <tr>\n",
       "      <th>1</th>\n",
       "      <td>RECHARGE LAVAGE TW - D</td>\n",
       "      <td>208</td>\n",
       "    </tr>\n",
       "    <tr>\n",
       "      <th>2</th>\n",
       "      <td>BIDON AD BLUE 10L</td>\n",
       "      <td>64</td>\n",
       "    </tr>\n",
       "    <tr>\n",
       "      <th>3</th>\n",
       "      <td>QUARTZ IN LG LIFE 5W30</td>\n",
       "      <td>14</td>\n",
       "    </tr>\n",
       "    <tr>\n",
       "      <th>4</th>\n",
       "      <td>TOTAL ACTIVA 9000 5W40 2L</td>\n",
       "      <td>10</td>\n",
       "    </tr>\n",
       "    <tr>\n",
       "      <th>5</th>\n",
       "      <td>ADBLUE BIDON 5L</td>\n",
       "      <td>6</td>\n",
       "    </tr>\n",
       "    <tr>\n",
       "      <th>6</th>\n",
       "      <td>QUARTZ ENERGY 9000  0W30 1L</td>\n",
       "      <td>4</td>\n",
       "    </tr>\n",
       "    <tr>\n",
       "      <th>7</th>\n",
       "      <td>ACTIVA INEO ECS 5W30 2L</td>\n",
       "      <td>4</td>\n",
       "    </tr>\n",
       "    <tr>\n",
       "      <th>8</th>\n",
       "      <td>QUARTZ INEO MC3 5W30 1L</td>\n",
       "      <td>3</td>\n",
       "    </tr>\n",
       "    <tr>\n",
       "      <th>9</th>\n",
       "      <td>QUARTZ 9000 NFC 5W30 1L</td>\n",
       "      <td>3</td>\n",
       "    </tr>\n",
       "    <tr>\n",
       "      <th>10</th>\n",
       "      <td>ACTIVA 9000E 1L</td>\n",
       "      <td>3</td>\n",
       "    </tr>\n",
       "    <tr>\n",
       "      <th>11</th>\n",
       "      <td>TOTAL QUARTZ IN</td>\n",
       "      <td>2</td>\n",
       "    </tr>\n",
       "    <tr>\n",
       "      <th>12</th>\n",
       "      <td>ELF MOTO 4 TECH</td>\n",
       "      <td>1</td>\n",
       "    </tr>\n",
       "  </tbody>\n",
       "</table>\n",
       "</div>"
      ],
      "text/plain": [
       "                    DESCRIPTION  Users_Count\n",
       "0        RECHARGE LAVAGE TW - A          946\n",
       "1        RECHARGE LAVAGE TW - D          208\n",
       "2             BIDON AD BLUE 10L           64\n",
       "3        QUARTZ IN LG LIFE 5W30           14\n",
       "4     TOTAL ACTIVA 9000 5W40 2L           10\n",
       "5               ADBLUE BIDON 5L            6\n",
       "6   QUARTZ ENERGY 9000  0W30 1L            4\n",
       "7       ACTIVA INEO ECS 5W30 2L            4\n",
       "8       QUARTZ INEO MC3 5W30 1L            3\n",
       "9       QUARTZ 9000 NFC 5W30 1L            3\n",
       "10              ACTIVA 9000E 1L            3\n",
       "11              TOTAL QUARTZ IN            2\n",
       "12              ELF MOTO 4 TECH            1"
      ]
     },
     "execution_count": 141,
     "metadata": {},
     "output_type": "execute_result"
    }
   ],
   "source": [
    "stats_df= stats_df.sort_values(\"Users_Count\",ascending=False)\n",
    "stats_df.columns = [\"DESCRIPTION\", \"Users_Count\"]\n",
    "stats_df"
   ]
  },
  {
   "cell_type": "code",
   "execution_count": 17,
   "metadata": {},
   "outputs": [
    {
     "data": {
      "text/plain": [
       "32160"
      ]
     },
     "execution_count": 17,
     "metadata": {},
     "output_type": "execute_result"
    }
   ],
   "source": [
    "df.CUST_ID.nunique()"
   ]
  },
  {
   "cell_type": "code",
   "execution_count": 8,
   "metadata": {},
   "outputs": [],
   "source": [
    "items = pd.read_csv(\"../datasets/Total/items.csv\",index_col=0)"
   ]
  },
  {
   "cell_type": "code",
   "execution_count": 65,
   "metadata": {},
   "outputs": [],
   "source": [
    "ids = items.IDS_LIST.apply(lambda x : [int(i) for i in x[1:-1].split(',')]).sum()"
   ]
  },
  {
   "cell_type": "markdown",
   "metadata": {},
   "source": [
    "# Draft"
   ]
  },
  {
   "cell_type": "code",
   "execution_count": 6,
   "metadata": {},
   "outputs": [],
   "source": [
    "from datetime import datetime,timedelta\n",
    "import pandas as pd\n",
    "import numpy as np\n",
    "import matplotlib.pylab as plt\n",
    "import matplotlib.dates as mdates\n",
    "from shutil import copyfile,copyfileobj\n",
    "import pandas as pd\n",
    "from IPython.core import display as ICD\n",
    "from multiprocessing import Pool\n",
    "import numpy as np\n",
    "from datetime import timedelta\n",
    "import re\n",
    "import os\n",
    "from sklearn.metrics import pairwise_distances\n",
    "from sklearn.preprocessing import MultiLabelBinarizer,LabelEncoder\n",
    "import plotly\n",
    "import plotly.graph_objects as go\n",
    "from sklearn.preprocessing import LabelEncoder,MultiLabelBinarizer\n",
    "from itertools import groupby, product\n",
    "import json\n",
    "le = LabelEncoder()\n",
    "\n",
    "def concat_total_dataset(files_path='../datasets/Total/data'):\n",
    "    import datetime\n",
    "    df = pd.DataFrame()\n",
    "    a = !ls {files_path}\n",
    "    for i in a:\n",
    "        df = pd.concat([pd.read_csv(f\"../datasets/Total/data/{i}\",sep=\";\"),df])\n",
    "    df_users = pd.read_csv(\"../datasets/Total/users.csv\",sep=\";\")\n",
    "    df = df.merge(df_users,on=\"CUST_ID\")\n",
    "    df.index = pd.to_datetime(df.TRANSACTION_DATE).dt.to_period(\"D\")\n",
    "    df[\"STATION_DEPARTEMENT_ID\"] = df.STATION_ID.apply(lambda x : x[3:5])\n",
    "    df = df[df.STATION_DEPARTEMENT_ID==df.DEPARTEMENT]\n",
    "    stations = pd.read_csv(\"../datasets/Total/STATION_TYPE.csv\",sep=\";\")\n",
    "    df = df.merge(stations,on=\"STATION_ID\").dropna()\n",
    "    df.index = pd.to_datetime(df.TRANSACTION_DATE).dt.to_period(\"D\")\n",
    "    df['date'] = pd.to_datetime(df.TRANSACTION_DATE)\n",
    "    return df\n",
    "\n",
    "def run_lcm(split_name,itemsets_size,support,output_file,mode):\n",
    "    \"\"\"Runs LCM (Single Thread)  and return the  result formated with format_output\n",
    "    \n",
    "    Example for parameters : input_file='1999',support=6, itemsets_size=[5,100]\n",
    "    Executed command :  $ ./lcm C_QI -l 5 -u 100 1999 6 -\n",
    "    \n",
    "    Preconfigured parameters:  \n",
    "     C: enumerate closed frequent itemsets\n",
    "     M: enumerate maximal frequent itemsets \n",
    "     Q: output the frequency on the head of each itemset found,\n",
    "     I: output ID's of transactions including each itemset; ID of a transaction is given by the number of line in which the transaction is written. The ID starts from 0.\n",
    "     _: no output to standard output (including messages w.r.t. input data)\n",
    "     -l,-u [num]: enumerate itemsets with size at least/most [num]  \n",
    "   \n",
    "    Output:\n",
    "        Replace file having name input_file with the result : support,itemset,users\n",
    "        if no itemset found the input_file is deleted and output is empty string \"\"\n",
    "    \"\"\"\n",
    "    support = int(support)\n",
    "    if None in itemsets_size:\n",
    "        result = !./lcm C_QI -l {itemsets_size[0]} \"{split_name}\" {support} -\n",
    "    else :\n",
    "        result = !./lcm C_QI -l {itemsets_size[0]} -u {itemsets_size[1]}  \"{split_name}\" {support} -\n",
    "    \n",
    "    if \"there is no frequent item\" in str(result) or result == []:\n",
    "        print(\"No itemset\",split_name)\n",
    "        return False\n",
    "    print(\"# LCM Found \",len(result)/2,\" in\",split_name )\n",
    "    # TODO Optimize this bottleneck \n",
    "    with open(output_file, mode) as file:\n",
    "        reformat_output(result,split_name).to_csv(file,header=False,index=None,mode=mode)\n",
    "    return split_name\n",
    "\n",
    "\n",
    "\n",
    "\n",
    "def read_lcm_output_total(input_name,folder=\"../lcm_results\"):\n",
    "    \"\"\"Read and restructure LCM output file,rename columns output a df \"\"\"\n",
    "    file = f'{folder}/{input_name}'\n",
    "    df = pd.read_csv(file,header=None)\n",
    "    df.columns = [\"user_ids\",\"support\",\"itemsets\",\"period\",\"property_values\"]\n",
    "    df[\"period\"] = pd.to_datetime(df[\"period\"])\n",
    "    df[\"user_ids\"] = df.user_ids.apply(lambda x : [int(z.replace('\"',\"\")) for z in x[1:-1].split(\",\") if z != \"\"])\n",
    "    return df\n",
    "\n",
    "\n",
    "\n",
    "def multiply_frequency(freq,times):\n",
    "    unit,freq = re.findall(\"([0-9]+)([A-Z])\",freq)[0]\n",
    "    return f'{int(unit)*int(times)}{freq}'\n",
    "\n",
    "\n",
    "def drop_old_files(input_name):\n",
    "    \"\"\"Drops previous lcm_result, group, links for for input name \"\"\"\n",
    "    for i in [\"../plots/links/\",\"../plots/groups/\",\"../lcm_results/\"]:\n",
    "        try:\n",
    "            file = i+input_name\n",
    "            os.remove(file)\n",
    "        except OSError as e :\n",
    "            continue\n",
    "def get_articles_descriptions(x,items,encoder):\n",
    "    ee = encoder.inverse_transform([int(i) for i in str(x).split()])\n",
    "    res = []\n",
    "    for i in ee:\n",
    "        if i in items.index:\n",
    "            res.append(items.loc[i].DESCRIPTION)\n",
    "        else:\n",
    "            res.append(f\"product-{i}\")\n",
    "    return res\n",
    "def format_links(x):\n",
    "    res = []\n",
    "    for i in x[0]:\n",
    "        for idx in range(len(i)-1):\n",
    "            res.append([i[idx],i[idx+1],x[\"index\"]])\n",
    "    return res\n",
    "\n",
    "def make_links(e,index):\n",
    "    \"\"\"Product of groups ids for each two consecutive groups periods\"\"\"\n",
    "    prev = e[0]\n",
    "    for i in e[1:]:\n",
    "        yield from product(prev,i,[index])\n",
    "        prev = i\n",
    "\n",
    "def extract_demographics(input_file):\n",
    "    demographics = re.findall(\"\\[([A-Z|a-z|_]+),?([A-Z|a-z|_]+)?\\]\",input_file)[0]\n",
    "    return  [i for i in demographics if i !=\"\"]\n",
    "def read_groups(file_name , groups_folder= \"../plots/groups/\"):\n",
    "    groups = pd.read_csv(f\"{groups_folder}{file_name}\",index_col=0)\n",
    "    groups.drop([\"size\",\"depth\"],axis=1,inplace=True)\n",
    "    groups[\"itemsets\"] = groups[\"itemsets\"].astype(str).apply(lambda x : [int(i) for i in x.split()])\n",
    "    \n",
    "    groups[\"user_ids\"] = groups[\"user_ids\"].apply(lambda x : [int(i) for i in x[1:-1].split(\",\")])\n",
    "    groups[\"itemset_name\"] = groups[\"itemset_name\"].apply(lambda x : [i.strip() for i in x[1:-1].split(\",\")])\n",
    "    \n",
    "    return groups    \n",
    "def process_lcm_result(input_file,stats_folder='../plots/stats',encoders_folder=\"../plots/encoders\",links_folder=\"../plots/links\",groups_folder='../plots/groups',users_demographics = [\"DEPARTEMENT\",\"SEX\",\"AGE\"],groups_demographics=[\"STATION_MGT_TYPE\",\"DEPARTEMENT\"],user_apparition_threshold=0,user_nunique_periods_threshold=1,keep_all_groups_in_periods=[]):\n",
    "    # Initialisations \n",
    "    users = pd.read_csv(\"../datasets/Total/users.csv\",sep=\";\")\n",
    "    groups_file = f'{groups_folder}/{input_file}'\n",
    "    links_file = f'{links_folder}/{input_file}'\n",
    "    demographics = extract_demographics(input_file)\n",
    "    \n",
    "    \n",
    "    new_df = read_lcm_output_total(input_file)\n",
    "    \n",
    "    keep_only_users = frozenset(new_df.user_ids.sum())\n",
    "    initial_processing = False\n",
    "         \n",
    "    try:# Adding old groups to df\n",
    "        old = read_groups(output)\n",
    "        # Index incrementation for new new groups to follow the old ones\n",
    "        new_df.index+=old.shape[0]\n",
    "\n",
    "        old = old[new_df.columns]\n",
    "        old.itemsets = old.itemsets.apply(lambda x : ' '.join(str(i) for i in  x))\n",
    "        old.period = pd.to_datetime(old.period)\n",
    "        old = old[old.user_ids.apply(lambda x : bool(keep_only_users.intersection(x)))]\n",
    "        \n",
    "        df = pd.concat([old,new_df])\n",
    "    except OSError as e :\n",
    "        initial_processing = True\n",
    "        df = new_df # No old file\n",
    "        print(\"# ... Initial processing for \", input_file)\n",
    "\n",
    "    mlb = MultiLabelBinarizer(sparse_output=True)\n",
    "    _df = mlb.fit_transform(df.user_ids.tolist()).astype(bool)\n",
    "    _df = pd.DataFrame(_df.toarray(),columns=mlb.classes_,index=df.index)[keep_only_users]\n",
    "    \n",
    "    # Thresholds for users filtering\n",
    "    _df  = _df.T.apply(lambda x : df.index[np.where(x)[0]],axis=1)\n",
    "    e = _df.to_frame()[0].apply(lambda x: list(list(z) for idx,z in groupby(x,lambda y: df.loc[y].period)))\n",
    "    e = e[e.apply(lambda x:len(x))>user_nunique_periods_threshold]\n",
    "    e = e.apply(lambda x : x[-2:]) # Keep only links having target groups in the latest period\n",
    "     \n",
    "    # Storing the links \n",
    "    res = []\n",
    "    e.to_frame().reset_index().apply(lambda x: [res.append(i) for i in make_links(x[0],x[\"index\"])],axis=1)\n",
    "    if bool(res):\n",
    "        links = pd.DataFrame(res)\n",
    "        links.columns = [\"source\",\"target\",\"user_id\"]\n",
    "    else: \n",
    "        links = pd.DataFrame(columns=[\"source\",\"target\",\"user_id\"])\n",
    "    links = links.groupby([\"source\",\"target\"])[\"user_id\"].apply(lambda x: ','.join(str(i) for i in x)).to_frame()\n",
    "\n",
    "    # Storing the groups \n",
    "    # filter groups to the ones appearing in the links\n",
    "\n",
    "    if initial_processing:\n",
    "        df_groups = df\n",
    "    else:\n",
    "        df_groups = new_df\n",
    "    # TODO : look for a label encoder that will normalize data by himself\n",
    "    le.fit(df.period)\n",
    "    df_groups['depth'] = le.transform(df_groups.period)/(df.period.nunique())\n",
    "    df_groups['size'] = df_groups.user_ids.apply(len)\n",
    "    \n",
    "    if len(demographics)==1:\n",
    "        df_groups[demographics[0]]= df_groups.property_values\n",
    "    else:\n",
    "        df_groups[demographics]= df_groups.property_values.str.split(\"_\",expand=True)\n",
    "    \n",
    "    # Encoding items to their initial ID + adding names\n",
    "    items = pd.read_csv(\"../datasets/Total/items.csv\")\n",
    "    encoder = LabelEncoder()\n",
    "    encoder.classes_ = np.load(f'{encoders_folder}/15D-3-[2-5000]-[AGE]-lcm.out.npy')\n",
    "    items = items.set_index(\"ARTICLE_ID\")\n",
    "    df_groups[\"itemset_name\"] = df_groups[\"itemsets\"].apply(lambda x : get_articles_descriptions(x,items,encoder))\n",
    "    \n",
    "    if initial_processing:\n",
    "        # Store the links and groups\n",
    "        df_groups.to_csv(groups_file)\n",
    "        links.to_csv(links_file)\n",
    "        \n",
    "        # Keep a copy of groups and links \n",
    "        copyfile(links_file,f'{links_folder}/copy_links.csv',)\n",
    "        copyfile(groups_file,f'{groups_folder}/copy_groups.csv')\n",
    "    else:\n",
    "        # Keep a copy of groups and links before adding new \n",
    "        copyfile(links_file,f'{links_folder}/copy_links.csv',)\n",
    "        copyfile(groups_file,f'{groups_folder}/copy_groups.csv')\n",
    "        # Append existing \n",
    "        df_groups.to_csv(groups_file,mode='a', header=False)\n",
    "        links.to_csv(links_file,mode='a', header=False)\n",
    "\n",
    "def drop_previous_changes(input_file,links_folder=\"../plots/links\",groups_folder='../plots/groups'):\n",
    "    groups_file = f'{groups_folder}/{input_file}'\n",
    "    links_file = f'{links_folder}/{input_file}'\n",
    "    \n",
    "    copyfile(f'{links_folder}/copy_links.csv',links_file)\n",
    "    copyfile(f'{groups_folder}/copy_groups.csv',groups_file)\n",
    "\n",
    "def join_files(df, prev, new,freq):\n",
    "    \"\"\" recreates concatenation of two splits \"\"\"\n",
    "    if prev is None or not bool(prev):\n",
    "        print(\"Nothing to join\")\n",
    "        return new \n",
    "    date = prev[0].split(\"/\")[-1].split(\"_\")[0]\n",
    "    date = datetime.strptime(date,\"%Y-%m-%d\").date()\n",
    "    \n",
    "    new_freq = multiply_frequency(freq,len(prev)+1)\n",
    "    new_freq_days = int(new_freq.replace('D',\"\"))\n",
    "    \n",
    "    df_ = df[pd.to_datetime(df.TRANSACTION_DATE).dt.date>= date]\n",
    "    df_ = df_[pd.to_datetime(df_.TRANSACTION_DATE).dt.date< date+timedelta(days=new_freq_days)]\n",
    "    print(\"Join files new frequency : \",new_freq)\n",
    "    result = [i for i in dataset_property_split(df_,new_freq,properties,min_support)]\n",
    "\n",
    "    if len(result)>1:\n",
    "        raise Exception(\"Should find only one result not 2 \")\n",
    "    return result[0]\n",
    "\n",
    "def splited_links(file_name):\n",
    "    links = pd.read_csv(f\"../plots/links/{file_name}\")\n",
    "    groups = read_groups(file_name)[[\"period\",\"itemset_name\",\"itemsets\"]]\n",
    "    links = links.merge(groups,left_on=\"source\",right_index=True).merge(groups,left_on=\"target\",right_index=True)\n",
    "    links.user_id = links.user_id.apply(lambda x : list(x.split(\",\"))) \n",
    "    links.period_y= pd.to_datetime(links.period_y).dt.date\n",
    "    links.period_x= pd.to_datetime(links.period_x).dt.date\n",
    "    return links\n",
    "def interest_gain(x,product_id,target_users,links):\n",
    "    users = target_users.intersection(x[\"user_id\"])\n",
    "    period  = x[\"period_x\"]                                                      \n",
    "      \n",
    "    if product_id not in x[\"itemsets_y\"] or users==set():\n",
    "        \n",
    "        return [False]\n",
    "    output = []\n",
    "    for user in users:\n",
    "        res = links[links.apply(lambda x : user in x[\"user_id\"] and period==x[\"period_x\"],axis=1)][\"itemsets_x\"].sum()\n",
    "        if res ==0:\n",
    "            res = [0]\n",
    "        output.append(product_id not in res)\n",
    "    return output\n",
    "\n",
    "def validation_function(file,threshold):\n",
    "\n",
    "    copyfile(\"../plots/html/model_plot.html\",f\"../plots/html/{file.replace('out','')}html\")\n",
    "    \n",
    "    links = splited_links(output)\n",
    "    links = links[links.period_y==links.period_y.max()]\n",
    "    links = links[links.user_id.apply(lambda x : any(i in x for i in target_users))]\n",
    "    links.period_y= pd.to_datetime(links.period_y).dt.date\n",
    "    # links.groupby(\"period\")[\"user_id\"].plot.bar()\n",
    "    # Interest gain query \n",
    "    links[\"interest_gain\"] = 0\n",
    "    links[\"interest_gain\"] = links.apply(lambda x : interest_gain(x,product_id,target_users,links),axis=1)\n",
    "    links[\"interest_gain\"] = links[\"interest_gain\"].apply(lambda x : len([i for i in x if i is True]) )\n",
    "    ICD.display(links)\n",
    "    print(links.interest_gain.max(),threshold,links.interest_gain.max()>threshold)\n",
    "    return links.interest_gain.max()>threshold"
   ]
  },
  {
   "cell_type": "code",
   "execution_count": 7,
   "metadata": {
    "scrolled": false
   },
   "outputs": [],
   "source": [
    "# Concat all total dataset \n",
    "df = concat_total_dataset()\n",
    "df.ARTICLE_ID = preprocessing_similar_ids(df)\n",
    "\n",
    "le = preprocessing.LabelEncoder()\n",
    "df[\"ARTICLE_ID\"] = le.fit_transform(df[\"ARTICLE_ID\"]) \n",
    "df[\"a\"] = 1 # Must set a \"grouping\" attribute while we don't consider demographics\n",
    "\n",
    "df_copy = df.copy()\n",
    "df_copy = df_copy[df_copy.SEX==\"M\"]"
   ]
  },
  {
   "cell_type": "code",
   "execution_count": 8,
   "metadata": {},
   "outputs": [
    {
     "data": {
      "text/plain": [
       "(Period('2018-01-01', 'D'), Period('2018-12-30', 'D'))"
      ]
     },
     "execution_count": 8,
     "metadata": {},
     "output_type": "execute_result"
    }
   ],
   "source": [
    "df_copy = df_copy[pd.to_datetime(df_copy.TRANSACTION_DATE).dt.date>datetime(2017,12,31).date()]\n",
    "df_copy = df_copy[pd.to_datetime(df_copy.TRANSACTION_DATE).dt.date<datetime(2019,1,1).date()]\n",
    "df_copy.index.min(),df_copy.index.max()"
   ]
  },
  {
   "cell_type": "markdown",
   "metadata": {},
   "source": [
    "### Parameters"
   ]
  },
  {
   "cell_type": "code",
   "execution_count": 9,
   "metadata": {},
   "outputs": [
    {
     "name": "stdout",
     "output_type": "stream",
     "text": [
      "30\n"
     ]
    }
   ],
   "source": [
    "# # Running the Interest gain query \n",
    "target_users = set([str(i) for i in[235297,127790,1166148,1168767,612824,156634,114666,739860,607784,1171591,118478,616689,427250,133892,1198352,421137,205109,1166148,1167207,1168767,270220,368080,612824,156634,751640,751640,483533,1163691,612824,739860,838190,1061637,127790,1166148,156634,314647,187833,464331,133070,114666,403445,1061637,127790,1166148,156634,314647,187833,464331,133070,114666,403445,1061637,127790,1166148,156634,314647,187833,464331,133070,114666,403445,1061637,127790,1166148,156634,314647,187833,464331,133070,114666,403445]])\n",
    "print(len(target_users))\n",
    "product_id, product_name  = \"1538\",\"Recharge cafe club\"\n",
    "# product_id, product_name  = \"4125\",\"Recharge Lavage TW A\"\n",
    "# product_id, product_name  = 4112,\"Reharge CLU\"\n",
    "# product_id, product_name  = 4074,\"Bidon Ad Blue 10L  \"\n",
    "# product_id, product_name  = 2297,\"COCA COLA\"\n",
    "drift_name = \"interest_gain\""
   ]
  },
  {
   "cell_type": "code",
   "execution_count": 10,
   "metadata": {
    "scrolled": false
   },
   "outputs": [],
   "source": [
    "frequency = \"7D\"\n",
    "min_support = 30\n",
    "itemsets_size= [1,10]\n",
    "properties = [\"SEX\"]\n",
    "## \n",
    "output = f'{frequency}-{min_support}-[{itemsets_size[0]}-{itemsets_size[1]}]-[{\",\".join(str(i) for i in properties)}]-lcm.out'\n",
    "output_file = f'../lcm_results/{output}'"
   ]
  },
  {
   "cell_type": "markdown",
   "metadata": {},
   "source": [
    "# Sliding window with LCM"
   ]
  },
  {
   "cell_type": "code",
   "execution_count": 11,
   "metadata": {
    "scrolled": true
   },
   "outputs": [
    {
     "data": {
      "text/plain": [
       "'../plots/html/7D-30-[1-10]-[SEX]-lcm.html'"
      ]
     },
     "execution_count": 11,
     "metadata": {},
     "output_type": "execute_result"
    }
   ],
   "source": [
    "df = df_copy.copy()\n",
    "drop_old_files(output)\n",
    "\n",
    "prev = []\n",
    "cpt = 0\n",
    "mode = \"w\"\n",
    "\n",
    "for split_name in dataset_property_split(df,frequency,properties,min_support):\n",
    "    continue\n",
    "    print(\"Processing split\",split_name)\n",
    "    result = run_lcm(split_name,itemsets_size,min_support,output_file,mode)\n",
    "    if result:\n",
    "        cpt+=1\n",
    "    else:\n",
    "        continue\n",
    "    if cpt ==1 : # NO check when there is less than 2 periods\n",
    "        prev = []\n",
    "        mode = \"a\"\n",
    "        continue\n",
    "    mode = 'w'\n",
    "    process_lcm_result(output)\n",
    "    if True: # Drfit found save current groups\n",
    "        # Clear LCM output \n",
    "        mode = 'w'\n",
    "        prev = [split_name]\n",
    "    else: # No drift found, must get the next split and recompute groups\n",
    "        # cancel previous groups and links addition\n",
    "        drop_previous_changes(output)\n",
    "        \n",
    "        i = join_files(df,prev,split_name,frequency)\n",
    "        print(\"#  Reprocessing\",i,len(prev))\n",
    "        run_lcm(i,itemsets_size,min_support*len(prev),output_file,\"w\")\n",
    "        process_lcm_result(output)\n",
    "        prev.append(split_name)\n",
    "copyfile(\"../plots/html/model_plot.html\",f\"../plots/html/{output.replace('out','')}html\")\n"
   ]
  },
  {
   "cell_type": "markdown",
   "metadata": {},
   "source": [
    "### Running query"
   ]
  },
  {
   "cell_type": "code",
   "execution_count": 12,
   "metadata": {},
   "outputs": [
    {
     "ename": "FileNotFoundError",
     "evalue": "[Errno 2] File ../plots/links/7D-30-[1-10]-[SEX]-lcm.out does not exist: '../plots/links/7D-30-[1-10]-[SEX]-lcm.out'",
     "output_type": "error",
     "traceback": [
      "\u001b[0;31m---------------------------------------------------------------------------\u001b[0m",
      "\u001b[0;31mFileNotFoundError\u001b[0m                         Traceback (most recent call last)",
      "\u001b[0;32m<ipython-input-12-c749d7970652>\u001b[0m in \u001b[0;36m<module>\u001b[0;34m\u001b[0m\n\u001b[0;32m----> 1\u001b[0;31m \u001b[0mlinks\u001b[0m \u001b[0;34m=\u001b[0m \u001b[0msplited_links\u001b[0m\u001b[0;34m(\u001b[0m\u001b[0moutput\u001b[0m\u001b[0;34m)\u001b[0m\u001b[0;34m\u001b[0m\u001b[0;34m\u001b[0m\u001b[0m\n\u001b[0m\u001b[1;32m      2\u001b[0m \u001b[0mlinks\u001b[0m \u001b[0;34m=\u001b[0m \u001b[0mlinks\u001b[0m\u001b[0;34m[\u001b[0m\u001b[0mlinks\u001b[0m\u001b[0;34m.\u001b[0m\u001b[0muser_id\u001b[0m\u001b[0;34m.\u001b[0m\u001b[0mapply\u001b[0m\u001b[0;34m(\u001b[0m\u001b[0;32mlambda\u001b[0m \u001b[0mx\u001b[0m \u001b[0;34m:\u001b[0m \u001b[0many\u001b[0m\u001b[0;34m(\u001b[0m\u001b[0mi\u001b[0m \u001b[0;32min\u001b[0m \u001b[0mx\u001b[0m \u001b[0;32mfor\u001b[0m \u001b[0mi\u001b[0m \u001b[0;32min\u001b[0m \u001b[0mtarget_users\u001b[0m\u001b[0;34m)\u001b[0m\u001b[0;34m)\u001b[0m\u001b[0;34m]\u001b[0m\u001b[0;34m\u001b[0m\u001b[0;34m\u001b[0m\u001b[0m\n\u001b[1;32m      3\u001b[0m \u001b[0mlinks\u001b[0m\u001b[0;34m.\u001b[0m\u001b[0mperiod_y\u001b[0m\u001b[0;34m=\u001b[0m \u001b[0mpd\u001b[0m\u001b[0;34m.\u001b[0m\u001b[0mto_datetime\u001b[0m\u001b[0;34m(\u001b[0m\u001b[0mlinks\u001b[0m\u001b[0;34m.\u001b[0m\u001b[0mperiod_y\u001b[0m\u001b[0;34m)\u001b[0m\u001b[0;34m.\u001b[0m\u001b[0mdt\u001b[0m\u001b[0;34m.\u001b[0m\u001b[0mweek\u001b[0m\u001b[0;34m\u001b[0m\u001b[0;34m\u001b[0m\u001b[0m\n\u001b[1;32m      4\u001b[0m \u001b[0mlinks\u001b[0m\u001b[0;34m[\u001b[0m\u001b[0;34m\"interest_gain\"\u001b[0m\u001b[0;34m]\u001b[0m \u001b[0;34m=\u001b[0m \u001b[0;36m0\u001b[0m\u001b[0;34m\u001b[0m\u001b[0;34m\u001b[0m\u001b[0m\n\u001b[1;32m      5\u001b[0m \u001b[0mlinks\u001b[0m\u001b[0;34m[\u001b[0m\u001b[0;34m\"interest_gain\"\u001b[0m\u001b[0;34m]\u001b[0m \u001b[0;34m=\u001b[0m \u001b[0mlinks\u001b[0m\u001b[0;34m.\u001b[0m\u001b[0mapply\u001b[0m\u001b[0;34m(\u001b[0m\u001b[0;32mlambda\u001b[0m \u001b[0mx\u001b[0m \u001b[0;34m:\u001b[0m \u001b[0minterest_gain\u001b[0m\u001b[0;34m(\u001b[0m\u001b[0mx\u001b[0m\u001b[0;34m,\u001b[0m\u001b[0;36m1538\u001b[0m\u001b[0;34m,\u001b[0m\u001b[0mtarget_users\u001b[0m\u001b[0;34m,\u001b[0m\u001b[0mlinks\u001b[0m\u001b[0;34m)\u001b[0m\u001b[0;34m,\u001b[0m\u001b[0maxis\u001b[0m\u001b[0;34m=\u001b[0m\u001b[0;36m1\u001b[0m\u001b[0;34m)\u001b[0m\u001b[0;34m\u001b[0m\u001b[0;34m\u001b[0m\u001b[0m\n",
      "\u001b[0;32m<ipython-input-6-2f9ba1e9c587>\u001b[0m in \u001b[0;36msplited_links\u001b[0;34m(file_name)\u001b[0m\n\u001b[1;32m    250\u001b[0m \u001b[0;34m\u001b[0m\u001b[0m\n\u001b[1;32m    251\u001b[0m \u001b[0;32mdef\u001b[0m \u001b[0msplited_links\u001b[0m\u001b[0;34m(\u001b[0m\u001b[0mfile_name\u001b[0m\u001b[0;34m)\u001b[0m\u001b[0;34m:\u001b[0m\u001b[0;34m\u001b[0m\u001b[0;34m\u001b[0m\u001b[0m\n\u001b[0;32m--> 252\u001b[0;31m     \u001b[0mlinks\u001b[0m \u001b[0;34m=\u001b[0m \u001b[0mpd\u001b[0m\u001b[0;34m.\u001b[0m\u001b[0mread_csv\u001b[0m\u001b[0;34m(\u001b[0m\u001b[0;34mf\"../plots/links/{file_name}\"\u001b[0m\u001b[0;34m)\u001b[0m\u001b[0;34m\u001b[0m\u001b[0;34m\u001b[0m\u001b[0m\n\u001b[0m\u001b[1;32m    253\u001b[0m     \u001b[0mgroups\u001b[0m \u001b[0;34m=\u001b[0m \u001b[0mread_groups\u001b[0m\u001b[0;34m(\u001b[0m\u001b[0mfile_name\u001b[0m\u001b[0;34m)\u001b[0m\u001b[0;34m[\u001b[0m\u001b[0;34m[\u001b[0m\u001b[0;34m\"period\"\u001b[0m\u001b[0;34m,\u001b[0m\u001b[0;34m\"itemset_name\"\u001b[0m\u001b[0;34m,\u001b[0m\u001b[0;34m\"itemsets\"\u001b[0m\u001b[0;34m]\u001b[0m\u001b[0;34m]\u001b[0m\u001b[0;34m\u001b[0m\u001b[0;34m\u001b[0m\u001b[0m\n\u001b[1;32m    254\u001b[0m     \u001b[0mlinks\u001b[0m \u001b[0;34m=\u001b[0m \u001b[0mlinks\u001b[0m\u001b[0;34m.\u001b[0m\u001b[0mmerge\u001b[0m\u001b[0;34m(\u001b[0m\u001b[0mgroups\u001b[0m\u001b[0;34m,\u001b[0m\u001b[0mleft_on\u001b[0m\u001b[0;34m=\u001b[0m\u001b[0;34m\"source\"\u001b[0m\u001b[0;34m,\u001b[0m\u001b[0mright_index\u001b[0m\u001b[0;34m=\u001b[0m\u001b[0;32mTrue\u001b[0m\u001b[0;34m)\u001b[0m\u001b[0;34m.\u001b[0m\u001b[0mmerge\u001b[0m\u001b[0;34m(\u001b[0m\u001b[0mgroups\u001b[0m\u001b[0;34m,\u001b[0m\u001b[0mleft_on\u001b[0m\u001b[0;34m=\u001b[0m\u001b[0;34m\"target\"\u001b[0m\u001b[0;34m,\u001b[0m\u001b[0mright_index\u001b[0m\u001b[0;34m=\u001b[0m\u001b[0;32mTrue\u001b[0m\u001b[0;34m)\u001b[0m\u001b[0;34m\u001b[0m\u001b[0;34m\u001b[0m\u001b[0m\n",
      "\u001b[0;32m~/3env/local/lib/python3.7/site-packages/pandas/io/parsers.py\u001b[0m in \u001b[0;36mparser_f\u001b[0;34m(filepath_or_buffer, sep, delimiter, header, names, index_col, usecols, squeeze, prefix, mangle_dupe_cols, dtype, engine, converters, true_values, false_values, skipinitialspace, skiprows, skipfooter, nrows, na_values, keep_default_na, na_filter, verbose, skip_blank_lines, parse_dates, infer_datetime_format, keep_date_col, date_parser, dayfirst, cache_dates, iterator, chunksize, compression, thousands, decimal, lineterminator, quotechar, quoting, doublequote, escapechar, comment, encoding, dialect, error_bad_lines, warn_bad_lines, delim_whitespace, low_memory, memory_map, float_precision)\u001b[0m\n\u001b[1;32m    674\u001b[0m         )\n\u001b[1;32m    675\u001b[0m \u001b[0;34m\u001b[0m\u001b[0m\n\u001b[0;32m--> 676\u001b[0;31m         \u001b[0;32mreturn\u001b[0m \u001b[0m_read\u001b[0m\u001b[0;34m(\u001b[0m\u001b[0mfilepath_or_buffer\u001b[0m\u001b[0;34m,\u001b[0m \u001b[0mkwds\u001b[0m\u001b[0;34m)\u001b[0m\u001b[0;34m\u001b[0m\u001b[0;34m\u001b[0m\u001b[0m\n\u001b[0m\u001b[1;32m    677\u001b[0m \u001b[0;34m\u001b[0m\u001b[0m\n\u001b[1;32m    678\u001b[0m     \u001b[0mparser_f\u001b[0m\u001b[0;34m.\u001b[0m\u001b[0m__name__\u001b[0m \u001b[0;34m=\u001b[0m \u001b[0mname\u001b[0m\u001b[0;34m\u001b[0m\u001b[0;34m\u001b[0m\u001b[0m\n",
      "\u001b[0;32m~/3env/local/lib/python3.7/site-packages/pandas/io/parsers.py\u001b[0m in \u001b[0;36m_read\u001b[0;34m(filepath_or_buffer, kwds)\u001b[0m\n\u001b[1;32m    446\u001b[0m \u001b[0;34m\u001b[0m\u001b[0m\n\u001b[1;32m    447\u001b[0m     \u001b[0;31m# Create the parser.\u001b[0m\u001b[0;34m\u001b[0m\u001b[0;34m\u001b[0m\u001b[0;34m\u001b[0m\u001b[0m\n\u001b[0;32m--> 448\u001b[0;31m     \u001b[0mparser\u001b[0m \u001b[0;34m=\u001b[0m \u001b[0mTextFileReader\u001b[0m\u001b[0;34m(\u001b[0m\u001b[0mfp_or_buf\u001b[0m\u001b[0;34m,\u001b[0m \u001b[0;34m**\u001b[0m\u001b[0mkwds\u001b[0m\u001b[0;34m)\u001b[0m\u001b[0;34m\u001b[0m\u001b[0;34m\u001b[0m\u001b[0m\n\u001b[0m\u001b[1;32m    449\u001b[0m \u001b[0;34m\u001b[0m\u001b[0m\n\u001b[1;32m    450\u001b[0m     \u001b[0;32mif\u001b[0m \u001b[0mchunksize\u001b[0m \u001b[0;32mor\u001b[0m \u001b[0miterator\u001b[0m\u001b[0;34m:\u001b[0m\u001b[0;34m\u001b[0m\u001b[0;34m\u001b[0m\u001b[0m\n",
      "\u001b[0;32m~/3env/local/lib/python3.7/site-packages/pandas/io/parsers.py\u001b[0m in \u001b[0;36m__init__\u001b[0;34m(self, f, engine, **kwds)\u001b[0m\n\u001b[1;32m    878\u001b[0m             \u001b[0mself\u001b[0m\u001b[0;34m.\u001b[0m\u001b[0moptions\u001b[0m\u001b[0;34m[\u001b[0m\u001b[0;34m\"has_index_names\"\u001b[0m\u001b[0;34m]\u001b[0m \u001b[0;34m=\u001b[0m \u001b[0mkwds\u001b[0m\u001b[0;34m[\u001b[0m\u001b[0;34m\"has_index_names\"\u001b[0m\u001b[0;34m]\u001b[0m\u001b[0;34m\u001b[0m\u001b[0;34m\u001b[0m\u001b[0m\n\u001b[1;32m    879\u001b[0m \u001b[0;34m\u001b[0m\u001b[0m\n\u001b[0;32m--> 880\u001b[0;31m         \u001b[0mself\u001b[0m\u001b[0;34m.\u001b[0m\u001b[0m_make_engine\u001b[0m\u001b[0;34m(\u001b[0m\u001b[0mself\u001b[0m\u001b[0;34m.\u001b[0m\u001b[0mengine\u001b[0m\u001b[0;34m)\u001b[0m\u001b[0;34m\u001b[0m\u001b[0;34m\u001b[0m\u001b[0m\n\u001b[0m\u001b[1;32m    881\u001b[0m \u001b[0;34m\u001b[0m\u001b[0m\n\u001b[1;32m    882\u001b[0m     \u001b[0;32mdef\u001b[0m \u001b[0mclose\u001b[0m\u001b[0;34m(\u001b[0m\u001b[0mself\u001b[0m\u001b[0;34m)\u001b[0m\u001b[0;34m:\u001b[0m\u001b[0;34m\u001b[0m\u001b[0;34m\u001b[0m\u001b[0m\n",
      "\u001b[0;32m~/3env/local/lib/python3.7/site-packages/pandas/io/parsers.py\u001b[0m in \u001b[0;36m_make_engine\u001b[0;34m(self, engine)\u001b[0m\n\u001b[1;32m   1112\u001b[0m     \u001b[0;32mdef\u001b[0m \u001b[0m_make_engine\u001b[0m\u001b[0;34m(\u001b[0m\u001b[0mself\u001b[0m\u001b[0;34m,\u001b[0m \u001b[0mengine\u001b[0m\u001b[0;34m=\u001b[0m\u001b[0;34m\"c\"\u001b[0m\u001b[0;34m)\u001b[0m\u001b[0;34m:\u001b[0m\u001b[0;34m\u001b[0m\u001b[0;34m\u001b[0m\u001b[0m\n\u001b[1;32m   1113\u001b[0m         \u001b[0;32mif\u001b[0m \u001b[0mengine\u001b[0m \u001b[0;34m==\u001b[0m \u001b[0;34m\"c\"\u001b[0m\u001b[0;34m:\u001b[0m\u001b[0;34m\u001b[0m\u001b[0;34m\u001b[0m\u001b[0m\n\u001b[0;32m-> 1114\u001b[0;31m             \u001b[0mself\u001b[0m\u001b[0;34m.\u001b[0m\u001b[0m_engine\u001b[0m \u001b[0;34m=\u001b[0m \u001b[0mCParserWrapper\u001b[0m\u001b[0;34m(\u001b[0m\u001b[0mself\u001b[0m\u001b[0;34m.\u001b[0m\u001b[0mf\u001b[0m\u001b[0;34m,\u001b[0m \u001b[0;34m**\u001b[0m\u001b[0mself\u001b[0m\u001b[0;34m.\u001b[0m\u001b[0moptions\u001b[0m\u001b[0;34m)\u001b[0m\u001b[0;34m\u001b[0m\u001b[0;34m\u001b[0m\u001b[0m\n\u001b[0m\u001b[1;32m   1115\u001b[0m         \u001b[0;32melse\u001b[0m\u001b[0;34m:\u001b[0m\u001b[0;34m\u001b[0m\u001b[0;34m\u001b[0m\u001b[0m\n\u001b[1;32m   1116\u001b[0m             \u001b[0;32mif\u001b[0m \u001b[0mengine\u001b[0m \u001b[0;34m==\u001b[0m \u001b[0;34m\"python\"\u001b[0m\u001b[0;34m:\u001b[0m\u001b[0;34m\u001b[0m\u001b[0;34m\u001b[0m\u001b[0m\n",
      "\u001b[0;32m~/3env/local/lib/python3.7/site-packages/pandas/io/parsers.py\u001b[0m in \u001b[0;36m__init__\u001b[0;34m(self, src, **kwds)\u001b[0m\n\u001b[1;32m   1889\u001b[0m         \u001b[0mkwds\u001b[0m\u001b[0;34m[\u001b[0m\u001b[0;34m\"usecols\"\u001b[0m\u001b[0;34m]\u001b[0m \u001b[0;34m=\u001b[0m \u001b[0mself\u001b[0m\u001b[0;34m.\u001b[0m\u001b[0musecols\u001b[0m\u001b[0;34m\u001b[0m\u001b[0;34m\u001b[0m\u001b[0m\n\u001b[1;32m   1890\u001b[0m \u001b[0;34m\u001b[0m\u001b[0m\n\u001b[0;32m-> 1891\u001b[0;31m         \u001b[0mself\u001b[0m\u001b[0;34m.\u001b[0m\u001b[0m_reader\u001b[0m \u001b[0;34m=\u001b[0m \u001b[0mparsers\u001b[0m\u001b[0;34m.\u001b[0m\u001b[0mTextReader\u001b[0m\u001b[0;34m(\u001b[0m\u001b[0msrc\u001b[0m\u001b[0;34m,\u001b[0m \u001b[0;34m**\u001b[0m\u001b[0mkwds\u001b[0m\u001b[0;34m)\u001b[0m\u001b[0;34m\u001b[0m\u001b[0;34m\u001b[0m\u001b[0m\n\u001b[0m\u001b[1;32m   1892\u001b[0m         \u001b[0mself\u001b[0m\u001b[0;34m.\u001b[0m\u001b[0munnamed_cols\u001b[0m \u001b[0;34m=\u001b[0m \u001b[0mself\u001b[0m\u001b[0;34m.\u001b[0m\u001b[0m_reader\u001b[0m\u001b[0;34m.\u001b[0m\u001b[0munnamed_cols\u001b[0m\u001b[0;34m\u001b[0m\u001b[0;34m\u001b[0m\u001b[0m\n\u001b[1;32m   1893\u001b[0m \u001b[0;34m\u001b[0m\u001b[0m\n",
      "\u001b[0;32mpandas/_libs/parsers.pyx\u001b[0m in \u001b[0;36mpandas._libs.parsers.TextReader.__cinit__\u001b[0;34m()\u001b[0m\n",
      "\u001b[0;32mpandas/_libs/parsers.pyx\u001b[0m in \u001b[0;36mpandas._libs.parsers.TextReader._setup_parser_source\u001b[0;34m()\u001b[0m\n",
      "\u001b[0;31mFileNotFoundError\u001b[0m: [Errno 2] File ../plots/links/7D-30-[1-10]-[SEX]-lcm.out does not exist: '../plots/links/7D-30-[1-10]-[SEX]-lcm.out'"
     ]
    }
   ],
   "source": [
    "links = splited_links(output)\n",
    "links = links[links.user_id.apply(lambda x : any(i in x for i in target_users))]\n",
    "links.period_y= pd.to_datetime(links.period_y).dt.week\n",
    "links[\"interest_gain\"] = 0\n",
    "links[\"interest_gain\"] = links.apply(lambda x : interest_gain(x,1538,target_users,links),axis=1)\n",
    "links[\"interest_gain\"] = links[\"interest_gain\"].apply(lambda x : len([i for i in x if i==True]))"
   ]
  },
  {
   "cell_type": "markdown",
   "metadata": {},
   "source": [
    "### Lcm with no sliding window plot "
   ]
  },
  {
   "cell_type": "code",
   "execution_count": 13,
   "metadata": {},
   "outputs": [
    {
     "ename": "NameError",
     "evalue": "name 'links' is not defined",
     "output_type": "error",
     "traceback": [
      "\u001b[0;31m---------------------------------------------------------------------------\u001b[0m",
      "\u001b[0;31mNameError\u001b[0m                                 Traceback (most recent call last)",
      "\u001b[0;32m<ipython-input-13-74372304035d>\u001b[0m in \u001b[0;36m<module>\u001b[0;34m\u001b[0m\n\u001b[1;32m      9\u001b[0m     \u001b[0mplt\u001b[0m\u001b[0;34m.\u001b[0m\u001b[0mtitle\u001b[0m\u001b[0;34m(\u001b[0m\u001b[0;34mf\"Figure 1: For every week from 2018 to 2019 multiple subsets of C satisfy {drift_name} for {product_name}, the {drift_name} values are counted in the following stacked bar plot\"\u001b[0m\u001b[0;34m)\u001b[0m\u001b[0;34m\u001b[0m\u001b[0;34m\u001b[0m\u001b[0m\n\u001b[1;32m     10\u001b[0m     \u001b[0;32mreturn\u001b[0m \u001b[0max\u001b[0m\u001b[0;34m\u001b[0m\u001b[0;34m\u001b[0m\u001b[0m\n\u001b[0;32m---> 11\u001b[0;31m \u001b[0mplot_query_results\u001b[0m\u001b[0;34m(\u001b[0m\u001b[0mlinks\u001b[0m\u001b[0;34m,\u001b[0m\u001b[0mdrift_name\u001b[0m\u001b[0;34m)\u001b[0m\u001b[0;34m\u001b[0m\u001b[0;34m\u001b[0m\u001b[0m\n\u001b[0m\u001b[1;32m     12\u001b[0m \u001b[0mplt\u001b[0m\u001b[0;34m.\u001b[0m\u001b[0mshow\u001b[0m\u001b[0;34m(\u001b[0m\u001b[0;34m)\u001b[0m\u001b[0;34m\u001b[0m\u001b[0;34m\u001b[0m\u001b[0m\n",
      "\u001b[0;31mNameError\u001b[0m: name 'links' is not defined"
     ]
    }
   ],
   "source": [
    "plt.style.use('default')\n",
    "\n",
    "def plot_query_results(links,drift_name,stacked=True):\n",
    "    stats_df = links.groupby([\"period_y\"])[drift_name].value_counts().unstack()\n",
    "    ax= stats_df[stats_df.columns[1:]].dropna(how='all').plot.bar(stacked=stacked,figsize=(30,6))\n",
    "    ax.set_xlabel(\"Weeks from 2018-2019\")\n",
    "    ax.set_ylabel(\"Number of subsets\")\n",
    "    plt.rcParams.update({'font.size': 12})\n",
    "    plt.title(f\"Figure 1: For every week from 2018 to 2019 multiple subsets of C satisfy {drift_name} for {product_name}, the {drift_name} values are counted in the following stacked bar plot\")\n",
    "    return ax\n",
    "plot_query_results(links,drift_name)\n",
    "plt.show()"
   ]
  },
  {
   "cell_type": "markdown",
   "metadata": {},
   "source": [
    "### 2.1 Raw data Sliding window + Fixed window"
   ]
  },
  {
   "cell_type": "code",
   "execution_count": 14,
   "metadata": {},
   "outputs": [],
   "source": [
    "# fitler data on product p and users in target users \n",
    "df = df_copy.copy()\n",
    "df_ = df[(df.ARTICLE_ID.astype(str)==product_id)&(df.CUST_ID.isin([int(i) for i in target_users]))]\n",
    "df_.index = pd.DatetimeIndex(pd.to_datetime(df_.TRANSACTION_DATE).dt.date)\n",
    "\n",
    "res,drifts = [],[]\n",
    "stats = pd.DataFrame()\n",
    "stats2 = pd.DataFrame()\n",
    "threshold = 5\n",
    "prev_drift = set()\n",
    "res2= []\n",
    "frequencies = [\"1W\",\"2W\",\"3W\",\"4W\"]\n",
    "\n",
    "for frequency in frequencies:\n",
    "    customers,cpt,res = set(),0,[]\n",
    "    indexer = pd.date_range(start = df_.index.min().date(), end = df_.index.max().date(), freq = frequency)\n",
    "\n",
    "    splits = df_.groupby(pd.Grouper(freq=frequency)).CUST_ID.unique().reindex(indexer,fill_value=[])\n",
    "#     splits = df_.groupby(pd.Grouper(freq=frequency)).CUST_ID.unique()\n",
    "    prev = splits.iloc[0]\n",
    "    \n",
    "    for idx,i in splits.to_frame().iloc[1:].iterrows():\n",
    "        customers = customers.union(i.CUST_ID)\n",
    "        drift = customers.difference(prev)\n",
    "        res2.append((idx,len(drift),drift.difference(prev_drift)))\n",
    "        if len(drift) >threshold: # Drift found \n",
    "            prev = customers\n",
    "            customers = set()\n",
    "            prev_drift = set()\n",
    "        res.append((idx,len(drift),drift))\n",
    "        \n",
    "        prev_drift = prev_drift.union(drift)\n",
    "    a = pd.DataFrame(res,columns=[\"period_y\",drift_name,\"customers\"])\n",
    "    a = a.set_index(\"period_y\")\n",
    "    a[\"granularity\"] = frequency\n",
    "    stats = pd.concat([stats,a])\n",
    "    \n",
    "    # Optional part\n",
    "    aa = pd.DataFrame(res2,columns=[\"period_y\",drift_name,\"customers\"])\n",
    "    aa = aa.set_index(\"period_y\")\n",
    "    aa[\"granularity\"] = frequency\n",
    "    stats2 = pd.concat([stats2,aa])\n",
    "\n",
    "    \n",
    "details = stats.copy()\n",
    "threshold_points = stats.copy()\n",
    "threshold_points.index = threshold_points.index.week\n",
    "threshold_points = threshold_points[threshold_points[drift_name]>threshold]\n",
    "threshold_points = threshold_points.pivot(columns='granularity',values=drift_name)\n",
    "threshold_points = threshold_points.stack().to_frame().reset_index().set_index(\"period_y\")\n",
    "threshold_points.columns = [\"granularity\",drift_name]"
   ]
  },
  {
   "cell_type": "markdown",
   "metadata": {},
   "source": [
    "## No sliding windows plot "
   ]
  },
  {
   "cell_type": "code",
   "execution_count": 15,
   "metadata": {},
   "outputs": [
    {
     "data": {
      "image/png": "[encoded data removed]",
      "text/plain": [
       "<Figure size 2000x800 with 1 Axes>"
      ]
     },
     "metadata": {},
     "output_type": "display_data"
    }
   ],
   "source": [
    "plt.style.use('default')\n",
    "ax = stats.plot.bar(figsize=(20,8))\n",
    "ax.set_ylabel(\"Subset size\")\n",
    "ax.set_xlabel(\"2018-2019 Weeks\")\n",
    "plt.show()"
   ]
  },
  {
   "cell_type": "markdown",
   "metadata": {},
   "source": [
    "## 2.2 Sliding windows plot "
   ]
  },
  {
   "cell_type": "code",
   "execution_count": 16,
   "metadata": {},
   "outputs": [],
   "source": [
    "index = stats.index\n",
    "res  = []\n",
    "cpt==0\n",
    "for i in stats.index:\n",
    "    if i in stats[stats[drift_name]>threshold].index :\n",
    "        res.append(i)\n",
    "        continue\n",
    "    res.append(\"\")\n",
    "res[0], res[-1] = index[0],index[-1]\n",
    "\n",
    "columns = stats.granularity.unique()\n",
    "stats.index = stats.reset_index().period_y.dt.week\n",
    "stats = stats.reset_index().pivot(index=\"period_y\",values=drift_name,columns=\"granularity\").fillna(method=\"ffill\")\n",
    "stats.loc[stats.index.min()-1] = [0]*len(frequencies)\n",
    "stats.sort_index(inplace=True)\n",
    "stats = stats.fillna(0)"
   ]
  },
  {
   "cell_type": "code",
   "execution_count": 24,
   "metadata": {},
   "outputs": [
    {
     "data": {
      "text/html": [
       "<style  type=\"text/css\" >\n",
       "    #T_c9acaa04_8e01_11ea_ae9f_fb14754454b5row1_col0 {\n",
       "            background:  lightblue;\n",
       "        }    #T_c9acaa04_8e01_11ea_ae9f_fb14754454b5row2_col1 {\n",
       "            background:  lightblue;\n",
       "        }    #T_c9acaa04_8e01_11ea_ae9f_fb14754454b5row3_col2 {\n",
       "            background:  lightblue;\n",
       "        }    #T_c9acaa04_8e01_11ea_ae9f_fb14754454b5row4_col0 {\n",
       "            background:  lightblue;\n",
       "        }    #T_c9acaa04_8e01_11ea_ae9f_fb14754454b5row4_col3 {\n",
       "            background:  lightblue;\n",
       "        }    #T_c9acaa04_8e01_11ea_ae9f_fb14754454b5row9_col0 {\n",
       "            background:  lightblue;\n",
       "        }    #T_c9acaa04_8e01_11ea_ae9f_fb14754454b5row9_col2 {\n",
       "            background:  lightblue;\n",
       "        }    #T_c9acaa04_8e01_11ea_ae9f_fb14754454b5row10_col0 {\n",
       "            background:  lightblue;\n",
       "        }    #T_c9acaa04_8e01_11ea_ae9f_fb14754454b5row10_col1 {\n",
       "            background:  lightblue;\n",
       "        }    #T_c9acaa04_8e01_11ea_ae9f_fb14754454b5row12_col2 {\n",
       "            background:  lightblue;\n",
       "        }    #T_c9acaa04_8e01_11ea_ae9f_fb14754454b5row12_col3 {\n",
       "            background:  lightblue;\n",
       "        }    #T_c9acaa04_8e01_11ea_ae9f_fb14754454b5row13_col0 {\n",
       "            background:  lightblue;\n",
       "        }    #T_c9acaa04_8e01_11ea_ae9f_fb14754454b5row18_col1 {\n",
       "            background:  lightblue;\n",
       "        }    #T_c9acaa04_8e01_11ea_ae9f_fb14754454b5row21_col2 {\n",
       "            background:  lightblue;\n",
       "        }    #T_c9acaa04_8e01_11ea_ae9f_fb14754454b5row22_col0 {\n",
       "            background:  lightblue;\n",
       "        }    #T_c9acaa04_8e01_11ea_ae9f_fb14754454b5row24_col3 {\n",
       "            background:  lightblue;\n",
       "        }</style><table id=\"T_c9acaa04_8e01_11ea_ae9f_fb14754454b5\" ><thead>    <tr>        <th class=\"index_name level0\" >granularity</th>        <th class=\"col_heading level0 col0\" >1W</th>        <th class=\"col_heading level0 col1\" >2W</th>        <th class=\"col_heading level0 col2\" >3W</th>        <th class=\"col_heading level0 col3\" >4W</th>    </tr>    <tr>        <th class=\"index_name level0\" >period_y</th>        <th class=\"blank\" ></th>        <th class=\"blank\" ></th>        <th class=\"blank\" ></th>        <th class=\"blank\" ></th>    </tr></thead><tbody>\n",
       "                <tr>\n",
       "                        <th id=\"T_c9acaa04_8e01_11ea_ae9f_fb14754454b5level0_row0\" class=\"row_heading level0 row0\" >27</th>\n",
       "                        <td id=\"T_c9acaa04_8e01_11ea_ae9f_fb14754454b5row0_col0\" class=\"data row0 col0\" >[]</td>\n",
       "                        <td id=\"T_c9acaa04_8e01_11ea_ae9f_fb14754454b5row0_col1\" class=\"data row0 col1\" >[]</td>\n",
       "                        <td id=\"T_c9acaa04_8e01_11ea_ae9f_fb14754454b5row0_col2\" class=\"data row0 col2\" >[]</td>\n",
       "                        <td id=\"T_c9acaa04_8e01_11ea_ae9f_fb14754454b5row0_col3\" class=\"data row0 col3\" >[]</td>\n",
       "            </tr>\n",
       "            <tr>\n",
       "                        <th id=\"T_c9acaa04_8e01_11ea_ae9f_fb14754454b5level0_row1\" class=\"row_heading level0 row1\" >28</th>\n",
       "                        <td id=\"T_c9acaa04_8e01_11ea_ae9f_fb14754454b5row1_col0\" class=\"data row1 col0\" >[7, 17, 19, 25, 27, 28]</td>\n",
       "                        <td id=\"T_c9acaa04_8e01_11ea_ae9f_fb14754454b5row1_col1\" class=\"data row1 col1\" >[]</td>\n",
       "                        <td id=\"T_c9acaa04_8e01_11ea_ae9f_fb14754454b5row1_col2\" class=\"data row1 col2\" >[]</td>\n",
       "                        <td id=\"T_c9acaa04_8e01_11ea_ae9f_fb14754454b5row1_col3\" class=\"data row1 col3\" >[]</td>\n",
       "            </tr>\n",
       "            <tr>\n",
       "                        <th id=\"T_c9acaa04_8e01_11ea_ae9f_fb14754454b5level0_row2\" class=\"row_heading level0 row2\" >29</th>\n",
       "                        <td id=\"T_c9acaa04_8e01_11ea_ae9f_fb14754454b5row2_col0\" class=\"data row2 col0\" >[16, 18, 21, 22, 24]</td>\n",
       "                        <td id=\"T_c9acaa04_8e01_11ea_ae9f_fb14754454b5row2_col1\" class=\"data row2 col1\" >[7, 16, 17, 18, 19, 21, 22, 25, 27, 28]</td>\n",
       "                        <td id=\"T_c9acaa04_8e01_11ea_ae9f_fb14754454b5row2_col2\" class=\"data row2 col2\" >[]</td>\n",
       "                        <td id=\"T_c9acaa04_8e01_11ea_ae9f_fb14754454b5row2_col3\" class=\"data row2 col3\" >[]</td>\n",
       "            </tr>\n",
       "            <tr>\n",
       "                        <th id=\"T_c9acaa04_8e01_11ea_ae9f_fb14754454b5level0_row3\" class=\"row_heading level0 row3\" >30</th>\n",
       "                        <td id=\"T_c9acaa04_8e01_11ea_ae9f_fb14754454b5row3_col0\" class=\"data row3 col0\" >[16, 18, 21, 22, 24]</td>\n",
       "                        <td id=\"T_c9acaa04_8e01_11ea_ae9f_fb14754454b5row3_col1\" class=\"data row3 col1\" >[]</td>\n",
       "                        <td id=\"T_c9acaa04_8e01_11ea_ae9f_fb14754454b5row3_col2\" class=\"data row3 col2\" >[7, 16, 17, 18, 19, 21, 22, 25, 27, 28]</td>\n",
       "                        <td id=\"T_c9acaa04_8e01_11ea_ae9f_fb14754454b5row3_col3\" class=\"data row3 col3\" >[]</td>\n",
       "            </tr>\n",
       "            <tr>\n",
       "                        <th id=\"T_c9acaa04_8e01_11ea_ae9f_fb14754454b5level0_row4\" class=\"row_heading level0 row4\" >31</th>\n",
       "                        <td id=\"T_c9acaa04_8e01_11ea_ae9f_fb14754454b5row4_col0\" class=\"data row4 col0\" >[15, 16, 18, 21, 22, 24]</td>\n",
       "                        <td id=\"T_c9acaa04_8e01_11ea_ae9f_fb14754454b5row4_col1\" class=\"data row4 col1\" >[15]</td>\n",
       "                        <td id=\"T_c9acaa04_8e01_11ea_ae9f_fb14754454b5row4_col2\" class=\"data row4 col2\" >[]</td>\n",
       "                        <td id=\"T_c9acaa04_8e01_11ea_ae9f_fb14754454b5row4_col3\" class=\"data row4 col3\" >[7, 15, 16, 17, 18, 19, 21, 22, 25, 27, 28]</td>\n",
       "            </tr>\n",
       "            <tr>\n",
       "                        <th id=\"T_c9acaa04_8e01_11ea_ae9f_fb14754454b5level0_row5\" class=\"row_heading level0 row5\" >32</th>\n",
       "                        <td id=\"T_c9acaa04_8e01_11ea_ae9f_fb14754454b5row5_col0\" class=\"data row5 col0\" >[]</td>\n",
       "                        <td id=\"T_c9acaa04_8e01_11ea_ae9f_fb14754454b5row5_col1\" class=\"data row5 col1\" >[]</td>\n",
       "                        <td id=\"T_c9acaa04_8e01_11ea_ae9f_fb14754454b5row5_col2\" class=\"data row5 col2\" >[]</td>\n",
       "                        <td id=\"T_c9acaa04_8e01_11ea_ae9f_fb14754454b5row5_col3\" class=\"data row5 col3\" >[]</td>\n",
       "            </tr>\n",
       "            <tr>\n",
       "                        <th id=\"T_c9acaa04_8e01_11ea_ae9f_fb14754454b5level0_row6\" class=\"row_heading level0 row6\" >33</th>\n",
       "                        <td id=\"T_c9acaa04_8e01_11ea_ae9f_fb14754454b5row6_col0\" class=\"data row6 col0\" >[]</td>\n",
       "                        <td id=\"T_c9acaa04_8e01_11ea_ae9f_fb14754454b5row6_col1\" class=\"data row6 col1\" >[15]</td>\n",
       "                        <td id=\"T_c9acaa04_8e01_11ea_ae9f_fb14754454b5row6_col2\" class=\"data row6 col2\" >[15]</td>\n",
       "                        <td id=\"T_c9acaa04_8e01_11ea_ae9f_fb14754454b5row6_col3\" class=\"data row6 col3\" >[]</td>\n",
       "            </tr>\n",
       "            <tr>\n",
       "                        <th id=\"T_c9acaa04_8e01_11ea_ae9f_fb14754454b5level0_row7\" class=\"row_heading level0 row7\" >34</th>\n",
       "                        <td id=\"T_c9acaa04_8e01_11ea_ae9f_fb14754454b5row7_col0\" class=\"data row7 col0\" >[5]</td>\n",
       "                        <td id=\"T_c9acaa04_8e01_11ea_ae9f_fb14754454b5row7_col1\" class=\"data row7 col1\" >[]</td>\n",
       "                        <td id=\"T_c9acaa04_8e01_11ea_ae9f_fb14754454b5row7_col2\" class=\"data row7 col2\" >[]</td>\n",
       "                        <td id=\"T_c9acaa04_8e01_11ea_ae9f_fb14754454b5row7_col3\" class=\"data row7 col3\" >[]</td>\n",
       "            </tr>\n",
       "            <tr>\n",
       "                        <th id=\"T_c9acaa04_8e01_11ea_ae9f_fb14754454b5level0_row8\" class=\"row_heading level0 row8\" >35</th>\n",
       "                        <td id=\"T_c9acaa04_8e01_11ea_ae9f_fb14754454b5row8_col0\" class=\"data row8 col0\" >[1, 2, 5, 6]</td>\n",
       "                        <td id=\"T_c9acaa04_8e01_11ea_ae9f_fb14754454b5row8_col1\" class=\"data row8 col1\" >[1, 2, 5, 6, 15]</td>\n",
       "                        <td id=\"T_c9acaa04_8e01_11ea_ae9f_fb14754454b5row8_col2\" class=\"data row8 col2\" >[]</td>\n",
       "                        <td id=\"T_c9acaa04_8e01_11ea_ae9f_fb14754454b5row8_col3\" class=\"data row8 col3\" >[1, 2, 5, 6]</td>\n",
       "            </tr>\n",
       "            <tr>\n",
       "                        <th id=\"T_c9acaa04_8e01_11ea_ae9f_fb14754454b5level0_row9\" class=\"row_heading level0 row9\" >36</th>\n",
       "                        <td id=\"T_c9acaa04_8e01_11ea_ae9f_fb14754454b5row9_col0\" class=\"data row9 col0\" >[1, 2, 3, 4, 5, 6]</td>\n",
       "                        <td id=\"T_c9acaa04_8e01_11ea_ae9f_fb14754454b5row9_col1\" class=\"data row9 col1\" >[]</td>\n",
       "                        <td id=\"T_c9acaa04_8e01_11ea_ae9f_fb14754454b5row9_col2\" class=\"data row9 col2\" >[1, 2, 3, 4, 5, 6, 15]</td>\n",
       "                        <td id=\"T_c9acaa04_8e01_11ea_ae9f_fb14754454b5row9_col3\" class=\"data row9 col3\" >[]</td>\n",
       "            </tr>\n",
       "            <tr>\n",
       "                        <th id=\"T_c9acaa04_8e01_11ea_ae9f_fb14754454b5level0_row10\" class=\"row_heading level0 row10\" >37</th>\n",
       "                        <td id=\"T_c9acaa04_8e01_11ea_ae9f_fb14754454b5row10_col0\" class=\"data row10 col0\" >[0, 11, 16, 18, 19, 23, 24, 26]</td>\n",
       "                        <td id=\"T_c9acaa04_8e01_11ea_ae9f_fb14754454b5row10_col1\" class=\"data row10 col1\" >[0, 1, 2, 3, 4, 5, 6, 11, 15, 23]</td>\n",
       "                        <td id=\"T_c9acaa04_8e01_11ea_ae9f_fb14754454b5row10_col2\" class=\"data row10 col2\" >[]</td>\n",
       "                        <td id=\"T_c9acaa04_8e01_11ea_ae9f_fb14754454b5row10_col3\" class=\"data row10 col3\" >[]</td>\n",
       "            </tr>\n",
       "            <tr>\n",
       "                        <th id=\"T_c9acaa04_8e01_11ea_ae9f_fb14754454b5level0_row11\" class=\"row_heading level0 row11\" >38</th>\n",
       "                        <td id=\"T_c9acaa04_8e01_11ea_ae9f_fb14754454b5row11_col0\" class=\"data row11 col0\" >[6, 15]</td>\n",
       "                        <td id=\"T_c9acaa04_8e01_11ea_ae9f_fb14754454b5row11_col1\" class=\"data row11 col1\" >[]</td>\n",
       "                        <td id=\"T_c9acaa04_8e01_11ea_ae9f_fb14754454b5row11_col2\" class=\"data row11 col2\" >[]</td>\n",
       "                        <td id=\"T_c9acaa04_8e01_11ea_ae9f_fb14754454b5row11_col3\" class=\"data row11 col3\" >[]</td>\n",
       "            </tr>\n",
       "            <tr>\n",
       "                        <th id=\"T_c9acaa04_8e01_11ea_ae9f_fb14754454b5level0_row12\" class=\"row_heading level0 row12\" >39</th>\n",
       "                        <td id=\"T_c9acaa04_8e01_11ea_ae9f_fb14754454b5row12_col0\" class=\"data row12 col0\" >[6, 8, 15, 25]</td>\n",
       "                        <td id=\"T_c9acaa04_8e01_11ea_ae9f_fb14754454b5row12_col1\" class=\"data row12 col1\" >[8, 25]</td>\n",
       "                        <td id=\"T_c9acaa04_8e01_11ea_ae9f_fb14754454b5row12_col2\" class=\"data row12 col2\" >[0, 8, 11, 16, 18, 19, 23, 24, 25, 26]</td>\n",
       "                        <td id=\"T_c9acaa04_8e01_11ea_ae9f_fb14754454b5row12_col3\" class=\"data row12 col3\" >[0, 1, 2, 3, 4, 5, 6, 8, 11, 23]</td>\n",
       "            </tr>\n",
       "            <tr>\n",
       "                        <th id=\"T_c9acaa04_8e01_11ea_ae9f_fb14754454b5level0_row13\" class=\"row_heading level0 row13\" >40</th>\n",
       "                        <td id=\"T_c9acaa04_8e01_11ea_ae9f_fb14754454b5row13_col0\" class=\"data row13 col0\" >[6, 8, 9, 12, 15, 22, 25, 27]</td>\n",
       "                        <td id=\"T_c9acaa04_8e01_11ea_ae9f_fb14754454b5row13_col1\" class=\"data row13 col1\" >[]</td>\n",
       "                        <td id=\"T_c9acaa04_8e01_11ea_ae9f_fb14754454b5row13_col2\" class=\"data row13 col2\" >[]</td>\n",
       "                        <td id=\"T_c9acaa04_8e01_11ea_ae9f_fb14754454b5row13_col3\" class=\"data row13 col3\" >[]</td>\n",
       "            </tr>\n",
       "            <tr>\n",
       "                        <th id=\"T_c9acaa04_8e01_11ea_ae9f_fb14754454b5level0_row14\" class=\"row_heading level0 row14\" >41</th>\n",
       "                        <td id=\"T_c9acaa04_8e01_11ea_ae9f_fb14754454b5row14_col0\" class=\"data row14 col0\" >[0, 11]</td>\n",
       "                        <td id=\"T_c9acaa04_8e01_11ea_ae9f_fb14754454b5row14_col1\" class=\"data row14 col1\" >[8, 9, 12, 25, 27]</td>\n",
       "                        <td id=\"T_c9acaa04_8e01_11ea_ae9f_fb14754454b5row14_col2\" class=\"data row14 col2\" >[]</td>\n",
       "                        <td id=\"T_c9acaa04_8e01_11ea_ae9f_fb14754454b5row14_col3\" class=\"data row14 col3\" >[]</td>\n",
       "            </tr>\n",
       "            <tr>\n",
       "                        <th id=\"T_c9acaa04_8e01_11ea_ae9f_fb14754454b5level0_row15\" class=\"row_heading level0 row15\" >42</th>\n",
       "                        <td id=\"T_c9acaa04_8e01_11ea_ae9f_fb14754454b5row15_col0\" class=\"data row15 col0\" >[0, 11]</td>\n",
       "                        <td id=\"T_c9acaa04_8e01_11ea_ae9f_fb14754454b5row15_col1\" class=\"data row15 col1\" >[]</td>\n",
       "                        <td id=\"T_c9acaa04_8e01_11ea_ae9f_fb14754454b5row15_col2\" class=\"data row15 col2\" >[9, 12, 22, 27]</td>\n",
       "                        <td id=\"T_c9acaa04_8e01_11ea_ae9f_fb14754454b5row15_col3\" class=\"data row15 col3\" >[]</td>\n",
       "            </tr>\n",
       "            <tr>\n",
       "                        <th id=\"T_c9acaa04_8e01_11ea_ae9f_fb14754454b5level0_row16\" class=\"row_heading level0 row16\" >43</th>\n",
       "                        <td id=\"T_c9acaa04_8e01_11ea_ae9f_fb14754454b5row16_col0\" class=\"data row16 col0\" >[0, 11]</td>\n",
       "                        <td id=\"T_c9acaa04_8e01_11ea_ae9f_fb14754454b5row16_col1\" class=\"data row16 col1\" >[8, 9, 12, 25, 27]</td>\n",
       "                        <td id=\"T_c9acaa04_8e01_11ea_ae9f_fb14754454b5row16_col2\" class=\"data row16 col2\" >[]</td>\n",
       "                        <td id=\"T_c9acaa04_8e01_11ea_ae9f_fb14754454b5row16_col3\" class=\"data row16 col3\" >[9, 12, 27]</td>\n",
       "            </tr>\n",
       "            <tr>\n",
       "                        <th id=\"T_c9acaa04_8e01_11ea_ae9f_fb14754454b5level0_row17\" class=\"row_heading level0 row17\" >44</th>\n",
       "                        <td id=\"T_c9acaa04_8e01_11ea_ae9f_fb14754454b5row17_col0\" class=\"data row17 col0\" >[0, 11]</td>\n",
       "                        <td id=\"T_c9acaa04_8e01_11ea_ae9f_fb14754454b5row17_col1\" class=\"data row17 col1\" >[]</td>\n",
       "                        <td id=\"T_c9acaa04_8e01_11ea_ae9f_fb14754454b5row17_col2\" class=\"data row17 col2\" >[]</td>\n",
       "                        <td id=\"T_c9acaa04_8e01_11ea_ae9f_fb14754454b5row17_col3\" class=\"data row17 col3\" >[]</td>\n",
       "            </tr>\n",
       "            <tr>\n",
       "                        <th id=\"T_c9acaa04_8e01_11ea_ae9f_fb14754454b5level0_row18\" class=\"row_heading level0 row18\" >45</th>\n",
       "                        <td id=\"T_c9acaa04_8e01_11ea_ae9f_fb14754454b5row18_col0\" class=\"data row18 col0\" >[0, 10, 11]</td>\n",
       "                        <td id=\"T_c9acaa04_8e01_11ea_ae9f_fb14754454b5row18_col1\" class=\"data row18 col1\" >[8, 9, 10, 12, 25, 27]</td>\n",
       "                        <td id=\"T_c9acaa04_8e01_11ea_ae9f_fb14754454b5row18_col2\" class=\"data row18 col2\" >[9, 10, 12, 22, 27]</td>\n",
       "                        <td id=\"T_c9acaa04_8e01_11ea_ae9f_fb14754454b5row18_col3\" class=\"data row18 col3\" >[]</td>\n",
       "            </tr>\n",
       "            <tr>\n",
       "                        <th id=\"T_c9acaa04_8e01_11ea_ae9f_fb14754454b5level0_row19\" class=\"row_heading level0 row19\" >46</th>\n",
       "                        <td id=\"T_c9acaa04_8e01_11ea_ae9f_fb14754454b5row19_col0\" class=\"data row19 col0\" >[0, 10, 11]</td>\n",
       "                        <td id=\"T_c9acaa04_8e01_11ea_ae9f_fb14754454b5row19_col1\" class=\"data row19 col1\" >[]</td>\n",
       "                        <td id=\"T_c9acaa04_8e01_11ea_ae9f_fb14754454b5row19_col2\" class=\"data row19 col2\" >[]</td>\n",
       "                        <td id=\"T_c9acaa04_8e01_11ea_ae9f_fb14754454b5row19_col3\" class=\"data row19 col3\" >[]</td>\n",
       "            </tr>\n",
       "            <tr>\n",
       "                        <th id=\"T_c9acaa04_8e01_11ea_ae9f_fb14754454b5level0_row20\" class=\"row_heading level0 row20\" >47</th>\n",
       "                        <td id=\"T_c9acaa04_8e01_11ea_ae9f_fb14754454b5row20_col0\" class=\"data row20 col0\" >[0, 10, 11, 26]</td>\n",
       "                        <td id=\"T_c9acaa04_8e01_11ea_ae9f_fb14754454b5row20_col1\" class=\"data row20 col1\" >[26]</td>\n",
       "                        <td id=\"T_c9acaa04_8e01_11ea_ae9f_fb14754454b5row20_col2\" class=\"data row20 col2\" >[]</td>\n",
       "                        <td id=\"T_c9acaa04_8e01_11ea_ae9f_fb14754454b5row20_col3\" class=\"data row20 col3\" >[9, 10, 12, 27]</td>\n",
       "            </tr>\n",
       "            <tr>\n",
       "                        <th id=\"T_c9acaa04_8e01_11ea_ae9f_fb14754454b5level0_row21\" class=\"row_heading level0 row21\" >48</th>\n",
       "                        <td id=\"T_c9acaa04_8e01_11ea_ae9f_fb14754454b5row21_col0\" class=\"data row21 col0\" >[0, 10, 11, 14, 26]</td>\n",
       "                        <td id=\"T_c9acaa04_8e01_11ea_ae9f_fb14754454b5row21_col1\" class=\"data row21 col1\" >[]</td>\n",
       "                        <td id=\"T_c9acaa04_8e01_11ea_ae9f_fb14754454b5row21_col2\" class=\"data row21 col2\" >[9, 10, 12, 14, 22, 27]</td>\n",
       "                        <td id=\"T_c9acaa04_8e01_11ea_ae9f_fb14754454b5row21_col3\" class=\"data row21 col3\" >[]</td>\n",
       "            </tr>\n",
       "            <tr>\n",
       "                        <th id=\"T_c9acaa04_8e01_11ea_ae9f_fb14754454b5level0_row22\" class=\"row_heading level0 row22\" >49</th>\n",
       "                        <td id=\"T_c9acaa04_8e01_11ea_ae9f_fb14754454b5row22_col0\" class=\"data row22 col0\" >[0, 10, 11, 14, 20, 26]</td>\n",
       "                        <td id=\"T_c9acaa04_8e01_11ea_ae9f_fb14754454b5row22_col1\" class=\"data row22 col1\" >[14, 20, 26]</td>\n",
       "                        <td id=\"T_c9acaa04_8e01_11ea_ae9f_fb14754454b5row22_col2\" class=\"data row22 col2\" >[]</td>\n",
       "                        <td id=\"T_c9acaa04_8e01_11ea_ae9f_fb14754454b5row22_col3\" class=\"data row22 col3\" >[]</td>\n",
       "            </tr>\n",
       "            <tr>\n",
       "                        <th id=\"T_c9acaa04_8e01_11ea_ae9f_fb14754454b5level0_row23\" class=\"row_heading level0 row23\" >50</th>\n",
       "                        <td id=\"T_c9acaa04_8e01_11ea_ae9f_fb14754454b5row23_col0\" class=\"data row23 col0\" >[]</td>\n",
       "                        <td id=\"T_c9acaa04_8e01_11ea_ae9f_fb14754454b5row23_col1\" class=\"data row23 col1\" >[]</td>\n",
       "                        <td id=\"T_c9acaa04_8e01_11ea_ae9f_fb14754454b5row23_col2\" class=\"data row23 col2\" >[]</td>\n",
       "                        <td id=\"T_c9acaa04_8e01_11ea_ae9f_fb14754454b5row23_col3\" class=\"data row23 col3\" >[]</td>\n",
       "            </tr>\n",
       "            <tr>\n",
       "                        <th id=\"T_c9acaa04_8e01_11ea_ae9f_fb14754454b5level0_row24\" class=\"row_heading level0 row24\" >51</th>\n",
       "                        <td id=\"T_c9acaa04_8e01_11ea_ae9f_fb14754454b5row24_col0\" class=\"data row24 col0\" >[]</td>\n",
       "                        <td id=\"T_c9acaa04_8e01_11ea_ae9f_fb14754454b5row24_col1\" class=\"data row24 col1\" >[14, 20, 26]</td>\n",
       "                        <td id=\"T_c9acaa04_8e01_11ea_ae9f_fb14754454b5row24_col2\" class=\"data row24 col2\" >[20]</td>\n",
       "                        <td id=\"T_c9acaa04_8e01_11ea_ae9f_fb14754454b5row24_col3\" class=\"data row24 col3\" >[9, 10, 12, 14, 20, 27]</td>\n",
       "            </tr>\n",
       "    </tbody></table>"
      ],
      "text/plain": [
       "<pandas.io.formats.style.Styler at 0x7f8de1324890>"
      ]
     },
     "execution_count": 24,
     "metadata": {},
     "output_type": "execute_result"
    },
    {
     "data": {
      "image/png": "[encoded data removed]",
      "text/plain": [
       "<Figure size 1500x500 with 4 Axes>"
      ]
     },
     "metadata": {},
     "output_type": "display_data"
    }
   ],
   "source": [
    "fig, axs = plt.subplots(len(stats.columns), sharex=True, sharey=True,figsize=(15,5))\n",
    "fig.suptitle('',y=1.1)\n",
    "for idx,i in enumerate(sorted(stats.columns,reverse=True)):\n",
    "    axs[idx].plot(stats.index,stats[i],drawstyle='steps-post',c=f\"C{idx}\")\n",
    "    axs[idx].set_xticks(stats.index.unique())\n",
    "#     axs[idx].grid(axis=\"y\")\n",
    "#     axs[idx].grid(axis=\"x\")\n",
    "    axs[idx].set_xticklabels(stats.index.unique())\n",
    "    axs[idx].set_title(i,x=1.03,y=0.4)\n",
    "    # Drift points indicator\n",
    "    threshold_indicator = threshold_points[threshold_points.granularity==i][drift_name].copy()\n",
    "    threshold_indicator.loc[stats.index.min()]= threshold\n",
    "    threshold_indicator.sort_index(inplace=True)\n",
    "    # add drift points to plot \n",
    "    axs[idx].scatter(threshold_indicator.index,[threshold]*threshold_indicator.shape[0])\n",
    "    axs[idx].plot(threshold_indicator.index,[threshold]*threshold_indicator.shape[0],':')\n",
    "\n",
    "    for idxx,ii in enumerate(threshold_indicator.index.fillna(stats.index.min())):\n",
    "        axs[idx].text(ii,threshold-3,\"$I_{}^{{{}}}$\".format(idxx,i),fontsize=12)\n",
    "    \n",
    "axs[idx].set_xlabel('2018-2019 Weeks')\n",
    "axs[idx].set_ylabel('Drift value by granularity',y=idx)\n",
    "# fig.tight_layout(pad=0.3)\n",
    "# axs[0].plot(x, y ** 2)\n",
    "# axs[1].plot(x, 0.3 * y, 'o')\n",
    "# axs[2].plot(x, y, '+')\n",
    "\n",
    "\n",
    "from sklearn.preprocessing import LabelEncoder\n",
    "le = LabelEncoder()\n",
    "le.fit(list(target_users))\n",
    "a = details.copy()\n",
    "a.customers = details.customers.apply(lambda x :sorted(le.transform(list(x))))\n",
    "a = a.reset_index().pivot(index=\"period_y\",values='customers',columns=\"granularity\").fillna(value='[]')\n",
    "a.index = a.index.week\n",
    "a.loc[27] = [[],[],[],[]]\n",
    "a.sort_index(inplace=True)\n",
    "a.style.apply(lambda x: ['background: lightblue' if len(i)>threshold else '' for i in x ],axis=0)"
   ]
  },
  {
   "cell_type": "code",
   "execution_count": 23,
   "metadata": {},
   "outputs": [
    {
     "data": {
      "text/html": [
       "<style  type=\"text/css\" >\n",
       "    #T_c23f9826_8e01_11ea_ae9f_fb14754454b5row1_col0 {\n",
       "            background:  lightblue;\n",
       "        }    #T_c23f9826_8e01_11ea_ae9f_fb14754454b5row2_col1 {\n",
       "            background:  lightblue;\n",
       "        }    #T_c23f9826_8e01_11ea_ae9f_fb14754454b5row3_col2 {\n",
       "            background:  lightblue;\n",
       "        }    #T_c23f9826_8e01_11ea_ae9f_fb14754454b5row4_col0 {\n",
       "            background:  lightblue;\n",
       "        }    #T_c23f9826_8e01_11ea_ae9f_fb14754454b5row4_col3 {\n",
       "            background:  lightblue;\n",
       "        }    #T_c23f9826_8e01_11ea_ae9f_fb14754454b5row9_col0 {\n",
       "            background:  lightblue;\n",
       "        }    #T_c23f9826_8e01_11ea_ae9f_fb14754454b5row9_col2 {\n",
       "            background:  lightblue;\n",
       "        }    #T_c23f9826_8e01_11ea_ae9f_fb14754454b5row10_col0 {\n",
       "            background:  lightblue;\n",
       "        }    #T_c23f9826_8e01_11ea_ae9f_fb14754454b5row10_col1 {\n",
       "            background:  lightblue;\n",
       "        }    #T_c23f9826_8e01_11ea_ae9f_fb14754454b5row12_col2 {\n",
       "            background:  lightblue;\n",
       "        }    #T_c23f9826_8e01_11ea_ae9f_fb14754454b5row12_col3 {\n",
       "            background:  lightblue;\n",
       "        }    #T_c23f9826_8e01_11ea_ae9f_fb14754454b5row13_col0 {\n",
       "            background:  lightblue;\n",
       "        }    #T_c23f9826_8e01_11ea_ae9f_fb14754454b5row18_col1 {\n",
       "            background:  lightblue;\n",
       "        }    #T_c23f9826_8e01_11ea_ae9f_fb14754454b5row21_col2 {\n",
       "            background:  lightblue;\n",
       "        }    #T_c23f9826_8e01_11ea_ae9f_fb14754454b5row22_col0 {\n",
       "            background:  lightblue;\n",
       "        }    #T_c23f9826_8e01_11ea_ae9f_fb14754454b5row24_col3 {\n",
       "            background:  lightblue;\n",
       "        }</style><table id=\"T_c23f9826_8e01_11ea_ae9f_fb14754454b5\" ><thead>    <tr>        <th class=\"index_name level0\" >granularity</th>        <th class=\"col_heading level0 col0\" >1W</th>        <th class=\"col_heading level0 col1\" >2W</th>        <th class=\"col_heading level0 col2\" >3W</th>        <th class=\"col_heading level0 col3\" >4W</th>    </tr>    <tr>        <th class=\"index_name level0\" >period_y</th>        <th class=\"blank\" ></th>        <th class=\"blank\" ></th>        <th class=\"blank\" ></th>        <th class=\"blank\" ></th>    </tr></thead><tbody>\n",
       "                <tr>\n",
       "                        <th id=\"T_c23f9826_8e01_11ea_ae9f_fb14754454b5level0_row0\" class=\"row_heading level0 row0\" >27</th>\n",
       "                        <td id=\"T_c23f9826_8e01_11ea_ae9f_fb14754454b5row0_col0\" class=\"data row0 col0\" >[]</td>\n",
       "                        <td id=\"T_c23f9826_8e01_11ea_ae9f_fb14754454b5row0_col1\" class=\"data row0 col1\" >[]</td>\n",
       "                        <td id=\"T_c23f9826_8e01_11ea_ae9f_fb14754454b5row0_col2\" class=\"data row0 col2\" >[]</td>\n",
       "                        <td id=\"T_c23f9826_8e01_11ea_ae9f_fb14754454b5row0_col3\" class=\"data row0 col3\" >[]</td>\n",
       "            </tr>\n",
       "            <tr>\n",
       "                        <th id=\"T_c23f9826_8e01_11ea_ae9f_fb14754454b5level0_row1\" class=\"row_heading level0 row1\" >28</th>\n",
       "                        <td id=\"T_c23f9826_8e01_11ea_ae9f_fb14754454b5row1_col0\" class=\"data row1 col0\" >[7, 17, 19, 25, 27, 28]</td>\n",
       "                        <td id=\"T_c23f9826_8e01_11ea_ae9f_fb14754454b5row1_col1\" class=\"data row1 col1\" >[]</td>\n",
       "                        <td id=\"T_c23f9826_8e01_11ea_ae9f_fb14754454b5row1_col2\" class=\"data row1 col2\" >[]</td>\n",
       "                        <td id=\"T_c23f9826_8e01_11ea_ae9f_fb14754454b5row1_col3\" class=\"data row1 col3\" >[]</td>\n",
       "            </tr>\n",
       "            <tr>\n",
       "                        <th id=\"T_c23f9826_8e01_11ea_ae9f_fb14754454b5level0_row2\" class=\"row_heading level0 row2\" >29</th>\n",
       "                        <td id=\"T_c23f9826_8e01_11ea_ae9f_fb14754454b5row2_col0\" class=\"data row2 col0\" >[16, 18, 21, 22, 24]</td>\n",
       "                        <td id=\"T_c23f9826_8e01_11ea_ae9f_fb14754454b5row2_col1\" class=\"data row2 col1\" >[7, 16, 17, 18, 19, 21, 22, 25, 27, 28]</td>\n",
       "                        <td id=\"T_c23f9826_8e01_11ea_ae9f_fb14754454b5row2_col2\" class=\"data row2 col2\" >[]</td>\n",
       "                        <td id=\"T_c23f9826_8e01_11ea_ae9f_fb14754454b5row2_col3\" class=\"data row2 col3\" >[]</td>\n",
       "            </tr>\n",
       "            <tr>\n",
       "                        <th id=\"T_c23f9826_8e01_11ea_ae9f_fb14754454b5level0_row3\" class=\"row_heading level0 row3\" >30</th>\n",
       "                        <td id=\"T_c23f9826_8e01_11ea_ae9f_fb14754454b5row3_col0\" class=\"data row3 col0\" >[16, 18, 21, 22, 24]</td>\n",
       "                        <td id=\"T_c23f9826_8e01_11ea_ae9f_fb14754454b5row3_col1\" class=\"data row3 col1\" >[]</td>\n",
       "                        <td id=\"T_c23f9826_8e01_11ea_ae9f_fb14754454b5row3_col2\" class=\"data row3 col2\" >[7, 16, 17, 18, 19, 21, 22, 25, 27, 28]</td>\n",
       "                        <td id=\"T_c23f9826_8e01_11ea_ae9f_fb14754454b5row3_col3\" class=\"data row3 col3\" >[]</td>\n",
       "            </tr>\n",
       "            <tr>\n",
       "                        <th id=\"T_c23f9826_8e01_11ea_ae9f_fb14754454b5level0_row4\" class=\"row_heading level0 row4\" >31</th>\n",
       "                        <td id=\"T_c23f9826_8e01_11ea_ae9f_fb14754454b5row4_col0\" class=\"data row4 col0\" >[15, 16, 18, 21, 22, 24]</td>\n",
       "                        <td id=\"T_c23f9826_8e01_11ea_ae9f_fb14754454b5row4_col1\" class=\"data row4 col1\" >[15]</td>\n",
       "                        <td id=\"T_c23f9826_8e01_11ea_ae9f_fb14754454b5row4_col2\" class=\"data row4 col2\" >[]</td>\n",
       "                        <td id=\"T_c23f9826_8e01_11ea_ae9f_fb14754454b5row4_col3\" class=\"data row4 col3\" >[7, 15, 16, 17, 18, 19, 21, 22, 25, 27, 28]</td>\n",
       "            </tr>\n",
       "            <tr>\n",
       "                        <th id=\"T_c23f9826_8e01_11ea_ae9f_fb14754454b5level0_row5\" class=\"row_heading level0 row5\" >32</th>\n",
       "                        <td id=\"T_c23f9826_8e01_11ea_ae9f_fb14754454b5row5_col0\" class=\"data row5 col0\" >[]</td>\n",
       "                        <td id=\"T_c23f9826_8e01_11ea_ae9f_fb14754454b5row5_col1\" class=\"data row5 col1\" >[]</td>\n",
       "                        <td id=\"T_c23f9826_8e01_11ea_ae9f_fb14754454b5row5_col2\" class=\"data row5 col2\" >[]</td>\n",
       "                        <td id=\"T_c23f9826_8e01_11ea_ae9f_fb14754454b5row5_col3\" class=\"data row5 col3\" >[]</td>\n",
       "            </tr>\n",
       "            <tr>\n",
       "                        <th id=\"T_c23f9826_8e01_11ea_ae9f_fb14754454b5level0_row6\" class=\"row_heading level0 row6\" >33</th>\n",
       "                        <td id=\"T_c23f9826_8e01_11ea_ae9f_fb14754454b5row6_col0\" class=\"data row6 col0\" >[]</td>\n",
       "                        <td id=\"T_c23f9826_8e01_11ea_ae9f_fb14754454b5row6_col1\" class=\"data row6 col1\" >[15]</td>\n",
       "                        <td id=\"T_c23f9826_8e01_11ea_ae9f_fb14754454b5row6_col2\" class=\"data row6 col2\" >[15]</td>\n",
       "                        <td id=\"T_c23f9826_8e01_11ea_ae9f_fb14754454b5row6_col3\" class=\"data row6 col3\" >[]</td>\n",
       "            </tr>\n",
       "            <tr>\n",
       "                        <th id=\"T_c23f9826_8e01_11ea_ae9f_fb14754454b5level0_row7\" class=\"row_heading level0 row7\" >34</th>\n",
       "                        <td id=\"T_c23f9826_8e01_11ea_ae9f_fb14754454b5row7_col0\" class=\"data row7 col0\" >[5]</td>\n",
       "                        <td id=\"T_c23f9826_8e01_11ea_ae9f_fb14754454b5row7_col1\" class=\"data row7 col1\" >[]</td>\n",
       "                        <td id=\"T_c23f9826_8e01_11ea_ae9f_fb14754454b5row7_col2\" class=\"data row7 col2\" >[]</td>\n",
       "                        <td id=\"T_c23f9826_8e01_11ea_ae9f_fb14754454b5row7_col3\" class=\"data row7 col3\" >[]</td>\n",
       "            </tr>\n",
       "            <tr>\n",
       "                        <th id=\"T_c23f9826_8e01_11ea_ae9f_fb14754454b5level0_row8\" class=\"row_heading level0 row8\" >35</th>\n",
       "                        <td id=\"T_c23f9826_8e01_11ea_ae9f_fb14754454b5row8_col0\" class=\"data row8 col0\" >[1, 2, 5, 6]</td>\n",
       "                        <td id=\"T_c23f9826_8e01_11ea_ae9f_fb14754454b5row8_col1\" class=\"data row8 col1\" >[1, 2, 5, 6, 15]</td>\n",
       "                        <td id=\"T_c23f9826_8e01_11ea_ae9f_fb14754454b5row8_col2\" class=\"data row8 col2\" >[]</td>\n",
       "                        <td id=\"T_c23f9826_8e01_11ea_ae9f_fb14754454b5row8_col3\" class=\"data row8 col3\" >[1, 2, 5, 6]</td>\n",
       "            </tr>\n",
       "            <tr>\n",
       "                        <th id=\"T_c23f9826_8e01_11ea_ae9f_fb14754454b5level0_row9\" class=\"row_heading level0 row9\" >36</th>\n",
       "                        <td id=\"T_c23f9826_8e01_11ea_ae9f_fb14754454b5row9_col0\" class=\"data row9 col0\" >[1, 2, 3, 4, 5, 6]</td>\n",
       "                        <td id=\"T_c23f9826_8e01_11ea_ae9f_fb14754454b5row9_col1\" class=\"data row9 col1\" >[]</td>\n",
       "                        <td id=\"T_c23f9826_8e01_11ea_ae9f_fb14754454b5row9_col2\" class=\"data row9 col2\" >[1, 2, 3, 4, 5, 6, 15]</td>\n",
       "                        <td id=\"T_c23f9826_8e01_11ea_ae9f_fb14754454b5row9_col3\" class=\"data row9 col3\" >[]</td>\n",
       "            </tr>\n",
       "            <tr>\n",
       "                        <th id=\"T_c23f9826_8e01_11ea_ae9f_fb14754454b5level0_row10\" class=\"row_heading level0 row10\" >37</th>\n",
       "                        <td id=\"T_c23f9826_8e01_11ea_ae9f_fb14754454b5row10_col0\" class=\"data row10 col0\" >[0, 11, 16, 18, 19, 23, 24, 26]</td>\n",
       "                        <td id=\"T_c23f9826_8e01_11ea_ae9f_fb14754454b5row10_col1\" class=\"data row10 col1\" >[0, 1, 2, 3, 4, 5, 6, 11, 15, 23]</td>\n",
       "                        <td id=\"T_c23f9826_8e01_11ea_ae9f_fb14754454b5row10_col2\" class=\"data row10 col2\" >[]</td>\n",
       "                        <td id=\"T_c23f9826_8e01_11ea_ae9f_fb14754454b5row10_col3\" class=\"data row10 col3\" >[]</td>\n",
       "            </tr>\n",
       "            <tr>\n",
       "                        <th id=\"T_c23f9826_8e01_11ea_ae9f_fb14754454b5level0_row11\" class=\"row_heading level0 row11\" >38</th>\n",
       "                        <td id=\"T_c23f9826_8e01_11ea_ae9f_fb14754454b5row11_col0\" class=\"data row11 col0\" >[6, 15]</td>\n",
       "                        <td id=\"T_c23f9826_8e01_11ea_ae9f_fb14754454b5row11_col1\" class=\"data row11 col1\" >[]</td>\n",
       "                        <td id=\"T_c23f9826_8e01_11ea_ae9f_fb14754454b5row11_col2\" class=\"data row11 col2\" >[]</td>\n",
       "                        <td id=\"T_c23f9826_8e01_11ea_ae9f_fb14754454b5row11_col3\" class=\"data row11 col3\" >[]</td>\n",
       "            </tr>\n",
       "            <tr>\n",
       "                        <th id=\"T_c23f9826_8e01_11ea_ae9f_fb14754454b5level0_row12\" class=\"row_heading level0 row12\" >39</th>\n",
       "                        <td id=\"T_c23f9826_8e01_11ea_ae9f_fb14754454b5row12_col0\" class=\"data row12 col0\" >[6, 8, 15, 25]</td>\n",
       "                        <td id=\"T_c23f9826_8e01_11ea_ae9f_fb14754454b5row12_col1\" class=\"data row12 col1\" >[8, 25]</td>\n",
       "                        <td id=\"T_c23f9826_8e01_11ea_ae9f_fb14754454b5row12_col2\" class=\"data row12 col2\" >[0, 8, 11, 16, 18, 19, 23, 24, 25, 26]</td>\n",
       "                        <td id=\"T_c23f9826_8e01_11ea_ae9f_fb14754454b5row12_col3\" class=\"data row12 col3\" >[0, 1, 2, 3, 4, 5, 6, 8, 11, 23]</td>\n",
       "            </tr>\n",
       "            <tr>\n",
       "                        <th id=\"T_c23f9826_8e01_11ea_ae9f_fb14754454b5level0_row13\" class=\"row_heading level0 row13\" >40</th>\n",
       "                        <td id=\"T_c23f9826_8e01_11ea_ae9f_fb14754454b5row13_col0\" class=\"data row13 col0\" >[6, 8, 9, 12, 15, 22, 25, 27]</td>\n",
       "                        <td id=\"T_c23f9826_8e01_11ea_ae9f_fb14754454b5row13_col1\" class=\"data row13 col1\" >[]</td>\n",
       "                        <td id=\"T_c23f9826_8e01_11ea_ae9f_fb14754454b5row13_col2\" class=\"data row13 col2\" >[]</td>\n",
       "                        <td id=\"T_c23f9826_8e01_11ea_ae9f_fb14754454b5row13_col3\" class=\"data row13 col3\" >[]</td>\n",
       "            </tr>\n",
       "            <tr>\n",
       "                        <th id=\"T_c23f9826_8e01_11ea_ae9f_fb14754454b5level0_row14\" class=\"row_heading level0 row14\" >41</th>\n",
       "                        <td id=\"T_c23f9826_8e01_11ea_ae9f_fb14754454b5row14_col0\" class=\"data row14 col0\" >[0, 11]</td>\n",
       "                        <td id=\"T_c23f9826_8e01_11ea_ae9f_fb14754454b5row14_col1\" class=\"data row14 col1\" >[8, 9, 12, 25, 27]</td>\n",
       "                        <td id=\"T_c23f9826_8e01_11ea_ae9f_fb14754454b5row14_col2\" class=\"data row14 col2\" >[]</td>\n",
       "                        <td id=\"T_c23f9826_8e01_11ea_ae9f_fb14754454b5row14_col3\" class=\"data row14 col3\" >[]</td>\n",
       "            </tr>\n",
       "            <tr>\n",
       "                        <th id=\"T_c23f9826_8e01_11ea_ae9f_fb14754454b5level0_row15\" class=\"row_heading level0 row15\" >42</th>\n",
       "                        <td id=\"T_c23f9826_8e01_11ea_ae9f_fb14754454b5row15_col0\" class=\"data row15 col0\" >[0, 11]</td>\n",
       "                        <td id=\"T_c23f9826_8e01_11ea_ae9f_fb14754454b5row15_col1\" class=\"data row15 col1\" >[]</td>\n",
       "                        <td id=\"T_c23f9826_8e01_11ea_ae9f_fb14754454b5row15_col2\" class=\"data row15 col2\" >[9, 12, 22, 27]</td>\n",
       "                        <td id=\"T_c23f9826_8e01_11ea_ae9f_fb14754454b5row15_col3\" class=\"data row15 col3\" >[]</td>\n",
       "            </tr>\n",
       "            <tr>\n",
       "                        <th id=\"T_c23f9826_8e01_11ea_ae9f_fb14754454b5level0_row16\" class=\"row_heading level0 row16\" >43</th>\n",
       "                        <td id=\"T_c23f9826_8e01_11ea_ae9f_fb14754454b5row16_col0\" class=\"data row16 col0\" >[0, 11]</td>\n",
       "                        <td id=\"T_c23f9826_8e01_11ea_ae9f_fb14754454b5row16_col1\" class=\"data row16 col1\" >[8, 9, 12, 25, 27]</td>\n",
       "                        <td id=\"T_c23f9826_8e01_11ea_ae9f_fb14754454b5row16_col2\" class=\"data row16 col2\" >[]</td>\n",
       "                        <td id=\"T_c23f9826_8e01_11ea_ae9f_fb14754454b5row16_col3\" class=\"data row16 col3\" >[9, 12, 27]</td>\n",
       "            </tr>\n",
       "            <tr>\n",
       "                        <th id=\"T_c23f9826_8e01_11ea_ae9f_fb14754454b5level0_row17\" class=\"row_heading level0 row17\" >44</th>\n",
       "                        <td id=\"T_c23f9826_8e01_11ea_ae9f_fb14754454b5row17_col0\" class=\"data row17 col0\" >[0, 11]</td>\n",
       "                        <td id=\"T_c23f9826_8e01_11ea_ae9f_fb14754454b5row17_col1\" class=\"data row17 col1\" >[]</td>\n",
       "                        <td id=\"T_c23f9826_8e01_11ea_ae9f_fb14754454b5row17_col2\" class=\"data row17 col2\" >[]</td>\n",
       "                        <td id=\"T_c23f9826_8e01_11ea_ae9f_fb14754454b5row17_col3\" class=\"data row17 col3\" >[]</td>\n",
       "            </tr>\n",
       "            <tr>\n",
       "                        <th id=\"T_c23f9826_8e01_11ea_ae9f_fb14754454b5level0_row18\" class=\"row_heading level0 row18\" >45</th>\n",
       "                        <td id=\"T_c23f9826_8e01_11ea_ae9f_fb14754454b5row18_col0\" class=\"data row18 col0\" >[0, 10, 11]</td>\n",
       "                        <td id=\"T_c23f9826_8e01_11ea_ae9f_fb14754454b5row18_col1\" class=\"data row18 col1\" >[8, 9, 10, 12, 25, 27]</td>\n",
       "                        <td id=\"T_c23f9826_8e01_11ea_ae9f_fb14754454b5row18_col2\" class=\"data row18 col2\" >[9, 10, 12, 22, 27]</td>\n",
       "                        <td id=\"T_c23f9826_8e01_11ea_ae9f_fb14754454b5row18_col3\" class=\"data row18 col3\" >[]</td>\n",
       "            </tr>\n",
       "            <tr>\n",
       "                        <th id=\"T_c23f9826_8e01_11ea_ae9f_fb14754454b5level0_row19\" class=\"row_heading level0 row19\" >46</th>\n",
       "                        <td id=\"T_c23f9826_8e01_11ea_ae9f_fb14754454b5row19_col0\" class=\"data row19 col0\" >[0, 10, 11]</td>\n",
       "                        <td id=\"T_c23f9826_8e01_11ea_ae9f_fb14754454b5row19_col1\" class=\"data row19 col1\" >[]</td>\n",
       "                        <td id=\"T_c23f9826_8e01_11ea_ae9f_fb14754454b5row19_col2\" class=\"data row19 col2\" >[]</td>\n",
       "                        <td id=\"T_c23f9826_8e01_11ea_ae9f_fb14754454b5row19_col3\" class=\"data row19 col3\" >[]</td>\n",
       "            </tr>\n",
       "            <tr>\n",
       "                        <th id=\"T_c23f9826_8e01_11ea_ae9f_fb14754454b5level0_row20\" class=\"row_heading level0 row20\" >47</th>\n",
       "                        <td id=\"T_c23f9826_8e01_11ea_ae9f_fb14754454b5row20_col0\" class=\"data row20 col0\" >[0, 10, 11, 26]</td>\n",
       "                        <td id=\"T_c23f9826_8e01_11ea_ae9f_fb14754454b5row20_col1\" class=\"data row20 col1\" >[26]</td>\n",
       "                        <td id=\"T_c23f9826_8e01_11ea_ae9f_fb14754454b5row20_col2\" class=\"data row20 col2\" >[]</td>\n",
       "                        <td id=\"T_c23f9826_8e01_11ea_ae9f_fb14754454b5row20_col3\" class=\"data row20 col3\" >[9, 10, 12, 27]</td>\n",
       "            </tr>\n",
       "            <tr>\n",
       "                        <th id=\"T_c23f9826_8e01_11ea_ae9f_fb14754454b5level0_row21\" class=\"row_heading level0 row21\" >48</th>\n",
       "                        <td id=\"T_c23f9826_8e01_11ea_ae9f_fb14754454b5row21_col0\" class=\"data row21 col0\" >[0, 10, 11, 14, 26]</td>\n",
       "                        <td id=\"T_c23f9826_8e01_11ea_ae9f_fb14754454b5row21_col1\" class=\"data row21 col1\" >[]</td>\n",
       "                        <td id=\"T_c23f9826_8e01_11ea_ae9f_fb14754454b5row21_col2\" class=\"data row21 col2\" >[9, 10, 12, 14, 22, 27]</td>\n",
       "                        <td id=\"T_c23f9826_8e01_11ea_ae9f_fb14754454b5row21_col3\" class=\"data row21 col3\" >[]</td>\n",
       "            </tr>\n",
       "            <tr>\n",
       "                        <th id=\"T_c23f9826_8e01_11ea_ae9f_fb14754454b5level0_row22\" class=\"row_heading level0 row22\" >49</th>\n",
       "                        <td id=\"T_c23f9826_8e01_11ea_ae9f_fb14754454b5row22_col0\" class=\"data row22 col0\" >[0, 10, 11, 14, 20, 26]</td>\n",
       "                        <td id=\"T_c23f9826_8e01_11ea_ae9f_fb14754454b5row22_col1\" class=\"data row22 col1\" >[14, 20, 26]</td>\n",
       "                        <td id=\"T_c23f9826_8e01_11ea_ae9f_fb14754454b5row22_col2\" class=\"data row22 col2\" >[]</td>\n",
       "                        <td id=\"T_c23f9826_8e01_11ea_ae9f_fb14754454b5row22_col3\" class=\"data row22 col3\" >[]</td>\n",
       "            </tr>\n",
       "            <tr>\n",
       "                        <th id=\"T_c23f9826_8e01_11ea_ae9f_fb14754454b5level0_row23\" class=\"row_heading level0 row23\" >50</th>\n",
       "                        <td id=\"T_c23f9826_8e01_11ea_ae9f_fb14754454b5row23_col0\" class=\"data row23 col0\" >[]</td>\n",
       "                        <td id=\"T_c23f9826_8e01_11ea_ae9f_fb14754454b5row23_col1\" class=\"data row23 col1\" >[]</td>\n",
       "                        <td id=\"T_c23f9826_8e01_11ea_ae9f_fb14754454b5row23_col2\" class=\"data row23 col2\" >[]</td>\n",
       "                        <td id=\"T_c23f9826_8e01_11ea_ae9f_fb14754454b5row23_col3\" class=\"data row23 col3\" >[]</td>\n",
       "            </tr>\n",
       "            <tr>\n",
       "                        <th id=\"T_c23f9826_8e01_11ea_ae9f_fb14754454b5level0_row24\" class=\"row_heading level0 row24\" >51</th>\n",
       "                        <td id=\"T_c23f9826_8e01_11ea_ae9f_fb14754454b5row24_col0\" class=\"data row24 col0\" >[]</td>\n",
       "                        <td id=\"T_c23f9826_8e01_11ea_ae9f_fb14754454b5row24_col1\" class=\"data row24 col1\" >[14, 20, 26]</td>\n",
       "                        <td id=\"T_c23f9826_8e01_11ea_ae9f_fb14754454b5row24_col2\" class=\"data row24 col2\" >[20]</td>\n",
       "                        <td id=\"T_c23f9826_8e01_11ea_ae9f_fb14754454b5row24_col3\" class=\"data row24 col3\" >[9, 10, 12, 14, 20, 27]</td>\n",
       "            </tr>\n",
       "    </tbody></table>"
      ],
      "text/plain": [
       "<pandas.io.formats.style.Styler at 0x7f8de106af90>"
      ]
     },
     "execution_count": 23,
     "metadata": {},
     "output_type": "execute_result"
    }
   ],
   "source": []
  },
  {
   "cell_type": "code",
   "execution_count": 20,
   "metadata": {},
   "outputs": [
    {
     "data": {
      "text/html": [
       "<div>\n",
       "<style scoped>\n",
       "    .dataframe tbody tr th:only-of-type {\n",
       "        vertical-align: middle;\n",
       "    }\n",
       "\n",
       "    .dataframe tbody tr th {\n",
       "        vertical-align: top;\n",
       "    }\n",
       "\n",
       "    .dataframe thead th {\n",
       "        text-align: right;\n",
       "    }\n",
       "</style>\n",
       "<table border=\"1\" class=\"dataframe\">\n",
       "  <thead>\n",
       "    <tr style=\"text-align: right;\">\n",
       "      <th></th>\n",
       "      <th>CUST_ID</th>\n",
       "    </tr>\n",
       "    <tr>\n",
       "      <th>index</th>\n",
       "      <th></th>\n",
       "    </tr>\n",
       "  </thead>\n",
       "  <tbody>\n",
       "    <tr>\n",
       "      <th>27</th>\n",
       "      <td>[1, 13, 24, 26]</td>\n",
       "    </tr>\n",
       "    <tr>\n",
       "      <th>28</th>\n",
       "      <td>[7, 13, 17, 19, 25, 26, 27, 28]</td>\n",
       "    </tr>\n",
       "    <tr>\n",
       "      <th>29</th>\n",
       "      <td>[13, 16, 17, 18, 19, 21, 22, 24, 28]</td>\n",
       "    </tr>\n",
       "    <tr>\n",
       "      <th>30</th>\n",
       "      <td>[7, 17, 21, 28]</td>\n",
       "    </tr>\n",
       "    <tr>\n",
       "      <th>31</th>\n",
       "      <td>[7, 15, 21]</td>\n",
       "    </tr>\n",
       "    <tr>\n",
       "      <th>32</th>\n",
       "      <td>[]</td>\n",
       "    </tr>\n",
       "    <tr>\n",
       "      <th>33</th>\n",
       "      <td>[]</td>\n",
       "    </tr>\n",
       "    <tr>\n",
       "      <th>34</th>\n",
       "      <td>[5, 13, 17]</td>\n",
       "    </tr>\n",
       "    <tr>\n",
       "      <th>35</th>\n",
       "      <td>[1, 2, 6, 7, 13, 21, 28]</td>\n",
       "    </tr>\n",
       "    <tr>\n",
       "      <th>36</th>\n",
       "      <td>[1, 2, 3, 4, 13, 22, 28]</td>\n",
       "    </tr>\n",
       "    <tr>\n",
       "      <th>37</th>\n",
       "      <td>[0, 1, 2, 3, 4, 5, 7, 11, 13, 16, 17, 18, 19, ...</td>\n",
       "    </tr>\n",
       "    <tr>\n",
       "      <th>38</th>\n",
       "      <td>[1, 3, 4, 5, 6, 13, 15, 16, 17, 18, 19, 21, 24...</td>\n",
       "    </tr>\n",
       "    <tr>\n",
       "      <th>39</th>\n",
       "      <td>[1, 2, 3, 5, 7, 8, 13, 15, 17, 18, 19, 21, 23,...</td>\n",
       "    </tr>\n",
       "    <tr>\n",
       "      <th>40</th>\n",
       "      <td>[2, 3, 5, 7, 9, 12, 13, 15, 16, 17, 18, 19, 21...</td>\n",
       "    </tr>\n",
       "    <tr>\n",
       "      <th>41</th>\n",
       "      <td>[0, 3, 4, 5, 6, 11, 12, 13, 16, 17, 18, 19, 21...</td>\n",
       "    </tr>\n",
       "    <tr>\n",
       "      <th>42</th>\n",
       "      <td>[0, 2, 3, 5, 9, 11, 13, 15, 16, 17, 18, 19, 21...</td>\n",
       "    </tr>\n",
       "    <tr>\n",
       "      <th>43</th>\n",
       "      <td>[1, 2, 3, 5, 9, 12, 13, 15, 16, 18, 19, 22, 23...</td>\n",
       "    </tr>\n",
       "    <tr>\n",
       "      <th>44</th>\n",
       "      <td>[9, 16, 21]</td>\n",
       "    </tr>\n",
       "    <tr>\n",
       "      <th>45</th>\n",
       "      <td>[0, 1, 2, 7, 8, 9, 10, 12, 13, 15, 16, 17, 18,...</td>\n",
       "    </tr>\n",
       "    <tr>\n",
       "      <th>46</th>\n",
       "      <td>[0, 1, 3, 6, 10, 11, 12, 13, 15, 16, 18, 21, 2...</td>\n",
       "    </tr>\n",
       "    <tr>\n",
       "      <th>47</th>\n",
       "      <td>[0, 2, 3, 5, 6, 7, 9, 12, 16, 18, 22, 25, 26, ...</td>\n",
       "    </tr>\n",
       "    <tr>\n",
       "      <th>48</th>\n",
       "      <td>[1, 3, 4, 5, 6, 7, 8, 9, 12, 13, 14, 24, 27, 28]</td>\n",
       "    </tr>\n",
       "    <tr>\n",
       "      <th>49</th>\n",
       "      <td>[0, 1, 3, 6, 7, 8, 9, 11, 13, 14, 15, 20, 22, ...</td>\n",
       "    </tr>\n",
       "    <tr>\n",
       "      <th>50</th>\n",
       "      <td>[1, 2, 3, 6, 7, 9, 12, 15, 16, 17, 18, 19, 20,...</td>\n",
       "    </tr>\n",
       "    <tr>\n",
       "      <th>51</th>\n",
       "      <td>[0, 5, 7, 8, 9, 11, 12, 13, 14, 15, 16, 25, 27...</td>\n",
       "    </tr>\n",
       "  </tbody>\n",
       "</table>\n",
       "</div>"
      ],
      "text/plain": [
       "                                                 CUST_ID\n",
       "index                                                   \n",
       "27                                       [1, 13, 24, 26]\n",
       "28                       [7, 13, 17, 19, 25, 26, 27, 28]\n",
       "29                  [13, 16, 17, 18, 19, 21, 22, 24, 28]\n",
       "30                                       [7, 17, 21, 28]\n",
       "31                                           [7, 15, 21]\n",
       "32                                                    []\n",
       "33                                                    []\n",
       "34                                           [5, 13, 17]\n",
       "35                              [1, 2, 6, 7, 13, 21, 28]\n",
       "36                              [1, 2, 3, 4, 13, 22, 28]\n",
       "37     [0, 1, 2, 3, 4, 5, 7, 11, 13, 16, 17, 18, 19, ...\n",
       "38     [1, 3, 4, 5, 6, 13, 15, 16, 17, 18, 19, 21, 24...\n",
       "39     [1, 2, 3, 5, 7, 8, 13, 15, 17, 18, 19, 21, 23,...\n",
       "40     [2, 3, 5, 7, 9, 12, 13, 15, 16, 17, 18, 19, 21...\n",
       "41     [0, 3, 4, 5, 6, 11, 12, 13, 16, 17, 18, 19, 21...\n",
       "42     [0, 2, 3, 5, 9, 11, 13, 15, 16, 17, 18, 19, 21...\n",
       "43     [1, 2, 3, 5, 9, 12, 13, 15, 16, 18, 19, 22, 23...\n",
       "44                                           [9, 16, 21]\n",
       "45     [0, 1, 2, 7, 8, 9, 10, 12, 13, 15, 16, 17, 18,...\n",
       "46     [0, 1, 3, 6, 10, 11, 12, 13, 15, 16, 18, 21, 2...\n",
       "47     [0, 2, 3, 5, 6, 7, 9, 12, 16, 18, 22, 25, 26, ...\n",
       "48      [1, 3, 4, 5, 6, 7, 8, 9, 12, 13, 14, 24, 27, 28]\n",
       "49     [0, 1, 3, 6, 7, 8, 9, 11, 13, 14, 15, 20, 22, ...\n",
       "50     [1, 2, 3, 6, 7, 9, 12, 15, 16, 17, 18, 19, 20,...\n",
       "51     [0, 5, 7, 8, 9, 11, 12, 13, 14, 15, 16, 25, 27..."
      ]
     },
     "execution_count": 20,
     "metadata": {},
     "output_type": "execute_result"
    }
   ],
   "source": [
    "\n",
    "##### pd.options.display.max_colwidth = 100\n",
    "frequency =\"W\"\n",
    "indexer = pd.date_range(start = df_.index.min().date(), end = df_.index.max().date(), freq = frequency)\n",
    "\n",
    "splits = df_.groupby(pd.Grouper(freq=frequency)).CUST_ID.unique().reindex(indexer,fill_value=[])\n",
    "\n",
    "a= splits.to_frame()\n",
    "a.CUST_ID  = a.CUST_ID.apply(lambda x : sorted(le.transform(x)))\n",
    "a.index = pd.to_datetime(a.reset_index()[\"index\"]).dt.week\n",
    "a"
   ]
  },
  {
   "cell_type": "code",
   "execution_count": 21,
   "metadata": {},
   "outputs": [],
   "source": [
    "indexer = pd.date_range(start = df_.index.min().date(), end = df_.index.max().date(), freq = \"1W\")\n",
    "\n",
    "splits = df_.groupby(pd.Grouper(freq=\"W\")).CUST_ID.unique().reindex(indexer,fill_value=[])\n",
    "splits.index = splits.index.week"
   ]
  },
  {
   "cell_type": "code",
   "execution_count": 22,
   "metadata": {},
   "outputs": [
    {
     "data": {
      "text/plain": [
       "<matplotlib.axes._subplots.AxesSubplot at 0x7f8de13e4590>"
      ]
     },
     "execution_count": 22,
     "metadata": {},
     "output_type": "execute_result"
    },
    {
     "data": {
      "image/png": "[encoded data removed]",
      "text/plain": [
       "<Figure size 640x480 with 1 Axes>"
      ]
     },
     "metadata": {},
     "output_type": "display_data"
    }
   ],
   "source": [
    "a = splits.apply(len)\n",
    "a.plot.bar()"
   ]
  },
  {
   "cell_type": "code",
   "execution_count": 75,
   "metadata": {},
   "outputs": [
    {
     "data": {
      "image/png": "[encoded data removed]",
      "text/plain": [
       "<Figure size 640x480 with 1 Axes>"
      ]
     },
     "metadata": {},
     "output_type": "display_data"
    }
   ],
   "source": [
    "ax = a.plot.line(grid=True)\n",
    "threshold = 5\n",
    "threshold_indicator = threshold_points[threshold_points.granularity==\"1W\"][drift_name].copy()\n",
    "threshold_indicator.loc[stats.index.min()]= threshold\n",
    "threshold_indicator.sort_index(inplace=True)\n",
    "# add drift points to plot \n",
    "ax.scatter(threshold_indicator.index,[threshold]*threshold_indicator.shape[0])\n",
    "ax.plot(threshold_indicator.index,[threshold]*threshold_indicator.shape[0],':')\n",
    "ax.grid(axis=\"x\")\n",
    "ax.grid(axis=\"y\")"
   ]
  },
  {
   "cell_type": "code",
   "execution_count": 83,
   "metadata": {},
   "outputs": [
    {
     "data": {
      "text/plain": [
       "<matplotlib.axes._subplots.AxesSubplot at 0x7fc39a3827d0>"
      ]
     },
     "execution_count": 83,
     "metadata": {},
     "output_type": "execute_result"
    },
    {
     "data": {
      "image/png": "[encoded data removed]",
      "text/plain": [
       "<Figure size 640x480 with 1 Axes>"
      ]
     },
     "metadata": {},
     "output_type": "display_data"
    }
   ],
   "source": [
    "a[\"1W\"].apply(len).plot.bar()"
   ]
  },
  {
   "cell_type": "code",
   "execution_count": 79,
   "metadata": {},
   "outputs": [
    {
     "data": {
      "text/html": [
       "<div>\n",
       "<style scoped>\n",
       "    .dataframe tbody tr th:only-of-type {\n",
       "        vertical-align: middle;\n",
       "    }\n",
       "\n",
       "    .dataframe tbody tr th {\n",
       "        vertical-align: top;\n",
       "    }\n",
       "\n",
       "    .dataframe thead th {\n",
       "        text-align: right;\n",
       "    }\n",
       "</style>\n",
       "<table border=\"1\" class=\"dataframe\">\n",
       "  <thead>\n",
       "    <tr style=\"text-align: right;\">\n",
       "      <th></th>\n",
       "      <th>CUST_ID</th>\n",
       "      <th>SEX</th>\n",
       "      <th>AGE</th>\n",
       "      <th>DEPARTEMENT</th>\n",
       "    </tr>\n",
       "  </thead>\n",
       "  <tbody>\n",
       "    <tr>\n",
       "      <th>0</th>\n",
       "      <td>1058702</td>\n",
       "      <td>M</td>\n",
       "      <td>&lt;35</td>\n",
       "      <td>31</td>\n",
       "    </tr>\n",
       "    <tr>\n",
       "      <th>1</th>\n",
       "      <td>1006799</td>\n",
       "      <td>M</td>\n",
       "      <td>&lt;35</td>\n",
       "      <td>77</td>\n",
       "    </tr>\n",
       "    <tr>\n",
       "      <th>2</th>\n",
       "      <td>1203632</td>\n",
       "      <td>M</td>\n",
       "      <td>&lt;35</td>\n",
       "      <td>31</td>\n",
       "    </tr>\n",
       "    <tr>\n",
       "      <th>3</th>\n",
       "      <td>619087</td>\n",
       "      <td>M</td>\n",
       "      <td>&lt;35</td>\n",
       "      <td>39</td>\n",
       "    </tr>\n",
       "    <tr>\n",
       "      <th>4</th>\n",
       "      <td>1217481</td>\n",
       "      <td>F</td>\n",
       "      <td>&lt;35</td>\n",
       "      <td>37</td>\n",
       "    </tr>\n",
       "    <tr>\n",
       "      <th>...</th>\n",
       "      <td>...</td>\n",
       "      <td>...</td>\n",
       "      <td>...</td>\n",
       "      <td>...</td>\n",
       "    </tr>\n",
       "    <tr>\n",
       "      <th>1140756</th>\n",
       "      <td>1095071</td>\n",
       "      <td>M</td>\n",
       "      <td>&lt;35</td>\n",
       "      <td>31</td>\n",
       "    </tr>\n",
       "    <tr>\n",
       "      <th>1140757</th>\n",
       "      <td>975892</td>\n",
       "      <td>M</td>\n",
       "      <td>&lt;35</td>\n",
       "      <td>94</td>\n",
       "    </tr>\n",
       "    <tr>\n",
       "      <th>1140758</th>\n",
       "      <td>437500</td>\n",
       "      <td>M</td>\n",
       "      <td>&lt;35</td>\n",
       "      <td>33</td>\n",
       "    </tr>\n",
       "    <tr>\n",
       "      <th>1140759</th>\n",
       "      <td>1092708</td>\n",
       "      <td>M</td>\n",
       "      <td>&lt;35</td>\n",
       "      <td>50</td>\n",
       "    </tr>\n",
       "    <tr>\n",
       "      <th>1140760</th>\n",
       "      <td>494243</td>\n",
       "      <td>M</td>\n",
       "      <td>&lt;35</td>\n",
       "      <td>62</td>\n",
       "    </tr>\n",
       "  </tbody>\n",
       "</table>\n",
       "<p>1140761 rows × 4 columns</p>\n",
       "</div>"
      ],
      "text/plain": [
       "         CUST_ID SEX  AGE DEPARTEMENT\n",
       "0        1058702   M  <35          31\n",
       "1        1006799   M  <35          77\n",
       "2        1203632   M  <35          31\n",
       "3         619087   M  <35          39\n",
       "4        1217481   F  <35          37\n",
       "...          ...  ..  ...         ...\n",
       "1140756  1095071   M  <35          31\n",
       "1140757   975892   M  <35          94\n",
       "1140758   437500   M  <35          33\n",
       "1140759  1092708   M  <35          50\n",
       "1140760   494243   M  <35          62\n",
       "\n",
       "[1140761 rows x 4 columns]"
      ]
     },
     "execution_count": 79,
     "metadata": {},
     "output_type": "execute_result"
    }
   ],
   "source": [
    "users = pd.read_csv(\"../datasets/Total/users.csv\",sep=\";\")\n",
    "users"
   ]
  },
  {
   "cell_type": "code",
   "execution_count": 350,
   "metadata": {
    "scrolled": false
   },
   "outputs": [
    {
     "name": "stdout",
     "output_type": "stream",
     "text": [
      "6\n"
     ]
    },
    {
     "data": {
      "image/png": "[encoded data removed]",
      "text/plain": [
       "<Figure size 1600x640 with 1 Axes>"
      ]
     },
     "metadata": {},
     "output_type": "display_data"
    }
   ],
   "source": [
    "a = df_[df_.CUST_ID.isin(target_users)]\n",
    "le.fit([ int(i) for i in target_users])\n",
    "a.CUST_ID = le.transform(df_.CUST_ID)\n",
    "a.TRANSACTION_DATE = pd.to_datetime(a.TRANSACTION_DATE).dt.date\n",
    "a = a.groupby([\"CUST_ID\",pd.Grouper(freq=\"1W\")]).ARTICLE_ID.apply(set).apply(lambda x: int(int(product_id) in x))\n",
    "a = a.reset_index().pivot(index=\"TRANSACTION_DATE\",values=\"ARTICLE_ID\",columns=\"CUST_ID\")\n",
    "plt.figure(figsize=(20, 8), dpi=80)\n",
    "ax = plt.subplot(1,1,1)\n",
    "a.index = a.index.week\n",
    "for idx,i in enumerate(a.columns):\n",
    "    index = a[a[i]==True].index\n",
    "    values = [i]*index.shape[0]\n",
    "#     ax.scatter(x=index,y=values,color = f'C{idx}')\n",
    "#     ax.scatter(x=index,y=values,color = f'C{idx}')\n",
    "    try:\n",
    "        index = drift_points[drift_points[i]==1].index\n",
    "    except Exception as e:\n",
    "        print(e)\n",
    "        continue\n",
    "    values = [i]*index.shape[0]\n",
    "    ax.scatter(x=index,y=values, s=80, facecolors='none', edgecolors=f'C{idx}')\n",
    "ax.set_yticks(a.columns.unique())\n",
    "ax.set_xticks(a.index.unique())\n",
    "ax.set_xlabel(\"2018-2019 Week\")\n",
    "ax.set_ylabel(\"Customer\")\n",
    "\n",
    "threshold = -1\n",
    "threshold_indicator = threshold_points[threshold_points.granularity==\"1W\"][drift_name].copy()\n",
    "threshold_indicator.loc[stats.index.min()]= threshold\n",
    "threshold_indicator.sort_index(inplace=True)\n",
    "# add drift points to plot \n",
    "ax.scatter(threshold_indicator.index,[threshold]*threshold_indicator.shape[0],marker=\"d\")\n",
    "ax.plot(threshold_indicator.index,[threshold]*threshold_indicator.shape[0],':')\n",
    "for idxx,ii in enumerate(threshold_indicator.index.fillna(stats.index.min())):\n",
    "    ax.text(ii,-1,\"$I_{}^{{{}}}$\".format(idxx,\"1W\"),fontsize=12)\n",
    "    \n",
    "# plt.plot()"
   ]
  },
  {
   "cell_type": "code",
   "execution_count": 322,
   "metadata": {},
   "outputs": [],
   "source": [
    "res =  []\n",
    "details = stats2.copy()\n",
    "details[details.granularity==\"1W\"].reset_index().apply(lambda x:[res.append((x[\"period_y\"],i,x[\"granularity\"])) for i in x['customers']],axis=1)\n",
    "res = pd.DataFrame(res,columns=[\"index\",\"customer\",\"granularity\"])\n",
    "res[\"values\"] = 1\n",
    "res.customer = le.transform(res.customer)\n",
    "drift_points = res.pivot(index=\"index\",columns=\"customer\",values='values')\n",
    "drift_points.index = pd.to_datetime(drift_points.index).week"
   ]
  },
  {
   "cell_type": "code",
   "execution_count": 321,
   "metadata": {},
   "outputs": [],
   "source": [
    "res1 = res.copy()"
   ]
  },
  {
   "cell_type": "code",
   "execution_count": 326,
   "metadata": {},
   "outputs": [],
   "source": [
    "draw = pd.concat([res,res1])"
   ]
  },
  {
   "cell_type": "code",
   "execution_count": 345,
   "metadata": {},
   "outputs": [
    {
     "ename": "AttributeError",
     "evalue": "'PathCollection' object has no attribute 'scatter'",
     "output_type": "error",
     "traceback": [
      "\u001b[0;31m---------------------------------------------------------------------------\u001b[0m",
      "\u001b[0;31mAttributeError\u001b[0m                            Traceback (most recent call last)",
      "\u001b[0;32m<ipython-input-345-6ab42c753e31>\u001b[0m in \u001b[0;36m<module>\u001b[0;34m\u001b[0m\n\u001b[1;32m      6\u001b[0m \u001b[0mthreshold_indicator\u001b[0m\u001b[0;34m.\u001b[0m\u001b[0msort_index\u001b[0m\u001b[0;34m(\u001b[0m\u001b[0minplace\u001b[0m\u001b[0;34m=\u001b[0m\u001b[0;32mTrue\u001b[0m\u001b[0;34m)\u001b[0m\u001b[0;34m\u001b[0m\u001b[0;34m\u001b[0m\u001b[0m\n\u001b[1;32m      7\u001b[0m \u001b[0;31m# add drift points to plot\u001b[0m\u001b[0;34m\u001b[0m\u001b[0;34m\u001b[0m\u001b[0;34m\u001b[0m\u001b[0m\n\u001b[0;32m----> 8\u001b[0;31m \u001b[0max\u001b[0m\u001b[0;34m.\u001b[0m\u001b[0mscatter\u001b[0m\u001b[0;34m(\u001b[0m\u001b[0mthreshold_indicator\u001b[0m\u001b[0;34m.\u001b[0m\u001b[0mindex\u001b[0m\u001b[0;34m,\u001b[0m\u001b[0;34m[\u001b[0m\u001b[0mthreshold\u001b[0m\u001b[0;34m]\u001b[0m\u001b[0;34m*\u001b[0m\u001b[0mthreshold_indicator\u001b[0m\u001b[0;34m.\u001b[0m\u001b[0mshape\u001b[0m\u001b[0;34m[\u001b[0m\u001b[0;36m0\u001b[0m\u001b[0;34m]\u001b[0m\u001b[0;34m,\u001b[0m\u001b[0mmarker\u001b[0m\u001b[0;34m=\u001b[0m\u001b[0;34m\"d\"\u001b[0m\u001b[0;34m)\u001b[0m\u001b[0;34m\u001b[0m\u001b[0;34m\u001b[0m\u001b[0m\n\u001b[0m\u001b[1;32m      9\u001b[0m \u001b[0max\u001b[0m\u001b[0;34m.\u001b[0m\u001b[0mplot\u001b[0m\u001b[0;34m(\u001b[0m\u001b[0mthreshold_indicator\u001b[0m\u001b[0;34m.\u001b[0m\u001b[0mindex\u001b[0m\u001b[0;34m,\u001b[0m\u001b[0;34m[\u001b[0m\u001b[0mthreshold\u001b[0m\u001b[0;34m]\u001b[0m\u001b[0;34m*\u001b[0m\u001b[0mthreshold_indicator\u001b[0m\u001b[0;34m.\u001b[0m\u001b[0mshape\u001b[0m\u001b[0;34m[\u001b[0m\u001b[0;36m0\u001b[0m\u001b[0;34m]\u001b[0m\u001b[0;34m,\u001b[0m\u001b[0;34m':'\u001b[0m\u001b[0;34m)\u001b[0m\u001b[0;34m\u001b[0m\u001b[0;34m\u001b[0m\u001b[0m\n",
      "\u001b[0;31mAttributeError\u001b[0m: 'PathCollection' object has no attribute 'scatter'"
     ]
    },
    {
     "data": {
      "image/png": "[encoded data removed]",
      "text/plain": [
       "<Figure size 1600x640 with 1 Axes>"
      ]
     },
     "metadata": {},
     "output_type": "display_data"
    }
   ],
   "source": [
    "plt.figure(figsize=(20, 8), dpi=80)\n",
    "ax = plt.scatter(draw[[\"values\",\"index\"]].index,draw[\"values\"])\n",
    "threshold = -1\n",
    "threshold_indicator = threshold_points[threshold_points.granularity==\"1W\"][drift_name].copy()\n",
    "threshold_indicator.loc[stats.index.min()]= threshold\n",
    "threshold_indicator.sort_index(inplace=True)\n",
    "# add drift points to plot \n",
    "ax.scatter(threshold_indicator.index,[threshold]*threshold_indicator.shape[0],marker=\"d\")\n",
    "ax.plot(threshold_indicator.index,[threshold]*threshold_indicator.shape[0],':')"
   ]
  },
  {
   "cell_type": "code",
   "execution_count": 344,
   "metadata": {},
   "outputs": [
    {
     "data": {
      "text/plain": [
       "<matplotlib.collections.PathCollection at 0x7fc3a51f2f90>"
      ]
     },
     "execution_count": 344,
     "metadata": {},
     "output_type": "execute_result"
    }
   ],
   "source": [
    "ax"
   ]
  }
 ],
 "metadata": {
  "kernelspec": {
   "display_name": "Python 3",
   "language": "python",
   "name": "python3"
  },
  "language_info": {
   "codemirror_mode": {
    "name": "ipython",
    "version": 3
   },
   "file_extension": ".py",
   "mimetype": "text/x-python",
   "name": "python",
   "nbconvert_exporter": "python",
   "pygments_lexer": "ipython3",
   "version": "3.7.5"
  }
 },
 "nbformat": 4,
 "nbformat_minor": 2
}
