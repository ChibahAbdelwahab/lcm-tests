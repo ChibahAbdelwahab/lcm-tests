{
 "cells": [
  {
   "cell_type": "code",
   "execution_count": 25,
   "metadata": {},
   "outputs": [],
   "source": [
    "import pandas as pd "
   ]
  },
  {
   "cell_type": "code",
   "execution_count": 26,
   "metadata": {},
   "outputs": [],
   "source": [
    "file_name =\"9M-5-[1-2001]-[a]-lcm.out\""
   ]
  },
  {
   "cell_type": "code",
   "execution_count": 27,
   "metadata": {},
   "outputs": [],
   "source": [
    "def reformat_groups(x):\n",
    "    users = \":\".join(x[\"user_ids\"][1:-1].split())\n",
    "    itemset = \":\".join(x[\"itemsets\"].split())\n",
    "    return f'({x[0]  }, \"SELF !:{users}: !:{itemset} !:{x[\"period\"]}\", { x[0]})'"
   ]
  },
  {
   "cell_type": "code",
   "execution_count": 28,
   "metadata": {},
   "outputs": [],
   "source": [
    "links = pd.read_csv(f\"../plots/labeled_links/{file_name}\")\n",
    "res = []\n",
    "links.apply(lambda x : res.append(f'({x[\"source\"]},{x[\"label\"]},{x[\"target\"]})'),axis=1)\n",
    "groups = pd.read_csv(f\"../plots/groups/{file_name}\",)\n",
    "# Adding links from initial state \n",
    "first_period_groups = groups[groups.period == groups.period.min()].apply(lambda x :x[0],axis=1).tolist()\n",
    "for i in first_period_groups:\n",
    "    res.append(f'(0, G, {i})')\n",
    "self_links = groups.apply(reformat_groups ,axis=1).tolist()\n",
    "output =[f'des(0, {len(res+self_links)}, {max(groups.apply(lambda x : int(x[0]),axis=1).tolist())+1})' ] +  res + self_links \n",
    "with open(f\"../cadp/graph/aut/{file_name.replace('out','aut')}\",'w+') as file :\n",
    "    for i in output:\n",
    "        file.write(i+\"\\n\")\n",
    "    "
   ]
  },
  {
   "cell_type": "code",
   "execution_count": null,
   "metadata": {},
   "outputs": [],
   "source": []
  },
  {
   "cell_type": "code",
   "execution_count": null,
   "metadata": {},
   "outputs": [],
   "source": []
  }
 ],
 "metadata": {
  "kernelspec": {
   "display_name": "Python 3",
   "language": "python",
   "name": "python3"
  },
  "language_info": {
   "codemirror_mode": {
    "name": "ipython",
    "version": 3
   },
   "file_extension": ".py",
   "mimetype": "text/x-python",
   "name": "python",
   "nbconvert_exporter": "python",
   "pygments_lexer": "ipython3",
   "version": "3.7.5"
  }
 },
 "nbformat": 4,
 "nbformat_minor": 4
}
