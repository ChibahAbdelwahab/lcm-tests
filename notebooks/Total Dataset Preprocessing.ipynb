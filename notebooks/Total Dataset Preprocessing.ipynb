{
 "cells": [
  {
   "cell_type": "code",
   "execution_count": 56,
   "metadata": {},
   "outputs": [],
   "source": [
    "import pandas as pd\n",
    "from sklearn.metrics.pairwise import cosine_similarity\n",
    "from sklearn.feature_extraction.text import CountVectorizer"
   ]
  },
  {
   "cell_type": "code",
   "execution_count": 125,
   "metadata": {},
   "outputs": [],
   "source": [
    "items = pd.read_csv(\"../datasets/Total/itemsDescription.csv\",sep=\";\",encoding=\"latin\").drop_duplicates(subset=\"ARTICLE_ID\")"
   ]
  },
  {
   "cell_type": "code",
   "execution_count": 129,
   "metadata": {},
   "outputs": [],
   "source": [
    "items.DESCRIPTION = items.DESCRIPTION.apply(lambda x : x.upper().replace('\"','').strip())\n",
    "items = items.groupby('DESCRIPTION')[\"ARTICLE_ID\"].apply(list).to_frame().reset_index()\n",
    "items[\"id\"]= items.ARTICLE_ID.apply(lambda x : x[0])\n",
    "items.columns = [\"DESCRIPTION\",\"IDS_LIST\",\"ARTICLE_ID\"]\n",
    "items.sort_values(by=\"DESCRIPTION\").to_csv(\"../datasets/Total/items.csv\")"
   ]
  },
  {
   "cell_type": "code",
   "execution_count": 114,
   "metadata": {},
   "outputs": [],
   "source": [
    "e = items.groupby(\"ARTICLE_ID\")[\"IDS_LIST\"].apply(sum).apply(set).apply(list).to_frame()"
   ]
  },
  {
   "cell_type": "code",
   "execution_count": null,
   "metadata": {},
   "outputs": [],
   "source": []
  }
 ],
 "metadata": {
  "kernelspec": {
   "display_name": "Python 3",
   "language": "python",
   "name": "python3"
  },
  "language_info": {
   "codemirror_mode": {
    "name": "ipython",
    "version": 3
   },
   "file_extension": ".py",
   "mimetype": "text/x-python",
   "name": "python",
   "nbconvert_exporter": "python",
   "pygments_lexer": "ipython3",
   "version": "3.7.5"
  }
 },
 "nbformat": 4,
 "nbformat_minor": 4
}
