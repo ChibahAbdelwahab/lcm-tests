{
 "cells": [
  {
   "cell_type": "code",
   "execution_count": 82,
   "metadata": {},
   "outputs": [],
   "source": [
    "from sklearn.metrics.pairwise import cosine_similarity\n",
    "from sklearn.feature_extraction.text import CountVectorizer\n",
    "\n",
    "import pandas as pd\n",
    "import json"
   ]
  },
  {
   "cell_type": "code",
   "execution_count": 83,
   "metadata": {},
   "outputs": [],
   "source": [
    "items = pd.read_csv(\"../datasets/Total/itemsDescription.csv\",sep=\";\",encoding=\"latin\").drop_duplicates(subset=\"ARTICLE_ID\")\n",
    "\n",
    "items.DESCRIPTION = items.DESCRIPTION.apply(lambda x : x.upper().replace('\"','').replace(\" \",\"\").strip())\n",
    "items = items.groupby('DESCRIPTION')[\"ARTICLE_ID\"].apply(list).to_frame().reset_index()\n",
    "items[\"id\"]= items.ARTICLE_ID.apply(lambda x : x[0])\n",
    "items.columns = [\"DESCRIPTION\",\"IDS_LIST\",\"ARTICLE_ID\"]\n",
    "items.sort_values(by=\"DESCRIPTION\").to_csv(\"../datasets/Total/items.csv\")\n",
    "\n",
    "# Save to mapping file \n",
    "mapping = {}\n",
    "def get_mapping(x):\n",
    "    for i in set(x[\"IDS_LIST\"]):\n",
    "        mapping[i]=x['ARTICLE_ID']\n",
    "items.apply(get_mapping,axis=1)\n",
    "\n",
    "with open(\"../datasets/Total/mapping.json\", 'w') as outfile:\n",
    "    json.dump(mapping, outfile)\n",
    "    "
   ]
  },
  {
   "cell_type": "code",
   "execution_count": null,
   "metadata": {},
   "outputs": [],
   "source": []
  }
 ],
 "metadata": {
  "kernelspec": {
   "display_name": "Python 3",
   "language": "python",
   "name": "python3"
  },
  "language_info": {
   "codemirror_mode": {
    "name": "ipython",
    "version": 3
   },
   "file_extension": ".py",
   "mimetype": "text/x-python",
   "name": "python",
   "nbconvert_exporter": "python",
   "pygments_lexer": "ipython3",
   "version": "3.7.5"
  }
 },
 "nbformat": 4,
 "nbformat_minor": 4
}
