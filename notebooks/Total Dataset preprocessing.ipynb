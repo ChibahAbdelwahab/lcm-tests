{
 "cells": [
  {
   "cell_type": "code",
   "execution_count": 56,
   "metadata": {},
   "outputs": [],
   "source": [
    "import pandas as pd\n",
    "from sklearn.metrics.pairwise import cosine_similarity\n",
    "from sklearn.feature_extraction.text import CountVectorizer"
   ]
  },
  {
   "cell_type": "code",
   "execution_count": 125,
   "metadata": {},
   "outputs": [],
   "source": [
    "items = pd.read_csv(\"../datasets/Total/itemsDescription.csv\",sep=\";\",encoding=\"latin\").drop_duplicates(subset=\"ARTICLE_ID\")"
   ]
  },
  {
   "cell_type": "code",
   "execution_count": 129,
   "metadata": {},
   "outputs": [],
   "source": [
    "items.DESCRIPTION = items.DESCRIPTION.apply(lambda x : x.upper().replace('\"','').strip())\n",
    "items = items.groupby('DESCRIPTION')[\"ARTICLE_ID\"].apply(list).to_frame().reset_index()\n",
    "items[\"id\"]= items.ARTICLE_ID.apply(lambda x : x[0])\n",
    "items.columns = [\"DESCRIPTION\",\"IDS_LIST\",\"ARTICLE_ID\"]\n",
    "items.sort_values(by=\"DESCRIPTION\").to_csv(\"../datasets/Total/items.csv\")"
   ]
  },
  {
   "cell_type": "code",
   "execution_count": 114,
   "metadata": {},
   "outputs": [],
   "source": [
    "e = items.groupby(\"ARTICLE_ID\")[\"IDS_LIST\"].apply(sum).apply(set).apply(list).to_frame()"
   ]
  },
  {
   "cell_type": "code",
   "execution_count": null,
   "metadata": {},
   "outputs": [],
   "source": []
  },
  {
   "cell_type": "code",
   "execution_count": null,
   "metadata": {},
   "outputs": [],
   "source": [
    "101101           [101101, 3119780229697, 3119780259007, 101101]"
   ]
  },
  {
   "cell_type": "code",
   "execution_count": 84,
   "metadata": {},
   "outputs": [
    {
     "data": {
      "text/html": [
       "<div>\n",
       "<style scoped>\n",
       "    .dataframe tbody tr th:only-of-type {\n",
       "        vertical-align: middle;\n",
       "    }\n",
       "\n",
       "    .dataframe tbody tr th {\n",
       "        vertical-align: top;\n",
       "    }\n",
       "\n",
       "    .dataframe thead th {\n",
       "        text-align: right;\n",
       "    }\n",
       "</style>\n",
       "<table border=\"1\" class=\"dataframe\">\n",
       "  <thead>\n",
       "    <tr style=\"text-align: right;\">\n",
       "      <th></th>\n",
       "      <th>DESCRIPTION</th>\n",
       "      <th>IDS_LIST</th>\n",
       "      <th>ARTICLE_ID</th>\n",
       "    </tr>\n",
       "  </thead>\n",
       "  <tbody>\n",
       "    <tr>\n",
       "      <th>0</th>\n",
       "      <td>1/ BAGUETTE CLUB KAP</td>\n",
       "      <td>[3464381000276]</td>\n",
       "      <td>3464381000276</td>\n",
       "    </tr>\n",
       "    <tr>\n",
       "      <th>1</th>\n",
       "      <td>1/2 BAG. VIENNO</td>\n",
       "      <td>[3760049790801]</td>\n",
       "      <td>3760049790801</td>\n",
       "    </tr>\n",
       "    <tr>\n",
       "      <th>2</th>\n",
       "      <td>1/2 BAG. VIENNOISE X2 170G</td>\n",
       "      <td>[3760049790801]</td>\n",
       "      <td>3760049790801</td>\n",
       "    </tr>\n",
       "    <tr>\n",
       "      <th>3</th>\n",
       "      <td>10 GOBELETS 27C</td>\n",
       "      <td>[3700232615702]</td>\n",
       "      <td>3700232615702</td>\n",
       "    </tr>\n",
       "    <tr>\n",
       "      <th>4</th>\n",
       "      <td>10 GOBELETS 27CL</td>\n",
       "      <td>[3700232615702]</td>\n",
       "      <td>3700232615702</td>\n",
       "    </tr>\n",
       "    <tr>\n",
       "      <th>...</th>\n",
       "      <td>...</td>\n",
       "      <td>...</td>\n",
       "      <td>...</td>\n",
       "    </tr>\n",
       "    <tr>\n",
       "      <th>9198</th>\n",
       "      <td>ZESTES ORANGES</td>\n",
       "      <td>[5400219530308]</td>\n",
       "      <td>5400219530308</td>\n",
       "    </tr>\n",
       "    <tr>\n",
       "      <th>9199</th>\n",
       "      <td>ZIGOTO REGLISSE</td>\n",
       "      <td>[3103220009055]</td>\n",
       "      <td>3103220009055</td>\n",
       "    </tr>\n",
       "    <tr>\n",
       "      <th>9200</th>\n",
       "      <td>ZIP AMIS LUDEND</td>\n",
       "      <td>[3700300542008]</td>\n",
       "      <td>3700300542008</td>\n",
       "    </tr>\n",
       "    <tr>\n",
       "      <th>9201</th>\n",
       "      <td>ZIP AMIS LUDENDO</td>\n",
       "      <td>[3700300542008]</td>\n",
       "      <td>3700300542008</td>\n",
       "    </tr>\n",
       "    <tr>\n",
       "      <th>9202</th>\n",
       "      <td>ZIP POUPEE LAVANDE</td>\n",
       "      <td>[3453131039413]</td>\n",
       "      <td>3453131039413</td>\n",
       "    </tr>\n",
       "  </tbody>\n",
       "</table>\n",
       "<p>9203 rows × 3 columns</p>\n",
       "</div>"
      ],
      "text/plain": [
       "                     DESCRIPTION         IDS_LIST     ARTICLE_ID\n",
       "0           1/ BAGUETTE CLUB KAP  [3464381000276]  3464381000276\n",
       "1                1/2 BAG. VIENNO  [3760049790801]  3760049790801\n",
       "2     1/2 BAG. VIENNOISE X2 170G  [3760049790801]  3760049790801\n",
       "3                10 GOBELETS 27C  [3700232615702]  3700232615702\n",
       "4               10 GOBELETS 27CL  [3700232615702]  3700232615702\n",
       "...                          ...              ...            ...\n",
       "9198              ZESTES ORANGES  [5400219530308]  5400219530308\n",
       "9199             ZIGOTO REGLISSE  [3103220009055]  3103220009055\n",
       "9200             ZIP AMIS LUDEND  [3700300542008]  3700300542008\n",
       "9201            ZIP AMIS LUDENDO  [3700300542008]  3700300542008\n",
       "9202          ZIP POUPEE LAVANDE  [3453131039413]  3453131039413\n",
       "\n",
       "[9203 rows x 3 columns]"
      ]
     },
     "execution_count": 84,
     "metadata": {},
     "output_type": "execute_result"
    }
   ],
   "source": [
    "items"
   ]
  },
  {
   "cell_type": "code",
   "execution_count": 63,
   "metadata": {},
   "outputs": [],
   "source": [
    "cos = cosine_similarity(a)"
   ]
  },
  {
   "cell_type": "code",
   "execution_count": 68,
   "metadata": {
    "scrolled": true
   },
   "outputs": [
    {
     "data": {
      "text/plain": [
       "array([[1.        , 0.        , 0.        , ..., 0.        , 0.        ,\n",
       "        0.        ],\n",
       "       [0.        , 1.        , 0.35355339, ..., 0.        , 0.        ,\n",
       "        0.        ],\n",
       "       [0.        , 0.35355339, 1.        , ..., 0.        , 0.        ,\n",
       "        0.        ],\n",
       "       ...,\n",
       "       [0.        , 0.        , 0.        , ..., 1.        , 0.66666667,\n",
       "        0.33333333],\n",
       "       [0.        , 0.        , 0.        , ..., 0.66666667, 1.        ,\n",
       "        0.33333333],\n",
       "       [0.        , 0.        , 0.        , ..., 0.33333333, 0.33333333,\n",
       "        1.        ]])"
      ]
     },
     "execution_count": 68,
     "metadata": {},
     "output_type": "execute_result"
    }
   ],
   "source": [
    "# pd.DataFrame(cos,index=items.DESCRIPTION,columns=items.DESCRIPTION)\n",
    "cos"
   ]
  },
  {
   "cell_type": "code",
   "execution_count": 38,
   "metadata": {},
   "outputs": [
    {
     "data": {
      "text/html": [
       "<div>\n",
       "<style scoped>\n",
       "    .dataframe tbody tr th:only-of-type {\n",
       "        vertical-align: middle;\n",
       "    }\n",
       "\n",
       "    .dataframe tbody tr th {\n",
       "        vertical-align: top;\n",
       "    }\n",
       "\n",
       "    .dataframe thead th {\n",
       "        text-align: right;\n",
       "    }\n",
       "</style>\n",
       "<table border=\"1\" class=\"dataframe\">\n",
       "  <thead>\n",
       "    <tr style=\"text-align: right;\">\n",
       "      <th></th>\n",
       "      <th></th>\n",
       "      <th>0</th>\n",
       "    </tr>\n",
       "    <tr>\n",
       "      <th>DESCRIPTION</th>\n",
       "      <th>DESCRIPTION</th>\n",
       "      <th></th>\n",
       "    </tr>\n",
       "  </thead>\n",
       "  <tbody>\n",
       "    <tr>\n",
       "      <th>DISQUE A M</th>\n",
       "      <th>DISQUE A M</th>\n",
       "      <td>1.0</td>\n",
       "    </tr>\n",
       "    <tr>\n",
       "      <th>LAVAGELAVE GL</th>\n",
       "      <th>LAVAGELAVE GL</th>\n",
       "      <td>1.0</td>\n",
       "    </tr>\n",
       "    <tr>\n",
       "      <th>LAVAGELAVE GLACE ETE</th>\n",
       "      <th>LAVAGELAVE GLACE ETE</th>\n",
       "      <td>1.0</td>\n",
       "    </tr>\n",
       "    <tr>\n",
       "      <th>PANACHE PANACH</th>\n",
       "      <th>PANACHE PANACH</th>\n",
       "      <td>1.0</td>\n",
       "    </tr>\n",
       "    <tr>\n",
       "      <th>SCHWEPPES AGRU</th>\n",
       "      <th>SCHWEPPES AGRU</th>\n",
       "      <td>1.0</td>\n",
       "    </tr>\n",
       "    <tr>\n",
       "      <th>...</th>\n",
       "      <th>...</th>\n",
       "      <td>...</td>\n",
       "    </tr>\n",
       "    <tr>\n",
       "      <th rowspan=\"2\" valign=\"top\">B.E.G ACQUA MAX 61CM</th>\n",
       "      <th>B.E.G ACQUA MAX</th>\n",
       "      <td>1.0</td>\n",
       "    </tr>\n",
       "    <tr>\n",
       "      <th>B.E.G ACQUA MAX 61CM</th>\n",
       "      <td>1.0</td>\n",
       "    </tr>\n",
       "    <tr>\n",
       "      <th>B.E.G ACQUAMAX 66CM</th>\n",
       "      <th>B.E.G ACQUAMAX 66CM</th>\n",
       "      <td>1.0</td>\n",
       "    </tr>\n",
       "    <tr>\n",
       "      <th>B.E.G BOSCH 450U</th>\n",
       "      <th>B.E.G BOSCH 450U</th>\n",
       "      <td>1.0</td>\n",
       "    </tr>\n",
       "    <tr>\n",
       "      <th>B.E.G BOSCH 480U</th>\n",
       "      <th>B.E.G BOSCH 480U</th>\n",
       "      <td>1.0</td>\n",
       "    </tr>\n",
       "  </tbody>\n",
       "</table>\n",
       "<p>1716 rows × 1 columns</p>\n",
       "</div>"
      ],
      "text/plain": [
       "                                             0\n",
       "DESCRIPTION          DESCRIPTION              \n",
       "DISQUE A M           DISQUE A M            1.0\n",
       "LAVAGELAVE GL        LAVAGELAVE GL         1.0\n",
       "LAVAGELAVE GLACE ETE LAVAGELAVE GLACE ETE  1.0\n",
       "PANACHE PANACH       PANACHE PANACH        1.0\n",
       "SCHWEPPES AGRU       SCHWEPPES AGRU        1.0\n",
       "...                                        ...\n",
       "B.E.G ACQUA MAX 61CM B.E.G ACQUA MAX       1.0\n",
       "                     B.E.G ACQUA MAX 61CM  1.0\n",
       "B.E.G ACQUAMAX 66CM  B.E.G ACQUAMAX 66CM   1.0\n",
       "B.E.G BOSCH 450U     B.E.G BOSCH 450U      1.0\n",
       "B.E.G BOSCH 480U     B.E.G BOSCH 480U      1.0\n",
       "\n",
       "[1716 rows x 1 columns]"
      ]
     },
     "execution_count": 38,
     "metadata": {},
     "output_type": "execute_result"
    }
   ],
   "source": [
    "ss.to_frame()"
   ]
  },
  {
   "cell_type": "code",
   "execution_count": null,
   "metadata": {},
   "outputs": [],
   "source": []
  }
 ],
 "metadata": {
  "kernelspec": {
   "display_name": "Python 3",
   "language": "python",
   "name": "python3"
  },
  "language_info": {
   "codemirror_mode": {
    "name": "ipython",
    "version": 3
   },
   "file_extension": ".py",
   "mimetype": "text/x-python",
   "name": "python",
   "nbconvert_exporter": "python",
   "pygments_lexer": "ipython3",
   "version": "3.7.5"
  }
 },
 "nbformat": 4,
 "nbformat_minor": 4
}
