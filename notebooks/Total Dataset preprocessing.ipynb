{
 "cells": [
  {
   "cell_type": "code",
   "execution_count": 56,
   "metadata": {},
   "outputs": [],
   "source": [
    "import pandas as pd\n",
    "from sklearn.metrics.pairwise import cosine_similarity\n",
    "from sklearn.feature_extraction.text import CountVectorizer"
   ]
  },
  {
   "cell_type": "code",
   "execution_count": 57,
   "metadata": {},
   "outputs": [],
   "source": [
    "items = pd.read_csv(\"../datasets/Total/itemsDescription.csv\",sep=\";\",encoding=\"latin\")"
   ]
  },
  {
   "cell_type": "code",
   "execution_count": 58,
   "metadata": {},
   "outputs": [],
   "source": [
    "items.DESCRIPTION = items.DESCRIPTION.apply(lambda x : x.upper().replace('\"','').strip())\n",
    "items = items.groupby('DESCRIPTION')[\"ARTICLE_ID\"].apply(list).to_frame().reset_index()\n",
    "items[\"id\"]= items.ARTICLE_ID.apply(lambda x : x[0])\n",
    "items.columns = [\"DESCRIPTION\",\"IDS_LIST\",\"ARTICLE_ID\"]\n",
    "items.sort_values(by=\"DESCRIPTION\").to_csv(\"../datasets/Total/items.csv\")"
   ]
  },
  {
   "cell_type": "code",
   "execution_count": 54,
   "metadata": {},
   "outputs": [],
   "source": []
  },
  {
   "cell_type": "code",
   "execution_count": 12,
   "metadata": {},
   "outputs": [],
   "source": [
    "count_vect = CountVectorizer(stop_words=\"english\")\n",
    "a = count_vect.fit_transform(items[\"DESCRIPTION\"])"
   ]
  },
  {
   "cell_type": "code",
   "execution_count": 14,
   "metadata": {},
   "outputs": [],
   "source": [
    "cos = cosine_similarity(a)"
   ]
  },
  {
   "cell_type": "code",
   "execution_count": 18,
   "metadata": {
    "scrolled": true
   },
   "outputs": [
    {
     "data": {
      "text/plain": [
       "array([1., 1., 1., ..., 1., 1., 1.])"
      ]
     },
     "execution_count": 18,
     "metadata": {},
     "output_type": "execute_result"
    }
   ],
   "source": [
    "cos[cos>0.8]"
   ]
  },
  {
   "cell_type": "code",
   "execution_count": 38,
   "metadata": {},
   "outputs": [
    {
     "data": {
      "text/html": [
       "<div>\n",
       "<style scoped>\n",
       "    .dataframe tbody tr th:only-of-type {\n",
       "        vertical-align: middle;\n",
       "    }\n",
       "\n",
       "    .dataframe tbody tr th {\n",
       "        vertical-align: top;\n",
       "    }\n",
       "\n",
       "    .dataframe thead th {\n",
       "        text-align: right;\n",
       "    }\n",
       "</style>\n",
       "<table border=\"1\" class=\"dataframe\">\n",
       "  <thead>\n",
       "    <tr style=\"text-align: right;\">\n",
       "      <th></th>\n",
       "      <th></th>\n",
       "      <th>0</th>\n",
       "    </tr>\n",
       "    <tr>\n",
       "      <th>DESCRIPTION</th>\n",
       "      <th>DESCRIPTION</th>\n",
       "      <th></th>\n",
       "    </tr>\n",
       "  </thead>\n",
       "  <tbody>\n",
       "    <tr>\n",
       "      <th>DISQUE A M</th>\n",
       "      <th>DISQUE A M</th>\n",
       "      <td>1.0</td>\n",
       "    </tr>\n",
       "    <tr>\n",
       "      <th>LAVAGELAVE GL</th>\n",
       "      <th>LAVAGELAVE GL</th>\n",
       "      <td>1.0</td>\n",
       "    </tr>\n",
       "    <tr>\n",
       "      <th>LAVAGELAVE GLACE ETE</th>\n",
       "      <th>LAVAGELAVE GLACE ETE</th>\n",
       "      <td>1.0</td>\n",
       "    </tr>\n",
       "    <tr>\n",
       "      <th>PANACHE PANACH</th>\n",
       "      <th>PANACHE PANACH</th>\n",
       "      <td>1.0</td>\n",
       "    </tr>\n",
       "    <tr>\n",
       "      <th>SCHWEPPES AGRU</th>\n",
       "      <th>SCHWEPPES AGRU</th>\n",
       "      <td>1.0</td>\n",
       "    </tr>\n",
       "    <tr>\n",
       "      <th>...</th>\n",
       "      <th>...</th>\n",
       "      <td>...</td>\n",
       "    </tr>\n",
       "    <tr>\n",
       "      <th rowspan=\"2\" valign=\"top\">B.E.G ACQUA MAX 61CM</th>\n",
       "      <th>B.E.G ACQUA MAX</th>\n",
       "      <td>1.0</td>\n",
       "    </tr>\n",
       "    <tr>\n",
       "      <th>B.E.G ACQUA MAX 61CM</th>\n",
       "      <td>1.0</td>\n",
       "    </tr>\n",
       "    <tr>\n",
       "      <th>B.E.G ACQUAMAX 66CM</th>\n",
       "      <th>B.E.G ACQUAMAX 66CM</th>\n",
       "      <td>1.0</td>\n",
       "    </tr>\n",
       "    <tr>\n",
       "      <th>B.E.G BOSCH 450U</th>\n",
       "      <th>B.E.G BOSCH 450U</th>\n",
       "      <td>1.0</td>\n",
       "    </tr>\n",
       "    <tr>\n",
       "      <th>B.E.G BOSCH 480U</th>\n",
       "      <th>B.E.G BOSCH 480U</th>\n",
       "      <td>1.0</td>\n",
       "    </tr>\n",
       "  </tbody>\n",
       "</table>\n",
       "<p>1716 rows × 1 columns</p>\n",
       "</div>"
      ],
      "text/plain": [
       "                                             0\n",
       "DESCRIPTION          DESCRIPTION              \n",
       "DISQUE A M           DISQUE A M            1.0\n",
       "LAVAGELAVE GL        LAVAGELAVE GL         1.0\n",
       "LAVAGELAVE GLACE ETE LAVAGELAVE GLACE ETE  1.0\n",
       "PANACHE PANACH       PANACHE PANACH        1.0\n",
       "SCHWEPPES AGRU       SCHWEPPES AGRU        1.0\n",
       "...                                        ...\n",
       "B.E.G ACQUA MAX 61CM B.E.G ACQUA MAX       1.0\n",
       "                     B.E.G ACQUA MAX 61CM  1.0\n",
       "B.E.G ACQUAMAX 66CM  B.E.G ACQUAMAX 66CM   1.0\n",
       "B.E.G BOSCH 450U     B.E.G BOSCH 450U      1.0\n",
       "B.E.G BOSCH 480U     B.E.G BOSCH 480U      1.0\n",
       "\n",
       "[1716 rows x 1 columns]"
      ]
     },
     "execution_count": 38,
     "metadata": {},
     "output_type": "execute_result"
    }
   ],
   "source": [
    "ss.to_frame()"
   ]
  },
  {
   "cell_type": "code",
   "execution_count": null,
   "metadata": {},
   "outputs": [],
   "source": []
  }
 ],
 "metadata": {
  "kernelspec": {
   "display_name": "Python 3",
   "language": "python",
   "name": "python3"
  },
  "language_info": {
   "codemirror_mode": {
    "name": "ipython",
    "version": 3
   },
   "file_extension": ".py",
   "mimetype": "text/x-python",
   "name": "python",
   "nbconvert_exporter": "python",
   "pygments_lexer": "ipython3",
   "version": "3.7.5"
  }
 },
 "nbformat": 4,
 "nbformat_minor": 4
}
