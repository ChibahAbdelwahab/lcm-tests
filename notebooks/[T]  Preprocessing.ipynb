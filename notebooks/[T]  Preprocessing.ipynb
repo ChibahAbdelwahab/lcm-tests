{
 "cells": [
  {
   "cell_type": "code",
   "execution_count": 84,
   "metadata": {},
   "outputs": [],
   "source": [
    "from sklearn.metrics.pairwise import cosine_similarity\n",
    "from sklearn.feature_extraction.text import CountVectorizer\n",
    "\n",
    "import pandas as pd\n",
    "import json"
   ]
  },
  {
   "cell_type": "code",
   "execution_count": 93,
   "metadata": {},
   "outputs": [],
   "source": [
    "items = pd.read_csv(\"../datasets/Total/itemsDescription.csv\",sep=\";\",encoding=\"latin\").drop_duplicates(subset=\"ARTICLE_ID\")\n",
    "\n",
    "items.DESCRIPTION = items.DESCRIPTION.apply(lambda x : x.upper().replace('\"','').replace(\" \",\"\").strip())\n",
    "items = items.groupby('DESCRIPTION')[\"ARTICLE_ID\"].apply(list).to_frame().reset_index()\n",
    "items[\"id\"]= items.ARTICLE_ID.apply(lambda x : x[0])\n",
    "items.columns = [\"DESCRIPTION\",\"IDS_LIST\",\"ARTICLE_ID\"]\n",
    "# items.sort_values(by=\"DESCRIPTION\").to_csv(\"../datasets/Total/items.csv\")\n",
    "\n",
    "# Save to mapping file \n",
    "mapping = {}\n",
    "def get_mapping(x):\n",
    "    for i in set(x[\"IDS_LIST\"]):\n",
    "        mapping[i]=x['ARTICLE_ID']\n",
    "items.apply(get_mapping,axis=1)\n",
    "\n",
    "with open(\"../datasets/Total/mapping2.json\", 'w') as outfile:\n",
    "    json.dump(mapping, outfile)\n",
    "    "
   ]
  },
  {
   "cell_type": "code",
   "execution_count": 96,
   "metadata": {},
   "outputs": [
    {
     "data": {
      "text/html": [
       "<div>\n",
       "<style scoped>\n",
       "    .dataframe tbody tr th:only-of-type {\n",
       "        vertical-align: middle;\n",
       "    }\n",
       "\n",
       "    .dataframe tbody tr th {\n",
       "        vertical-align: top;\n",
       "    }\n",
       "\n",
       "    .dataframe thead th {\n",
       "        text-align: right;\n",
       "    }\n",
       "</style>\n",
       "<table border=\"1\" class=\"dataframe\">\n",
       "  <thead>\n",
       "    <tr style=\"text-align: right;\">\n",
       "      <th></th>\n",
       "      <th>id</th>\n",
       "      <th>name</th>\n",
       "    </tr>\n",
       "  </thead>\n",
       "  <tbody>\n",
       "    <tr>\n",
       "      <th>0</th>\n",
       "      <td>3158849232001</td>\n",
       "      <td>BIDON AD BLUE 10L</td>\n",
       "    </tr>\n",
       "    <tr>\n",
       "      <th>1</th>\n",
       "      <td>3158849282006</td>\n",
       "      <td>ADBLUE BIDON 5L</td>\n",
       "    </tr>\n",
       "    <tr>\n",
       "      <th>2</th>\n",
       "      <td>3158849282006</td>\n",
       "      <td>ADBLUE 5L BIDON</td>\n",
       "    </tr>\n",
       "    <tr>\n",
       "      <th>3</th>\n",
       "      <td>7070091000701</td>\n",
       "      <td>TOTAL ADBLUE 10L</td>\n",
       "    </tr>\n",
       "    <tr>\n",
       "      <th>4</th>\n",
       "      <td>3158849232001</td>\n",
       "      <td>BIDON AD BLUE 10L</td>\n",
       "    </tr>\n",
       "    <tr>\n",
       "      <th>...</th>\n",
       "      <td>...</td>\n",
       "      <td>...</td>\n",
       "    </tr>\n",
       "    <tr>\n",
       "      <th>116</th>\n",
       "      <td>3068320115214</td>\n",
       "      <td>EVIAN 50CL</td>\n",
       "    </tr>\n",
       "    <tr>\n",
       "      <th>117</th>\n",
       "      <td>3068320112312</td>\n",
       "      <td>EVIAN 50CL PET</td>\n",
       "    </tr>\n",
       "    <tr>\n",
       "      <th>118</th>\n",
       "      <td>3068320055008</td>\n",
       "      <td>Evian 50cl</td>\n",
       "    </tr>\n",
       "    <tr>\n",
       "      <th>119</th>\n",
       "      <td>3068320110783</td>\n",
       "      <td>Evian 50cl</td>\n",
       "    </tr>\n",
       "    <tr>\n",
       "      <th>120</th>\n",
       "      <td>3217770310513</td>\n",
       "      <td>TOTAL ANTI CREV</td>\n",
       "    </tr>\n",
       "  </tbody>\n",
       "</table>\n",
       "<p>121 rows × 2 columns</p>\n",
       "</div>"
      ],
      "text/plain": [
       "                id               name\n",
       "0    3158849232001  BIDON AD BLUE 10L\n",
       "1    3158849282006    ADBLUE BIDON 5L\n",
       "2    3158849282006    ADBLUE 5L BIDON\n",
       "3    7070091000701   TOTAL ADBLUE 10L\n",
       "4    3158849232001  BIDON AD BLUE 10L\n",
       "..             ...                ...\n",
       "116  3068320115214         EVIAN 50CL\n",
       "117  3068320112312     EVIAN 50CL PET\n",
       "118  3068320055008         Evian 50cl\n",
       "119  3068320110783         Evian 50cl\n",
       "120  3217770310513    TOTAL ANTI CREV\n",
       "\n",
       "[121 rows x 2 columns]"
      ]
     },
     "execution_count": 96,
     "metadata": {},
     "output_type": "execute_result"
    }
   ],
   "source": [
    "promo_produts = pd.read_csv(\"../datasets/Total/promo_products.csv\")\n",
    "promo_produts"
   ]
  },
  {
   "cell_type": "code",
   "execution_count": null,
   "metadata": {},
   "outputs": [],
   "source": []
  }
 ],
 "metadata": {
  "kernelspec": {
   "display_name": "Python 3",
   "language": "python",
   "name": "python3"
  },
  "language_info": {
   "codemirror_mode": {
    "name": "ipython",
    "version": 3
   },
   "file_extension": ".py",
   "mimetype": "text/x-python",
   "name": "python",
   "nbconvert_exporter": "python",
   "pygments_lexer": "ipython3",
   "version": "3.7.5"
  }
 },
 "nbformat": 4,
 "nbformat_minor": 4
}
