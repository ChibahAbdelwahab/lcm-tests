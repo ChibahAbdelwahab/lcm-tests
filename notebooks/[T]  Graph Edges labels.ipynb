{
 "cells": [
  {
   "cell_type": "code",
   "execution_count": 1,
   "metadata": {},
   "outputs": [],
   "source": [
    "import pandas as pd \n",
    "from IPython.core import display as ICD"
   ]
  },
  {
   "cell_type": "code",
   "execution_count": 3,
   "metadata": {},
   "outputs": [],
   "source": [
    "file_name = \"M-6-[1-None]-[a]-lcm.out\""
   ]
  },
  {
   "cell_type": "code",
   "execution_count": 14,
   "metadata": {},
   "outputs": [],
   "source": [
    "links = pd.read_csv(f\"../plots/links/{file_name}\",)\n",
    "links[\"user_id\"] = links[\"user_id\"].apply(lambda x : [int(i) for i in x.split(\",\")])\n",
    "groups = pd.read_csv(f\"../plots/groups/{file_name}\",index_col=0)\n",
    "groups.user_ids= groups.user_ids.apply(lambda x : [int(i) for i in x[1:-1].split(\",\")])\n",
    "links_extra = links.merge(groups[[\"user_ids\"]],left_on=\"source\",right_index=True).merge(groups[[\"user_ids\"]],left_on=\"target\",right_index=True)\n",
    "links_extra.columns = [\"source\",\"target\",\"intersection\",\"source_users\",\"target_users\"]\n",
    "def label_groups(x):\n",
    "    if len(x[\"source_users\"]) == len(x[\"intersection\"]):\n",
    "        if len(x[\"source_users\"]) == len(x[\"target_users\"]):\n",
    "            return \"S\"#'stable'\n",
    "        return \"G\"#\"grows\"\n",
    "    if len(x[\"target_users\"]) == len(x[\"intersection\"]):\n",
    "        return \"S\"#\"subset\"\n",
    "    return \"SG\"#\"subset_grows\"\n",
    "links_extra[\"label\"] = links_extra.apply(label_groups,axis=1)\n",
    "links_extra.columns = ['source', 'target', 'user_id', 'source_users', 'target_users','label']\n",
    "links_extra[[\"source\",\"target\",\"user_id\",\"label\"]].to_csv(f\"../plots/labeled_links/{file_name}\",index=None)"
   ]
  },
  {
   "cell_type": "code",
   "execution_count": 15,
   "metadata": {},
   "outputs": [
    {
     "data": {
      "text/plain": [
       "array(['SG'], dtype=object)"
      ]
     },
     "execution_count": 15,
     "metadata": {},
     "output_type": "execute_result"
    }
   ],
   "source": [
    "links_extra.label.unique()"
   ]
  },
  {
   "cell_type": "code",
   "execution_count": null,
   "metadata": {},
   "outputs": [],
   "source": []
  }
 ],
 "metadata": {
  "kernelspec": {
   "display_name": "Python 3",
   "language": "python",
   "name": "python3"
  },
  "language_info": {
   "codemirror_mode": {
    "name": "ipython",
    "version": 3
   },
   "file_extension": ".py",
   "mimetype": "text/x-python",
   "name": "python",
   "nbconvert_exporter": "python",
   "pygments_lexer": "ipython3",
   "version": "3.7.5"
  }
 },
 "nbformat": 4,
 "nbformat_minor": 4
}
